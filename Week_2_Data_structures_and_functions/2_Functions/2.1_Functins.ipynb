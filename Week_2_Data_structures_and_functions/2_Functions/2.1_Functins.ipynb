{
 "cells": [
  {
   "cell_type": "markdown",
   "id": "fc5f3ea0",
   "metadata": {},
   "source": [
    "**Оглавление.**\n",
    "\n",
    "[Функции](#Функции)\n",
    "\n",
    "[Параметры vs аргументы](#Параметры-vs-аргументы)\n",
    "\n",
    "[Функции как объекты](#Функции-как-объекты)\n",
    "\n",
    "[Оператор инструкция return](#Оператор-инструкция-return)\n",
    "\n",
    "[Атрибуты функций](#Атрибуты-функций)\n",
    "\n",
    "[Хранение функций в структурах данных](#Хранение-функций-в-структурах-данных)"
   ]
  },
  {
   "cell_type": "markdown",
   "id": "ea9ba1a8",
   "metadata": {},
   "source": [
    "# Функции\n",
    "\n",
    "Синтаксис:\n",
    "```python\n",
    "def <имя функции>([список параметров]):\n",
    "    тело функции - инструкции\n",
    "```\n",
    "где\n",
    "*  `<имя функции>` указатель на функцию.\n"
   ]
  },
  {
   "cell_type": "raw",
   "id": "cc17bd1d",
   "metadata": {},
   "source": [
    "Указатель на функцию"
   ]
  },
  {
   "cell_type": "code",
   "execution_count": 1,
   "id": "c7979df6",
   "metadata": {},
   "outputs": [
    {
     "data": {
      "text/plain": [
       "<function print>"
      ]
     },
     "execution_count": 1,
     "metadata": {},
     "output_type": "execute_result"
    }
   ],
   "source": [
    "print"
   ]
  },
  {
   "cell_type": "markdown",
   "id": "2ada0774",
   "metadata": {},
   "source": [
    "`()` -- оператор вызова функции"
   ]
  },
  {
   "cell_type": "code",
   "execution_count": 2,
   "id": "512ddc1e",
   "metadata": {},
   "outputs": [
    {
     "name": "stdout",
     "output_type": "stream",
     "text": [
      "aaa\n"
     ]
    }
   ],
   "source": [
    "print('aaa')"
   ]
  },
  {
   "cell_type": "markdown",
   "id": "9a174fb1",
   "metadata": {},
   "source": [
    "## Параметры vs аргументы\n",
    "\n",
    "При работе с функциями важно различать:\n",
    "\n",
    "* параметры - это переменные, которые используются при создании функции.\n",
    "\n",
    "* аргументы - это фактические значения (данные), которые передаются функции при вызове."
   ]
  },
  {
   "cell_type": "markdown",
   "id": "a3052955",
   "metadata": {},
   "source": [
    "## Функции как объекты\n",
    "\n",
    "Так как функция в Python является объектом, ее можно присвоить другой переменной, как и любому другому объекту:"
   ]
  },
  {
   "cell_type": "code",
   "execution_count": 3,
   "id": "b999cd9b",
   "metadata": {},
   "outputs": [
    {
     "data": {
      "text/plain": [
       "<function __main__.hello(name)>"
      ]
     },
     "execution_count": 3,
     "metadata": {},
     "output_type": "execute_result"
    }
   ],
   "source": [
    "def hello(name):\n",
    "    return f'Hello, {name}.'\n",
    "    \n",
    "    \n",
    "say = hello\n",
    "say"
   ]
  },
  {
   "cell_type": "code",
   "execution_count": 4,
   "id": "57b45de9",
   "metadata": {},
   "outputs": [
    {
     "name": "stdout",
     "output_type": "stream",
     "text": [
      "<function hello at 0x000000000567B790>\n"
     ]
    }
   ],
   "source": [
    "print(say)"
   ]
  },
  {
   "cell_type": "markdown",
   "id": "f73bbd18",
   "metadata": {},
   "source": [
    "Строка `say = hello` не вызывает функцию. Он принимает объект функции, на который ссылается `hello` и создает второе имя `say` указывающее на нее. Теперь можно выполнить объект базовой функции `hello`, вызвав `say`:"
   ]
  },
  {
   "cell_type": "code",
   "execution_count": 5,
   "id": "614faa0d",
   "metadata": {},
   "outputs": [
    {
     "data": {
      "text/plain": [
       "'Hello, Alex.'"
      ]
     },
     "execution_count": 5,
     "metadata": {},
     "output_type": "execute_result"
    }
   ],
   "source": [
    "say('Alex')"
   ]
  },
  {
   "cell_type": "markdown",
   "id": "73ace485",
   "metadata": {},
   "source": [
    "Функциональные объекты и их имена являются двумя разными вещами. Вот еще одно доказательство: можно удалить исходное имя функции `hello`. Другое имя `say` по-прежнему указывает на базовую функцию `hello` и ее можно вызвать через функцию `say`:"
   ]
  },
  {
   "cell_type": "code",
   "execution_count": 6,
   "id": "b252c3cf",
   "metadata": {},
   "outputs": [
    {
     "data": {
      "text/plain": [
       "'Hello, World.'"
      ]
     },
     "execution_count": 6,
     "metadata": {},
     "output_type": "execute_result"
    }
   ],
   "source": [
    "del hello\n",
    "\n",
    "# hello('World')\n",
    "# Traceback (most recent call last):\n",
    "#   File \"<stdin>\", line 1, in <module>\n",
    "# NameError: name 'hello' is not defined\n",
    "\n",
    "say('World')"
   ]
  },
  {
   "cell_type": "markdown",
   "id": "0fe788b8",
   "metadata": {},
   "source": [
    "Python присоединяет строковый идентификатор к каждой функции во время создания для целей отладки. Можете получить доступ к этому внутреннему идентификатору с помощью атрибута `__name__` или `__qualname__`:"
   ]
  },
  {
   "cell_type": "code",
   "execution_count": 7,
   "id": "63724fb7",
   "metadata": {},
   "outputs": [
    {
     "data": {
      "text/plain": [
       "'hello'"
      ]
     },
     "execution_count": 7,
     "metadata": {},
     "output_type": "execute_result"
    }
   ],
   "source": [
    "say.__name__"
   ]
  },
  {
   "cell_type": "code",
   "execution_count": 8,
   "id": "53560db9",
   "metadata": {},
   "outputs": [
    {
     "data": {
      "text/plain": [
       "'hello'"
      ]
     },
     "execution_count": 8,
     "metadata": {},
     "output_type": "execute_result"
    }
   ],
   "source": [
    "say.__qualname__"
   ]
  },
  {
   "cell_type": "markdown",
   "id": "b1a5510a",
   "metadata": {},
   "source": [
    "Также можно вызывать несколько функций внутри однострочника `if/else`."
   ]
  },
  {
   "cell_type": "code",
   "execution_count": 9,
   "id": "bfc8604e",
   "metadata": {},
   "outputs": [
    {
     "data": {
      "text/plain": [
       "9"
      ]
     },
     "execution_count": 9,
     "metadata": {},
     "output_type": "execute_result"
    }
   ],
   "source": [
    "def add(a, b):\n",
    "    return a + b\n",
    "\n",
    "def subtract(a, b):\n",
    "    return a - b\n",
    "\n",
    "a, b = 4, 5\n",
    "(subtract if a > b else add)(a, b)"
   ]
  },
  {
   "cell_type": "code",
   "execution_count": 10,
   "id": "c9bbe468",
   "metadata": {},
   "outputs": [],
   "source": [
    "FLAG = True\n",
    "\n",
    "if FLAG:\n",
    "    def say_hello():\n",
    "        print(\"Hello\")\n",
    "else:\n",
    "    def say_hello(friend):\n",
    "        print(f\"Hello, {friend}\")"
   ]
  },
  {
   "cell_type": "markdown",
   "id": "1ec8f99b",
   "metadata": {},
   "source": [
    "## Оператор инструкция `return`\n",
    "\n",
    "В Python инструкция `return` может встречаться лишь в теле функции, и за ней может следовать необязательное выражение. \n",
    "\n",
    "Выполнение инструкции `return` приводит к прекращению работы функции, а значение выражения, если оно имеется, возвращается в качестве результата. \n",
    "\n",
    "Если работа функции завершается достижением конца ее тела или посредством выполнения инструкции `return`, не содержащей выражения, то она возвращает значение `None`. Разумеется, функция может вернуть это значение посредством инструкции `return None`."
   ]
  },
  {
   "cell_type": "code",
   "execution_count": 11,
   "id": "62630a83",
   "metadata": {},
   "outputs": [],
   "source": [
    "def f():\n",
    "    a = 3\n",
    "    \n",
    "f()"
   ]
  },
  {
   "cell_type": "code",
   "execution_count": 12,
   "id": "19c920b1",
   "metadata": {},
   "outputs": [
    {
     "name": "stdout",
     "output_type": "stream",
     "text": [
      "None\n"
     ]
    }
   ],
   "source": [
    "print(f())"
   ]
  },
  {
   "cell_type": "code",
   "execution_count": 13,
   "id": "f68f61a2",
   "metadata": {},
   "outputs": [
    {
     "name": "stdout",
     "output_type": "stream",
     "text": [
      "До return\n"
     ]
    },
    {
     "data": {
      "text/plain": [
       "'Первый return'"
      ]
     },
     "execution_count": 13,
     "metadata": {},
     "output_type": "execute_result"
    }
   ],
   "source": [
    "def f():\n",
    "    print(\"До return\")\n",
    "    return \"Первый return\"\n",
    "    print(\"После return\")\n",
    "    return \"Второй retrun\"\n",
    "\n",
    "f()"
   ]
  },
  {
   "cell_type": "code",
   "execution_count": null,
   "id": "7b987ff3",
   "metadata": {},
   "outputs": [],
   "source": []
  },
  {
   "cell_type": "markdown",
   "id": "d741fc27",
   "metadata": {},
   "source": [
    "## Атрибуты функций\n",
    "\n",
    "У объектов функций есть специальный атрибут `__dict__`. Это словарь атрибутов функции. В него можно устанавливать и получать какие-то значения с помощью точечной нотации.\n",
    "\n",
    "Доступ к словарю атрибутов функции можно получить как из тела функции, так и из вне:"
   ]
  },
  {
   "cell_type": "code",
   "execution_count": 14,
   "id": "3c716f69",
   "metadata": {},
   "outputs": [
    {
     "data": {
      "text/plain": [
       "{}"
      ]
     },
     "execution_count": 14,
     "metadata": {},
     "output_type": "execute_result"
    }
   ],
   "source": [
    "def func():\n",
    "    func.a = 10\n",
    "\n",
    "func.__dict__"
   ]
  },
  {
   "cell_type": "code",
   "execution_count": 15,
   "id": "4cb04e33",
   "metadata": {},
   "outputs": [],
   "source": [
    "func()"
   ]
  },
  {
   "cell_type": "code",
   "execution_count": 16,
   "id": "ebedc40f",
   "metadata": {},
   "outputs": [
    {
     "data": {
      "text/plain": [
       "{'a': 10}"
      ]
     },
     "execution_count": 16,
     "metadata": {},
     "output_type": "execute_result"
    }
   ],
   "source": [
    "func.__dict__"
   ]
  },
  {
   "cell_type": "code",
   "execution_count": 17,
   "id": "064ea936",
   "metadata": {},
   "outputs": [
    {
     "data": {
      "text/plain": [
       "10"
      ]
     },
     "execution_count": 17,
     "metadata": {},
     "output_type": "execute_result"
    }
   ],
   "source": [
    "func.a"
   ]
  },
  {
   "cell_type": "code",
   "execution_count": 18,
   "id": "71bdebe1",
   "metadata": {},
   "outputs": [
    {
     "data": {
      "text/plain": [
       "25"
      ]
     },
     "execution_count": 18,
     "metadata": {},
     "output_type": "execute_result"
    }
   ],
   "source": [
    "func.a = 25\n",
    "func.a"
   ]
  },
  {
   "cell_type": "code",
   "execution_count": 19,
   "id": "de494a38",
   "metadata": {},
   "outputs": [
    {
     "data": {
      "text/plain": [
       "[10, 1, 5]"
      ]
     },
     "execution_count": 19,
     "metadata": {},
     "output_type": "execute_result"
    }
   ],
   "source": [
    "func.list = []\n",
    "func.list.append(10)\n",
    "func.list.append(1)\n",
    "func.list.append(5)\n",
    "func.list"
   ]
  },
  {
   "cell_type": "code",
   "execution_count": 20,
   "id": "566bf950",
   "metadata": {},
   "outputs": [
    {
     "data": {
      "text/plain": [
       "{'a': 25, 'list': [10, 1, 5]}"
      ]
     },
     "execution_count": 20,
     "metadata": {},
     "output_type": "execute_result"
    }
   ],
   "source": [
    "func.__dict__"
   ]
  },
  {
   "cell_type": "markdown",
   "id": "8ea0e08b",
   "metadata": {},
   "source": [
    "## Хранение функций в структурах данных\n",
    "\n",
    "Так как функции являются объектами первого класса, их можно хранить в структурах данных, как и в случае с другими объектами. Например, вы можете добавить функцию в список:"
   ]
  },
  {
   "cell_type": "code",
   "execution_count": 21,
   "id": "41c93a6f",
   "metadata": {},
   "outputs": [
    {
     "data": {
      "text/plain": [
       "[<function __main__.hello(name)>,\n",
       " <method 'lower' of 'str' objects>,\n",
       " <method 'upper' of 'str' objects>]"
      ]
     },
     "execution_count": 21,
     "metadata": {},
     "output_type": "execute_result"
    }
   ],
   "source": [
    "def hello(name):\n",
    "    return f'Hello, {name}'\n",
    "    \n",
    "    \n",
    "func_lst = [hello, str.lower, str.upper]\n",
    "func_lst"
   ]
  },
  {
   "cell_type": "code",
   "execution_count": 22,
   "id": "18f4bf06",
   "metadata": {},
   "outputs": [
    {
     "name": "stdout",
     "output_type": "stream",
     "text": [
      "Hello, world\n",
      "world\n",
      "WORLD\n"
     ]
    }
   ],
   "source": [
    "for f in func_lst:\n",
    "    print(f(\"world\"))"
   ]
  },
  {
   "cell_type": "code",
   "execution_count": 23,
   "id": "6155e1fd",
   "metadata": {},
   "outputs": [
    {
     "data": {
      "text/plain": [
       "'Hello, Alex'"
      ]
     },
     "execution_count": 23,
     "metadata": {},
     "output_type": "execute_result"
    }
   ],
   "source": [
    "func_lst[0](\"Alex\")"
   ]
  },
  {
   "cell_type": "code",
   "execution_count": null,
   "id": "c97b7380",
   "metadata": {},
   "outputs": [],
   "source": []
  },
  {
   "cell_type": "code",
   "execution_count": null,
   "id": "560d778d",
   "metadata": {},
   "outputs": [],
   "source": []
  }
 ],
 "metadata": {
  "kernelspec": {
   "display_name": "Python 3",
   "language": "python",
   "name": "python3"
  },
  "language_info": {
   "codemirror_mode": {
    "name": "ipython",
    "version": 3
   },
   "file_extension": ".py",
   "mimetype": "text/x-python",
   "name": "python",
   "nbconvert_exporter": "python",
   "pygments_lexer": "ipython3",
   "version": "3.8.11"
  }
 },
 "nbformat": 4,
 "nbformat_minor": 5
}
