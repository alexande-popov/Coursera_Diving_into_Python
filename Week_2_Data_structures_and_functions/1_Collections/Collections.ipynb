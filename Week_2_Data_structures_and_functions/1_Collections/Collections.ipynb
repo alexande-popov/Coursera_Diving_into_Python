{
 "cells": [
  {
   "cell_type": "markdown",
   "id": "96c63aec",
   "metadata": {},
   "source": [
    "# Коллекции.\n",
    "\n",
    "Полезные ссылки:\n",
    "* Хабр \"Python: коллекции\": \n",
    "[Часть 1](https://habr.com/ru/post/319164/), \n",
    "[Часть 2](https://habr.com/ru/post/319200/), [Часть 3](https://habr.com/ru/post/319876/), [Часть 4](https://habr.com/ru/post/320288/).\n",
    "\n",
    "Коллекция в Python — переменная-контейнер.\n",
    "\n",
    "## Классификация коллекций\n",
    "* **Последовтельности** (Sequences) — индексированные, элементы не уникальны\n",
    "  * Изменяемые (Mutable): список `list`\n",
    "  * Не изменяемые (Immutable): строка `string`, кортеж `tuple`\n",
    "\n",
    "* **Множества** (Sets) — неиндексированные, элементы уникальны\n",
    "  * Изменяемые (Mutable): множество `set`\n",
    "  * Не изменяемые (Immutable): неизменное множество `frozenset`\n",
    "\n",
    "* **Отображения** (Mappings) — неиндексированный набор пар \"ключ-значение\"\n",
    "  * словарь `dict`"
   ]
  },
  {
   "cell_type": "markdown",
   "id": "3db406ab",
   "metadata": {},
   "source": [
    "## Создание коллекций"
   ]
  },
  {
   "cell_type": "code",
   "execution_count": 48,
   "id": "738722f7",
   "metadata": {},
   "outputs": [],
   "source": [
    "my_list = ['a', 'b', 'c', 'd', 'e', 'f']\n",
    "my_tuple = ('a', 'b', 'c', 'd', 'e', 'f')\n",
    "my_string = 'abcdef'\n",
    "my_set = {'a', 'b', 'c', 'd', 'e', 'f'}\n",
    "my_dict = {'a': 1, 'b': 2, 'c': 3, 'd': 4, 'e': 5, 'f': 6}"
   ]
  },
  {
   "cell_type": "code",
   "execution_count": 49,
   "id": "7b9b381a",
   "metadata": {},
   "outputs": [
    {
     "name": "stdout",
     "output_type": "stream",
     "text": [
      "['a', 'b', 'c', 'd', 'e', 'f']\n",
      "('a', 'b', 'c', 'd', 'e', 'f')\n",
      "abcdef\n",
      "{'d', 'f', 'a', 'b', 'e', 'c'}\n",
      "{'a': 1, 'b': 2, 'c': 3, 'd': 4, 'e': 5, 'f': 6}\n"
     ]
    }
   ],
   "source": [
    "print(my_list) \n",
    "print(my_tuple) \n",
    "print(my_string)\n",
    "print(my_set)\n",
    "print(my_dict) "
   ]
  },
  {
   "cell_type": "code",
   "execution_count": 37,
   "id": "1464c5ee",
   "metadata": {},
   "outputs": [
    {
     "name": "stdout",
     "output_type": "stream",
     "text": [
      "6\n",
      "6\n",
      "6\n",
      "6\n",
      "6\n"
     ]
    }
   ],
   "source": [
    "print(len(my_list)) \n",
    "print(len(my_tuple)) \n",
    "print(len(my_string))\n",
    "print(len(my_set))\n",
    "print(len(my_dict))"
   ]
  },
  {
   "cell_type": "markdown",
   "id": "ee71fec9",
   "metadata": {},
   "source": [
    "### Обход всех элементов коллекции в цикле for in"
   ]
  },
  {
   "cell_type": "code",
   "execution_count": 38,
   "id": "53a5a052",
   "metadata": {},
   "outputs": [
    {
     "name": "stdout",
     "output_type": "stream",
     "text": [
      "a\n",
      "b\n",
      "c\n",
      "d\n",
      "e\n",
      "f\n"
     ]
    }
   ],
   "source": [
    "for el in my_list:\n",
    "    print(el)"
   ]
  },
  {
   "cell_type": "code",
   "execution_count": 39,
   "id": "a30a5015",
   "metadata": {},
   "outputs": [
    {
     "name": "stdout",
     "output_type": "stream",
     "text": [
      "a\n",
      "b\n",
      "c\n",
      "d\n",
      "e\n",
      "f\n"
     ]
    }
   ],
   "source": [
    "for el in my_tuple:\n",
    "    print(el)"
   ]
  },
  {
   "cell_type": "code",
   "execution_count": 40,
   "id": "06a985cd",
   "metadata": {},
   "outputs": [
    {
     "name": "stdout",
     "output_type": "stream",
     "text": [
      "a\n",
      "b\n",
      "c\n",
      "d\n",
      "e\n",
      "f\n"
     ]
    }
   ],
   "source": [
    "for el in my_string:\n",
    "    print(el)"
   ]
  },
  {
   "cell_type": "code",
   "execution_count": 41,
   "id": "3bdd2fd1",
   "metadata": {},
   "outputs": [
    {
     "name": "stdout",
     "output_type": "stream",
     "text": [
      "d\n",
      "f\n",
      "a\n",
      "b\n",
      "e\n",
      "c\n"
     ]
    }
   ],
   "source": [
    "for el in my_set:\n",
    "    print(el)"
   ]
  },
  {
   "cell_type": "markdown",
   "id": "d5acd3e3",
   "metadata": {},
   "source": [
    "#### Перебор в цикле словарей dict"
   ]
  },
  {
   "cell_type": "code",
   "execution_count": 42,
   "id": "42cea1dc",
   "metadata": {},
   "outputs": [
    {
     "name": "stdout",
     "output_type": "stream",
     "text": [
      "a\n",
      "b\n",
      "c\n",
      "d\n",
      "e\n",
      "f\n"
     ]
    }
   ],
   "source": [
    "for el in my_dict:\n",
    "    print(el)"
   ]
  },
  {
   "cell_type": "code",
   "execution_count": 44,
   "id": "4f86b7ce",
   "metadata": {},
   "outputs": [
    {
     "name": "stdout",
     "output_type": "stream",
     "text": [
      "a\n",
      "b\n",
      "c\n",
      "d\n",
      "e\n",
      "f\n"
     ]
    }
   ],
   "source": [
    " for el in my_dict.keys():\n",
    "    print(el)"
   ]
  },
  {
   "cell_type": "code",
   "execution_count": 45,
   "id": "a00714ff",
   "metadata": {},
   "outputs": [
    {
     "name": "stdout",
     "output_type": "stream",
     "text": [
      "1\n",
      "2\n",
      "3\n",
      "4\n",
      "5\n",
      "6\n"
     ]
    }
   ],
   "source": [
    " for el in my_dict.values():\n",
    "    print(el)"
   ]
  },
  {
   "cell_type": "code",
   "execution_count": 47,
   "id": "5450a1e8",
   "metadata": {},
   "outputs": [
    {
     "name": "stdout",
     "output_type": "stream",
     "text": [
      "a 1\n",
      "b 2\n",
      "c 3\n",
      "d 4\n",
      "e 5\n",
      "f 6\n"
     ]
    }
   ],
   "source": [
    "for key, value in my_dict.items():\n",
    "    print(key, value)"
   ]
  },
  {
   "cell_type": "code",
   "execution_count": 46,
   "id": "2ad02174",
   "metadata": {},
   "outputs": [
    {
     "data": {
      "text/plain": [
       "dict_items([('a', 1), ('b', 2), ('c', 3), ('d', 4), ('e', 5), ('f', 6)])"
      ]
     },
     "execution_count": 46,
     "metadata": {},
     "output_type": "execute_result"
    }
   ],
   "source": [
    "my_dict.items()"
   ]
  },
  {
   "cell_type": "code",
   "execution_count": null,
   "id": "745f2498",
   "metadata": {},
   "outputs": [],
   "source": []
  },
  {
   "cell_type": "markdown",
   "id": "5d418b2a",
   "metadata": {},
   "source": [
    "## Конвертация коллекций друг в друга"
   ]
  },
  {
   "cell_type": "code",
   "execution_count": 50,
   "id": "7da3749a",
   "metadata": {},
   "outputs": [
    {
     "name": "stdout",
     "output_type": "stream",
     "text": [
      "['a', 'b', 'a'] {'a', 'b'} frozenset({'a', 'b'})\n"
     ]
    }
   ],
   "source": [
    "my_tuple = ('a', 'b', 'a')\n",
    "\n",
    "my_list = list(my_tuple)\n",
    "my_set = set(my_tuple)                # теряем индексы и дубликаты элементов!\n",
    "my_frozenset = frozenset(my_tuple)    # теряем индексы и дубликаты элементов!\n",
    "print(my_list, my_set, my_frozenset)"
   ]
  },
  {
   "cell_type": "code",
   "execution_count": 52,
   "id": "2501b346",
   "metadata": {},
   "outputs": [
    {
     "name": "stdout",
     "output_type": "stream",
     "text": [
      "('a', 'b', 'a') {'a', 'b'} frozenset({'a', 'b'})\n"
     ]
    }
   ],
   "source": [
    "my_list = ['a', 'b', 'a']\n",
    "\n",
    "my_tuple = tuple(my_list)\n",
    "my_set = set(my_list)                # теряем индексы и дубликаты элементов!\n",
    "my_frozenset = frozenset(my_list)    # теряем индексы и дубликаты элементов!\n",
    "print(my_tuple, my_set, my_frozenset)"
   ]
  },
  {
   "cell_type": "code",
   "execution_count": 55,
   "id": "ce6fd570",
   "metadata": {},
   "outputs": [
    {
     "name": "stdout",
     "output_type": "stream",
     "text": [
      "{'a': 1, 'b': 2}\n"
     ]
    }
   ],
   "source": [
    "my_keys = ('a', 'b', 'c')\n",
    "my_values = [1, 2]      # Если количество элементов разное - \n",
    "                        # будет отработано пока хватает на пары - лишние отброшены\n",
    "\n",
    "my_dict = dict(zip(my_keys, my_values))\n",
    "print(my_dict)"
   ]
  },
  {
   "cell_type": "code",
   "execution_count": null,
   "id": "aef90a2e",
   "metadata": {},
   "outputs": [],
   "source": []
  },
  {
   "cell_type": "markdown",
   "id": "6f9f1268",
   "metadata": {},
   "source": [
    "#### Изменение списка срезом\n",
    "с помощью среза можно не только получать копию коллекции, но в случае списка можно также менять значения элементов, удалять и добавлять новые."
   ]
  },
  {
   "cell_type": "code",
   "execution_count": 56,
   "id": "90130230",
   "metadata": {},
   "outputs": [
    {
     "name": "stdout",
     "output_type": "stream",
     "text": [
      "[1, 20, 3, 4, 5]\n"
     ]
    }
   ],
   "source": [
    "my_list = [1, 2, 3, 4, 5]\n",
    "# my_list[1:2] = 20     # TypeError: can only assign an iterable\n",
    "my_list[1:2] = [20]     # Вот теперь все работает\n",
    "print(my_list)          # [1, 20, 3, 4, 5]"
   ]
  },
  {
   "cell_type": "markdown",
   "id": "2c2b5910",
   "metadata": {},
   "source": [
    "Для вставки одиночных элементов можно использовать срез, код примеров есть ниже, но делать так не рекомендую, так как такой синтаксис хуже читать. Лучше использовать методы списка `.append()` и `.insert()`"
   ]
  },
  {
   "cell_type": "code",
   "execution_count": 58,
   "id": "7eb10777",
   "metadata": {},
   "outputs": [
    {
     "name": "stdout",
     "output_type": "stream",
     "text": [
      "[1, 2, 3, 4, 5, 6]\n",
      "[0, 1, 2, 3, 4, 5, 6]\n",
      "[0, 1, 2, 25, 3, 4, 5, 6]\n"
     ]
    }
   ],
   "source": [
    "my_list = [1, 2, 3, 4, 5]\n",
    "\n",
    "my_list[5:] = [6]      # вставляем в конец — лучше использовать .append(6)\n",
    "print(my_list)         # [1, 2, 3, 4, 5, 6]\n",
    "\n",
    "my_list[0:0] = [0]     # вставляем в начало — лучше использовать .insert(0, 0)\n",
    "print(my_list)         # [0, 1, 2, 3, 4, 5, 6]\n",
    "\n",
    "my_list[3:3] = [25]    # вставляем между элементами — лучше использовать .insert(3, 25)\n",
    "print(my_list)         # [0, 1, 2, 25, 3, 4, 5, 6]"
   ]
  },
  {
   "cell_type": "markdown",
   "id": "f0473cda",
   "metadata": {},
   "source": [
    "Можно менять части последовательности — это применение выглядит наиболее интересным, так как решает задачу просто и наглядно."
   ]
  },
  {
   "cell_type": "code",
   "execution_count": 59,
   "id": "936dba28",
   "metadata": {},
   "outputs": [
    {
     "name": "stdout",
     "output_type": "stream",
     "text": [
      "[1, 20, 30, 4, 5]\n",
      "[1, 0, 4, 5]\n",
      "[1, 0, 40, 50, 60]\n"
     ]
    }
   ],
   "source": [
    "my_list = [1, 2, 3, 4, 5]\n",
    "my_list[1:3] = [20, 30]\n",
    "print(my_list)          # [1, 20, 30, 4, 5]\n",
    "\n",
    "my_list[1:3] = [0]      # нет проблем заменить два элемента на один\n",
    "print(my_list)          # [1, 0, 4, 5]\n",
    "\n",
    "my_list[2:] = [40, 50, 60]   # или два элемента на три\n",
    "print(my_list)               # [1, 0, 40, 50, 60]"
   ]
  },
  {
   "cell_type": "markdown",
   "id": "c2271053",
   "metadata": {},
   "source": [
    "Можно просто удалить часть последовательности"
   ]
  },
  {
   "cell_type": "code",
   "execution_count": 60,
   "id": "910ed38d",
   "metadata": {},
   "outputs": [
    {
     "name": "stdout",
     "output_type": "stream",
     "text": [
      "[3, 4, 5]\n"
     ]
    }
   ],
   "source": [
    "my_list = [1, 2, 3, 4, 5]\n",
    "my_list[:2] = []    # или del my_list[:2]\n",
    "print(my_list)      # [3, 4, 5]"
   ]
  },
  {
   "cell_type": "code",
   "execution_count": null,
   "id": "17bb2dd9",
   "metadata": {},
   "outputs": [],
   "source": []
  },
  {
   "cell_type": "code",
   "execution_count": null,
   "id": "83d20590",
   "metadata": {},
   "outputs": [],
   "source": []
  },
  {
   "cell_type": "code",
   "execution_count": null,
   "id": "1dcbaa01",
   "metadata": {},
   "outputs": [],
   "source": []
  },
  {
   "cell_type": "code",
   "execution_count": null,
   "id": "9359473f",
   "metadata": {},
   "outputs": [],
   "source": []
  },
  {
   "cell_type": "code",
   "execution_count": null,
   "id": "846a4e0e",
   "metadata": {},
   "outputs": [],
   "source": []
  },
  {
   "cell_type": "code",
   "execution_count": null,
   "id": "1b3eec03",
   "metadata": {},
   "outputs": [],
   "source": []
  },
  {
   "cell_type": "code",
   "execution_count": null,
   "id": "6f6f4ad9",
   "metadata": {},
   "outputs": [],
   "source": []
  },
  {
   "cell_type": "code",
   "execution_count": null,
   "id": "da57a9e4",
   "metadata": {},
   "outputs": [],
   "source": []
  },
  {
   "cell_type": "code",
   "execution_count": null,
   "id": "0f01d15d",
   "metadata": {},
   "outputs": [],
   "source": []
  },
  {
   "cell_type": "code",
   "execution_count": null,
   "id": "dda72d03",
   "metadata": {},
   "outputs": [],
   "source": []
  },
  {
   "cell_type": "code",
   "execution_count": null,
   "id": "99404e6e",
   "metadata": {},
   "outputs": [],
   "source": []
  }
 ],
 "metadata": {
  "kernelspec": {
   "display_name": "Python 3",
   "language": "python",
   "name": "python3"
  },
  "language_info": {
   "codemirror_mode": {
    "name": "ipython",
    "version": 3
   },
   "file_extension": ".py",
   "mimetype": "text/x-python",
   "name": "python",
   "nbconvert_exporter": "python",
   "pygments_lexer": "ipython3",
   "version": "3.8.11"
  }
 },
 "nbformat": 4,
 "nbformat_minor": 5
}
