{
 "cells": [
  {
   "cell_type": "markdown",
   "id": "5d030012",
   "metadata": {},
   "source": [
    "**Оглавление**\n",
    "\n",
    "[Множество set](#Множество-set)\n",
    "\n",
    "1. [Создание множества](#Создание-множества)\n",
    "\n",
    "\n",
    "2. [Вхождение/наличие элемента](#Вхождение/наличие-элемента)\n",
    "\n",
    "\n",
    "3. [Длина множестсва](#Длина-множества)\n",
    "\n",
    "\n",
    "4. [Добавление элемента к изменяемому множеству](#Добавление-элемента-к-изменяемому-множеству): `add()`, `update()`\n",
    "\n",
    "\n",
    "5. [Удаление элемента из изменяемого множества](#Удаление-элемента-из-изменяемого-множества): `remove()`, `discard()`, `pop()`, `clear()`"
   ]
  },
  {
   "cell_type": "markdown",
   "id": "eae95362",
   "metadata": {},
   "source": [
    "# Множество `set`\n",
    "\n",
    "Множество - это **неупорядоченный изменяемый** набор различных объектов. \n",
    "\n",
    "Обычно множества используются в тестировании вхождения элемента, удаление дубликатов из последовательности и вычисление математических операций, таких как пересечение, объединение, разность и т. д.\n",
    "\n",
    "Как и другие коллекции, множества поддерживают операции `x in set`, `len(set)` и `for x in set`. Будучи неупорядоченной коллекцией, множества не записывают положение элемента или порядок вставки. Соответственно, не поддерживают индексацию, нарезку или другое поведение, подобное упорядоченной последовательности.\n",
    "\n",
    "В настоящее время существует два встроенных типа множеств: `set` и `frozenset`:\n",
    "\n",
    "* Тип `set` является ИЗМЕНЯЕМЫМ множеством, содержимое может быть изменено с помощью таких методов, как `set.add()` и `set.remove()`, также поддерживает операции доступные `frozenset`. Поскольку тип `set` является изменяемым, он не имеет хеш-значения и не может использоваться ни как ключ словаря, ни как элемент другого множества.\n",
    "\n",
    "* Тип `frozenset` является НЕизменяемым и хешируемым множеством, его содержимое не может быть изменено после его создания, поэтому он может использоваться как ключ словаря или как элемент другого множества. Дополнительно смотрите операции доступные `frozenset`."
   ]
  },
  {
   "cell_type": "markdown",
   "id": "0507ee0d",
   "metadata": {},
   "source": [
    "## Создание множества"
   ]
  },
  {
   "cell_type": "code",
   "execution_count": 2,
   "id": "ddf609b4",
   "metadata": {},
   "outputs": [
    {
     "data": {
      "text/plain": [
       "set()"
      ]
     },
     "execution_count": 2,
     "metadata": {},
     "output_type": "execute_result"
    }
   ],
   "source": [
    "# Чтобы создать пустое множество необходимо \n",
    "# использовать `set()`, а не `{}`, т.к. пустые фигурные \n",
    "# скобки создадут пустой словарь\n",
    "\n",
    "# Создание пустых множеств\n",
    "set()"
   ]
  },
  {
   "cell_type": "code",
   "execution_count": 5,
   "id": "e7c1cd6e",
   "metadata": {},
   "outputs": [
    {
     "data": {
      "text/plain": [
       "{'a', 'b', 'c', 'd'}"
      ]
     },
     "execution_count": 5,
     "metadata": {},
     "output_type": "execute_result"
    }
   ],
   "source": [
    "# Создание непустых изменяемых множеств\n",
    "s = {'a', 'b', 'c', 'd'}\n",
    "s"
   ]
  },
  {
   "cell_type": "code",
   "execution_count": 6,
   "id": "2888a6ad",
   "metadata": {},
   "outputs": [
    {
     "data": {
      "text/plain": [
       "{'a', 'b', 'c', 'd', 'r'}"
      ]
     },
     "execution_count": 6,
     "metadata": {},
     "output_type": "execute_result"
    }
   ],
   "source": [
    "line = 'abracadabra'\n",
    "a = set(line)\n",
    "a"
   ]
  },
  {
   "cell_type": "code",
   "execution_count": 8,
   "id": "61b78889",
   "metadata": {},
   "outputs": [
    {
     "data": {
      "text/plain": [
       "{(1, 2, 3), 1, 2, 3}"
      ]
     },
     "execution_count": 8,
     "metadata": {},
     "output_type": "execute_result"
    }
   ],
   "source": [
    "set([1, 2, 3, 2, 2, 1, (1, 2, 3)])"
   ]
  },
  {
   "cell_type": "code",
   "execution_count": 27,
   "id": "bbdcbb3d",
   "metadata": {},
   "outputs": [
    {
     "data": {
      "text/plain": [
       "{1, 2, 3}"
      ]
     },
     "execution_count": 27,
     "metadata": {},
     "output_type": "execute_result"
    }
   ],
   "source": [
    "set({1, 2, 3, 3})"
   ]
  },
  {
   "cell_type": "code",
   "execution_count": 28,
   "id": "d45bc44b",
   "metadata": {},
   "outputs": [
    {
     "data": {
      "text/plain": [
       "{'a', 'b'}"
      ]
     },
     "execution_count": 28,
     "metadata": {},
     "output_type": "execute_result"
    }
   ],
   "source": [
    "d = {'a': 1, 'b': 2}\n",
    "set(d)"
   ]
  },
  {
   "cell_type": "markdown",
   "id": "6bb74e48",
   "metadata": {},
   "source": [
    "## Вхождение/наличие элемента"
   ]
  },
  {
   "cell_type": "code",
   "execution_count": 21,
   "id": "d6413880",
   "metadata": {},
   "outputs": [
    {
     "data": {
      "text/plain": [
       "True"
      ]
     },
     "execution_count": 21,
     "metadata": {},
     "output_type": "execute_result"
    }
   ],
   "source": [
    "'a' in {'a', 'b', 'c'}"
   ]
  },
  {
   "cell_type": "code",
   "execution_count": 22,
   "id": "b9c46d6d",
   "metadata": {
    "scrolled": true
   },
   "outputs": [
    {
     "data": {
      "text/plain": [
       "True"
      ]
     },
     "execution_count": 22,
     "metadata": {},
     "output_type": "execute_result"
    }
   ],
   "source": [
    "'d' not in {'a', 'b', 'c'}"
   ]
  },
  {
   "cell_type": "markdown",
   "id": "41100cb8",
   "metadata": {},
   "source": [
    "## Длина множества"
   ]
  },
  {
   "cell_type": "code",
   "execution_count": 23,
   "id": "97ff6986",
   "metadata": {},
   "outputs": [
    {
     "data": {
      "text/plain": [
       "2"
      ]
     },
     "execution_count": 23,
     "metadata": {},
     "output_type": "execute_result"
    }
   ],
   "source": [
    "s = {1, 1, 1, 1, (2, 4)}\n",
    "len(s)"
   ]
  },
  {
   "cell_type": "markdown",
   "id": "b80adc1b",
   "metadata": {},
   "source": [
    "## Добавление элемента к изменяемому множеству"
   ]
  },
  {
   "cell_type": "markdown",
   "id": "8b8e45ec",
   "metadata": {},
   "source": [
    "### `add()`"
   ]
  },
  {
   "cell_type": "code",
   "execution_count": 10,
   "id": "37147a6d",
   "metadata": {
    "scrolled": false
   },
   "outputs": [
    {
     "data": {
      "text/plain": [
       "{10, 'a', 'b', 'c', 'd', 'r'}"
      ]
     },
     "execution_count": 10,
     "metadata": {},
     "output_type": "execute_result"
    }
   ],
   "source": [
    "a = set('abracadabra')\n",
    "a.add(10)\n",
    "a"
   ]
  },
  {
   "cell_type": "markdown",
   "id": "39aafb8f",
   "metadata": {},
   "source": [
    "### `update()`\n",
    "\n",
    "Добавляет в множество элементы из одного или более множеств (объединение множеств)\n",
    "\n",
    "Синтаксис:\n",
    "```python\n",
    "# Метод\n",
    "set.update(*others)\n",
    "\n",
    "# Бинарный оператор\n",
    "set1 |= set2 | ...\n",
    "```\n",
    "\n",
    "Параметры:\n",
    "\n",
    "* `set` и `set1` - только изменяемое множество `set`.\n",
    "* `*others` - произвольное число объектов поддерживающих итерацию\n",
    "* `set2` - множество `frozenset` или `set`.\n",
    "\n",
    "Возвращаемое значение:\n",
    "\n",
    "* Метод изменяет множество и не возвращает никакого результата.\n",
    "\n",
    "*Описание*:\n",
    "\n",
    "Метод `set.update()` позволяет добавить в множество `set`, элементы из одной или более последовательности поддерживающих итерирование. Метод изменяет множество `set` \"на месте\", т.е. добавляет элементы из всех итерируемых объектов `*other` (`*` - произвольное число позиционных аргументов). При выполнении операции добавления, дубликаты элементов последовательности игнорируются.\n",
    "\n",
    "Метод `set.update()` принимает в качестве аргумента `*other` произвольное число любых объектов, поддерживающий итерацию по своим элементам. Это может быть список, кортеж, список ключей словаря, или другое множество и т.д.\n",
    "\n",
    "Операция добавления позволяет использовать бинарный оператор `|=`, но при этом первый операнд должен быть изменяемым множеством, а добавляемые объекты должны быть множествами `frozenset` или `set`. Если это условие не выполнено поднимается исключение `TypeError`.\n",
    "\n",
    "Эта операция поддерживается только изменяемым множеством `set`.\n",
    "\n",
    "Для того, что-бы получить новое множество, полученное в результате объединения используйте метод `union()`."
   ]
  },
  {
   "cell_type": "code",
   "execution_count": 33,
   "id": "cbe23619",
   "metadata": {},
   "outputs": [
    {
     "data": {
      "text/plain": [
       "{0, 1, 2, 3, 5, 6, 7, 8, 9}"
      ]
     },
     "execution_count": 33,
     "metadata": {},
     "output_type": "execute_result"
    }
   ],
   "source": [
    "sets = {0, 1, 2, 3}\n",
    "fset = frozenset({3, 4, 7, 10})\n",
    "lists = [3, 5, 6, 7]\n",
    "tuples = (0, 1, 7, 8, 9)\n",
    "\n",
    "# Использование метода\n",
    "sets.update(lists, tuples)\n",
    "sets"
   ]
  },
  {
   "cell_type": "code",
   "execution_count": null,
   "id": "7a4f7656",
   "metadata": {},
   "outputs": [],
   "source": [
    "sets.clear()\n",
    "\n",
    "# Дубликаты последовательностей игнорируются\n",
    "sets.update(fset, tuples)\n",
    "sets\n",
    "# {0, 1, 3, 4, 7, 8, 9, 10}\n",
    "\n",
    ">>> sets.clear()\n",
    "# Использование бинарного оператора все\n",
    "# объекты должны быть множествами\n",
    "sets |= lists | tuples\n",
    "# Traceback (most recent call last):\n",
    "#   File \"<stdin>\", line 1, in <module>\n",
    "# TypeError: unsupported operand type(s) for |: 'list' and 'tuple'\n",
    "\n",
    "sets |= frozenset(lists) | set(tuples) | fset\n",
    "# {0, 1, 3, 4, 5, 6, 7, 8, 9, 10}"
   ]
  },
  {
   "cell_type": "code",
   "execution_count": null,
   "id": "78f6379c",
   "metadata": {},
   "outputs": [],
   "source": []
  },
  {
   "cell_type": "code",
   "execution_count": null,
   "id": "9cc2f3e6",
   "metadata": {},
   "outputs": [],
   "source": []
  },
  {
   "cell_type": "markdown",
   "id": "abd1d48f",
   "metadata": {},
   "source": [
    "## Удаление элемента из изменяемого множества\n",
    "\n",
    "происходит по его значению.\n",
    "\n",
    "Методы:\n",
    "* `remove()`\n",
    "* `pop()`"
   ]
  },
  {
   "cell_type": "markdown",
   "id": "b8f91dc7",
   "metadata": {},
   "source": [
    "### `remove()`"
   ]
  },
  {
   "cell_type": "code",
   "execution_count": 19,
   "id": "13700ae5",
   "metadata": {},
   "outputs": [
    {
     "data": {
      "text/plain": [
       "{'a', 'b', 'c', 'd'}"
      ]
     },
     "execution_count": 19,
     "metadata": {},
     "output_type": "execute_result"
    }
   ],
   "source": [
    "a = set('abracadabra')\n",
    "a.remove('r')\n",
    "a"
   ]
  },
  {
   "cell_type": "markdown",
   "id": "57f97a30",
   "metadata": {},
   "source": [
    "### `discard()`\n",
    "\n",
    "удаляет элемент `elem` из множества `set`, если его значение присутствует в множестве.\n",
    "\n",
    "* Метод изменяет множество \"на месте\" и не возвращает никакого результата.\n",
    "* Метод `set.discard()` НЕ вызывает исключений, если значение `elem` отсутствует в множествe.\n",
    "* `elem` может быть изменяемым множеством `set`."
   ]
  },
  {
   "cell_type": "code",
   "execution_count": 29,
   "id": "56b7eaca",
   "metadata": {},
   "outputs": [
    {
     "data": {
      "text/plain": [
       "{(1, 2), 0, 1, 10, 2, 3, 7}"
      ]
     },
     "execution_count": 29,
     "metadata": {},
     "output_type": "execute_result"
    }
   ],
   "source": [
    "sets = {0, 1, 2, 3, (1, 2), 5, 7, 10}\n",
    "sets.discard(5)\n",
    "sets"
   ]
  },
  {
   "cell_type": "code",
   "execution_count": 30,
   "id": "a43dbfd5",
   "metadata": {},
   "outputs": [
    {
     "data": {
      "text/plain": [
       "{0, 1, 2, 3, 7, 10}"
      ]
     },
     "execution_count": 30,
     "metadata": {},
     "output_type": "execute_result"
    }
   ],
   "source": [
    "sets.discard((1,2))\n",
    "sets"
   ]
  },
  {
   "cell_type": "code",
   "execution_count": 31,
   "id": "de9de5f1",
   "metadata": {},
   "outputs": [
    {
     "data": {
      "text/plain": [
       "{0, 1, 2, 3, 7, 10}"
      ]
     },
     "execution_count": 31,
     "metadata": {},
     "output_type": "execute_result"
    }
   ],
   "source": [
    "# Значение не содержится в множествe\n",
    "# 'discard()' не вызывает исключений\n",
    "sets.discard(4)\n",
    "sets"
   ]
  },
  {
   "cell_type": "code",
   "execution_count": 32,
   "id": "112cb297",
   "metadata": {},
   "outputs": [
    {
     "data": {
      "text/plain": [
       "{0, 1, 2, 3, 7, 10}"
      ]
     },
     "execution_count": 32,
     "metadata": {},
     "output_type": "execute_result"
    }
   ],
   "source": [
    "sets.add(frozenset({'a', 'c'}))\n",
    "\n",
    "# `elem` может быть изменяемым \n",
    "# множеством `set`\n",
    "sets.discard({'c', 'a'})\n",
    "sets"
   ]
  },
  {
   "cell_type": "markdown",
   "id": "8a9e89d9",
   "metadata": {},
   "source": [
    "### `pop()`"
   ]
  },
  {
   "cell_type": "code",
   "execution_count": 20,
   "id": "d143480e",
   "metadata": {},
   "outputs": [
    {
     "data": {
      "text/plain": [
       "'a'"
      ]
     },
     "execution_count": 20,
     "metadata": {},
     "output_type": "execute_result"
    }
   ],
   "source": [
    "# Метод `.pop()` извлекает и удаляет случайный элемент\n",
    "# изменяемого множества\n",
    "\n",
    "a.pop()"
   ]
  },
  {
   "cell_type": "code",
   "execution_count": 18,
   "id": "15d4545f",
   "metadata": {},
   "outputs": [
    {
     "data": {
      "text/plain": [
       "{'b', 'c', 'd'}"
      ]
     },
     "execution_count": 18,
     "metadata": {},
     "output_type": "execute_result"
    }
   ],
   "source": [
    "a"
   ]
  },
  {
   "cell_type": "markdown",
   "id": "b1f3d355",
   "metadata": {},
   "source": [
    "### `clear()`\n",
    "\n",
    "Метод `set.clear()` удаляет все элементы из множества `set`. Метод очищает множество и не возвращает никакого результата."
   ]
  },
  {
   "cell_type": "code",
   "execution_count": 24,
   "id": "75848458",
   "metadata": {},
   "outputs": [
    {
     "data": {
      "text/plain": [
       "{1, '2', 3}"
      ]
     },
     "execution_count": 24,
     "metadata": {},
     "output_type": "execute_result"
    }
   ],
   "source": [
    "s = set([1, \"2\", 3, 3])\n",
    "s"
   ]
  },
  {
   "cell_type": "code",
   "execution_count": 25,
   "id": "b5f7c76e",
   "metadata": {},
   "outputs": [
    {
     "data": {
      "text/plain": [
       "set()"
      ]
     },
     "execution_count": 25,
     "metadata": {},
     "output_type": "execute_result"
    }
   ],
   "source": [
    "s.clear()\n",
    "s"
   ]
  }
 ],
 "metadata": {
  "kernelspec": {
   "display_name": "Python 3",
   "language": "python",
   "name": "python3"
  },
  "language_info": {
   "codemirror_mode": {
    "name": "ipython",
    "version": 3
   },
   "file_extension": ".py",
   "mimetype": "text/x-python",
   "name": "python",
   "nbconvert_exporter": "python",
   "pygments_lexer": "ipython3",
   "version": "3.8.11"
  }
 },
 "nbformat": 4,
 "nbformat_minor": 5
}
