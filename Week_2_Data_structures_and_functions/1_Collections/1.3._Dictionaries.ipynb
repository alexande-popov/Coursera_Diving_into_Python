{
 "cells": [
  {
   "cell_type": "markdown",
   "id": "b201db95",
   "metadata": {},
   "source": [
    "**Оглавление**\n",
    "\n",
    "[Словари](#Словари)\n",
    "1. [Создание словаря](#Создание-словаря)"
   ]
  },
  {
   "cell_type": "markdown",
   "id": "fce8faf9",
   "metadata": {},
   "source": [
    "# Словари"
   ]
  },
  {
   "cell_type": "markdown",
   "id": "2e2f65d3",
   "metadata": {},
   "source": [
    "Словари предоставляю быстрый доступ по ключу (за констатное время), за счет хэширования к объектам словаря.\n",
    "\n",
    "Ключи не изменяемы (хэшируются) - immutable objects (целые числа, None, строки, кортежи).\n",
    "\n",
    "Объекты словаря изменяются - mutable objects."
   ]
  },
  {
   "cell_type": "markdown",
   "id": "84b15454",
   "metadata": {},
   "source": [
    "## Создание словаря"
   ]
  },
  {
   "cell_type": "markdown",
   "id": "1ec994d0",
   "metadata": {},
   "source": [
    "**Некоторые правила задания словарей**.\n",
    "\n",
    "1. Пустой словарь: `{}` или `dict()`\n",
    "\n",
    "2. Ключ - значение: в `{}` это `:` , а в `dict()` это `=`\n",
    "\n",
    "3. Ключ в `{}` не может быть строкой без кавычек!\n",
    "\n",
    "4. Ключ в `dict()` не может быть строкой в кавычках. Тут же правило называния ключа такое же как у переменной (не начинать с цифры)\n",
    "\n",
    "5. Словарь можно задать через список перемещенный в `dict()`."
   ]
  },
  {
   "cell_type": "code",
   "execution_count": null,
   "id": "090f27ec",
   "metadata": {},
   "outputs": [],
   "source": []
  },
  {
   "cell_type": "code",
   "execution_count": null,
   "id": "1961740e",
   "metadata": {},
   "outputs": [],
   "source": []
  },
  {
   "cell_type": "code",
   "execution_count": null,
   "id": "95afcae6",
   "metadata": {},
   "outputs": [],
   "source": []
  },
  {
   "cell_type": "code",
   "execution_count": null,
   "id": "337bc1cf",
   "metadata": {},
   "outputs": [],
   "source": []
  }
 ],
 "metadata": {
  "kernelspec": {
   "display_name": "Python 3",
   "language": "python",
   "name": "python3"
  },
  "language_info": {
   "codemirror_mode": {
    "name": "ipython",
    "version": 3
   },
   "file_extension": ".py",
   "mimetype": "text/x-python",
   "name": "python",
   "nbconvert_exporter": "python",
   "pygments_lexer": "ipython3",
   "version": "3.8.11"
  }
 },
 "nbformat": 4,
 "nbformat_minor": 5
}
