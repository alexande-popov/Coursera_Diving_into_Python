{
 "cells": [
  {
   "cell_type": "markdown",
   "id": "b201db95",
   "metadata": {},
   "source": [
    "**Оглавление**\n",
    "\n",
    "[Словари](#Словари)\n",
    "1. [Создание словаря](#Создание-словаря)\n",
    "* [Пустой словарь](#Пустой-словарь)\n",
    "* [Конструктор-литерал {}](#Конструктор-литерал-{})\n",
    "* [Конструктор-функция dict()](#Конструктор-функция-dict()): [Создание через ключевые аргументы](#Создание-через-ключевые-аргументы), [Создание через итерируемый объект](#Создание-через-итерируемый-объект), [Кобинация позиционных и ключевых аргументов](#Кобинация-позиционных-и-ключевых-аргументов)\n",
    "* [Различия в синтаксисе между {} и dict()](#Различия-в-синтаксисе-между-{}-и-dict())\n",
    "* [C помощью метода dict.fromkeys()](#C-помощью-метода-fromkeys)\n",
    "* [С помощью генераторов словарей](#С-помощью-генераторов-словарей): [Создание словаря из двух колекций](#Создание-словаря-из-двух-колекций)\n",
    "\n",
    "2. [Основные операции со словарями](#Основные-операции-со-словарями)\n",
    "* [Извлечение значения по ключу](#Извлечение-значения-по-ключу): [Обращение по ключу](#Обращение-по-ключу), [Метод dict.get()](#Метод-dict.get())\n",
    "* [Добавление элементов в словарь](#Добавление-элементов-в-словарь)\n",
    "* [Изменение значений ключей в словаре](#Изменение-значений-ключей-в-словаре)\n",
    "* [Удаление элементов словаря](#Удаление-элементов-словаря)\n",
    "* [Вхождение в словарь](#Вхождение-в-словарь)\n",
    "* [Длина словаря](#Длина-словаря)\n",
    "\n",
    "3. [Списки-представления словаря](#Списки-представления-словаря)\n",
    "* [dict.keys()](#dict.keys())\n",
    "* [dict.values()](#dict.values())\n",
    "* [dict.items()](#dict.items.())\n",
    "* [Итераторы по словарю](#Итераторы-по-словарю)\n",
    "\n",
    "4. [Другие методы словарей](#Другие-методы-словарей)\n",
    "* [Метод dict.clear()](#Метод-dict.clear())\n",
    "* [Метод dict.copy()](#Метод-dict.copy())\n",
    "* [Метод dict.pop()](#Метод-dict.pop())\n",
    "* [Метод dict.popitem()](#Метод-dict.popitem())\n",
    "* [Метод dict.setdefault()](#Метод-dict.setdefault())\n",
    "* [Метод dict.update()](#Метод-dict.update())\n",
    "\n",
    "5. [Объединение или слияние двух словарей в один новый словарь](#Объединение-или-слияние-двух-словарей-в-один-новый-словарь)\n",
    "___\n",
    "* [Сравнение словарей](#Сравнение-словарей)\n",
    "* [Свойства типа данных словарь dict](#Свойства-типа-данных-словарь-dict)\n"
   ]
  },
  {
   "cell_type": "markdown",
   "id": "fce8faf9",
   "metadata": {},
   "source": [
    "# Словари"
   ]
  },
  {
   "cell_type": "markdown",
   "id": "2e2f65d3",
   "metadata": {},
   "source": [
    "Словарь -- изменяемый контейнерный объект.\n",
    "\n",
    "Словари предоставляю быстрый доступ по ключу (за констатное время), за счет хэширования к объектам словаря.\n",
    "\n",
    "Ключи не изменяемы (хэшируются) - immutable objects (целые числа, None, строки, кортежи).\n",
    "\n",
    "Объекты словаря изменяются - mutable objects.\n",
    "\n",
    "В отличие от последовательностей, которые индексируются диапазоном чисел, словари индексируются ключами, которые могут быть любого неизменяемого типа. Строки и числа всегда могут быть ключами. Кортежи могут использоваться в качестве ключей, если они содержат только строки, числа или кортежи. Если кортеж содержит любой изменяемый объект прямо или косвенно, он не может использоваться в качестве ключа. Нельзя использовать списки в качестве ключей словаря, так как списки могут быть изменены на месте.\n",
    "\n",
    "Словари встречаются и в других языках как, только называются по разному, например \"ассоциативная память\" или \"ассоциативные массивы\", \"хеш-таблицы\"."
   ]
  },
  {
   "cell_type": "markdown",
   "id": "84b15454",
   "metadata": {},
   "source": [
    "## Создание словаря"
   ]
  },
  {
   "cell_type": "markdown",
   "id": "dc6151a5",
   "metadata": {},
   "source": [
    "### Пустой словарь\n",
    "\n",
    "Без элементов"
   ]
  },
  {
   "cell_type": "code",
   "execution_count": 1,
   "id": "23a4d04d",
   "metadata": {},
   "outputs": [
    {
     "data": {
      "text/plain": [
       "{}"
      ]
     },
     "execution_count": 1,
     "metadata": {},
     "output_type": "execute_result"
    }
   ],
   "source": [
    "objects = {}\n",
    "objects"
   ]
  },
  {
   "cell_type": "code",
   "execution_count": 2,
   "id": "e3d2ae40",
   "metadata": {},
   "outputs": [
    {
     "data": {
      "text/plain": [
       "{}"
      ]
     },
     "execution_count": 2,
     "metadata": {},
     "output_type": "execute_result"
    }
   ],
   "source": [
    "objects = dict()\n",
    "objects"
   ]
  },
  {
   "cell_type": "markdown",
   "id": "e8eb8efe",
   "metadata": {},
   "source": [
    "### Конструктор-литерал `{}`\n",
    "\n",
    "Словари можно создать, поместив разделенный запятыми список пар `key: value` в фигурные скобки `{}` или с помощью конструктора встроенного класса `dict()`.\n",
    "\n",
    "Создание с помощью литерала `{}`:\n",
    "```python\n",
    "{key1: value1, key2: value2, …, keyN: valueN}\n",
    "```\n",
    "\n",
    "Ключ - значение в `{}` разделяется `:`.\n",
    "\n",
    "Ключ в `{}` не может быть строкой без кавычек, но другие типы неизменяемые тыпы данных -- пожалуйста, можно писать без кавычек."
   ]
  },
  {
   "cell_type": "code",
   "execution_count": 3,
   "id": "55b1cfda",
   "metadata": {},
   "outputs": [
    {
     "data": {
      "text/plain": [
       "{'one': 1, 'two': 2}"
      ]
     },
     "execution_count": 3,
     "metadata": {},
     "output_type": "execute_result"
    }
   ],
   "source": [
    "d = {'one': 1, 'two': 2}\n",
    "d\n",
    "\n",
    "# {one: 1, two: 2}\n",
    "# NameError: name 'one' is not defined"
   ]
  },
  {
   "cell_type": "code",
   "execution_count": 4,
   "id": "d91e92e8",
   "metadata": {},
   "outputs": [
    {
     "data": {
      "text/plain": [
       "{1: 'one', 2: 'two'}"
      ]
     },
     "execution_count": 4,
     "metadata": {},
     "output_type": "execute_result"
    }
   ],
   "source": [
    "{1: 'one', 2: 'two'}"
   ]
  },
  {
   "cell_type": "code",
   "execution_count": 5,
   "id": "fa8ae7c0",
   "metadata": {},
   "outputs": [
    {
     "data": {
      "text/plain": [
       "{True: 1, None: None, (1, 'two'): 'immutable pair'}"
      ]
     },
     "execution_count": 5,
     "metadata": {},
     "output_type": "execute_result"
    }
   ],
   "source": [
    "{True: 1, \n",
    " None: None, \n",
    " (1, \"two\"): \"immutable pair\"}"
   ]
  },
  {
   "cell_type": "markdown",
   "id": "cd2756ac",
   "metadata": {},
   "source": [
    "### Конструктор-функция `dict()`\n",
    "\n",
    "Общий синтатксис\n",
    "```python\n",
    "dict(**kwarg)\n",
    "dict(iterable, **kwarg)\n",
    "dict(mapping, **kwarg)\n",
    "```\n",
    "\n",
    "Параметры:\n",
    "* `kwarg` - ключевые аргументы `one=1`, `two=2`, `three=3`\n",
    "* `iterable` - итерируемый объект, например `[('two', 2), ('one', 1), ('three', 3)]`\n",
    "* `mapping` - карта(словарь), например `{'three': 3, 'one': 1, 'two': 2}`\n",
    "\n",
    "Функция `dict()` создаст словарь, инициализированный из необязательного позиционного аргумента и возможно пустого набора ключевых аргументов.\n",
    "\n",
    "Если позиционный аргумент не задан, создается пустой словарь. Если заданы позиционные аргументы и они являются объектами сопоставления (`'one': 1`), создается словарь с теми же парами ключ-значение, что и объект сопоставления. В противном случае позиционный аргумент должен быть итерируемым объектом. Каждый элемент в массиве должен быть итерируемым с двумя объектами. Первый объект каждого элемента становится ключом в новом словаре, а второй объект-соответствующим значением. Если ключ встречается более одного раза, последнее значение для этого ключа становится соответствующим значением в новом словаре.\n",
    "\n",
    "Если заданы ключевые аргументы и их значения добавляются в словарь, созданный из позиционных аргументов, то значение одинакового ключа из позиционного аргумента заменяется значением ключевого аргумента."
   ]
  },
  {
   "cell_type": "markdown",
   "id": "3812fb74",
   "metadata": {},
   "source": [
    "#### Создание через ключевые аргументы\n",
    "\n",
    "Ключ - значение в `dict()` разделяется `=`.\n",
    "\n",
    "Ключ в `dict()` не может быть строкой в кавычках. Тут же правило называния ключа такое же как у переменной (не начинать с цифры)."
   ]
  },
  {
   "cell_type": "markdown",
   "id": "0b4e1978",
   "metadata": {},
   "source": [
    "Для определения словаря существует специальная встроенная функция `dict()`. Ей, в качестве аргументов (ключевых аргументов), через запятую перечисляются пары в формате `ключ=значение`."
   ]
  },
  {
   "cell_type": "code",
   "execution_count": 6,
   "id": "3d4710b0",
   "metadata": {},
   "outputs": [
    {
     "data": {
      "text/plain": [
       "{'one': 1, 'two': 2, 'three': '3', 'four': '4'}"
      ]
     },
     "execution_count": 6,
     "metadata": {},
     "output_type": "execute_result"
    }
   ],
   "source": [
    "d = dict(one = 1, two = 2, three = \"3\", four = \"4\")\n",
    "d"
   ]
  },
  {
   "cell_type": "markdown",
   "id": "04b22a1a",
   "metadata": {},
   "source": [
    "Здесь ключи преобразовываются в строки и должны определяться как и имена переменных. Например, использовать числа уже не получится (это неверное имя переменной):\n",
    "\n",
    "```python\n",
    "dict(1 = \"one\", 2 = two, 3 = three)\n",
    "\n",
    "SyntaxError: expression cannot contain assignment, perhaps you meant \"==\"?\n",
    "```"
   ]
  },
  {
   "cell_type": "markdown",
   "id": "534b1c83",
   "metadata": {},
   "source": [
    "#### Создание через итерируемый объект\n",
    "\n",
    "Существует возможности для отдельных видов списков преобразования их в словарь с помощью встроенной функции `dict()`. Для этого список должен хранить набор вложенных списков. Каждый вложенный список должен состоять из двух элементов - при конвертации в словарь первый элемент станет ключом, а второй - значением."
   ]
  },
  {
   "cell_type": "code",
   "execution_count": 7,
   "id": "bb7511bc",
   "metadata": {},
   "outputs": [
    {
     "data": {
      "text/plain": [
       "{'+111123455': 'Tom', '+384767557': 'Bob', '+958758767': 'Alice'}"
      ]
     },
     "execution_count": 7,
     "metadata": {},
     "output_type": "execute_result"
    }
   ],
   "source": [
    "users_list = [\n",
    "    [\"+111123455\", \"Tom\"],\n",
    "    [\"+384767557\", \"Bob\"],\n",
    "    [\"+958758767\", \"Alice\"]\n",
    "]\n",
    "dict(users_list)"
   ]
  },
  {
   "cell_type": "markdown",
   "id": "f7b694c1",
   "metadata": {},
   "source": [
    "Подобным образом можно преобразовать в словарь двухмерные кортежи, которые в свою очередь содержать кортежи из двух элементов."
   ]
  },
  {
   "cell_type": "code",
   "execution_count": 8,
   "id": "30a1b59d",
   "metadata": {},
   "outputs": [
    {
     "data": {
      "text/plain": [
       "{'+111123455': 'Tom', '+384767557': 'Bob', '+958758767': 'Alice'}"
      ]
     },
     "execution_count": 8,
     "metadata": {},
     "output_type": "execute_result"
    }
   ],
   "source": [
    "users_tuple = (\n",
    "    (\"+111123455\", \"Tom\"),\n",
    "    (\"+384767557\", \"Bob\"),\n",
    "    (\"+958758767\", \"Alice\")\n",
    ")\n",
    "dict(users_tuple)"
   ]
  },
  {
   "cell_type": "markdown",
   "id": "0f47aa1e",
   "metadata": {},
   "source": [
    "Возможны и комбинации списков и туплей."
   ]
  },
  {
   "cell_type": "code",
   "execution_count": 9,
   "id": "c9eb94a0",
   "metadata": {},
   "outputs": [
    {
     "data": {
      "text/plain": [
       "{'+111123455': 'Tom', '+384767557': 'Bob', '+958758767': 'Alice'}"
      ]
     },
     "execution_count": 9,
     "metadata": {},
     "output_type": "execute_result"
    }
   ],
   "source": [
    "users_lt = [\n",
    "    (\"+111123455\", \"Tom\"),\n",
    "    (\"+384767557\", \"Bob\"),\n",
    "    (\"+958758767\", \"Alice\")\n",
    "]\n",
    "dict(users_lt)"
   ]
  },
  {
   "cell_type": "code",
   "execution_count": 10,
   "id": "8ac55312",
   "metadata": {},
   "outputs": [
    {
     "data": {
      "text/plain": [
       "{'+111123455': 'Tom', '+384767557': 'Bob', '+958758767': 'Alice'}"
      ]
     },
     "execution_count": 10,
     "metadata": {},
     "output_type": "execute_result"
    }
   ],
   "source": [
    "users_tl = (\n",
    "    [\"+111123455\", \"Tom\"],\n",
    "    [\"+384767557\", \"Bob\"],\n",
    "    [\"+958758767\", \"Alice\"]\n",
    ")\n",
    "dict(users_tl)"
   ]
  },
  {
   "cell_type": "markdown",
   "id": "2fde877f",
   "metadata": {},
   "source": [
    "Словарь из словаря."
   ]
  },
  {
   "cell_type": "code",
   "execution_count": 11,
   "id": "5b3a483c",
   "metadata": {},
   "outputs": [
    {
     "name": "stdout",
     "output_type": "stream",
     "text": [
      "{'+111123455': 'Tom', '+384767557': 'Bob', '+958758767': 'Alice'}\n",
      "{'+111123455': 'Tom', '+384767557': 'Bob', '+958758767': 'Alice'}\n",
      "82313472 82316992\n"
     ]
    }
   ],
   "source": [
    "d1 = {'+111123455': 'Tom', \n",
    "      '+384767557': 'Bob', \n",
    "      '+958758767': 'Alice'}\n",
    "d2 = dict(d1)\n",
    "\n",
    "print(d1)\n",
    "print(d2)\n",
    "print(id(d1), id(d2))"
   ]
  },
  {
   "cell_type": "markdown",
   "id": "82d9cd80",
   "metadata": {},
   "source": [
    "Все следующие выражения возвращают словарь `{\"one\": 1, \"two\": 2, \"three\": 3}`"
   ]
  },
  {
   "cell_type": "code",
   "execution_count": 12,
   "id": "b650b374",
   "metadata": {},
   "outputs": [
    {
     "data": {
      "text/plain": [
       "True"
      ]
     },
     "execution_count": 12,
     "metadata": {},
     "output_type": "execute_result"
    }
   ],
   "source": [
    "a = dict(one=1, two=2, three=3)\n",
    "b = {'one': 1, 'two': 2, 'three': 3}\n",
    "c = dict(zip(['one', 'two', 'three'], [1, 2, 3]))\n",
    "d = dict([('two', 2), ('one', 1), ('three', 3)])\n",
    "e = dict({'three': 3, 'one': 1, 'two': 2})\n",
    "\n",
    "a == b == c == d == e"
   ]
  },
  {
   "cell_type": "markdown",
   "id": "261d5e3f",
   "metadata": {},
   "source": [
    "#### Кобинация позиционных и ключевых аргументов"
   ]
  },
  {
   "cell_type": "code",
   "execution_count": 13,
   "id": "2696ef1e",
   "metadata": {},
   "outputs": [
    {
     "data": {
      "text/plain": [
       "{'one': 1, 'two': 2, 'ten': 10}"
      ]
     },
     "execution_count": 13,
     "metadata": {},
     "output_type": "execute_result"
    }
   ],
   "source": [
    "dict([('one', 1), ('two', 2)], \n",
    "     ten=10)"
   ]
  },
  {
   "cell_type": "code",
   "execution_count": 14,
   "id": "5b260c01",
   "metadata": {},
   "outputs": [
    {
     "data": {
      "text/plain": [
       "{'three': 10, 'one': 1, 'two': 2, 'four': 4}"
      ]
     },
     "execution_count": 14,
     "metadata": {},
     "output_type": "execute_result"
    }
   ],
   "source": [
    "dict({'three': 3, 'one': 1, 'two': 2},\n",
    "    three=10,\n",
    "    four=4)"
   ]
  },
  {
   "cell_type": "markdown",
   "id": "3c1ed19c",
   "metadata": {},
   "source": [
    "### Различия в синтаксисе между `{}` и `dict()`"
   ]
  },
  {
   "cell_type": "markdown",
   "id": "1ec994d0",
   "metadata": {},
   "source": [
    "\n",
    "1. Пустой словарь: `{}` или `dict()`\n",
    "\n",
    "2. Ключ - значение: в `{}` это `:` , а в `dict()` это `=`\n",
    "\n",
    "3. Ключ в `{}` не может быть строкой без кавычек!\n",
    "\n",
    "4. Ключ в `dict()` не может быть строкой в кавычках. Тут же правило называния ключа такое же как у переменной (не начинать с цифры).\n",
    "\n",
    "5. Словарь можно задать через список перемещенный в `dict()`."
   ]
  },
  {
   "cell_type": "markdown",
   "id": "b22cb4e0",
   "metadata": {},
   "source": [
    "### C помощью метода `fromkeys`\n",
    "\n",
    "Синтаксис:\n",
    "```python\n",
    "dict.fromkeys(iterable[, value])\n",
    "```\n",
    "\n",
    "Параметры:\n",
    "* `iterable` - итерируемая последовательность\n",
    "* `value` - значение по умолчанию; если не указано, то `None`"
   ]
  },
  {
   "cell_type": "code",
   "execution_count": 15,
   "id": "9ecc15a8",
   "metadata": {},
   "outputs": [
    {
     "data": {
      "text/plain": [
       "{'one': None, 'two': None, 'three': None, 'four': None}"
      ]
     },
     "execution_count": 15,
     "metadata": {},
     "output_type": "execute_result"
    }
   ],
   "source": [
    "x = dict.fromkeys(['one', 'two', 'three', 'four'])\n",
    "x"
   ]
  },
  {
   "cell_type": "code",
   "execution_count": 16,
   "id": "1961740e",
   "metadata": {},
   "outputs": [
    {
     "data": {
      "text/plain": [
       "{'one': 1234, 'two': 1234, 'three': 1234, 'four': 1234}"
      ]
     },
     "execution_count": 16,
     "metadata": {},
     "output_type": "execute_result"
    }
   ],
   "source": [
    "x = dict.fromkeys(['one', 'two', 'three', 'four'], 1234)\n",
    "x"
   ]
  },
  {
   "cell_type": "markdown",
   "id": "8b8545d9",
   "metadata": {},
   "source": [
    "Воспроизведение метода `fromkeys` генератором словаря."
   ]
  },
  {
   "cell_type": "code",
   "execution_count": 17,
   "id": "92e90d94",
   "metadata": {},
   "outputs": [
    {
     "data": {
      "text/plain": [
       "{'key1': 0, 'key2': 0, 'key3': 0, 'key4': 0, 'key5': 0}"
      ]
     },
     "execution_count": 17,
     "metadata": {},
     "output_type": "execute_result"
    }
   ],
   "source": [
    "keys = ['key1', 'key2', 'key3', 'key4', 'key5']\n",
    "def_val = 0\n",
    "{key: def_val for key in keys}"
   ]
  },
  {
   "cell_type": "markdown",
   "id": "1ff73a7a",
   "metadata": {},
   "source": [
    "*Пример*: есть список с повторяющимися значениями и необходимо узнать сколько раз какой элемент повторяется в этом списке. Результат получим в виде словаря, где уникальный элемент списка будет ключом, а количество повторений - значением."
   ]
  },
  {
   "cell_type": "code",
   "execution_count": 18,
   "id": "89e58cc9",
   "metadata": {},
   "outputs": [
    {
     "name": "stdout",
     "output_type": "stream",
     "text": [
      "{1, 3, 7, 9, 13}\n",
      "{1: 0, 3: 0, 7: 0, 9: 0, 13: 0}\n",
      "{1: 4, 3: 2, 7: 3, 9: 2, 13: 1}\n"
     ]
    }
   ],
   "source": [
    "# имеем список \n",
    "lst = [9, 13, 1, 3, 7, 3, 1, 1, 7, 1, 7, 9]\n",
    "\n",
    "# создаем ключи будущего словаря (множество set() \n",
    "# может иметь только уникальные элементы)\n",
    "key = set(lst)\n",
    "print(key)\n",
    "\n",
    "# создаем словарь с ключами и началными счетчиками, установленными в 0\n",
    "d = dict.fromkeys(key, 0)\n",
    "print(d)\n",
    "\n",
    "for x in lst:\n",
    "    d[x] += 1\n",
    "    \n",
    "print(d)"
   ]
  },
  {
   "cell_type": "markdown",
   "id": "135fc22a",
   "metadata": {},
   "source": [
    "### С помощью генераторов словарей"
   ]
  },
  {
   "cell_type": "code",
   "execution_count": 19,
   "id": "1fe18853",
   "metadata": {},
   "outputs": [
    {
     "data": {
      "text/plain": [
       "{0: 0, 1: 1, 2: 4, 3: 9, 4: 16, 5: 25, 6: 36}"
      ]
     },
     "execution_count": 19,
     "metadata": {},
     "output_type": "execute_result"
    }
   ],
   "source": [
    "{a: a ** 2 for a in range(7)}"
   ]
  },
  {
   "cell_type": "markdown",
   "id": "c4eedbc0",
   "metadata": {},
   "source": [
    "#### Создание словаря из двух колекций"
   ]
  },
  {
   "cell_type": "code",
   "execution_count": 20,
   "id": "1764b5fd",
   "metadata": {},
   "outputs": [
    {
     "data": {
      "text/plain": [
       "{'a': 1, 'b': 2, 'c': 3}"
      ]
     },
     "execution_count": 20,
     "metadata": {},
     "output_type": "execute_result"
    }
   ],
   "source": [
    "# словарь генерируется из 2-х списков\n",
    "{x: y for x, y in zip(['a', 'b', 'c'], [1, 2, 3])}"
   ]
  },
  {
   "cell_type": "code",
   "execution_count": 21,
   "id": "04fa5a6a",
   "metadata": {},
   "outputs": [
    {
     "data": {
      "text/plain": [
       "{'a': 1, 'b': 2, 'c': 3}"
      ]
     },
     "execution_count": 21,
     "metadata": {},
     "output_type": "execute_result"
    }
   ],
   "source": [
    "# из тупля и листа\n",
    "{x: y for x, y in zip(('a', 'b', 'c'), [1, 2, 3])}"
   ]
  },
  {
   "cell_type": "code",
   "execution_count": 22,
   "id": "c3fc5b8c",
   "metadata": {},
   "outputs": [
    {
     "data": {
      "text/plain": [
       "{('1', 'a'): '1a', ('2', 'b'): '2b', ('3', 'c'): '3c'}"
      ]
     },
     "execution_count": 22,
     "metadata": {},
     "output_type": "execute_result"
    }
   ],
   "source": [
    "{(x, y): x + y for x, y in zip('123', 'abc')}"
   ]
  },
  {
   "cell_type": "markdown",
   "id": "7c71a481",
   "metadata": {},
   "source": [
    "*Пример*: поменять местами ключ и значение."
   ]
  },
  {
   "cell_type": "code",
   "execution_count": 23,
   "id": "256f9e37",
   "metadata": {
    "scrolled": true
   },
   "outputs": [
    {
     "data": {
      "text/plain": [
       "{1: 'a', 2: 'b', 3: 'c', 4: 'd', 5: 'e'}"
      ]
     },
     "execution_count": 23,
     "metadata": {},
     "output_type": "execute_result"
    }
   ],
   "source": [
    "d = {'a': 1, 'b': 2, 'c': 3, 'd': 4, 'e': 5}\n",
    "{y: x for x, y in d.items()}"
   ]
  },
  {
   "cell_type": "markdown",
   "id": "10cf571f",
   "metadata": {},
   "source": [
    "*Пример*: Фильтровать словарь по ключу и/или значению."
   ]
  },
  {
   "cell_type": "code",
   "execution_count": 24,
   "id": "5ba77f16",
   "metadata": {},
   "outputs": [
    {
     "data": {
      "text/plain": [
       "{'c': 3, 'e': 5}"
      ]
     },
     "execution_count": 24,
     "metadata": {},
     "output_type": "execute_result"
    }
   ],
   "source": [
    "d = {'a': 1, 'b': 2, 'c': 3, 'd': 4, 'e': 5}\n",
    "\n",
    "# отберем элементы словаря, ключи которых имеют значения 'a' или \n",
    "# 'c' или 'e', а значения этих ключей должны быть больше 1 \n",
    "\n",
    "{key: val for key, val in d.items() if key in ('a', 'c', 'e') and val > 1}"
   ]
  },
  {
   "cell_type": "markdown",
   "id": "717bf9be",
   "metadata": {},
   "source": [
    "*Пример*: Удалить дубликаты словарей из списка с определенным одинаковым ключом."
   ]
  },
  {
   "cell_type": "code",
   "execution_count": 25,
   "id": "8fcbcc6c",
   "metadata": {},
   "outputs": [
    {
     "data": {
      "text/plain": [
       "[{'uuid': 0, 'nik': 'alex', 'years': 13},\n",
       " {'uuid': 1, 'nik': 'jack', 'birthday': 10},\n",
       " {'uuid': 3, 'nik': 'lily', 'birthday': 5},\n",
       " {'uuid': 4, 'nik': 'moo', 'birthday': 9}]"
      ]
     },
     "execution_count": 25,
     "metadata": {},
     "output_type": "execute_result"
    }
   ],
   "source": [
    "data = [\n",
    "{'uuid': 0, 'nik': 'alex', 'years': 13},\n",
    "{'uuid': 1, 'nik': 'fred', 'birthday': 15},\n",
    "{'uuid': 1, 'nik': 'joy', 'birthday': 8},\n",
    "{'uuid': 3, 'nik': 'lily', 'birthday': 5},\n",
    "{'uuid': 4, 'nik': 'moo', 'birthday': 9},\n",
    "{'uuid': 1, 'nik': 'jack', 'birthday': 10},\n",
    "]\n",
    "\n",
    "new_data = {d['uuid']: d for d in data}.values()\n",
    "list(new_data)"
   ]
  },
  {
   "cell_type": "code",
   "execution_count": null,
   "id": "e23a884e",
   "metadata": {},
   "outputs": [],
   "source": []
  },
  {
   "cell_type": "markdown",
   "id": "9793dfe4",
   "metadata": {},
   "source": [
    "## Основные операции со словарями"
   ]
  },
  {
   "cell_type": "markdown",
   "id": "fc60f844",
   "metadata": {},
   "source": [
    "### Извлечение значения по ключу"
   ]
  },
  {
   "cell_type": "markdown",
   "id": "08cab739",
   "metadata": {},
   "source": [
    "#### Обращение по ключу"
   ]
  },
  {
   "cell_type": "code",
   "execution_count": 26,
   "id": "3f87b791",
   "metadata": {},
   "outputs": [
    {
     "data": {
      "text/plain": [
       "2"
      ]
     },
     "execution_count": 26,
     "metadata": {},
     "output_type": "execute_result"
    }
   ],
   "source": [
    "d = {'a': 1, 'b': 2, 'c': 3, 'd': 4, 'e': 5}\n",
    "d['b']"
   ]
  },
  {
   "cell_type": "markdown",
   "id": "0009ef29",
   "metadata": {},
   "source": [
    "Извлечение значения с помощью несуществующего ключа является ошибкой. Если ошибки при извлечении значений не желательны, то необходимо использовать метод словаря `dict.get()`.\n",
    "```python\n",
    "d['bbb']\n",
    "\n",
    "KeyError: 'bbb'\n",
    "```"
   ]
  },
  {
   "cell_type": "markdown",
   "id": "abe07aa7",
   "metadata": {},
   "source": [
    "#### Метод `dict.get()`\n",
    "\n",
    "Извлечение значения по ключу со значением по умолчанию (если такого ключа нет). Метод `dict.get()` возвращает `None` или указанное значение по умолчанию, если ключа не существует.\n",
    "\n",
    "Синтаксис:\n",
    "```python\n",
    "dict.get(key[, default])\n",
    "```\n",
    "Параметры:\n",
    "* `key` - ключ словаря\n",
    "* `default` - значение по умолчанию\n",
    "\n",
    "Возвращаемое значение:\n",
    "значение ключа `key` или `default` если ключа нет.\n",
    "\n",
    "Если значение `default` не задано и ключ `key` не найден, то метод вернет значение `None`.\n",
    "\n",
    "Метод `dict.get()` никогда не вызывает исключение `KeyError`, как это происходит в операции получения значения словаря по ключу `dict[key]`."
   ]
  },
  {
   "cell_type": "code",
   "execution_count": 27,
   "id": "1a1ba8a4",
   "metadata": {},
   "outputs": [
    {
     "data": {
      "text/plain": [
       "2"
      ]
     },
     "execution_count": 27,
     "metadata": {},
     "output_type": "execute_result"
    }
   ],
   "source": [
    "x = {'one': 1, 'two': 2, 'three': 3, 'four': 4}\n",
    "x.get('two', 0)"
   ]
  },
  {
   "cell_type": "code",
   "execution_count": 28,
   "id": "740054b8",
   "metadata": {},
   "outputs": [
    {
     "data": {
      "text/plain": [
       "4"
      ]
     },
     "execution_count": 28,
     "metadata": {},
     "output_type": "execute_result"
    }
   ],
   "source": [
    "x.get('four', 0)"
   ]
  },
  {
   "cell_type": "code",
   "execution_count": 29,
   "id": "563eea0d",
   "metadata": {},
   "outputs": [
    {
     "data": {
      "text/plain": [
       "0"
      ]
     },
     "execution_count": 29,
     "metadata": {},
     "output_type": "execute_result"
    }
   ],
   "source": [
    "x.get('ten', 0)"
   ]
  },
  {
   "cell_type": "code",
   "execution_count": 30,
   "id": "bda5fc35",
   "metadata": {},
   "outputs": [],
   "source": [
    "x.get('six')"
   ]
  },
  {
   "cell_type": "code",
   "execution_count": 31,
   "id": "1ceeff11",
   "metadata": {},
   "outputs": [
    {
     "name": "stdout",
     "output_type": "stream",
     "text": [
      "None\n"
     ]
    }
   ],
   "source": [
    "print(x.get('six'))"
   ]
  },
  {
   "cell_type": "markdown",
   "id": "06e8461e",
   "metadata": {},
   "source": [
    "См. также для сранения [Метод dict.setdefault()](#Метод-dict.setdefault()). Если ключ отсутвсвует в словаре, то в словарь будет вставлено дефолтное значение."
   ]
  },
  {
   "cell_type": "markdown",
   "id": "29a2cd4e",
   "metadata": {},
   "source": [
    "*Пример*:\n",
    "\n",
    "Метод `dict.get()` можно применить, например, для подсчета количества одинаковых элементов последовательности. Допустим есть список чисел или слов (символов) или то и другое и необходимо узнать, сколько раз КАЖДЫЙ элемент встречается в этом списке. Для решения этой задачи создадим пустой словарь, в который будем добавлять в качестве ключа - элемент списка (словари, в качестве ключа могут принимать неизменяемые значения), а в качестве значения будет количество появлений этого элемента в списке."
   ]
  },
  {
   "cell_type": "code",
   "execution_count": 32,
   "id": "2badddaf",
   "metadata": {},
   "outputs": [
    {
     "name": "stdout",
     "output_type": "stream",
     "text": [
      "{9: 2, 13: 1, 1: 4, 3: 2, 7: 3}\n",
      "{1: 4, 7: 3, 9: 2, 3: 2, 13: 1}\n"
     ]
    }
   ],
   "source": [
    "# имеем список \n",
    "lst = [9, 13, 1, 3, 7, 3, 1, 1, 7, 1, 7, 9]\n",
    "\n",
    "# создаем пустой словарь\n",
    "rez = {}\n",
    "\n",
    "# в процессе итерации по списку\n",
    "for el in lst:\n",
    "    # проверяем есть ли в словаре ключ с элементом `el`\n",
    "    if rez.get(el, None):\n",
    "        # если есть, то увеличиваем счетчик с этим ключом не 1\n",
    "        rez[el] += 1\n",
    "    else:\n",
    "        # если нет, то создаем такой ключ со значением, равным 1\n",
    "        rez[el] = 1\n",
    "\n",
    "# смотрим что получилось\n",
    "print(rez)\n",
    "\n",
    "# чтобы было нагляднее, можно отсортировать словарь\n",
    "# по значению (количеству появлений элементов в списке)\n",
    "rez_sorted = sorted(rez.items(), key=lambda x: x[1], reverse=True)\n",
    "print(dict(rez_sorted))"
   ]
  },
  {
   "cell_type": "markdown",
   "id": "7e19dd63",
   "metadata": {},
   "source": [
    "### Добавление элементов в словарь\n",
    "\n",
    "Если в словарь добавляется новый ключ, который уже используется, старое значение, связанное с этим ключом, будет забыто."
   ]
  },
  {
   "cell_type": "code",
   "execution_count": 33,
   "id": "390e98e2",
   "metadata": {},
   "outputs": [
    {
     "data": {
      "text/plain": [
       "{'a': 1, 'b': 2, 'c': 3, 'd': 4, 'e': 5, 'f': 6}"
      ]
     },
     "execution_count": 33,
     "metadata": {},
     "output_type": "execute_result"
    }
   ],
   "source": [
    "d = {'a': 1, 'b': 2, 'c': 3, 'd': 4, 'e': 5}\n",
    "d['f'] = 6\n",
    "d"
   ]
  },
  {
   "cell_type": "code",
   "execution_count": 34,
   "id": "e5d3a913",
   "metadata": {},
   "outputs": [
    {
     "data": {
      "text/plain": [
       "{'a': 7, 'b': 2, 'c': 3, 'd': 4, 'e': 5}"
      ]
     },
     "execution_count": 34,
     "metadata": {},
     "output_type": "execute_result"
    }
   ],
   "source": [
    "d = {'a': 1, 'b': 2, 'c': 3, 'd': 4, 'e': 5}\n",
    "d['a'] = 7\n",
    "d"
   ]
  },
  {
   "cell_type": "markdown",
   "id": "fdc09e12",
   "metadata": {},
   "source": [
    "### Изменение значений ключей в словаре"
   ]
  },
  {
   "cell_type": "code",
   "execution_count": 35,
   "id": "6ff49551",
   "metadata": {},
   "outputs": [
    {
     "data": {
      "text/plain": [
       "{'a': 10, 'b': 2, 'c': 3, 'd': 4, 'e': 5}"
      ]
     },
     "execution_count": 35,
     "metadata": {},
     "output_type": "execute_result"
    }
   ],
   "source": [
    "d = {'a': 1, 'b': 2, 'c': 3, 'd': 4, 'e': 5}\n",
    "d['a'] = 10\n",
    "d"
   ]
  },
  {
   "cell_type": "code",
   "execution_count": null,
   "id": "41305497",
   "metadata": {},
   "outputs": [],
   "source": []
  },
  {
   "cell_type": "code",
   "execution_count": null,
   "id": "579b7baa",
   "metadata": {},
   "outputs": [],
   "source": []
  },
  {
   "cell_type": "markdown",
   "id": "e41a261f",
   "metadata": {},
   "source": [
    "### Удаление элементов словаря"
   ]
  },
  {
   "cell_type": "code",
   "execution_count": 36,
   "id": "da2b59e4",
   "metadata": {},
   "outputs": [
    {
     "data": {
      "text/plain": [
       "{'a': 1, 'b': 2, 'c': 3, 'd': 4}"
      ]
     },
     "execution_count": 36,
     "metadata": {},
     "output_type": "execute_result"
    }
   ],
   "source": [
    "d = {'a': 1, 'b': 2, 'c': 3, 'd': 4, 'e': 5}\n",
    "del d['e']\n",
    "d"
   ]
  },
  {
   "cell_type": "markdown",
   "id": "b6119648",
   "metadata": {},
   "source": [
    "### Вхождение в словарь\n",
    "\n",
    "Проверка только по ключам"
   ]
  },
  {
   "cell_type": "code",
   "execution_count": 37,
   "id": "e267b0f7",
   "metadata": {},
   "outputs": [
    {
     "data": {
      "text/plain": [
       "True"
      ]
     },
     "execution_count": 37,
     "metadata": {},
     "output_type": "execute_result"
    }
   ],
   "source": [
    "d = {'a': 1, 'b': 2, 'c': 3, 'd': 4, 'e': 5}\n",
    "\n",
    "'b' in d"
   ]
  },
  {
   "cell_type": "code",
   "execution_count": 38,
   "id": "e0ca1b81",
   "metadata": {},
   "outputs": [
    {
     "data": {
      "text/plain": [
       "False"
      ]
     },
     "execution_count": 38,
     "metadata": {},
     "output_type": "execute_result"
    }
   ],
   "source": [
    "'bbb' in d"
   ]
  },
  {
   "cell_type": "code",
   "execution_count": 39,
   "id": "4faa8901",
   "metadata": {},
   "outputs": [
    {
     "data": {
      "text/plain": [
       "False"
      ]
     },
     "execution_count": 39,
     "metadata": {},
     "output_type": "execute_result"
    }
   ],
   "source": [
    "2 in d"
   ]
  },
  {
   "cell_type": "markdown",
   "id": "8833561d",
   "metadata": {},
   "source": [
    "### Длина словаря"
   ]
  },
  {
   "cell_type": "code",
   "execution_count": 40,
   "id": "8fe34824",
   "metadata": {},
   "outputs": [
    {
     "data": {
      "text/plain": [
       "5"
      ]
     },
     "execution_count": 40,
     "metadata": {},
     "output_type": "execute_result"
    }
   ],
   "source": [
    "d = {'a': 1, 'b': 2, 'c': 3, 'd': 4, 'e': 5}\n",
    "\n",
    "len(d)"
   ]
  },
  {
   "cell_type": "markdown",
   "id": "e1bdaee9",
   "metadata": {},
   "source": [
    "## Списки-представления словаря\n",
    "\n",
    "Словарь содержит очень полезные методы, которые называются списки-представления \n",
    "* `dict.keys()` -- представление ключей словаря, \n",
    "* `dict.values()`-- представление значений словаря, \n",
    "* `dict.items()` -- список-представление в виде кортежа (key, value), \n",
    "\n",
    "которые изменяются динамически. Это значит, что все изменения, такие как удаление, изменение или добавление значений в словаре сразу отражаются на соответствующем представлении.\n",
    "\n",
    "Представления словаря могут быть использованы для перебора в цикле для получения соответствующих значений и проверки на вхождение/принадлежность элементов к представлению."
   ]
  },
  {
   "cell_type": "markdown",
   "id": "19bc777f",
   "metadata": {},
   "source": [
    "Порядок ключей `dict.keys()` и значений `dict.values()` словаря гарантированно являются порядком вставки в словарь. Это позволяет создавать такие пары как `(value, key)`."
   ]
  },
  {
   "cell_type": "code",
   "execution_count": 41,
   "id": "47c12ac2",
   "metadata": {},
   "outputs": [
    {
     "name": "stdout",
     "output_type": "stream",
     "text": [
      "{1: 1, 2: 2, 3: 3}\n",
      "[(1, 1), (2, 2), (3, 3)]\n",
      "[(1, 1), (2, 2), (3, 3)]\n"
     ]
    }
   ],
   "source": [
    "d = {1: 1, 2: 2, 3: 3}\n",
    "\n",
    "# С помощью функции `zip()`\n",
    "pairs1 = zip(d.values(), d.keys())\n",
    "\n",
    "# С помощью выражения списка\n",
    "pairs2 = [(v, k) for (k, v) in d.items()]\n",
    "\n",
    "print(d)\n",
    "print(list(pairs1))\n",
    "print(pairs2)"
   ]
  },
  {
   "cell_type": "markdown",
   "id": "47ed071a",
   "metadata": {},
   "source": [
    "Представления словарей поддерживают операции:\n",
    "\n",
    "* `len(dictview)`:\n",
    "вернет количество записей в словаре.\n",
    "\n",
    "* `iter(dictview)`:\n",
    "возвращает итератор по ключам `dict.keys()`, значениям `dict.values()` или элементам `dict.items()`. В последнем случае представление будет в виде списка кортежей `(key, value)`. Итераторы представлений при добавлении или удалении записей в словаре могут вызвать ошибку `RuntimeError` или не выполнить итерацию по всем записям.\n",
    "\n",
    "* `x in dictview`:\n",
    "вернет `True` если значение элемента `x` присутствует в представлении ключей, значений или элементов словаря. В последнем случае `x` должен быть кортежем `(key, value)`.\n",
    "\n",
    "* `reversed(dictview)`:\n",
    "вернет обратный итератор по ключам, значениям или элементам словаря. Представление будет повторяться в обратном порядке вставки.\n",
    "\n",
    "* `dictview.mapping`\n",
    "Атрибут представления словаря `dictview.mapping` возвращает `types.MappingProxyType`, который обертывает исходный словарь, на который ссылается представление."
   ]
  },
  {
   "cell_type": "markdown",
   "id": "f3afd138",
   "metadata": {},
   "source": [
    "### `dict.keys()`\n",
    "\n",
    "возвращает новый список-представление всех ключей `dict_keys`, содержащихся в словаре dict.\n",
    "\n",
    "Список-представление ключей dict_keys, является динамичным объектом. Это значит, что все изменения, такие как удаление или добавление ключей в словаре сразу отражаются на этом представлении."
   ]
  },
  {
   "cell_type": "code",
   "execution_count": 42,
   "id": "cae7f9c2",
   "metadata": {},
   "outputs": [
    {
     "data": {
      "text/plain": [
       "dict_keys(['one', 'two', 'three', 'four'])"
      ]
     },
     "execution_count": 42,
     "metadata": {},
     "output_type": "execute_result"
    }
   ],
   "source": [
    "x = {'one': 1, 'two': 2, 'three': 3, 'four': 4}\n",
    "keys = x.keys()\n",
    "keys"
   ]
  },
  {
   "cell_type": "code",
   "execution_count": 43,
   "id": "3bbcfaa7",
   "metadata": {},
   "outputs": [
    {
     "data": {
      "text/plain": [
       "['one', 'two', 'three', 'four']"
      ]
     },
     "execution_count": 43,
     "metadata": {},
     "output_type": "execute_result"
    }
   ],
   "source": [
    "list(keys)"
   ]
  },
  {
   "cell_type": "markdown",
   "id": "2df900af",
   "metadata": {},
   "source": [
    "Производим операции со словарем `x`, а все отражается на списке-представлении `keys`"
   ]
  },
  {
   "cell_type": "code",
   "execution_count": 44,
   "id": "77ce442f",
   "metadata": {},
   "outputs": [
    {
     "data": {
      "text/plain": [
       "dict_keys(['one', 'two', 'three', 'four', 'ten'])"
      ]
     },
     "execution_count": 44,
     "metadata": {},
     "output_type": "execute_result"
    }
   ],
   "source": [
    "x['ten'] = 10\n",
    "keys"
   ]
  },
  {
   "cell_type": "code",
   "execution_count": 45,
   "id": "7218bfe5",
   "metadata": {},
   "outputs": [
    {
     "data": {
      "text/plain": [
       "dict_keys(['one', 'two', 'four', 'ten'])"
      ]
     },
     "execution_count": 45,
     "metadata": {},
     "output_type": "execute_result"
    }
   ],
   "source": [
    "del x['three']\n",
    "keys"
   ]
  },
  {
   "cell_type": "markdown",
   "id": "5abba4aa",
   "metadata": {},
   "source": [
    "Новое в версии 3.10\n",
    "\n",
    "Представления `dict.keys()`поддерживает операции, доступные для множеств `set`"
   ]
  },
  {
   "cell_type": "code",
   "execution_count": 46,
   "id": "5d6e7ce4",
   "metadata": {},
   "outputs": [
    {
     "data": {
      "text/plain": [
       "{'bacon', 'eggs'}"
      ]
     },
     "execution_count": 46,
     "metadata": {},
     "output_type": "execute_result"
    }
   ],
   "source": [
    "dishes = {'eggs': 2, 'sausage': 1, 'bacon': 1, 'spam': 500}\n",
    "\n",
    "keys = dishes.keys()\n",
    "\n",
    "keys & {'eggs', 'bacon', 'salad'}"
   ]
  },
  {
   "cell_type": "code",
   "execution_count": 47,
   "id": "e393c23d",
   "metadata": {},
   "outputs": [
    {
     "data": {
      "text/plain": [
       "{'bacon', 'eggs', 'juice', 'spam'}"
      ]
     },
     "execution_count": 47,
     "metadata": {},
     "output_type": "execute_result"
    }
   ],
   "source": [
    "keys ^ {'sausage', 'juice'}"
   ]
  },
  {
   "cell_type": "markdown",
   "id": "e6303a8e",
   "metadata": {},
   "source": [
    "Вхождение в ключи словаря."
   ]
  },
  {
   "cell_type": "code",
   "execution_count": 48,
   "id": "e45d8fe6",
   "metadata": {},
   "outputs": [
    {
     "data": {
      "text/plain": [
       "True"
      ]
     },
     "execution_count": 48,
     "metadata": {},
     "output_type": "execute_result"
    }
   ],
   "source": [
    "'one' in x.keys()"
   ]
  },
  {
   "cell_type": "markdown",
   "id": "3e928ef3",
   "metadata": {},
   "source": [
    "### `dict.values()`\n",
    "\n",
    "Возвращает новый список-представление всех значений `dict_values`, содержащихся в словаре `dict`.\n",
    "\n",
    "Список-представление значений `dict_values`, является динамичным объектом. Это значит, что все изменения, такие как удаление, изменение или добавление значений в словаре сразу отражаются на этом представлении."
   ]
  },
  {
   "cell_type": "code",
   "execution_count": 49,
   "id": "c4363250",
   "metadata": {},
   "outputs": [
    {
     "data": {
      "text/plain": [
       "dict_values([1, 2, 3, 4])"
      ]
     },
     "execution_count": 49,
     "metadata": {},
     "output_type": "execute_result"
    }
   ],
   "source": [
    "x = {'one': 1, 'two': 2, 'three': 3, 'four': 4}\n",
    "values = x.values()\n",
    "values"
   ]
  },
  {
   "cell_type": "code",
   "execution_count": 50,
   "id": "e77dbc1a",
   "metadata": {},
   "outputs": [
    {
     "data": {
      "text/plain": [
       "[1, 2, 3, 4]"
      ]
     },
     "execution_count": 50,
     "metadata": {},
     "output_type": "execute_result"
    }
   ],
   "source": [
    "list(values)"
   ]
  },
  {
   "cell_type": "code",
   "execution_count": 51,
   "id": "fed3bbb4",
   "metadata": {},
   "outputs": [
    {
     "data": {
      "text/plain": [
       "dict_values([0, 2, 3, 4])"
      ]
     },
     "execution_count": 51,
     "metadata": {},
     "output_type": "execute_result"
    }
   ],
   "source": [
    "x['one'] = 0\n",
    "values"
   ]
  },
  {
   "cell_type": "code",
   "execution_count": 52,
   "id": "5fa3ca75",
   "metadata": {},
   "outputs": [
    {
     "data": {
      "text/plain": [
       "dict_values([0, 2, 3, 4, 10])"
      ]
     },
     "execution_count": 52,
     "metadata": {},
     "output_type": "execute_result"
    }
   ],
   "source": [
    "x['ten'] = 10\n",
    "values"
   ]
  },
  {
   "cell_type": "code",
   "execution_count": 53,
   "id": "8806e24f",
   "metadata": {},
   "outputs": [
    {
     "data": {
      "text/plain": [
       "dict_values([0, 2, 4, 10])"
      ]
     },
     "execution_count": 53,
     "metadata": {},
     "output_type": "execute_result"
    }
   ],
   "source": [
    "del x['three']\n",
    "values"
   ]
  },
  {
   "cell_type": "markdown",
   "id": "4d80a61e",
   "metadata": {},
   "source": [
    "Сравнение на равенство между одним представлением `dict.values()` и другим всегда вернется `False`. Это также относится и к сравнению с самим собой:"
   ]
  },
  {
   "cell_type": "code",
   "execution_count": 54,
   "id": "8fa4d69b",
   "metadata": {},
   "outputs": [
    {
     "data": {
      "text/plain": [
       "False"
      ]
     },
     "execution_count": 54,
     "metadata": {},
     "output_type": "execute_result"
    }
   ],
   "source": [
    "d = {'a': 1}\n",
    "d.values() == d.values()"
   ]
  },
  {
   "cell_type": "markdown",
   "id": "f84a55af",
   "metadata": {},
   "source": [
    "Вхождение в значение словаря."
   ]
  },
  {
   "cell_type": "code",
   "execution_count": 55,
   "id": "d542878e",
   "metadata": {},
   "outputs": [
    {
     "data": {
      "text/plain": [
       "False"
      ]
     },
     "execution_count": 55,
     "metadata": {},
     "output_type": "execute_result"
    }
   ],
   "source": [
    "1 in x.values()"
   ]
  },
  {
   "cell_type": "markdown",
   "id": "d54dce33",
   "metadata": {},
   "source": [
    "### `dict.items()`\n",
    "Возвращает новый список-представление `dict_items` пар элементов словаря `dict`, такой как `(key, value)` Другими словами возвращает список кортежей вида `(key, value)`, состоящий из элементов словаря.\n",
    "\n",
    "Список-представление `dict_items`, является динамичным объектом. Это значит, что все изменения в словаре сразу отражаются на этом представлении."
   ]
  },
  {
   "cell_type": "code",
   "execution_count": 56,
   "id": "20431888",
   "metadata": {},
   "outputs": [
    {
     "data": {
      "text/plain": [
       "dict_items([('one', 1), ('two', 2), ('three', 3), ('four', 4)])"
      ]
     },
     "execution_count": 56,
     "metadata": {},
     "output_type": "execute_result"
    }
   ],
   "source": [
    "x = {'one': 1, 'two': 2, 'three': 3, 'four': 4}\n",
    "items = x.items()\n",
    "items"
   ]
  },
  {
   "cell_type": "code",
   "execution_count": 57,
   "id": "7a921ba4",
   "metadata": {},
   "outputs": [
    {
     "data": {
      "text/plain": [
       "[('one', 1), ('two', 2), ('three', 3), ('four', 4)]"
      ]
     },
     "execution_count": 57,
     "metadata": {},
     "output_type": "execute_result"
    }
   ],
   "source": [
    "list(items)"
   ]
  },
  {
   "cell_type": "markdown",
   "id": "3a03f524",
   "metadata": {},
   "source": [
    "Производим операции со словарем `x`, а все  отражается на списке-представлении `dict_items`"
   ]
  },
  {
   "cell_type": "code",
   "execution_count": 58,
   "id": "cc61eaff",
   "metadata": {},
   "outputs": [
    {
     "data": {
      "text/plain": [
       "dict_items([('one', 0), ('two', 2), ('three', 3), ('four', 4)])"
      ]
     },
     "execution_count": 58,
     "metadata": {},
     "output_type": "execute_result"
    }
   ],
   "source": [
    "x['one'] = 0\n",
    "items"
   ]
  },
  {
   "cell_type": "code",
   "execution_count": 59,
   "id": "a89f00c2",
   "metadata": {},
   "outputs": [
    {
     "data": {
      "text/plain": [
       "dict_items([('one', 0), ('two', 2), ('three', 3), ('four', 4), ('ten', 10)])"
      ]
     },
     "execution_count": 59,
     "metadata": {},
     "output_type": "execute_result"
    }
   ],
   "source": [
    "x['ten'] = 10\n",
    "items"
   ]
  },
  {
   "cell_type": "code",
   "execution_count": 60,
   "id": "5f9902f3",
   "metadata": {},
   "outputs": [
    {
     "data": {
      "text/plain": [
       "dict_items([('one', 0), ('two', 2), ('four', 4), ('ten', 10)])"
      ]
     },
     "execution_count": 60,
     "metadata": {},
     "output_type": "execute_result"
    }
   ],
   "source": [
    "del x['three']\n",
    "items"
   ]
  },
  {
   "cell_type": "markdown",
   "id": "a2ad34ce",
   "metadata": {},
   "source": [
    "Новое в версии 3.10\n",
    "\n",
    "Представления `dict.items()` поддерживает операции, доступные для множеств `set`\n",
    "Если значения `dict.keys()` являются хешируемыми, то и парные кортежи `(key, value)`, получаемые в результате метода `dict.items()`, являются уникальными и хешируемыми."
   ]
  },
  {
   "cell_type": "code",
   "execution_count": 61,
   "id": "7bb6c812",
   "metadata": {},
   "outputs": [
    {
     "data": {
      "text/plain": [
       "False"
      ]
     },
     "execution_count": 61,
     "metadata": {},
     "output_type": "execute_result"
    }
   ],
   "source": [
    "('one', 1) in x.items()"
   ]
  },
  {
   "cell_type": "markdown",
   "id": "0ca82d67",
   "metadata": {},
   "source": [
    "### Итераторы по словарю\n",
    "\n",
    "Операция `iter(dict`) вернет итератор по ключам словаря `dict`. Это операция является ссылкой на итератор, созданный из списка-представления ключей словаря - `iter(dict.keys())`."
   ]
  },
  {
   "cell_type": "code",
   "execution_count": 62,
   "id": "18675263",
   "metadata": {},
   "outputs": [
    {
     "data": {
      "text/plain": [
       "<dict_keyiterator at 0x4eeda40>"
      ]
     },
     "execution_count": 62,
     "metadata": {},
     "output_type": "execute_result"
    }
   ],
   "source": [
    "x = {'one': 1, 'two': 2, 'three': 3, 'four': 4}\n",
    "it = iter(x)\n",
    "it"
   ]
  },
  {
   "cell_type": "code",
   "execution_count": 63,
   "id": "5abe1f04",
   "metadata": {},
   "outputs": [
    {
     "data": {
      "text/plain": [
       "'one'"
      ]
     },
     "execution_count": 63,
     "metadata": {},
     "output_type": "execute_result"
    }
   ],
   "source": [
    "next(it)"
   ]
  },
  {
   "cell_type": "code",
   "execution_count": 64,
   "id": "da130e70",
   "metadata": {},
   "outputs": [
    {
     "data": {
      "text/plain": [
       "'two'"
      ]
     },
     "execution_count": 64,
     "metadata": {},
     "output_type": "execute_result"
    }
   ],
   "source": [
    "next(it)"
   ]
  },
  {
   "cell_type": "markdown",
   "id": "8d7d00bd",
   "metadata": {},
   "source": [
    "Циклы по словарям"
   ]
  },
  {
   "cell_type": "code",
   "execution_count": 65,
   "id": "ce14228c",
   "metadata": {},
   "outputs": [
    {
     "name": "stdout",
     "output_type": "stream",
     "text": [
      "one\n",
      "two\n",
      "three\n",
      "four\n"
     ]
    }
   ],
   "source": [
    "d = {'one': 1, 'two': 2, 'three': 3, 'four': 4}\n",
    "\n",
    "for key in d:\n",
    "    print(key)"
   ]
  },
  {
   "cell_type": "code",
   "execution_count": 66,
   "id": "6beacf6d",
   "metadata": {},
   "outputs": [
    {
     "name": "stdout",
     "output_type": "stream",
     "text": [
      "one\n",
      "two\n",
      "three\n",
      "four\n"
     ]
    }
   ],
   "source": [
    "for key in d.keys():\n",
    "    print(key)"
   ]
  },
  {
   "cell_type": "code",
   "execution_count": 67,
   "id": "509b52f7",
   "metadata": {},
   "outputs": [
    {
     "name": "stdout",
     "output_type": "stream",
     "text": [
      "1\n",
      "2\n",
      "3\n",
      "4\n"
     ]
    }
   ],
   "source": [
    "for val in d.values():\n",
    "    print(val)"
   ]
  },
  {
   "cell_type": "code",
   "execution_count": 68,
   "id": "0a83b649",
   "metadata": {},
   "outputs": [
    {
     "name": "stdout",
     "output_type": "stream",
     "text": [
      "one 1\n",
      "two 2\n",
      "three 3\n",
      "four 4\n"
     ]
    }
   ],
   "source": [
    "for key, val in d.items():\n",
    "    print(key, val)"
   ]
  },
  {
   "cell_type": "markdown",
   "id": "dcaf9049",
   "metadata": {},
   "source": [
    "## Другие методы словарей"
   ]
  },
  {
   "cell_type": "markdown",
   "id": "9965ec7a",
   "metadata": {},
   "source": [
    "### Метод dict.clear()\n",
    "\n",
    "Очистить словарь. Удалить все элементы из словаря\n",
    "\n",
    "Синтаксис:\n",
    "```python\n",
    "dict.clear()\n",
    "```\n",
    "\n",
    "Параметры:\n",
    "* `dict` - словарь\n",
    "\n",
    "Возвращаемое значение:\n",
    "* пустой словарь `{}`\n",
    "\n",
    "*Описание*:\n",
    "\n",
    "Метод `dict.clear()` производит удаление всех элементов из словаря `dict`."
   ]
  },
  {
   "cell_type": "code",
   "execution_count": 69,
   "id": "0f4679ad",
   "metadata": {},
   "outputs": [
    {
     "data": {
      "text/plain": [
       "{}"
      ]
     },
     "execution_count": 69,
     "metadata": {},
     "output_type": "execute_result"
    }
   ],
   "source": [
    "x = {'one': 0, 'two': 20, 'three': 3, 'four': 4}\n",
    "x.clear()\n",
    "x"
   ]
  },
  {
   "cell_type": "markdown",
   "id": "f570c8f1",
   "metadata": {},
   "source": [
    "### Метод dict.copy()\n",
    "\n",
    "Создать неглубокую копию словаря\n",
    "\n",
    "Синтаксис:\n",
    "```python\n",
    "dict.copy()\n",
    "```\n",
    "\n",
    "Параметры:\n",
    "* `dict` - словарь\n",
    "\n",
    "Возвращаемое значение:\n",
    "* `dict` - копия словаря.\n",
    "\n",
    "*Описание*:\n",
    "\n",
    "Метод `dict.copy()` вернет мелкую копию словаря dict.\n",
    "\n",
    "Смотрите так же модуль `copy`, что бы сделать глубокую копию словаря, а так же различия между глубокой и неглубокой копией."
   ]
  },
  {
   "cell_type": "code",
   "execution_count": 70,
   "id": "fef6d749",
   "metadata": {},
   "outputs": [],
   "source": [
    "x = {'one': 0, 'two': 20, 'three': 3, 'four': 4}"
   ]
  },
  {
   "cell_type": "code",
   "execution_count": 71,
   "id": "95c14a70",
   "metadata": {},
   "outputs": [
    {
     "name": "stdout",
     "output_type": "stream",
     "text": [
      "81508480\n",
      "81508480\n"
     ]
    }
   ],
   "source": [
    "# так не сработает, т.к. x2 ссылается на тот же обхект в памяти, что и x\n",
    "\n",
    "x2 = x\n",
    "\n",
    "print(id(x))\n",
    "print(id(x2))"
   ]
  },
  {
   "cell_type": "code",
   "execution_count": 72,
   "id": "691fdf43",
   "metadata": {},
   "outputs": [
    {
     "name": "stdout",
     "output_type": "stream",
     "text": [
      "{'two': 20, 'three': 3, 'four': 4}\n",
      "{'two': 20, 'three': 3, 'four': 4}\n"
     ]
    }
   ],
   "source": [
    "del x['one']\n",
    "\n",
    "print(x)\n",
    "print(x2)"
   ]
  },
  {
   "cell_type": "code",
   "execution_count": 73,
   "id": "d1c1c9d3",
   "metadata": {},
   "outputs": [
    {
     "name": "stdout",
     "output_type": "stream",
     "text": [
      "{'three': 3, 'four': 4}\n",
      "{'three': 3, 'four': 4}\n"
     ]
    }
   ],
   "source": [
    "del x2['two']\n",
    "\n",
    "print(x)\n",
    "print(x2)"
   ]
  },
  {
   "cell_type": "markdown",
   "id": "cc84a59c",
   "metadata": {},
   "source": [
    "Надо делать с `dict.copy()`"
   ]
  },
  {
   "cell_type": "code",
   "execution_count": 74,
   "id": "5d58bc68",
   "metadata": {},
   "outputs": [
    {
     "name": "stdout",
     "output_type": "stream",
     "text": [
      "{'one': 100, 'two': 20, 'four': 4}\n",
      "{'one': 0, 'two': 20, 'three': 3, 'four': 4}\n"
     ]
    }
   ],
   "source": [
    "x = {'one': 0, 'two': 20, 'three': 3, 'four': 4}\n",
    "\n",
    "y = x.copy()\n",
    "\n",
    "x['one'] = 100\n",
    "del x['three']\n",
    "\n",
    "print(x)\n",
    "print(y)"
   ]
  },
  {
   "cell_type": "markdown",
   "id": "5b89ba67",
   "metadata": {},
   "source": [
    "### Метод dict.pop()\n",
    "\n",
    "Получить значение словаря по ключу и удалить его.\n",
    "\n",
    "Синтаксис:\n",
    "```python\n",
    "dict.pop(key[, default])\n",
    "```\n",
    "\n",
    "Параметры:\n",
    "* `key` - ключ словаря.\n",
    "* `default` - значение по умолчанию.\n",
    "\n",
    "Возвращаемое значение:\n",
    "* значение, соответствующее ключу `key` словаря или значение по умолчанию `default`.\n",
    "\n",
    "*Описание*:\n",
    "\n",
    "Метод `dict.pop()` вернет значение ключа `key`, а также удалит его из словаря `dict`. Если ключ не найден, то вернет значение по умолчанию `default`.\n",
    "\n",
    "Если значение по умолчанию `default` не задано и ключ `key` отсутствует в словаре `dict`, то возникает ошибка `KeyError`."
   ]
  },
  {
   "cell_type": "code",
   "execution_count": 75,
   "id": "2304e1c6",
   "metadata": {},
   "outputs": [
    {
     "data": {
      "text/plain": [
       "3"
      ]
     },
     "execution_count": 75,
     "metadata": {},
     "output_type": "execute_result"
    }
   ],
   "source": [
    "x = {'one': 0, 'two': 20, 'three': 3, 'four': 4}\n",
    "\n",
    "x.pop('three')"
   ]
  },
  {
   "cell_type": "code",
   "execution_count": 76,
   "id": "42ba9f3e",
   "metadata": {},
   "outputs": [
    {
     "data": {
      "text/plain": [
       "{'one': 0, 'two': 20, 'four': 4}"
      ]
     },
     "execution_count": 76,
     "metadata": {},
     "output_type": "execute_result"
    }
   ],
   "source": [
    "x"
   ]
  },
  {
   "cell_type": "code",
   "execution_count": 77,
   "id": "5b4b94b5",
   "metadata": {},
   "outputs": [
    {
     "data": {
      "text/plain": [
       "150"
      ]
     },
     "execution_count": 77,
     "metadata": {},
     "output_type": "execute_result"
    }
   ],
   "source": [
    "x.pop('three', 150)"
   ]
  },
  {
   "cell_type": "code",
   "execution_count": 78,
   "id": "13f84e3f",
   "metadata": {},
   "outputs": [
    {
     "data": {
      "text/plain": [
       "{'one': 0, 'two': 20, 'four': 4}"
      ]
     },
     "execution_count": 78,
     "metadata": {},
     "output_type": "execute_result"
    }
   ],
   "source": [
    "x"
   ]
  },
  {
   "cell_type": "code",
   "execution_count": 79,
   "id": "eede430f",
   "metadata": {},
   "outputs": [],
   "source": [
    "#x.pop('ten')\n",
    "\n",
    "# Traceback (most recent call last):\n",
    "#   File \"<stdin>\", line 1, in <module>\n",
    "# KeyError: 'ten'"
   ]
  },
  {
   "cell_type": "markdown",
   "id": "d1cf99a9",
   "metadata": {},
   "source": [
    "### Метод dict.popitem()\n",
    "\n",
    "Получить, а потом удалить пару ключ/значение из словаря. От предыдущего [Метод dict.pop()](#Метод-dict.pop()) отличатеся возвращаемым значением (оно кортеж `(key, value)`, а не просто `value`).\n",
    "\n",
    "Синтаксис:\n",
    "```python\n",
    "dict.popitem()\n",
    "```\n",
    "\n",
    "Параметры:\n",
    "* нет.\n",
    "\n",
    "Возвращаемое значение:\n",
    "* двойной кортеж `(key, value)`.\n",
    "\n",
    "*Описание*:\n",
    "\n",
    "Метод `dict.popitem()` удалит и вернет двойной кортеж `(key, value)` из словаря `dict`. Пары возвращаются с конца словаря, в порядке LIFO (последним пришёл - первым ушёл).\n",
    "\n",
    "Метод полезен для деструктивной итерации по словарю, как это часто используется в заданных алгоритмах. Если словарь пуст, вызов `dict.popitem()` вызывает исключение `KeyError`.\n",
    "\n",
    "Изменено в Python-3.7: порядок LIFO теперь гарантирован. В предыдущих версиях метод `dict.popitem()` возвращал бы произвольную пару ключ/значение."
   ]
  },
  {
   "cell_type": "code",
   "execution_count": 80,
   "id": "80e24128",
   "metadata": {},
   "outputs": [
    {
     "data": {
      "text/plain": [
       "('four', 4)"
      ]
     },
     "execution_count": 80,
     "metadata": {},
     "output_type": "execute_result"
    }
   ],
   "source": [
    "x = {'one': 0, 'two': 20, 'three': 3, 'four': 4}\n",
    "\n",
    "x.popitem()"
   ]
  },
  {
   "cell_type": "code",
   "execution_count": 81,
   "id": "767dab65",
   "metadata": {},
   "outputs": [
    {
     "data": {
      "text/plain": [
       "('three', 3)"
      ]
     },
     "execution_count": 81,
     "metadata": {},
     "output_type": "execute_result"
    }
   ],
   "source": [
    "x.popitem()"
   ]
  },
  {
   "cell_type": "code",
   "execution_count": 82,
   "id": "d5877608",
   "metadata": {},
   "outputs": [
    {
     "data": {
      "text/plain": [
       "('two', 20)"
      ]
     },
     "execution_count": 82,
     "metadata": {},
     "output_type": "execute_result"
    }
   ],
   "source": [
    "x.popitem()"
   ]
  },
  {
   "cell_type": "code",
   "execution_count": 83,
   "id": "2ae2108c",
   "metadata": {},
   "outputs": [
    {
     "data": {
      "text/plain": [
       "('one', 0)"
      ]
     },
     "execution_count": 83,
     "metadata": {},
     "output_type": "execute_result"
    }
   ],
   "source": [
    "x.popitem()"
   ]
  },
  {
   "cell_type": "code",
   "execution_count": 84,
   "id": "0ed239d4",
   "metadata": {},
   "outputs": [],
   "source": [
    "# x.popitem()\n",
    "\n",
    "# Traceback (most recent call last):\n",
    "#   File \"<stdin>\", line 1, in <module>\n",
    "# KeyError: 'popitem(): dictionary is empty'"
   ]
  },
  {
   "cell_type": "markdown",
   "id": "09268558",
   "metadata": {},
   "source": [
    "### Метод dict.setdefault()\n",
    "\n",
    "Получить/добавить значение ключа, если его нет.\n",
    "\n",
    "Синтаксис:\n",
    "```python\n",
    "dict.setdefault(key[, default])\n",
    "```\n",
    "\n",
    "Параметры:\n",
    "* `key` - ключ словаря.\n",
    "* `default` - значение по умолчанию.\n",
    "\n",
    "*Описание*:\n",
    "\n",
    "Метод `dict.setdefault()` вернет значение словаря `dict`, соответствующее ключу `key`.\n",
    "\n",
    "* Если указанный ключ `key` отсутствует, вставит его в словарь `dict` со значением `default` и вернет значение `default`.\n",
    "* Если значение по умолчанию `default` не установлено и ключ отсутствует, метод вставит ключ в словарь со значением `None`, при этом никакое значение не возвращается.\n",
    "\n",
    "По умолчанию `default` имеет значение `None`. Этот метод никогда не вызывает исключения `KeyError`."
   ]
  },
  {
   "cell_type": "code",
   "execution_count": 85,
   "id": "ff91f5fd",
   "metadata": {},
   "outputs": [
    {
     "data": {
      "text/plain": [
       "0"
      ]
     },
     "execution_count": 85,
     "metadata": {},
     "output_type": "execute_result"
    }
   ],
   "source": [
    "x = {'one': 0, 'two': 20, 'three': 3, 'four': 4}\n",
    "\n",
    "# такой ключ есть, возвращает соответсвующеее ему значение\n",
    "x.setdefault('one')"
   ]
  },
  {
   "cell_type": "code",
   "execution_count": 86,
   "id": "ed7c6d47",
   "metadata": {},
   "outputs": [
    {
     "data": {
      "text/plain": [
       "{'one': 0, 'two': 20, 'three': 3, 'four': 4, 'ten': None}"
      ]
     },
     "execution_count": 86,
     "metadata": {},
     "output_type": "execute_result"
    }
   ],
   "source": [
    "x.setdefault('ten')\n",
    "x"
   ]
  },
  {
   "cell_type": "code",
   "execution_count": 87,
   "id": "0e1d96dc",
   "metadata": {},
   "outputs": [
    {
     "data": {
      "text/plain": [
       "6"
      ]
     },
     "execution_count": 87,
     "metadata": {},
     "output_type": "execute_result"
    }
   ],
   "source": [
    "x.setdefault('six', 6)"
   ]
  },
  {
   "cell_type": "code",
   "execution_count": 88,
   "id": "500a1922",
   "metadata": {},
   "outputs": [
    {
     "data": {
      "text/plain": [
       "{'one': 0, 'two': 20, 'three': 3, 'four': 4, 'ten': None, 'six': 6}"
      ]
     },
     "execution_count": 88,
     "metadata": {},
     "output_type": "execute_result"
    }
   ],
   "source": [
    "x"
   ]
  },
  {
   "cell_type": "code",
   "execution_count": 89,
   "id": "fba9deab",
   "metadata": {},
   "outputs": [
    {
     "data": {
      "text/plain": [
       "6"
      ]
     },
     "execution_count": 89,
     "metadata": {},
     "output_type": "execute_result"
    }
   ],
   "source": [
    "x.setdefault('six', 10)"
   ]
  },
  {
   "cell_type": "code",
   "execution_count": 90,
   "id": "fe19ceba",
   "metadata": {},
   "outputs": [
    {
     "data": {
      "text/plain": [
       "{'one': 0, 'two': 20, 'three': 3, 'four': 4, 'ten': None, 'six': 6}"
      ]
     },
     "execution_count": 90,
     "metadata": {},
     "output_type": "execute_result"
    }
   ],
   "source": [
    "x"
   ]
  },
  {
   "cell_type": "markdown",
   "id": "36c4291e",
   "metadata": {},
   "source": [
    "См. также для сравнения [Метод dict.get()](#Метод-dict.get()). Этот метод не вставляет в словарь новых ключей, а обратывает по ключу получения значения из словаря."
   ]
  },
  {
   "cell_type": "markdown",
   "id": "66844786",
   "metadata": {},
   "source": [
    "### Метод dict.update()\n",
    "\n",
    "Синтаксис:\n",
    "```python\n",
    "dict.update([other])\n",
    "\n",
    "# новое в Python 3.9\n",
    "dict |= other\n",
    "```\n",
    "Параметры:\n",
    "* `dict` - словарь, который необходимо обновить.\n",
    "* `other` - другой объект словаря или список пар `(key, value)` в виде кортежа.\n",
    "\n",
    "Возвращаемое значение:\n",
    "* нет.\n",
    "\n",
    "*Описание*:\n",
    "\n",
    "Метод `dict.update()` обновляет/дополняет словарь `dict` с помощью пар ключ-значение из `other`, перезаписывая существующие ключи новыми значениями из `other`. Если ключ в словаре отсутствует, то он добавляется. Метод ничего не возвращает.\n",
    "\n",
    "Другими словами, метод производит дополнение одного словаря другим, добавляя (если ключа нет) или перезаписывая (если ключ есть) значения ключей исходного словаря.\n",
    "\n",
    "Метод `dict.update()` принимает либо другой объект словаря, либо итерируемую последовательность пар ключ/значение в виде кортежей или других итераций вида `(key, value)`.\n",
    "\n",
    "Если заданы ключевые аргументы, то словарь обновляется с помощью следующих пар ключ/значение:"
   ]
  },
  {
   "cell_type": "code",
   "execution_count": 91,
   "id": "2949d128",
   "metadata": {},
   "outputs": [
    {
     "data": {
      "text/plain": [
       "{'yellow': 0, 'red': 1, 'blue': 2}"
      ]
     },
     "execution_count": 91,
     "metadata": {},
     "output_type": "execute_result"
    }
   ],
   "source": [
    "x = {'yellow':0, 'red':2} \n",
    "x.update(red=1, blue=2) \n",
    "x"
   ]
  },
  {
   "cell_type": "code",
   "execution_count": 92,
   "id": "f460d44d",
   "metadata": {},
   "outputs": [],
   "source": [
    "# x = {'yellow':0, 'red':2} \n",
    "# x |= [('red', 1), ('blue', 2)]\n",
    "# x"
   ]
  },
  {
   "cell_type": "markdown",
   "id": "7939067c",
   "metadata": {},
   "source": [
    "Отличие операции обновления/дополнения `dict.update()` словаря от операция объединения/слияния (см. [Объединение или слияние двух словарей в один новый словарь](#Объединение-или-слияние-двух-словарей-в-один-новый-словарь)) словарей заключается в том, что в результате операции объединения образуется новый словарь (исходные словари не изменяются), а при операции обновления/дополнения `dict.update()` изменяется исходный словарь `dict`."
   ]
  },
  {
   "cell_type": "code",
   "execution_count": 93,
   "id": "ce8d3ca3",
   "metadata": {},
   "outputs": [
    {
     "data": {
      "text/plain": [
       "{'one': 10, 'two': 20, 'three': 30, 'four': 40, 'five': 50}"
      ]
     },
     "execution_count": 93,
     "metadata": {},
     "output_type": "execute_result"
    }
   ],
   "source": [
    "x = {'one': 10, 'two': 20, 'three': None}\n",
    "y = {'three': 30, 'four': 40, 'five': 50}\n",
    "x.update(y)\n",
    "x"
   ]
  },
  {
   "cell_type": "code",
   "execution_count": 94,
   "id": "c8ed7cf6",
   "metadata": {},
   "outputs": [],
   "source": [
    "# x |= y\n",
    "# x"
   ]
  },
  {
   "cell_type": "code",
   "execution_count": 95,
   "id": "fc631cd1",
   "metadata": {},
   "outputs": [
    {
     "data": {
      "text/plain": [
       "{'one': 10, 'two': 20, 'three': 3, 'four': 4, 'five': 5, 'six': 6}"
      ]
     },
     "execution_count": 95,
     "metadata": {},
     "output_type": "execute_result"
    }
   ],
   "source": [
    "y = [('three', 3), ('four', 4), ('five', 5), ('six', 6)]\n",
    "x.update(y)\n",
    "x"
   ]
  },
  {
   "cell_type": "markdown",
   "id": "856bff47",
   "metadata": {},
   "source": [
    "## Объединение или слияние двух словарей в один новый словарь\n",
    "\n",
    "Синтаксис:\n",
    "```python\n",
    "dict = {**dict1, **dict2}\n",
    "\n",
    "# Новое в Python 3.9\n",
    "dict = dict1 | dict2\n",
    "```\n",
    "Параметры:\n",
    "* `dict1`, `dict2` - объединяемые словари.\n",
    "\n",
    "Возвращаемое значение:\n",
    "* новый словарь `dict`.\n",
    "\n",
    "*Описание*:\n",
    "\n",
    "Выражение `{**dict1, **dict2}` создает новый словарь с объединенными ключами и значениями из `dict1` и `dict2`, которые оба должны быть словарями.\n",
    "\n",
    "Значения ключей словаря `dict2` имеют приоритет, когда `dict1` и `dict2` используют одинаковые ключи `key`.\n",
    "\n",
    "Важно понимать отличие операции объединения/слияния словарей ([метод dict.update()](#Метод-dict.update())) от операции обновления/дополнения. Отличие заключается в том, что в результате операции объединения/слияния `{**dict1, **dict2}` образуется новый словарь (исходные словари не изменяются), а при операции обновления/дополнения изменяется исходный словарь `dict`."
   ]
  },
  {
   "cell_type": "code",
   "execution_count": 96,
   "id": "90f3c829",
   "metadata": {},
   "outputs": [
    {
     "data": {
      "text/plain": [
       "{'key1': 'value1 from x', 'key2': 'value2 from y', 'key3': 'value3 from y'}"
      ]
     },
     "execution_count": 96,
     "metadata": {},
     "output_type": "execute_result"
    }
   ],
   "source": [
    "x = {\"key1\": \"value1 from x\", \"key2\": \"value2 from x\"}\n",
    "y = {\"key2\": \"value2 from y\", \"key3\": \"value3 from y\"}\n",
    "\n",
    "# объединение словаря `x` с `y`\n",
    "{**x, **y}"
   ]
  },
  {
   "cell_type": "code",
   "execution_count": 97,
   "id": "1a4abc7e",
   "metadata": {},
   "outputs": [
    {
     "data": {
      "text/plain": [
       "{'key2': 'value2 from x', 'key3': 'value3 from y', 'key1': 'value1 from x'}"
      ]
     },
     "execution_count": 97,
     "metadata": {},
     "output_type": "execute_result"
    }
   ],
   "source": [
    "x = {\"key1\": \"value1 from x\", \"key2\": \"value2 from x\"}\n",
    "y = {\"key2\": \"value2 from y\", \"key3\": \"value3 from y\"}\n",
    "\n",
    "# объединение словаря `y` с `x`\n",
    "{**y, **x}"
   ]
  },
  {
   "cell_type": "code",
   "execution_count": 98,
   "id": "5ea49fc7",
   "metadata": {},
   "outputs": [],
   "source": [
    "# Новое в Python 3.9\n",
    "\n",
    "# x | y\n",
    "# {'key1': 'value1 from x', 'key2': 'value2 from y', 'key3': 'value3 from y'}\n",
    "\n",
    "# y | x\n",
    "# {'key2': 'value2 from x', 'key3': 'value3 from y', 'key1': 'value1 from x'}"
   ]
  },
  {
   "cell_type": "markdown",
   "id": "cb10087c",
   "metadata": {},
   "source": [
    "## Сравнение словарей\n",
    "\n",
    "* Словари считаются равными тогда и только тогда, когда они имеют одинаковые пары (key, value). Равенство не зависит от порядка следования ключей.\n",
    "* Такие сравнения как `<`, `<=`, `>=`, `>` поднимают исключение `TypeError`."
   ]
  },
  {
   "cell_type": "code",
   "execution_count": 99,
   "id": "74d56e50",
   "metadata": {},
   "outputs": [
    {
     "name": "stdout",
     "output_type": "stream",
     "text": [
      "{2: 'two', 1: 'one'}\n",
      "{1: 'one', 2: 'two'}\n"
     ]
    },
    {
     "data": {
      "text/plain": [
       "True"
      ]
     },
     "execution_count": 99,
     "metadata": {},
     "output_type": "execute_result"
    }
   ],
   "source": [
    "d1 = {2: \"two\", 1: \"one\"}\n",
    "d2 = {1: \"one\", 2: \"two\"}\n",
    "\n",
    "print(d1)\n",
    "print(d2)\n",
    "\n",
    "d1 == d2"
   ]
  },
  {
   "cell_type": "markdown",
   "id": "c5e9c990",
   "metadata": {},
   "source": [
    "## Свойства типа данных словарь `dict`\n",
    "\n",
    "* Словари гарантированно сохраняют порядок вставки элементов (С версии Python-3.7).\n",
    "* Обновление ключа не влияет на порядок расположения элементов словаря.\n",
    "* Ключи, добавленные после удаления, вставляются в конец словаря.\n",
    "* Словари и словарные представления стали обратимы. Другими словами их можно развернуть с сохранением порядка вставки элементов. Не путать с обратной сортировкой. (С версии Python-3.8)\n",
    "*  Cписки-представления обеспечивают динамическое представление записей словаря. То есть при изменении словаря они отражают эти изменения."
   ]
  },
  {
   "cell_type": "code",
   "execution_count": 100,
   "id": "4d4109e4",
   "metadata": {},
   "outputs": [
    {
     "data": {
      "text/plain": [
       "{'one': 1, 'two': 2, 'three': 3, 'four': 4}"
      ]
     },
     "execution_count": 100,
     "metadata": {},
     "output_type": "execute_result"
    }
   ],
   "source": [
    "d = {\"one\": 1, \"two\": 2, \"three\": 3, \"four\": 4}\n",
    "d"
   ]
  },
  {
   "cell_type": "code",
   "execution_count": 101,
   "id": "2afd0f08",
   "metadata": {},
   "outputs": [
    {
     "name": "stdout",
     "output_type": "stream",
     "text": [
      "['one', 'two', 'three', 'four']\n",
      "[1, 2, 3, 4]\n"
     ]
    }
   ],
   "source": [
    "# гарантированное сохранение порядка вставки\n",
    "\n",
    "print(list(d))\n",
    "\n",
    "print(list(d.values()))"
   ]
  },
  {
   "cell_type": "code",
   "execution_count": 102,
   "id": "33f570e1",
   "metadata": {},
   "outputs": [
    {
     "data": {
      "text/plain": [
       "{'one': 42, 'two': 2, 'three': 3, 'four': 4}"
      ]
     },
     "execution_count": 102,
     "metadata": {},
     "output_type": "execute_result"
    }
   ],
   "source": [
    "# обновление ключа не влияет на порядок\n",
    "d[\"one\"] = 42\n",
    "d"
   ]
  },
  {
   "cell_type": "code",
   "execution_count": 103,
   "id": "217e6790",
   "metadata": {},
   "outputs": [
    {
     "data": {
      "text/plain": [
       "{'one': 42, 'three': 3, 'four': 4, 'two': None}"
      ]
     },
     "execution_count": 103,
     "metadata": {},
     "output_type": "execute_result"
    }
   ],
   "source": [
    "# После удаления, ключ вставляются в конец словаря\n",
    "del d[\"two\"]\n",
    "d[\"two\"] = None\n",
    "d"
   ]
  },
  {
   "cell_type": "markdown",
   "id": "270a94f4",
   "metadata": {},
   "source": [
    "Словари и словарные представления стали обратимы:"
   ]
  },
  {
   "cell_type": "code",
   "execution_count": 104,
   "id": "2a25cc1c",
   "metadata": {},
   "outputs": [
    {
     "data": {
      "text/plain": [
       "{'one': 1, 'two': 2, 'three': 3, 'four': 4}"
      ]
     },
     "execution_count": 104,
     "metadata": {},
     "output_type": "execute_result"
    }
   ],
   "source": [
    "d = {\"one\": 1, \"two\": 2, \"three\": 3, \"four\": 4}\n",
    "d"
   ]
  },
  {
   "cell_type": "code",
   "execution_count": 105,
   "id": "a56832e8",
   "metadata": {},
   "outputs": [
    {
     "data": {
      "text/plain": [
       "['four', 'three', 'two', 'one']"
      ]
     },
     "execution_count": 105,
     "metadata": {},
     "output_type": "execute_result"
    }
   ],
   "source": [
    "list(reversed(d))"
   ]
  },
  {
   "cell_type": "code",
   "execution_count": 106,
   "id": "1eb3688c",
   "metadata": {},
   "outputs": [
    {
     "data": {
      "text/plain": [
       "[4, 3, 2, 1]"
      ]
     },
     "execution_count": 106,
     "metadata": {},
     "output_type": "execute_result"
    }
   ],
   "source": [
    "list(reversed(d.values()))"
   ]
  },
  {
   "cell_type": "code",
   "execution_count": 107,
   "id": "9b6236cc",
   "metadata": {},
   "outputs": [
    {
     "data": {
      "text/plain": [
       "[('four', 4), ('three', 3), ('two', 2), ('one', 1)]"
      ]
     },
     "execution_count": 107,
     "metadata": {},
     "output_type": "execute_result"
    }
   ],
   "source": [
    "list(reversed(d.items()))"
   ]
  },
  {
   "cell_type": "code",
   "execution_count": null,
   "id": "a5a9db1d",
   "metadata": {},
   "outputs": [],
   "source": []
  },
  {
   "cell_type": "code",
   "execution_count": null,
   "id": "bd2e11b3",
   "metadata": {},
   "outputs": [],
   "source": []
  },
  {
   "cell_type": "code",
   "execution_count": null,
   "id": "99752f40",
   "metadata": {},
   "outputs": [],
   "source": []
  },
  {
   "cell_type": "markdown",
   "id": "e91b408c",
   "metadata": {},
   "source": [
    "\n",
    "Сортировка словаря по значению и/или ключу в Python\n",
    "https://docs-python.ru/tutorial/operatsii-slovarjami-dict-python/sortirovka-slovarja-znacheniju-kljuchu/\n",
    "\n",
    "Обратный порядок/реверс словаря reversed(dict) в Python\n",
    "https://docs-python.ru/tutorial/operatsii-slovarjami-dict-python/obratnyj-porjadok-revers-slovarja/\n"
   ]
  },
  {
   "cell_type": "code",
   "execution_count": null,
   "id": "2e7b980f",
   "metadata": {},
   "outputs": [],
   "source": []
  }
 ],
 "metadata": {
  "kernelspec": {
   "display_name": "Python 3",
   "language": "python",
   "name": "python3"
  },
  "language_info": {
   "codemirror_mode": {
    "name": "ipython",
    "version": 3
   },
   "file_extension": ".py",
   "mimetype": "text/x-python",
   "name": "python",
   "nbconvert_exporter": "python",
   "pygments_lexer": "ipython3",
   "version": "3.8.11"
  }
 },
 "nbformat": 4,
 "nbformat_minor": 5
}
