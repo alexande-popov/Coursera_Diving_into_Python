{
 "cells": [
  {
   "cell_type": "markdown",
   "id": "b201db95",
   "metadata": {},
   "source": [
    "**Оглавление**\n",
    "\n",
    "[Словари](#Словари)\n",
    "1. [Создание словаря](#Создание-словаря)\n",
    "* [Пустой словарь](#Пустой-словарь)\n",
    "* [Конструктор-литерал {}](#Конструктор-литерал-{})\n",
    "* [Конструктор-функция dict()](#Конструктор-функция-dict()): [Создание через ключевые аргументы](#Создание-через-ключевые-аргументы), [Создание через итерируемый объект](#Создание-через-итерируемый-объект), [Кобинация позиционных и ключевых аргументов](#Кобинация-позиционных-и-ключевых-аргументов)\n",
    "* [Различия в синтаксисе между {} и dict()](#Различия-в-синтаксисе-между-{}-и-dict())\n",
    "* [C помощью метода fromkeys](#C-помощью-метода-fromkeys)\n",
    "* [С помощью генераторов словарей](#С-помощью-генераторов-словарей): [Создание словаря из двух колекций](#Создание-словаря-из-двух-колекций)\n",
    "\n",
    "\n",
    "3. [Списки-представления словаря](#Списки-представления-словаря)\n",
    "* [dict.keys()](#dict.keys())\n",
    "* [dict.values()](#dict.values())\n",
    "* [dict.items()](#dict.items.())\n",
    "___\n",
    "* [Сранение словарей](#Сранение-словарей)\n",
    "* [Свойства типа данных словарь dict](#Свойства-типа-данных-словарь-dict)\n"
   ]
  },
  {
   "cell_type": "markdown",
   "id": "fce8faf9",
   "metadata": {},
   "source": [
    "# Словари"
   ]
  },
  {
   "cell_type": "markdown",
   "id": "2e2f65d3",
   "metadata": {},
   "source": [
    "Словарь -- изменяемый контейнерный объект.\n",
    "\n",
    "Словари предоставляю быстрый доступ по ключу (за констатное время), за счет хэширования к объектам словаря.\n",
    "\n",
    "Ключи не изменяемы (хэшируются) - immutable objects (целые числа, None, строки, кортежи).\n",
    "\n",
    "Объекты словаря изменяются - mutable objects.\n",
    "\n",
    "В отличие от последовательностей, которые индексируются диапазоном чисел, словари индексируются ключами, которые могут быть любого неизменяемого типа. Строки и числа всегда могут быть ключами. Кортежи могут использоваться в качестве ключей, если они содержат только строки, числа или кортежи. Если кортеж содержит любой изменяемый объект прямо или косвенно, он не может использоваться в качестве ключа. Нельзя использовать списки в качестве ключей словаря, так как списки могут быть изменены на месте.\n",
    "\n",
    "Словари встречаются и в других языках как, только называются по разному, например \"ассоциативная память\" или \"ассоциативные массивы\", \"хеш-таблицы\"."
   ]
  },
  {
   "cell_type": "markdown",
   "id": "84b15454",
   "metadata": {},
   "source": [
    "## Создание словаря"
   ]
  },
  {
   "cell_type": "markdown",
   "id": "dc6151a5",
   "metadata": {},
   "source": [
    "### Пустой словарь\n",
    "\n",
    "Без элементов"
   ]
  },
  {
   "cell_type": "code",
   "execution_count": 1,
   "id": "23a4d04d",
   "metadata": {},
   "outputs": [
    {
     "data": {
      "text/plain": [
       "{}"
      ]
     },
     "execution_count": 1,
     "metadata": {},
     "output_type": "execute_result"
    }
   ],
   "source": [
    "objects = {}\n",
    "objects"
   ]
  },
  {
   "cell_type": "code",
   "execution_count": 2,
   "id": "e3d2ae40",
   "metadata": {},
   "outputs": [
    {
     "data": {
      "text/plain": [
       "{}"
      ]
     },
     "execution_count": 2,
     "metadata": {},
     "output_type": "execute_result"
    }
   ],
   "source": [
    "objects = dict()\n",
    "objects"
   ]
  },
  {
   "cell_type": "markdown",
   "id": "e8eb8efe",
   "metadata": {},
   "source": [
    "### Конструктор-литерал `{}`\n",
    "\n",
    "Словари можно создать, поместив разделенный запятыми список пар `key: value` в фигурные скобки `{}` или с помощью конструктора встроенного класса `dict()`.\n",
    "\n",
    "Создание с помощью литерала `{}`:\n",
    "```python\n",
    "{key1: value1, key2: value2, …, keyN: valueN}\n",
    "```\n",
    "\n",
    "Ключ - значение в `{}` разделяется `:`.\n",
    "\n",
    "Ключ в `{}` не может быть строкой без кавычек, но другие типы неизменяемые тыпы данных -- пожалуйста, можно писать без кавычек."
   ]
  },
  {
   "cell_type": "code",
   "execution_count": 3,
   "id": "55b1cfda",
   "metadata": {},
   "outputs": [
    {
     "data": {
      "text/plain": [
       "{'one': 1, 'two': 2}"
      ]
     },
     "execution_count": 3,
     "metadata": {},
     "output_type": "execute_result"
    }
   ],
   "source": [
    "d = {'one': 1, 'two': 2}\n",
    "d\n",
    "\n",
    "# {one: 1, two: 2}\n",
    "# NameError: name 'one' is not defined"
   ]
  },
  {
   "cell_type": "code",
   "execution_count": 4,
   "id": "d91e92e8",
   "metadata": {},
   "outputs": [
    {
     "data": {
      "text/plain": [
       "{1: 'one', 2: 'two'}"
      ]
     },
     "execution_count": 4,
     "metadata": {},
     "output_type": "execute_result"
    }
   ],
   "source": [
    "{1: 'one', 2: 'two'}"
   ]
  },
  {
   "cell_type": "code",
   "execution_count": 5,
   "id": "fa8ae7c0",
   "metadata": {},
   "outputs": [
    {
     "data": {
      "text/plain": [
       "{True: 1, None: None, (1, 'two'): 'immutable pair'}"
      ]
     },
     "execution_count": 5,
     "metadata": {},
     "output_type": "execute_result"
    }
   ],
   "source": [
    "{True: 1, \n",
    " None: None, \n",
    " (1, \"two\"): \"immutable pair\"}"
   ]
  },
  {
   "cell_type": "markdown",
   "id": "cd2756ac",
   "metadata": {},
   "source": [
    "### Конструктор-функция `dict()`\n",
    "\n",
    "Общий синтатксис\n",
    "```python\n",
    "dict(**kwarg)\n",
    "dict(iterable, **kwarg)\n",
    "dict(mapping, **kwarg)\n",
    "```\n",
    "\n",
    "Параметры:\n",
    "* `kwarg` - ключевые аргументы `one=1`, `two=2`, `three=3`\n",
    "* `iterable` - итерируемый объект, например `[('two', 2), ('one', 1), ('three', 3)]`\n",
    "* `mapping` - карта(словарь), например `{'three': 3, 'one': 1, 'two': 2}`\n",
    "\n",
    "Функция `dict()` создаст словарь, инициализированный из необязательного позиционного аргумента и возможно пустого набора ключевых аргументов.\n",
    "\n",
    "Если позиционный аргумент не задан, создается пустой словарь. Если заданы позиционные аргументы и они являются объектами сопоставления (`'one': 1`), создается словарь с теми же парами ключ-значение, что и объект сопоставления. В противном случае позиционный аргумент должен быть итерируемым объектом. Каждый элемент в массиве должен быть итерируемым с двумя объектами. Первый объект каждого элемента становится ключом в новом словаре, а второй объект-соответствующим значением. Если ключ встречается более одного раза, последнее значение для этого ключа становится соответствующим значением в новом словаре.\n",
    "\n",
    "Если заданы ключевые аргументы и их значения добавляются в словарь, созданный из позиционных аргументов, то значение одинакового ключа из позиционного аргумента заменяется значением ключевого аргумента."
   ]
  },
  {
   "cell_type": "markdown",
   "id": "3812fb74",
   "metadata": {},
   "source": [
    "#### Создание через ключевые аргументы\n",
    "\n",
    "Ключ - значение в `dict()` разделяется `=`.\n",
    "\n",
    "Ключ в `dict()` не может быть строкой в кавычках. Тут же правило называния ключа такое же как у переменной (не начинать с цифры)."
   ]
  },
  {
   "cell_type": "markdown",
   "id": "0b4e1978",
   "metadata": {},
   "source": [
    "Для определения словаря существует специальная встроенная функция `dict()`. Ей, в качестве аргументов (ключевых аргументов), через запятую перечисляются пары в формате `ключ=значение`."
   ]
  },
  {
   "cell_type": "code",
   "execution_count": 6,
   "id": "3d4710b0",
   "metadata": {},
   "outputs": [
    {
     "data": {
      "text/plain": [
       "{'one': 1, 'two': 2, 'three': '3', 'four': '4'}"
      ]
     },
     "execution_count": 6,
     "metadata": {},
     "output_type": "execute_result"
    }
   ],
   "source": [
    "d = dict(one = 1, two = 2, three = \"3\", four = \"4\")\n",
    "d"
   ]
  },
  {
   "cell_type": "markdown",
   "id": "04b22a1a",
   "metadata": {},
   "source": [
    "Здесь ключи преобразовываются в строки и должны определяться как и имена переменных. Например, использовать числа уже не получится (это неверное имя переменной):\n",
    "\n",
    "```python\n",
    "dict(1 = \"one\", 2 = two, 3 = three)\n",
    "\n",
    "SyntaxError: expression cannot contain assignment, perhaps you meant \"==\"?\n",
    "```"
   ]
  },
  {
   "cell_type": "markdown",
   "id": "534b1c83",
   "metadata": {},
   "source": [
    "#### Создание через итерируемый объект\n",
    "\n",
    "Существует возможности для отдельных видов списков преобразования их в словарь с помощью встроенной функции `dict()`. Для этого список должен хранить набор вложенных списков. Каждый вложенный список должен состоять из двух элементов - при конвертации в словарь первый элемент станет ключом, а второй - значением."
   ]
  },
  {
   "cell_type": "code",
   "execution_count": 7,
   "id": "bb7511bc",
   "metadata": {},
   "outputs": [
    {
     "data": {
      "text/plain": [
       "{'+111123455': 'Tom', '+384767557': 'Bob', '+958758767': 'Alice'}"
      ]
     },
     "execution_count": 7,
     "metadata": {},
     "output_type": "execute_result"
    }
   ],
   "source": [
    "users_list = [\n",
    "    [\"+111123455\", \"Tom\"],\n",
    "    [\"+384767557\", \"Bob\"],\n",
    "    [\"+958758767\", \"Alice\"]\n",
    "]\n",
    "dict(users_list)"
   ]
  },
  {
   "cell_type": "markdown",
   "id": "f7b694c1",
   "metadata": {},
   "source": [
    "Подобным образом можно преобразовать в словарь двухмерные кортежи, которые в свою очередь содержать кортежи из двух элементов."
   ]
  },
  {
   "cell_type": "code",
   "execution_count": 8,
   "id": "30a1b59d",
   "metadata": {},
   "outputs": [
    {
     "data": {
      "text/plain": [
       "{'+111123455': 'Tom', '+384767557': 'Bob', '+958758767': 'Alice'}"
      ]
     },
     "execution_count": 8,
     "metadata": {},
     "output_type": "execute_result"
    }
   ],
   "source": [
    "users_tuple = (\n",
    "    (\"+111123455\", \"Tom\"),\n",
    "    (\"+384767557\", \"Bob\"),\n",
    "    (\"+958758767\", \"Alice\")\n",
    ")\n",
    "dict(users_tuple)"
   ]
  },
  {
   "cell_type": "markdown",
   "id": "0f47aa1e",
   "metadata": {},
   "source": [
    "Возможны и комбинации списков и туплей."
   ]
  },
  {
   "cell_type": "code",
   "execution_count": 9,
   "id": "c9eb94a0",
   "metadata": {},
   "outputs": [
    {
     "data": {
      "text/plain": [
       "{'+111123455': 'Tom', '+384767557': 'Bob', '+958758767': 'Alice'}"
      ]
     },
     "execution_count": 9,
     "metadata": {},
     "output_type": "execute_result"
    }
   ],
   "source": [
    "users_lt = [\n",
    "    (\"+111123455\", \"Tom\"),\n",
    "    (\"+384767557\", \"Bob\"),\n",
    "    (\"+958758767\", \"Alice\")\n",
    "]\n",
    "dict(users_lt)"
   ]
  },
  {
   "cell_type": "code",
   "execution_count": 10,
   "id": "8ac55312",
   "metadata": {},
   "outputs": [
    {
     "data": {
      "text/plain": [
       "{'+111123455': 'Tom', '+384767557': 'Bob', '+958758767': 'Alice'}"
      ]
     },
     "execution_count": 10,
     "metadata": {},
     "output_type": "execute_result"
    }
   ],
   "source": [
    "users_tl = (\n",
    "    [\"+111123455\", \"Tom\"],\n",
    "    [\"+384767557\", \"Bob\"],\n",
    "    [\"+958758767\", \"Alice\"]\n",
    ")\n",
    "dict(users_tl)"
   ]
  },
  {
   "cell_type": "markdown",
   "id": "2fde877f",
   "metadata": {},
   "source": [
    "Словарь из словаря."
   ]
  },
  {
   "cell_type": "code",
   "execution_count": 11,
   "id": "5b3a483c",
   "metadata": {},
   "outputs": [
    {
     "name": "stdout",
     "output_type": "stream",
     "text": [
      "{'+111123455': 'Tom', '+384767557': 'Bob', '+958758767': 'Alice'}\n",
      "{'+111123455': 'Tom', '+384767557': 'Bob', '+958758767': 'Alice'}\n",
      "1912850840384 1912851004096\n"
     ]
    }
   ],
   "source": [
    "d1 = {'+111123455': 'Tom', \n",
    "      '+384767557': 'Bob', \n",
    "      '+958758767': 'Alice'}\n",
    "d2 = dict(d1)\n",
    "\n",
    "print(d1)\n",
    "print(d2)\n",
    "print(id(d1), id(d2))"
   ]
  },
  {
   "cell_type": "markdown",
   "id": "82d9cd80",
   "metadata": {},
   "source": [
    "Все следующие выражения возвращают словарь `{\"one\": 1, \"two\": 2, \"three\": 3}`"
   ]
  },
  {
   "cell_type": "code",
   "execution_count": 12,
   "id": "b650b374",
   "metadata": {},
   "outputs": [
    {
     "data": {
      "text/plain": [
       "True"
      ]
     },
     "execution_count": 12,
     "metadata": {},
     "output_type": "execute_result"
    }
   ],
   "source": [
    "a = dict(one=1, two=2, three=3)\n",
    "b = {'one': 1, 'two': 2, 'three': 3}\n",
    "c = dict(zip(['one', 'two', 'three'], [1, 2, 3]))\n",
    "d = dict([('two', 2), ('one', 1), ('three', 3)])\n",
    "e = dict({'three': 3, 'one': 1, 'two': 2})\n",
    "\n",
    "a == b == c == d == e"
   ]
  },
  {
   "cell_type": "markdown",
   "id": "261d5e3f",
   "metadata": {},
   "source": [
    "#### Кобинация позиционных и ключевых аргументов"
   ]
  },
  {
   "cell_type": "code",
   "execution_count": 13,
   "id": "2696ef1e",
   "metadata": {},
   "outputs": [
    {
     "data": {
      "text/plain": [
       "{'one': 1, 'two': 2, 'ten': 10}"
      ]
     },
     "execution_count": 13,
     "metadata": {},
     "output_type": "execute_result"
    }
   ],
   "source": [
    "dict([('one', 1), ('two', 2)], \n",
    "     ten=10)"
   ]
  },
  {
   "cell_type": "code",
   "execution_count": 14,
   "id": "5b260c01",
   "metadata": {},
   "outputs": [
    {
     "data": {
      "text/plain": [
       "{'three': 10, 'one': 1, 'two': 2, 'four': 4}"
      ]
     },
     "execution_count": 14,
     "metadata": {},
     "output_type": "execute_result"
    }
   ],
   "source": [
    "dict({'three': 3, 'one': 1, 'two': 2},\n",
    "    three=10,\n",
    "    four=4)"
   ]
  },
  {
   "cell_type": "markdown",
   "id": "3c1ed19c",
   "metadata": {},
   "source": [
    "### Различия в синтаксисе между `{}` и `dict()`"
   ]
  },
  {
   "cell_type": "markdown",
   "id": "1ec994d0",
   "metadata": {},
   "source": [
    "\n",
    "1. Пустой словарь: `{}` или `dict()`\n",
    "\n",
    "2. Ключ - значение: в `{}` это `:` , а в `dict()` это `=`\n",
    "\n",
    "3. Ключ в `{}` не может быть строкой без кавычек!\n",
    "\n",
    "4. Ключ в `dict()` не может быть строкой в кавычках. Тут же правило называния ключа такое же как у переменной (не начинать с цифры).\n",
    "\n",
    "5. Словарь можно задать через список перемещенный в `dict()`."
   ]
  },
  {
   "cell_type": "markdown",
   "id": "b22cb4e0",
   "metadata": {},
   "source": [
    "### C помощью метода `fromkeys`\n",
    "\n",
    "Синтаксис:\n",
    "```python\n",
    "dict.fromkeys(iterable[, value])\n",
    "```\n",
    "\n",
    "Параметры:\n",
    "* `iterable` - итерируемая последовательность\n",
    "* `value` - значение по умолчанию; если не указано, то `None`"
   ]
  },
  {
   "cell_type": "code",
   "execution_count": 15,
   "id": "9ecc15a8",
   "metadata": {},
   "outputs": [
    {
     "data": {
      "text/plain": [
       "{'one': None, 'two': None, 'three': None, 'four': None}"
      ]
     },
     "execution_count": 15,
     "metadata": {},
     "output_type": "execute_result"
    }
   ],
   "source": [
    "x = dict.fromkeys(['one', 'two', 'three', 'four'])\n",
    "x"
   ]
  },
  {
   "cell_type": "code",
   "execution_count": 16,
   "id": "1961740e",
   "metadata": {},
   "outputs": [
    {
     "data": {
      "text/plain": [
       "{'one': 1234, 'two': 1234, 'three': 1234, 'four': 1234}"
      ]
     },
     "execution_count": 16,
     "metadata": {},
     "output_type": "execute_result"
    }
   ],
   "source": [
    "x = dict.fromkeys(['one', 'two', 'three', 'four'], 1234)\n",
    "x"
   ]
  },
  {
   "cell_type": "markdown",
   "id": "8b8545d9",
   "metadata": {},
   "source": [
    "Воспроизведение метода `fromkeys` генератором словаря."
   ]
  },
  {
   "cell_type": "code",
   "execution_count": 17,
   "id": "92e90d94",
   "metadata": {},
   "outputs": [
    {
     "data": {
      "text/plain": [
       "{'key1': 0, 'key2': 0, 'key3': 0, 'key4': 0, 'key5': 0}"
      ]
     },
     "execution_count": 17,
     "metadata": {},
     "output_type": "execute_result"
    }
   ],
   "source": [
    "keys = ['key1', 'key2', 'key3', 'key4', 'key5']\n",
    "def_val = 0\n",
    "{key: def_val for key in keys}"
   ]
  },
  {
   "cell_type": "markdown",
   "id": "1ff73a7a",
   "metadata": {},
   "source": [
    "*Пример*: есть список с повторяющимися значениями и необходимо узнать сколько раз какой элемент повторяется в этом списке. Результат получим в виде словаря, где уникальный элемент списка будет ключом, а количество повторений - значением."
   ]
  },
  {
   "cell_type": "code",
   "execution_count": 18,
   "id": "89e58cc9",
   "metadata": {},
   "outputs": [
    {
     "name": "stdout",
     "output_type": "stream",
     "text": [
      "{1, 3, 7, 9, 13}\n",
      "{1: 0, 3: 0, 7: 0, 9: 0, 13: 0}\n",
      "{1: 4, 3: 2, 7: 3, 9: 2, 13: 1}\n"
     ]
    }
   ],
   "source": [
    "# имеем список \n",
    "lst = [9, 13, 1, 3, 7, 3, 1, 1, 7, 1, 7, 9]\n",
    "\n",
    "# создаем ключи будущего словаря (множество set() \n",
    "# может иметь только уникальные элементы)\n",
    "key = set(lst)\n",
    "print(key)\n",
    "\n",
    "# создаем словарь с ключами и началными счетчиками, установленными в 0\n",
    "d = dict.fromkeys(key, 0)\n",
    "print(d)\n",
    "\n",
    "for x in lst:\n",
    "    d[x] += 1\n",
    "    \n",
    "print(d)"
   ]
  },
  {
   "cell_type": "markdown",
   "id": "135fc22a",
   "metadata": {},
   "source": [
    "### С помощью генераторов словарей"
   ]
  },
  {
   "cell_type": "code",
   "execution_count": 19,
   "id": "1fe18853",
   "metadata": {},
   "outputs": [
    {
     "data": {
      "text/plain": [
       "{0: 0, 1: 1, 2: 4, 3: 9, 4: 16, 5: 25, 6: 36}"
      ]
     },
     "execution_count": 19,
     "metadata": {},
     "output_type": "execute_result"
    }
   ],
   "source": [
    "{a: a ** 2 for a in range(7)}"
   ]
  },
  {
   "cell_type": "markdown",
   "id": "c4eedbc0",
   "metadata": {},
   "source": [
    "#### Создание словаря из двух колекций"
   ]
  },
  {
   "cell_type": "code",
   "execution_count": 20,
   "id": "1764b5fd",
   "metadata": {},
   "outputs": [
    {
     "data": {
      "text/plain": [
       "{'a': 1, 'b': 2, 'c': 3}"
      ]
     },
     "execution_count": 20,
     "metadata": {},
     "output_type": "execute_result"
    }
   ],
   "source": [
    "# словарь генерируется из 2-х списков\n",
    "{x: y for x, y in zip(['a', 'b', 'c'], [1, 2, 3])}"
   ]
  },
  {
   "cell_type": "code",
   "execution_count": 21,
   "id": "04fa5a6a",
   "metadata": {},
   "outputs": [
    {
     "data": {
      "text/plain": [
       "{'a': 1, 'b': 2, 'c': 3}"
      ]
     },
     "execution_count": 21,
     "metadata": {},
     "output_type": "execute_result"
    }
   ],
   "source": [
    "# из тупля и листа\n",
    "{x: y for x, y in zip(('a', 'b', 'c'), [1, 2, 3])}"
   ]
  },
  {
   "cell_type": "code",
   "execution_count": 22,
   "id": "c3fc5b8c",
   "metadata": {},
   "outputs": [
    {
     "data": {
      "text/plain": [
       "{('1', 'a'): '1a', ('2', 'b'): '2b', ('3', 'c'): '3c'}"
      ]
     },
     "execution_count": 22,
     "metadata": {},
     "output_type": "execute_result"
    }
   ],
   "source": [
    "{(x, y): x + y for x, y in zip('123', 'abc')}"
   ]
  },
  {
   "cell_type": "markdown",
   "id": "7c71a481",
   "metadata": {},
   "source": [
    "*Пример*: поменять местами ключ и значение."
   ]
  },
  {
   "cell_type": "code",
   "execution_count": 23,
   "id": "256f9e37",
   "metadata": {
    "scrolled": true
   },
   "outputs": [
    {
     "data": {
      "text/plain": [
       "{1: 'a', 2: 'b', 3: 'c', 4: 'd', 5: 'e'}"
      ]
     },
     "execution_count": 23,
     "metadata": {},
     "output_type": "execute_result"
    }
   ],
   "source": [
    "d = {'a': 1, 'b': 2, 'c': 3, 'd': 4, 'e': 5}\n",
    "{y: x for x, y in d.items()}"
   ]
  },
  {
   "cell_type": "markdown",
   "id": "10cf571f",
   "metadata": {},
   "source": [
    "*Пример*: Фильтровать словарь по ключу и/или значению."
   ]
  },
  {
   "cell_type": "code",
   "execution_count": 24,
   "id": "5ba77f16",
   "metadata": {},
   "outputs": [
    {
     "data": {
      "text/plain": [
       "{'c': 3, 'e': 5}"
      ]
     },
     "execution_count": 24,
     "metadata": {},
     "output_type": "execute_result"
    }
   ],
   "source": [
    "d = {'a': 1, 'b': 2, 'c': 3, 'd': 4, 'e': 5}\n",
    "\n",
    "# отберем элементы словаря, ключи которых имеют значения 'a' или \n",
    "# 'c' или 'e', а значения этих ключей должны быть больше 1 \n",
    "\n",
    "{key: val for key, val in d.items() if key in ('a', 'c', 'e') and val > 1}"
   ]
  },
  {
   "cell_type": "markdown",
   "id": "717bf9be",
   "metadata": {},
   "source": [
    "*Пример*: Удалить дубликаты словарей из списка с определенным одинаковым ключом."
   ]
  },
  {
   "cell_type": "code",
   "execution_count": 25,
   "id": "8fcbcc6c",
   "metadata": {},
   "outputs": [
    {
     "data": {
      "text/plain": [
       "[{'uuid': 0, 'nik': 'alex', 'years': 13},\n",
       " {'uuid': 1, 'nik': 'jack', 'birthday': 10},\n",
       " {'uuid': 3, 'nik': 'lily', 'birthday': 5},\n",
       " {'uuid': 4, 'nik': 'moo', 'birthday': 9}]"
      ]
     },
     "execution_count": 25,
     "metadata": {},
     "output_type": "execute_result"
    }
   ],
   "source": [
    "data = [\n",
    "{'uuid': 0, 'nik': 'alex', 'years': 13},\n",
    "{'uuid': 1, 'nik': 'fred', 'birthday': 15},\n",
    "{'uuid': 1, 'nik': 'joy', 'birthday': 8},\n",
    "{'uuid': 3, 'nik': 'lily', 'birthday': 5},\n",
    "{'uuid': 4, 'nik': 'moo', 'birthday': 9},\n",
    "{'uuid': 1, 'nik': 'jack', 'birthday': 10},\n",
    "]\n",
    "\n",
    "new_data = {d['uuid']: d for d in data}.values()\n",
    "list(new_data)"
   ]
  },
  {
   "cell_type": "code",
   "execution_count": null,
   "id": "e23a884e",
   "metadata": {},
   "outputs": [],
   "source": []
  },
  {
   "cell_type": "code",
   "execution_count": null,
   "id": "8d6e8151",
   "metadata": {},
   "outputs": [],
   "source": []
  },
  {
   "cell_type": "markdown",
   "id": "e1bdaee9",
   "metadata": {},
   "source": [
    "## Списки-представления словаря\n",
    "\n",
    "Словарь содержит очень полезные методы, которые называются списки-представления \n",
    "* `dict.keys()` -- представление ключей словаря, \n",
    "* `dict.values()`-- представление значений словаря, \n",
    "* `dict.items()` -- список-представление в виде кортежа (key, value), \n",
    "\n",
    "которые изменяются динамически. Это значит, что все изменения, такие как удаление, изменение или добавление значений в словаре сразу отражаются на соответствующем представлении.\n",
    "\n",
    "Представления словаря могут быть использованы для перебора в цикле для получения соответствующих значений и проверки на вхождение/принадлежность элементов к представлению."
   ]
  },
  {
   "cell_type": "markdown",
   "id": "19bc777f",
   "metadata": {},
   "source": [
    "Порядок ключей `dict.keys()` и значений `dict.values()` словаря гарантированно являются порядком вставки в словарь. Это позволяет создавать такие пары как `(value, key)`."
   ]
  },
  {
   "cell_type": "code",
   "execution_count": 26,
   "id": "47c12ac2",
   "metadata": {},
   "outputs": [
    {
     "name": "stdout",
     "output_type": "stream",
     "text": [
      "{1: 1, 2: 2, 3: 3}\n",
      "[(1, 1), (2, 2), (3, 3)]\n",
      "[(1, 1), (2, 2), (3, 3)]\n"
     ]
    }
   ],
   "source": [
    "d = {1: 1, 2: 2, 3: 3}\n",
    "\n",
    "# С помощью функции `zip()`\n",
    "pairs1 = zip(d.values(), d.keys())\n",
    "\n",
    "# С помощью выражения списка\n",
    "pairs2 = [(v, k) for (k, v) in d.items()]\n",
    "\n",
    "print(d)\n",
    "print(list(pairs1))\n",
    "print(pairs2)"
   ]
  },
  {
   "cell_type": "markdown",
   "id": "47ed071a",
   "metadata": {},
   "source": [
    "Представления словарей поддерживают операции:\n",
    "\n",
    "* `len(dictview)`:\n",
    "вернет количество записей в словаре.\n",
    "\n",
    "* `iter(dictview)`:\n",
    "возвращает итератор по ключам `dict.keys()`, значениям `dict.values()` или элементам `dict.items()`. В последнем случае представление будет в виде списка кортежей `(key, value)`. Итераторы представлений при добавлении или удалении записей в словаре могут вызвать ошибку `RuntimeError` или не выполнить итерацию по всем записям.\n",
    "\n",
    "* `x in dictview`:\n",
    "вернет `True` если значение элемента `x` присутствует в представлении ключей, значений или элементов словаря. В последнем случае `x` должен быть кортежем `(key, value)`.\n",
    "\n",
    "* `reversed(dictview)`:\n",
    "вернет обратный итератор по ключам, значениям или элементам словаря. Представление будет повторяться в обратном порядке вставки.\n",
    "\n",
    "* `dictview.mapping`\n",
    "Атрибут представления словаря `dictview.mapping` возвращает `types.MappingProxyType`, который обертывает исходный словарь, на который ссылается представление."
   ]
  },
  {
   "cell_type": "markdown",
   "id": "f3afd138",
   "metadata": {},
   "source": [
    "### `dict.keys()`\n",
    "\n",
    "возвращает новый список-представление всех ключей `dict_keys`, содержащихся в словаре dict.\n",
    "\n",
    "Список-представление ключей dict_keys, является динамичным объектом. Это значит, что все изменения, такие как удаление или добавление ключей в словаре сразу отражаются на этом представлении."
   ]
  },
  {
   "cell_type": "code",
   "execution_count": 27,
   "id": "cae7f9c2",
   "metadata": {},
   "outputs": [
    {
     "data": {
      "text/plain": [
       "dict_keys(['one', 'two', 'three', 'four'])"
      ]
     },
     "execution_count": 27,
     "metadata": {},
     "output_type": "execute_result"
    }
   ],
   "source": [
    "x = {'one': 1, 'two': 2, 'three': 3, 'four': 4}\n",
    "keys = x.keys()\n",
    "keys"
   ]
  },
  {
   "cell_type": "code",
   "execution_count": 28,
   "id": "3bbcfaa7",
   "metadata": {},
   "outputs": [
    {
     "data": {
      "text/plain": [
       "['one', 'two', 'three', 'four']"
      ]
     },
     "execution_count": 28,
     "metadata": {},
     "output_type": "execute_result"
    }
   ],
   "source": [
    "list(keys)"
   ]
  },
  {
   "cell_type": "markdown",
   "id": "2df900af",
   "metadata": {},
   "source": [
    "Производим операции со словарем `x`, а все отражается на списке-представлении `keys`"
   ]
  },
  {
   "cell_type": "code",
   "execution_count": 29,
   "id": "77ce442f",
   "metadata": {},
   "outputs": [
    {
     "data": {
      "text/plain": [
       "dict_keys(['one', 'two', 'three', 'four', 'ten'])"
      ]
     },
     "execution_count": 29,
     "metadata": {},
     "output_type": "execute_result"
    }
   ],
   "source": [
    "x['ten'] = 10\n",
    "keys"
   ]
  },
  {
   "cell_type": "code",
   "execution_count": 30,
   "id": "7218bfe5",
   "metadata": {},
   "outputs": [
    {
     "data": {
      "text/plain": [
       "dict_keys(['one', 'two', 'four', 'ten'])"
      ]
     },
     "execution_count": 30,
     "metadata": {},
     "output_type": "execute_result"
    }
   ],
   "source": [
    "del x['three']\n",
    "keys"
   ]
  },
  {
   "cell_type": "markdown",
   "id": "5abba4aa",
   "metadata": {},
   "source": [
    "Новое в версии 3.10\n",
    "\n",
    "Представления `dict.keys()`поддерживает операции, доступные для множеств `set`"
   ]
  },
  {
   "cell_type": "code",
   "execution_count": 31,
   "id": "5d6e7ce4",
   "metadata": {},
   "outputs": [
    {
     "data": {
      "text/plain": [
       "{'bacon', 'eggs'}"
      ]
     },
     "execution_count": 31,
     "metadata": {},
     "output_type": "execute_result"
    }
   ],
   "source": [
    "dishes = {'eggs': 2, 'sausage': 1, 'bacon': 1, 'spam': 500}\n",
    "\n",
    "keys = dishes.keys()\n",
    "\n",
    "keys & {'eggs', 'bacon', 'salad'}"
   ]
  },
  {
   "cell_type": "code",
   "execution_count": 32,
   "id": "e393c23d",
   "metadata": {},
   "outputs": [
    {
     "data": {
      "text/plain": [
       "{'bacon', 'eggs', 'juice', 'spam'}"
      ]
     },
     "execution_count": 32,
     "metadata": {},
     "output_type": "execute_result"
    }
   ],
   "source": [
    "keys ^ {'sausage', 'juice'}"
   ]
  },
  {
   "cell_type": "markdown",
   "id": "3e928ef3",
   "metadata": {},
   "source": [
    "### `dict.values()`\n",
    "\n",
    "Возвращает новый список-представление всех значений `dict_values`, содержащихся в словаре `dict`.\n",
    "\n",
    "Список-представление значений `dict_values`, является динамичным объектом. Это значит, что все изменения, такие как удаление, изменение или добавление значений в словаре сразу отражаются на этом представлении."
   ]
  },
  {
   "cell_type": "code",
   "execution_count": 33,
   "id": "c4363250",
   "metadata": {},
   "outputs": [
    {
     "data": {
      "text/plain": [
       "dict_values([1, 2, 3, 4])"
      ]
     },
     "execution_count": 33,
     "metadata": {},
     "output_type": "execute_result"
    }
   ],
   "source": [
    "x = {'one': 1, 'two': 2, 'three': 3, 'four': 4}\n",
    "values = x.values()\n",
    "values"
   ]
  },
  {
   "cell_type": "code",
   "execution_count": 34,
   "id": "e77dbc1a",
   "metadata": {},
   "outputs": [
    {
     "data": {
      "text/plain": [
       "[1, 2, 3, 4]"
      ]
     },
     "execution_count": 34,
     "metadata": {},
     "output_type": "execute_result"
    }
   ],
   "source": [
    "list(values)"
   ]
  },
  {
   "cell_type": "code",
   "execution_count": 35,
   "id": "fed3bbb4",
   "metadata": {},
   "outputs": [
    {
     "data": {
      "text/plain": [
       "dict_values([0, 2, 3, 4])"
      ]
     },
     "execution_count": 35,
     "metadata": {},
     "output_type": "execute_result"
    }
   ],
   "source": [
    "x['one'] = 0\n",
    "values"
   ]
  },
  {
   "cell_type": "code",
   "execution_count": 36,
   "id": "5fa3ca75",
   "metadata": {},
   "outputs": [
    {
     "data": {
      "text/plain": [
       "dict_values([0, 2, 3, 4, 10])"
      ]
     },
     "execution_count": 36,
     "metadata": {},
     "output_type": "execute_result"
    }
   ],
   "source": [
    "x['ten'] = 10\n",
    "values"
   ]
  },
  {
   "cell_type": "code",
   "execution_count": 37,
   "id": "8806e24f",
   "metadata": {},
   "outputs": [
    {
     "data": {
      "text/plain": [
       "dict_values([0, 2, 4, 10])"
      ]
     },
     "execution_count": 37,
     "metadata": {},
     "output_type": "execute_result"
    }
   ],
   "source": [
    "del x['three']\n",
    "values"
   ]
  },
  {
   "cell_type": "markdown",
   "id": "4d80a61e",
   "metadata": {},
   "source": [
    "Сравнение на равенство между одним представлением `dict.values()` и другим всегда вернется `False`. Это также относится и к сравнению с самим собой:"
   ]
  },
  {
   "cell_type": "code",
   "execution_count": 38,
   "id": "8fa4d69b",
   "metadata": {},
   "outputs": [
    {
     "data": {
      "text/plain": [
       "False"
      ]
     },
     "execution_count": 38,
     "metadata": {},
     "output_type": "execute_result"
    }
   ],
   "source": [
    "d = {'a': 1}\n",
    "d.values() == d.values()"
   ]
  },
  {
   "cell_type": "markdown",
   "id": "d54dce33",
   "metadata": {},
   "source": [
    "### `dict.items()`\n",
    "Возвращает новый список-представление `dict_items` пар элементов словаря `dict`, такой как `(key, value)` Другими словами возвращает список кортежей вида `(key, value)`, состоящий из элементов словаря.\n",
    "\n",
    "Список-представление `dict_items`, является динамичным объектом. Это значит, что все изменения в словаре сразу отражаются на этом представлении."
   ]
  },
  {
   "cell_type": "code",
   "execution_count": 39,
   "id": "20431888",
   "metadata": {},
   "outputs": [
    {
     "data": {
      "text/plain": [
       "dict_items([('one', 1), ('two', 2), ('three', 3), ('four', 4)])"
      ]
     },
     "execution_count": 39,
     "metadata": {},
     "output_type": "execute_result"
    }
   ],
   "source": [
    "x = {'one': 1, 'two': 2, 'three': 3, 'four': 4}\n",
    "items = x.items()\n",
    "items"
   ]
  },
  {
   "cell_type": "code",
   "execution_count": 40,
   "id": "7a921ba4",
   "metadata": {},
   "outputs": [
    {
     "data": {
      "text/plain": [
       "[('one', 1), ('two', 2), ('three', 3), ('four', 4)]"
      ]
     },
     "execution_count": 40,
     "metadata": {},
     "output_type": "execute_result"
    }
   ],
   "source": [
    "list(items)"
   ]
  },
  {
   "cell_type": "markdown",
   "id": "3a03f524",
   "metadata": {},
   "source": [
    "Производим операции со словарем `x`, а все  отражается на списке-представлении `dict_items`"
   ]
  },
  {
   "cell_type": "code",
   "execution_count": 41,
   "id": "cc61eaff",
   "metadata": {},
   "outputs": [
    {
     "data": {
      "text/plain": [
       "dict_items([('one', 0), ('two', 2), ('three', 3), ('four', 4)])"
      ]
     },
     "execution_count": 41,
     "metadata": {},
     "output_type": "execute_result"
    }
   ],
   "source": [
    "x['one'] = 0\n",
    "items"
   ]
  },
  {
   "cell_type": "code",
   "execution_count": 42,
   "id": "a89f00c2",
   "metadata": {},
   "outputs": [
    {
     "data": {
      "text/plain": [
       "dict_items([('one', 0), ('two', 2), ('three', 3), ('four', 4), ('ten', 10)])"
      ]
     },
     "execution_count": 42,
     "metadata": {},
     "output_type": "execute_result"
    }
   ],
   "source": [
    "x['ten'] = 10\n",
    "items"
   ]
  },
  {
   "cell_type": "code",
   "execution_count": 43,
   "id": "5f9902f3",
   "metadata": {},
   "outputs": [
    {
     "data": {
      "text/plain": [
       "dict_items([('one', 0), ('two', 2), ('four', 4), ('ten', 10)])"
      ]
     },
     "execution_count": 43,
     "metadata": {},
     "output_type": "execute_result"
    }
   ],
   "source": [
    "del x['three']\n",
    "items"
   ]
  },
  {
   "cell_type": "markdown",
   "id": "a2ad34ce",
   "metadata": {},
   "source": [
    "Новое в версии 3.10\n",
    "\n",
    "Представления `dict.items()` поддерживает операции, доступные для множеств `set`\n",
    "Если значения `dict.keys()` являются хешируемыми, то и парные кортежи `(key, value)`, получаемые в результате метода `dict.items()`, являются уникальными и хешируемыми."
   ]
  },
  {
   "cell_type": "markdown",
   "id": "cb10087c",
   "metadata": {},
   "source": [
    "## Сранение словарей\n",
    "\n",
    "* Словари считаются равными тогда и только тогда, когда они имеют одинаковые пары (key, value). Равенство не зависит от порядка следования ключей.\n",
    "* Такие сравнения как `<`, `<=`, `>=`, `>` поднимают исключение `TypeError`."
   ]
  },
  {
   "cell_type": "code",
   "execution_count": 44,
   "id": "74d56e50",
   "metadata": {},
   "outputs": [
    {
     "name": "stdout",
     "output_type": "stream",
     "text": [
      "{2: 'two', 1: 'one'}\n",
      "{1: 'one', 2: 'two'}\n"
     ]
    },
    {
     "data": {
      "text/plain": [
       "True"
      ]
     },
     "execution_count": 44,
     "metadata": {},
     "output_type": "execute_result"
    }
   ],
   "source": [
    "d1 = {2: \"two\", 1: \"one\"}\n",
    "d2 = {1: \"one\", 2: \"two\"}\n",
    "\n",
    "print(d1)\n",
    "print(d2)\n",
    "\n",
    "d1 == d2"
   ]
  },
  {
   "cell_type": "markdown",
   "id": "c5e9c990",
   "metadata": {},
   "source": [
    "## Свойства типа данных словарь `dict`\n",
    "\n",
    "* Словари гарантированно сохраняют порядок вставки элементов (С версии Python-3.7).\n",
    "* Обновление ключа не влияет на порядок расположения элементов словаря.\n",
    "* Ключи, добавленные после удаления, вставляются в конец словаря.\n",
    "* Словари и словарные представления стали обратимы. Другими словами их можно развернуть с сохранением порядка вставки элементов. Не путать с обратной сортировкой. (С версии Python-3.8)\n",
    "*  Cписки-представления обеспечивают динамическое представление записей словаря. То есть при изменении словаря они отражают эти изменения."
   ]
  },
  {
   "cell_type": "code",
   "execution_count": 45,
   "id": "4d4109e4",
   "metadata": {},
   "outputs": [
    {
     "data": {
      "text/plain": [
       "{'one': 1, 'two': 2, 'three': 3, 'four': 4}"
      ]
     },
     "execution_count": 45,
     "metadata": {},
     "output_type": "execute_result"
    }
   ],
   "source": [
    "d = {\"one\": 1, \"two\": 2, \"three\": 3, \"four\": 4}\n",
    "d"
   ]
  },
  {
   "cell_type": "code",
   "execution_count": 46,
   "id": "2afd0f08",
   "metadata": {},
   "outputs": [
    {
     "name": "stdout",
     "output_type": "stream",
     "text": [
      "['one', 'two', 'three', 'four']\n",
      "[1, 2, 3, 4]\n"
     ]
    }
   ],
   "source": [
    "# гарантированное сохранение порядка вставки\n",
    "\n",
    "print(list(d))\n",
    "\n",
    "print(list(d.values()))"
   ]
  },
  {
   "cell_type": "code",
   "execution_count": 47,
   "id": "33f570e1",
   "metadata": {},
   "outputs": [
    {
     "data": {
      "text/plain": [
       "{'one': 42, 'two': 2, 'three': 3, 'four': 4}"
      ]
     },
     "execution_count": 47,
     "metadata": {},
     "output_type": "execute_result"
    }
   ],
   "source": [
    "# обновление ключа не влияет на порядок\n",
    "d[\"one\"] = 42\n",
    "d"
   ]
  },
  {
   "cell_type": "code",
   "execution_count": 48,
   "id": "217e6790",
   "metadata": {},
   "outputs": [
    {
     "data": {
      "text/plain": [
       "{'one': 42, 'three': 3, 'four': 4, 'two': None}"
      ]
     },
     "execution_count": 48,
     "metadata": {},
     "output_type": "execute_result"
    }
   ],
   "source": [
    "# После удаления, ключ вставляются в конец словаря\n",
    "del d[\"two\"]\n",
    "d[\"two\"] = None\n",
    "d"
   ]
  },
  {
   "cell_type": "markdown",
   "id": "270a94f4",
   "metadata": {},
   "source": [
    "Словари и словарные представления стали обратимы:"
   ]
  },
  {
   "cell_type": "code",
   "execution_count": 49,
   "id": "2a25cc1c",
   "metadata": {},
   "outputs": [
    {
     "data": {
      "text/plain": [
       "{'one': 1, 'two': 2, 'three': 3, 'four': 4}"
      ]
     },
     "execution_count": 49,
     "metadata": {},
     "output_type": "execute_result"
    }
   ],
   "source": [
    "d = {\"one\": 1, \"two\": 2, \"three\": 3, \"four\": 4}\n",
    "d"
   ]
  },
  {
   "cell_type": "code",
   "execution_count": 50,
   "id": "a56832e8",
   "metadata": {},
   "outputs": [
    {
     "data": {
      "text/plain": [
       "['four', 'three', 'two', 'one']"
      ]
     },
     "execution_count": 50,
     "metadata": {},
     "output_type": "execute_result"
    }
   ],
   "source": [
    "list(reversed(d))"
   ]
  },
  {
   "cell_type": "code",
   "execution_count": 51,
   "id": "1eb3688c",
   "metadata": {},
   "outputs": [
    {
     "data": {
      "text/plain": [
       "[4, 3, 2, 1]"
      ]
     },
     "execution_count": 51,
     "metadata": {},
     "output_type": "execute_result"
    }
   ],
   "source": [
    "list(reversed(d.values()))"
   ]
  },
  {
   "cell_type": "code",
   "execution_count": 52,
   "id": "9b6236cc",
   "metadata": {},
   "outputs": [
    {
     "data": {
      "text/plain": [
       "[('four', 4), ('three', 3), ('two', 2), ('one', 1)]"
      ]
     },
     "execution_count": 52,
     "metadata": {},
     "output_type": "execute_result"
    }
   ],
   "source": [
    "list(reversed(d.items()))"
   ]
  }
 ],
 "metadata": {
  "kernelspec": {
   "display_name": "Python 3 (ipykernel)",
   "language": "python",
   "name": "python3"
  },
  "language_info": {
   "codemirror_mode": {
    "name": "ipython",
    "version": 3
   },
   "file_extension": ".py",
   "mimetype": "text/x-python",
   "name": "python",
   "nbconvert_exporter": "python",
   "pygments_lexer": "ipython3",
   "version": "3.10.9"
  }
 },
 "nbformat": 4,
 "nbformat_minor": 5
}
