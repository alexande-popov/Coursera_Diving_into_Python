{
 "cells": [
  {
   "cell_type": "markdown",
   "id": "1aaefe8b",
   "metadata": {},
   "source": [
    "# 1.3 Словари"
   ]
  },
  {
   "cell_type": "code",
   "execution_count": null,
   "id": "6605a85c",
   "metadata": {},
   "outputs": [],
   "source": []
  },
  {
   "cell_type": "code",
   "execution_count": null,
   "id": "273dfd15",
   "metadata": {},
   "outputs": [],
   "source": []
  },
  {
   "cell_type": "markdown",
   "id": "a0396669",
   "metadata": {},
   "source": [
    "**Некоторые правила задания словарей**.\n",
    "\n",
    "1. Пустой словарь: `{}` или `dict()`\n",
    "\n",
    "2. Ключ - значение: в `{}` это `:` , а в `dict()` это `=`\n",
    "\n",
    "3. Ключ в `{}` не может быть строкой без кавычек!\n",
    "\n",
    "4. Ключ в `dict()` не может быть строкой в кавычках. Тут же правило называния ключа такое же как у переменной (не начинать с цифры)\n",
    "\n",
    "5. Словарь можно задать через список перемещенный в `dict()`."
   ]
  },
  {
   "cell_type": "code",
   "execution_count": null,
   "id": "0585a8d6",
   "metadata": {},
   "outputs": [],
   "source": []
  },
  {
   "cell_type": "code",
   "execution_count": null,
   "id": "32fce20a",
   "metadata": {},
   "outputs": [],
   "source": []
  },
  {
   "cell_type": "code",
   "execution_count": null,
   "id": "8ee71a14",
   "metadata": {},
   "outputs": [],
   "source": []
  },
  {
   "cell_type": "code",
   "execution_count": null,
   "id": "aa204081",
   "metadata": {},
   "outputs": [],
   "source": []
  }
 ],
 "metadata": {
  "kernelspec": {
   "display_name": "Python 3",
   "language": "python",
   "name": "python3"
  },
  "language_info": {
   "codemirror_mode": {
    "name": "ipython",
    "version": 3
   },
   "file_extension": ".py",
   "mimetype": "text/x-python",
   "name": "python",
   "nbconvert_exporter": "python",
   "pygments_lexer": "ipython3",
   "version": "3.8.11"
  }
 },
 "nbformat": 4,
 "nbformat_minor": 5
}
