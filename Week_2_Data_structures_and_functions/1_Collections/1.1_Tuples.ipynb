{
 "cells": [
  {
   "cell_type": "markdown",
   "id": "c3939c92",
   "metadata": {},
   "source": [
    "**Оглавление**\n",
    "\n",
    "[Кортежи](#Кортежи-tuple)\n",
    "\n",
    "1. [Создание кортежа](#Создание-кортежа)\n",
    "* [Преобразования объектов к типу tuple](#Преобразования-объектов-к-типу-tuple)\n",
    "\n",
    "2. [Операции с кортежами](#Операции-с-кортежами)"
   ]
  },
  {
   "cell_type": "markdown",
   "id": "30f2b170",
   "metadata": {},
   "source": [
    "# Кортежи: `tuple`\n",
    "\n",
    "Стандартный тип данных последовательности - кортеж.\n",
    "\n",
    "Применение кортежей:\n",
    "\n",
    "* Кортежи являются **неизменяемыми последовательностями** и обычно содержат гетерогенную последовательность элементов, доступ к которым осуществляется через распаковку или индексацию, или даже по атрибуту в случае collections.namedtuple().\n",
    "* Поскольку кортежи неизменяемы, итерация по кортежу выполняется быстрее, чем по списку. Так что есть небольшой прирост производительности. Также занимают меньше места в памяти.\n",
    "* Кортежи, содержащие неизменяемые элементы, могут использоваться в качестве ключа для словаря. Со списками это невозможно.\n",
    "* Если у вас есть данные, которые не изменяются, реализация их в виде кортежа гарантирует, что они остаются защищенными от записи.\n",
    "\n",
    "В Python кортежи представлены классом `tuple()`."
   ]
  },
  {
   "cell_type": "markdown",
   "id": "f3e88dde",
   "metadata": {},
   "source": [
    "## Создание кортежа\n",
    "\n",
    "Кортежи могут быть созданы несколькими способами:\n",
    "\n",
    "1. Используя пару скобок для обозначения пустого кортежа: `()`.\n",
    "\n",
    "\n",
    "2. Использование запятой для одиночного кортежа: `a,` или `(a,)`.\n",
    "\n",
    "\n",
    "3. Разделение элементов запятыми: `a, b, c` или `(a, b, c)`:\n",
    "\n",
    "Обратите внимание, что запятая создает кортеж, а не скобки. Скобки необязательны, за исключением случая пустого кортежа, или когда они необходимы, чтобы избежать синтаксической двусмысленности.\n",
    "Например:\n",
    "* `f(a, b, c)` - вызов функции с тремя аргументами,\n",
    "* `f((a, b, c))` - вызов функции с кортежем в качестве единственного аргумента.\n",
    "\n",
    "\n",
    "4. Использование встроенного класса `tuple()`:\n",
    "* `tuple()` - создаст пустой кортеж,\n",
    "* `tuple(iterable)` - преобразует контейнер, поддерживающим итерацию в кортеж.\n",
    "\n",
    "Конструктор класса `tuple()` создает кортеж, элементы которого совпадают и находятся в том же порядке, что и элементы итератора `iterable`. Аргумент `iterable` может быть либо последовательностью, контейнером поддерживающим итерацию, либо объектом итератора. Если `iterable` уже является кортежем, он возвращается без изменений. Если аргумент не задан, конструктор создает новый пустой кортеж `()`.\n",
    "\n",
    "Для разнородных коллекций данных, где доступ по имени более понятен, чем доступ по индексу, `collections.namedtuple()` может быть более подходящим выбором, чем простой объект кортежа."
   ]
  },
  {
   "cell_type": "code",
   "execution_count": 4,
   "id": "e85bc2b7",
   "metadata": {},
   "outputs": [
    {
     "name": "stdout",
     "output_type": "stream",
     "text": [
      "()\n",
      "()\n"
     ]
    }
   ],
   "source": [
    "# пустой кортеж\n",
    "\n",
    "empty1 = ()\n",
    "empty2 = tuple()\n",
    "\n",
    "print(empty1)\n",
    "print(empty2)"
   ]
  },
  {
   "cell_type": "code",
   "execution_count": 9,
   "id": "6b4fb570",
   "metadata": {},
   "outputs": [
    {
     "name": "stdout",
     "output_type": "stream",
     "text": [
      "('hello',)\n",
      "('hello',)\n"
     ]
    }
   ],
   "source": [
    "# кортеж с одним элементом\n",
    "\n",
    "singleton1 = 'hello', \n",
    "singleton2 = ('hello',)\n",
    "\n",
    "print(singleton1)\n",
    "print(singleton2)"
   ]
  },
  {
   "cell_type": "code",
   "execution_count": 10,
   "id": "594fd73c",
   "metadata": {},
   "outputs": [
    {
     "data": {
      "text/plain": [
       "1"
      ]
     },
     "execution_count": 10,
     "metadata": {},
     "output_type": "execute_result"
    }
   ],
   "source": [
    "len(singleton1)"
   ]
  },
  {
   "cell_type": "code",
   "execution_count": null,
   "id": "b6543990",
   "metadata": {},
   "outputs": [],
   "source": []
  },
  {
   "cell_type": "code",
   "execution_count": 12,
   "id": "a46bba0e",
   "metadata": {},
   "outputs": [
    {
     "data": {
      "text/plain": [
       "(12345, 54321, 'hello!')"
      ]
     },
     "execution_count": 12,
     "metadata": {},
     "output_type": "execute_result"
    }
   ],
   "source": [
    "t = 12345, 54321, 'hello!'\n",
    "t"
   ]
  },
  {
   "cell_type": "code",
   "execution_count": 13,
   "id": "a3e21107",
   "metadata": {},
   "outputs": [
    {
     "data": {
      "text/plain": [
       "((12345, 54321, 'hello!'), (1, 2, 3, 4, 5))"
      ]
     },
     "execution_count": 13,
     "metadata": {},
     "output_type": "execute_result"
    }
   ],
   "source": [
    "u = t, (1, 2, 3, 4, 5)\n",
    "u"
   ]
  },
  {
   "cell_type": "code",
   "execution_count": 14,
   "id": "ac2b6832",
   "metadata": {},
   "outputs": [
    {
     "data": {
      "text/plain": [
       "12345"
      ]
     },
     "execution_count": 14,
     "metadata": {},
     "output_type": "execute_result"
    }
   ],
   "source": [
    "# обращение к элементу кортежа по индексу\n",
    "t[0]"
   ]
  },
  {
   "cell_type": "code",
   "execution_count": 15,
   "id": "2cf5f724",
   "metadata": {},
   "outputs": [],
   "source": [
    "# Кортежи неизменяемы:\n",
    "\n",
    "# t[0] = 88888\n",
    "# Traceback (most recent call last):\n",
    "#   File \"<stdin>\", line 1, in <module>\n",
    "# TypeError: 'tuple' object does not support item assignment"
   ]
  },
  {
   "cell_type": "code",
   "execution_count": 18,
   "id": "5f96ecdb",
   "metadata": {},
   "outputs": [
    {
     "name": "stdout",
     "output_type": "stream",
     "text": [
      "([1, 2, 3], [3, 2, 1])\n",
      "([1, 2, 3], [3, 2, 1, 'A'])\n"
     ]
    }
   ],
   "source": [
    "# Кортежи могут содержать изменяемые объекты:\n",
    "v = ([1, 2, 3], [3, 2, 1])\n",
    "print(v)\n",
    "\n",
    "v[1].append(\"A\")\n",
    "print(v)"
   ]
  },
  {
   "cell_type": "markdown",
   "id": "52ebb83a",
   "metadata": {},
   "source": [
    "### Преобразования объектов к типу `tuple`"
   ]
  },
  {
   "cell_type": "code",
   "execution_count": 19,
   "id": "6f423c77",
   "metadata": {},
   "outputs": [
    {
     "data": {
      "text/plain": [
       "('a', 'b', 'c')"
      ]
     },
     "execution_count": 19,
     "metadata": {},
     "output_type": "execute_result"
    }
   ],
   "source": [
    "# Преобразование строки str в кортеж тип tuple\n",
    "\n",
    "tuple('abc')"
   ]
  },
  {
   "cell_type": "code",
   "execution_count": 20,
   "id": "aa24955d",
   "metadata": {},
   "outputs": [
    {
     "data": {
      "text/plain": [
       "(1, 2, 3)"
      ]
     },
     "execution_count": 20,
     "metadata": {},
     "output_type": "execute_result"
    }
   ],
   "source": [
    "# Преобразование списка list в кортеж тип tuple\n",
    "\n",
    "tuple([1, 2, 3])"
   ]
  },
  {
   "cell_type": "code",
   "execution_count": 21,
   "id": "f6129ed2",
   "metadata": {},
   "outputs": [
    {
     "data": {
      "text/plain": [
       "(1, 2, 3)"
      ]
     },
     "execution_count": 21,
     "metadata": {},
     "output_type": "execute_result"
    }
   ],
   "source": [
    "# Преобразование множества set в кортеж тип tuple\n",
    "tuple({1, 2, 3})"
   ]
  },
  {
   "cell_type": "code",
   "execution_count": 22,
   "id": "67af4791",
   "metadata": {},
   "outputs": [
    {
     "data": {
      "text/plain": [
       "(0, 1, 2, 3, 4)"
      ]
     },
     "execution_count": 22,
     "metadata": {},
     "output_type": "execute_result"
    }
   ],
   "source": [
    "# Преобразование генератора в кортеж тип tuple\n",
    "tuple(range(5))"
   ]
  },
  {
   "cell_type": "code",
   "execution_count": 24,
   "id": "0f9c39c8",
   "metadata": {},
   "outputs": [
    {
     "data": {
      "text/plain": [
       "('a', 'b')"
      ]
     },
     "execution_count": 24,
     "metadata": {},
     "output_type": "execute_result"
    }
   ],
   "source": [
    "# dict to tuple\n",
    "tuple({\"a\": 1, \"b\": 2})"
   ]
  },
  {
   "cell_type": "code",
   "execution_count": 26,
   "id": "8884258a",
   "metadata": {},
   "outputs": [
    {
     "data": {
      "text/plain": [
       "(('a', 1), ('b', 2))"
      ]
     },
     "execution_count": 26,
     "metadata": {},
     "output_type": "execute_result"
    }
   ],
   "source": [
    "# dict to tuple\n",
    "tuple({\"a\": 1, \"b\": 2}.items())"
   ]
  },
  {
   "cell_type": "markdown",
   "id": "a6cec041",
   "metadata": {},
   "source": [
    "## Операции с кортежами\n",
    "\n",
    "\n",
    "* Проверка существования значения: `x in sequences`\n",
    "\n",
    "\n",
    "* Конкатенация (сложение): `sequence1 + sequence2`\n",
    "\n",
    "\n",
    "* Увеличение последовательности в N раз: `sequence * N`\n",
    "\n",
    "\n",
    "* Получение значения элемента по индексу: `sequence[i]` \n",
    "\n",
    "\n",
    "* Получение среза `sequence[i:j]`, получение среза с заданным шагом `sequence[i:j:k]`\n",
    "\n",
    "\n",
    "* Вычисление длины последовательности: `len(sequence)`\n",
    "\n",
    "\n",
    "* Наименьшее/наибольшее значение:` min(sequence)` / `max(sequence)`\n",
    "\n",
    "\n",
    "* Наибольшее значение: \n",
    "\n",
    "\n",
    "* Метод `index()`: позволяет узнать индекс первого вхождения элемента `x` в последовательность `sequence`. Вызывает `ValueError`, когда элемент `x` не найден.\n",
    "\n",
    "\n",
    "* Метод `count()`: позволяет узнать сколько раз указанный элемент появился в последовательности sequence. "
   ]
  },
  {
   "cell_type": "code",
   "execution_count": 28,
   "id": "e63a76a7",
   "metadata": {},
   "outputs": [
    {
     "data": {
      "text/plain": [
       "['__add__',\n",
       " '__class__',\n",
       " '__contains__',\n",
       " '__delattr__',\n",
       " '__dir__',\n",
       " '__doc__',\n",
       " '__eq__',\n",
       " '__format__',\n",
       " '__ge__',\n",
       " '__getattribute__',\n",
       " '__getitem__',\n",
       " '__getnewargs__',\n",
       " '__gt__',\n",
       " '__hash__',\n",
       " '__init__',\n",
       " '__init_subclass__',\n",
       " '__iter__',\n",
       " '__le__',\n",
       " '__len__',\n",
       " '__lt__',\n",
       " '__mul__',\n",
       " '__ne__',\n",
       " '__new__',\n",
       " '__reduce__',\n",
       " '__reduce_ex__',\n",
       " '__repr__',\n",
       " '__rmul__',\n",
       " '__setattr__',\n",
       " '__sizeof__',\n",
       " '__str__',\n",
       " '__subclasshook__',\n",
       " 'count',\n",
       " 'index']"
      ]
     },
     "execution_count": 28,
     "metadata": {},
     "output_type": "execute_result"
    }
   ],
   "source": [
    "dir(tuple)"
   ]
  }
 ],
 "metadata": {
  "kernelspec": {
   "display_name": "Python 3",
   "language": "python",
   "name": "python3"
  },
  "language_info": {
   "codemirror_mode": {
    "name": "ipython",
    "version": 3
   },
   "file_extension": ".py",
   "mimetype": "text/x-python",
   "name": "python",
   "nbconvert_exporter": "python",
   "pygments_lexer": "ipython3",
   "version": "3.8.11"
  }
 },
 "nbformat": 4,
 "nbformat_minor": 5
}
