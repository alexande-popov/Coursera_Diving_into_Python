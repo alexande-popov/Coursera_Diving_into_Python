{
 "cells": [
  {
   "cell_type": "markdown",
   "id": "dd09999c",
   "metadata": {},
   "source": [
    "**Оглавление**\n",
    "\n",
    "[Списки](#[Списки)\n",
    "1. [Создание списка](#Создание-списка)\n",
    "  * [Использование литерала []](#Использование-литерала-[])\n",
    "  * [Использование list](#Использование-list)\n",
    "  * [Использование генераторов списка](#Использование-генераторов-списка)\n",
    "\n",
    "2. [Преобразования последовательностей](#Преобразования-последовательностей)\n",
    "\n",
    "3. [Обращение к элементам списка](#Обращение-к-элементам-списка)\n",
    "  * [Индексы](#Индексы)\n",
    "  * [Распаковка списков](#Распаковка-списков)\n",
    "  * [Перебор элементов](#Перебор-элементов)\n",
    "  * [Вхождение в список](#Вхождение-в-список)\n",
    "  * [Удаление с помощью del](#Удаление-с-помощью-del)\n",
    "4. [Срезы](#Срезы)\n",
    "  * [Вставка, изменение, удаление элементов срезом](#Вставка-изменение-удаление-элементов-срезом)\n",
    "5. [Операции со списками](#Операции-со-списками)\n",
    "  * [Конкатенация](#Конкатенация)\n",
    "  * [Увеличение в n раз](#Увеличение-в-n-раз)\n",
    "  * [Копирование списков](#Копирование-списков)\n",
    "  * [min, max, sum](#min,-max,-sum)\n",
    "  * [Сравнение списков](#Сравнение-списков)\n",
    "6. [Сортировка](#Сортировка)\n",
    "7. [Все методы списков в Python](Все-методы-списков-в-Python)\n",
    "7. [Упаковка функций в список](#Упаковка-функций-в-список)"
   ]
  },
  {
   "cell_type": "markdown",
   "id": "00d62018",
   "metadata": {},
   "source": [
    "# Списки\n",
    "\n",
    "Список — это упорядоченный изменяемый набор объектов (коллекция), хранящихся в одной переменной. Это почти как массив. В отличие от массивов в других языках, у списков нет никаких ограничений на тип переменных, поэтому в них могут храниться разные объекты, в том числе и другие коллекции.\n",
    "\n",
    "В питоне не нужно явно указывать размер списка или вручную выделять на него память. Длину списка можно узнать с помощью встроенной функции `len`. Размер списка хранится в структуре, с помощью которой реализован тип список, поэтому длина вычисляется за константное время.\n",
    "\n",
    "Массивы есть в стандартной библиотеке, модуль `array`."
   ]
  },
  {
   "cell_type": "markdown",
   "id": "1f2a15b8",
   "metadata": {},
   "source": [
    "## Создание списка\n",
    "Чтобы использовать списки, их нужно создать. Создать список можно несколькими способами.\n",
    "* Использовать литерал `[]`.\n",
    "* Обработать любой итерируемый объект (например, строку) встроенной функцией конструктором `list`.\n",
    "* Использовать генератор списка."
   ]
  },
  {
   "cell_type": "code",
   "execution_count": 1,
   "id": "0a98a5f7",
   "metadata": {},
   "outputs": [
    {
     "name": "stdout",
     "output_type": "stream",
     "text": [
      "[] []\n"
     ]
    }
   ],
   "source": [
    "empty_list1 = []\n",
    "empty_list2 = list()\n",
    "\n",
    "print(empty_list1, empty_list2)"
   ]
  },
  {
   "cell_type": "code",
   "execution_count": 2,
   "id": "485ceae1",
   "metadata": {},
   "outputs": [
    {
     "name": "stdout",
     "output_type": "stream",
     "text": [
      "0 \n",
      " 3\n"
     ]
    }
   ],
   "source": [
    "print(\n",
    "    len(empty_list1), '\\n',\n",
    "    len([1, 3, 4])\n",
    ")"
   ]
  },
  {
   "cell_type": "markdown",
   "id": "65bff2b8",
   "metadata": {},
   "source": [
    "### Использование литерала []"
   ]
  },
  {
   "cell_type": "code",
   "execution_count": 3,
   "id": "7e3b9576",
   "metadata": {},
   "outputs": [
    {
     "data": {
      "text/plain": [
       "[1, 2, 3, 4, 5]"
      ]
     },
     "execution_count": 3,
     "metadata": {},
     "output_type": "execute_result"
    }
   ],
   "source": [
    "numbers = [1, 2, 3, 4, 5]\n",
    "numbers"
   ]
  },
  {
   "cell_type": "code",
   "execution_count": 4,
   "id": "09e8cef6",
   "metadata": {},
   "outputs": [
    {
     "data": {
      "text/plain": [
       "['Tom', 'Sam', 'Bob']"
      ]
     },
     "execution_count": 4,
     "metadata": {},
     "output_type": "execute_result"
    }
   ],
   "source": [
    "people = [\"Tom\", \"Sam\", \"Bob\"]\n",
    "people"
   ]
  },
  {
   "cell_type": "code",
   "execution_count": 5,
   "id": "8317b7f0",
   "metadata": {},
   "outputs": [
    {
     "data": {
      "text/plain": [
       "['s', 'p', ['isok'], 2]"
      ]
     },
     "execution_count": 5,
     "metadata": {},
     "output_type": "execute_result"
    }
   ],
   "source": [
    "# разные типы данных\n",
    "\n",
    "l = ['s', 'p', ['isok'], 2]\n",
    "l"
   ]
  },
  {
   "cell_type": "code",
   "execution_count": 6,
   "id": "60904d43",
   "metadata": {},
   "outputs": [
    {
     "data": {
      "text/plain": [
       "[[1, 2, 3], [2, 2, 3], [3, 3, 3]]"
      ]
     },
     "execution_count": 6,
     "metadata": {},
     "output_type": "execute_result"
    }
   ],
   "source": [
    "m = [[1, 2, 3],\n",
    "     [2, 2, 3],\n",
    "     [3, 3, 3]]\n",
    "m"
   ]
  },
  {
   "cell_type": "markdown",
   "id": "ea6877b0",
   "metadata": {},
   "source": [
    "### Использование list\n",
    "\n",
    "Синтаксис:\n",
    "```python\n",
    "list(iterable)\n",
    "```\n",
    "\n",
    "Параметры:\n",
    "* `iterable` - последовательность или объект, поддерживающий итерирование (включая генераторы).\n",
    "\n",
    "Возвращаемое значение:\n",
    "* `list`, изменяемая последовательность с упорядоченными элементами.\n",
    "\n",
    "Описание:\n",
    "* Класс list() создает или преобразует переданный объект, поддерживающий итерирование, в список (изменяемую последовательность с упорядоченными элементами). Элементы в списках упорядочены по очередности их добавления.\n",
    "\n",
    "Если аргумент `iterable` не указан, будет создан пустой список.\n",
    "\n",
    "Конструктор класса `list(iterable)` создает список, элементы которого совпадают и находятся в том же порядке, что и элементы итератора `iterable`. Аргумент `iterable` может быть либо **последовательностью**, **контейнером поддерживающим итерацию**, либо **объектом итератора**. Если аргумент не задан, конструктор создает новый пустой список `[]`.\n",
    "\n",
    "\n",
    "*Примечание:* Список `list` в Python - это швейцарский нож (если так можно выразиться), но в некоторых ситуациях списки менее эффективны чем другие типы данных.\n",
    "\n",
    "* Если код программы многократно использует операцию вхождения в список `list`, то для этой цели лучше использовать множество `set`. Множества `set/frozenset` специально заточены для этой цели.\n",
    "* Когда код программы часто добавляет элементы списка с одной стороны и удаляет с другой стороны (методы с изменяемыми последовательностями это делать позволяют). В этом случае следует использовать класс `deque` который представляет собой *двустороннюю очередь*, которая предназначена для быстрого добавления и удаления элементов с обоих концов последовательности."
   ]
  },
  {
   "cell_type": "code",
   "execution_count": 7,
   "id": "84a6d74b",
   "metadata": {},
   "outputs": [
    {
     "data": {
      "text/plain": [
       "[]"
      ]
     },
     "execution_count": 7,
     "metadata": {},
     "output_type": "execute_result"
    }
   ],
   "source": [
    "list()"
   ]
  },
  {
   "cell_type": "code",
   "execution_count": 8,
   "id": "66e94cf2",
   "metadata": {},
   "outputs": [],
   "source": [
    "# list(1)\n",
    "# TypeError: 'int' object is not iterable"
   ]
  },
  {
   "cell_type": "markdown",
   "id": "06d20244",
   "metadata": {},
   "source": [
    "Если объект `iterable` уже является списком, создается и возвращается копия, аналогичная `iterable[:]`. Многие другие операции также создают списки, в том числе встроенная функция `sorted()`."
   ]
  },
  {
   "cell_type": "code",
   "execution_count": 9,
   "id": "cc8e583b",
   "metadata": {},
   "outputs": [
    {
     "data": {
      "text/plain": [
       "['s', 'p', ['isok'], 2]"
      ]
     },
     "execution_count": 9,
     "metadata": {},
     "output_type": "execute_result"
    }
   ],
   "source": [
    "list(['s', 'p', ['isok'], 2])"
   ]
  },
  {
   "cell_type": "code",
   "execution_count": 10,
   "id": "2ab8c1bf",
   "metadata": {},
   "outputs": [
    {
     "data": {
      "text/plain": [
       "['a', 'b', 'c', 'd']"
      ]
     },
     "execution_count": 10,
     "metadata": {},
     "output_type": "execute_result"
    }
   ],
   "source": [
    "list('abcd')"
   ]
  },
  {
   "cell_type": "code",
   "execution_count": 11,
   "id": "79b14632",
   "metadata": {},
   "outputs": [
    {
     "data": {
      "text/plain": [
       "[0, 1, 2]"
      ]
     },
     "execution_count": 11,
     "metadata": {},
     "output_type": "execute_result"
    }
   ],
   "source": [
    "list(range(3))"
   ]
  },
  {
   "cell_type": "code",
   "execution_count": null,
   "id": "bfce321a",
   "metadata": {},
   "outputs": [],
   "source": []
  },
  {
   "cell_type": "markdown",
   "id": "fedfc769",
   "metadata": {},
   "source": [
    "### Использование генераторов списка"
   ]
  },
  {
   "cell_type": "code",
   "execution_count": 12,
   "id": "a36a7cf7",
   "metadata": {},
   "outputs": [
    {
     "data": {
      "text/plain": [
       "['lll', 'iii', 'sss', 'ttt']"
      ]
     },
     "execution_count": 12,
     "metadata": {},
     "output_type": "execute_result"
    }
   ],
   "source": [
    "[c * 3 for c in 'list']"
   ]
  },
  {
   "cell_type": "code",
   "execution_count": 13,
   "id": "04d3eaf1",
   "metadata": {},
   "outputs": [
    {
     "data": {
      "text/plain": [
       "['lll', 'sss', 'ttt']"
      ]
     },
     "execution_count": 13,
     "metadata": {},
     "output_type": "execute_result"
    }
   ],
   "source": [
    "[c * 3 for c in 'list' if c != 'i']"
   ]
  },
  {
   "cell_type": "code",
   "execution_count": 14,
   "id": "41faaac6",
   "metadata": {},
   "outputs": [
    {
     "data": {
      "text/plain": [
       "['ls', 'lp', 'lm', 'ss', 'sp', 'sm', 'ts', 'tp', 'tm']"
      ]
     },
     "execution_count": 14,
     "metadata": {},
     "output_type": "execute_result"
    }
   ],
   "source": [
    "[c + d for c in 'list' if c != 'i' for d in 'spam' if d != 'a']"
   ]
  },
  {
   "cell_type": "code",
   "execution_count": 15,
   "id": "583fc084",
   "metadata": {},
   "outputs": [
    {
     "data": {
      "text/plain": [
       "[[0, 1, 2, 3, 4],\n",
       " [1, 2, 3, 4, 5],\n",
       " [2, 3, 4, 5, 6],\n",
       " [3, 4, 5, 6, 7],\n",
       " [4, 5, 6, 7, 8]]"
      ]
     },
     "execution_count": 15,
     "metadata": {},
     "output_type": "execute_result"
    }
   ],
   "source": [
    "[[x for x in range(y, y + 5)] for y in range(5)]"
   ]
  },
  {
   "cell_type": "code",
   "execution_count": null,
   "id": "e5651e36",
   "metadata": {},
   "outputs": [],
   "source": []
  },
  {
   "cell_type": "markdown",
   "id": "51a46776",
   "metadata": {},
   "source": [
    "## Преобразования последовательностей"
   ]
  },
  {
   "cell_type": "markdown",
   "id": "bd46aebe",
   "metadata": {},
   "source": [
    "Если объект `iterable` уже является списком, создается и возвращается копия, аналогичная `iterable[:]`. Многие другие операции также создают списки, в том числе встроенная функция `sorted()`."
   ]
  },
  {
   "cell_type": "code",
   "execution_count": 16,
   "id": "d9e21af5",
   "metadata": {},
   "outputs": [
    {
     "data": {
      "text/plain": [
       "[1, '2', None]"
      ]
     },
     "execution_count": 16,
     "metadata": {},
     "output_type": "execute_result"
    }
   ],
   "source": [
    "list([1, '2', None])"
   ]
  },
  {
   "cell_type": "code",
   "execution_count": 17,
   "id": "abf76fd3",
   "metadata": {},
   "outputs": [
    {
     "data": {
      "text/plain": [
       "['a', 'b', 'c', 'd']"
      ]
     },
     "execution_count": 17,
     "metadata": {},
     "output_type": "execute_result"
    }
   ],
   "source": [
    "# Преобразование строки str в список тип list\n",
    "\n",
    "list('abcd')"
   ]
  },
  {
   "cell_type": "code",
   "execution_count": 18,
   "id": "7c14df97",
   "metadata": {},
   "outputs": [
    {
     "data": {
      "text/plain": [
       "[1, 2, 3]"
      ]
     },
     "execution_count": 18,
     "metadata": {},
     "output_type": "execute_result"
    }
   ],
   "source": [
    "# Преобразование кортежа tuple в список тип list\n",
    "\n",
    "list((1, 2, 3))"
   ]
  },
  {
   "cell_type": "code",
   "execution_count": 19,
   "id": "a5112fea",
   "metadata": {},
   "outputs": [
    {
     "data": {
      "text/plain": [
       "[1, 2, 3]"
      ]
     },
     "execution_count": 19,
     "metadata": {},
     "output_type": "execute_result"
    }
   ],
   "source": [
    "# Преобразование множества set в список тип list\n",
    "\n",
    "list({1, 2, 3})"
   ]
  },
  {
   "cell_type": "code",
   "execution_count": 20,
   "id": "d421589d",
   "metadata": {},
   "outputs": [
    {
     "data": {
      "text/plain": [
       "[0, 1, 2, 3]"
      ]
     },
     "execution_count": 20,
     "metadata": {},
     "output_type": "execute_result"
    }
   ],
   "source": [
    "# Преобразование генератора в список тип list\n",
    "\n",
    "list(range(4))"
   ]
  },
  {
   "cell_type": "code",
   "execution_count": 21,
   "id": "ac5fd8c6",
   "metadata": {},
   "outputs": [
    {
     "name": "stdout",
     "output_type": "stream",
     "text": [
      "[55, 11, 25, 15, 9]\n"
     ]
    }
   ],
   "source": [
    "# Преобразуем список строк в список чисел\n",
    "\n",
    "x = ['55', '11', '25', '15', '9']\n",
    "int_list = [int(i) for i in x]\n",
    "print(int_list)"
   ]
  },
  {
   "cell_type": "markdown",
   "id": "927094f5",
   "metadata": {},
   "source": [
    "При преобразовании словаря `dict` в список попадают только ключи."
   ]
  },
  {
   "cell_type": "code",
   "execution_count": 22,
   "id": "0b78460b",
   "metadata": {},
   "outputs": [
    {
     "data": {
      "text/plain": [
       "['apple', 'banana', 'cherry']"
      ]
     },
     "execution_count": 22,
     "metadata": {},
     "output_type": "execute_result"
    }
   ],
   "source": [
    "x = dict(apple='green', banana='yellow', cherry='red')\n",
    "\n",
    "list(x)"
   ]
  },
  {
   "cell_type": "markdown",
   "id": "358da4c5",
   "metadata": {},
   "source": [
    "#### Список в строку str.join \n",
    "Часто бывает полезно преобразовать список в строку, для этого можно использовать метод `str.join()`"
   ]
  },
  {
   "cell_type": "code",
   "execution_count": 23,
   "id": "5d2d9205",
   "metadata": {},
   "outputs": [
    {
     "name": "stdout",
     "output_type": "stream",
     "text": [
      "python, course, coursera\n"
     ]
    }
   ],
   "source": [
    "tag_list = ['python', 'course', 'coursera']\n",
    "\n",
    "print(', '.join(tag_list))"
   ]
  },
  {
   "cell_type": "markdown",
   "id": "668fa2cd",
   "metadata": {},
   "source": [
    "## Обращение к элементам списка\n",
    "\n",
    "### Индексы\n",
    "\n",
    "Для обращения к элементам списка надо использовать индексы, которые представляют номер элемента в списка. Индексы начинаются с нуля."
   ]
  },
  {
   "cell_type": "code",
   "execution_count": 24,
   "id": "63e552a1",
   "metadata": {},
   "outputs": [
    {
     "name": "stdout",
     "output_type": "stream",
     "text": [
      "Tom\n",
      "Sam\n",
      "Bob\n"
     ]
    }
   ],
   "source": [
    "people = [\"Tom\", \"Sam\", \"Bob\"]\n",
    "\n",
    "# получение элементов с начала списка\n",
    "print(people[0])   # Tom\n",
    "print(people[1])   # Sam\n",
    "print(people[2])   # Bob"
   ]
  },
  {
   "cell_type": "code",
   "execution_count": 25,
   "id": "b8bfa3a2",
   "metadata": {},
   "outputs": [
    {
     "name": "stdout",
     "output_type": "stream",
     "text": [
      "Bob\n",
      "Bob\n",
      "Sam\n",
      "Tom\n"
     ]
    }
   ],
   "source": [
    "people = [\"Tom\", \"Sam\", \"Bob\"]\n",
    "\n",
    "# получение элементов с конца списка\n",
    "print(people[-1])   # Bob\n",
    "print(people[len(people)-1])  # Bob\n",
    "print(people[-2])   # Sam\n",
    "print(people[-3])   # Tom"
   ]
  },
  {
   "cell_type": "code",
   "execution_count": 26,
   "id": "8486fce0",
   "metadata": {},
   "outputs": [
    {
     "name": "stdout",
     "output_type": "stream",
     "text": [
      "['Tom', 29]\n",
      "Tom\n",
      "29\n"
     ]
    }
   ],
   "source": [
    "people = [\n",
    "    [\"Tom\", 29],\n",
    "    [\"Alice\", 33],\n",
    "    [\"Bob\", 27]\n",
    "]\n",
    " \n",
    "print(people[0])         # [\"Tom\", 29]\n",
    "print(people[0][0])      # Tom\n",
    "print(people[0][1])      # 29"
   ]
  },
  {
   "cell_type": "markdown",
   "id": "6681ec5b",
   "metadata": {},
   "source": [
    "Для изменения элемента списка достаточно присвоить ему новое значение:"
   ]
  },
  {
   "cell_type": "code",
   "execution_count": 27,
   "id": "31768ab4",
   "metadata": {},
   "outputs": [
    {
     "name": "stdout",
     "output_type": "stream",
     "text": [
      "Mike\n",
      "['Tom', 'Mike', 'Bob']\n"
     ]
    }
   ],
   "source": [
    "people = [\"Tom\", \"Sam\", \"Bob\"]\n",
    " \n",
    "people[1] = \"Mike\"  # изменение второго элемента\n",
    "print(people[1])    # Mike\n",
    "print(people)       # [\"Tom\", \"Mike\", \"Bob\"]"
   ]
  },
  {
   "cell_type": "code",
   "execution_count": 28,
   "id": "e77d3bbf",
   "metadata": {},
   "outputs": [
    {
     "name": "stdout",
     "output_type": "stream",
     "text": [
      "id before 82390528 == id after 82390528\n"
     ]
    }
   ],
   "source": [
    "people = [\"Tom\", \"Sam\", \"Bob\"]\n",
    "id_before = id(people)\n",
    " \n",
    "people[1] = \"Mike\"  # изменение второго элемента\n",
    "id_after = id(people)\n",
    "\n",
    "print(f'id before {id_before} == id after {id_after}')"
   ]
  },
  {
   "cell_type": "markdown",
   "id": "02b38be6",
   "metadata": {},
   "source": [
    "### Распаковка списков"
   ]
  },
  {
   "cell_type": "code",
   "execution_count": 29,
   "id": "18d390c0",
   "metadata": {},
   "outputs": [
    {
     "name": "stdout",
     "output_type": "stream",
     "text": [
      "Tom Mike Bob\n"
     ]
    }
   ],
   "source": [
    "man1, man2, man3 = people\n",
    "\n",
    "print(man1, man2, man3)"
   ]
  },
  {
   "cell_type": "markdown",
   "id": "c8030e92",
   "metadata": {},
   "source": [
    "следует учитывать, что количество переменных должно быть равно числу элементов присваиваемого списка."
   ]
  },
  {
   "cell_type": "code",
   "execution_count": 30,
   "id": "f1215406",
   "metadata": {},
   "outputs": [
    {
     "name": "stdout",
     "output_type": "stream",
     "text": [
      "Tom Mike Bob\n"
     ]
    }
   ],
   "source": [
    "print(*people)"
   ]
  },
  {
   "cell_type": "code",
   "execution_count": 31,
   "id": "4ddda36d",
   "metadata": {},
   "outputs": [
    {
     "name": "stdout",
     "output_type": "stream",
     "text": [
      "0\n",
      "1 2 3 4 5 6 7 8\n",
      "9\n"
     ]
    }
   ],
   "source": [
    "iterable = list(range(10))\n",
    "first, *middle, last = iterable\n",
    "print(first)\n",
    "print(*middle)\n",
    "print(last)"
   ]
  },
  {
   "cell_type": "code",
   "execution_count": 32,
   "id": "554f02fb",
   "metadata": {},
   "outputs": [
    {
     "name": "stdout",
     "output_type": "stream",
     "text": [
      "0\n",
      "[1, 2, 3, 4, 5, 6, 7, 8]\n",
      "9\n"
     ]
    }
   ],
   "source": [
    "# что эквивалентно записи без '*' звездочки (расширенной распаковки)\n",
    "\n",
    "first, middle, last = iterable[0], iterable[1:-1], iterable[-1]\n",
    "print(first)\n",
    "print(middle)\n",
    "print(last)"
   ]
  },
  {
   "cell_type": "markdown",
   "id": "ce9645a9",
   "metadata": {},
   "source": [
    "### Перебор элементов\n",
    "Списки как и строки поддерживают протокол итерации"
   ]
  },
  {
   "cell_type": "code",
   "execution_count": 33,
   "id": "63d28339",
   "metadata": {},
   "outputs": [
    {
     "name": "stdout",
     "output_type": "stream",
     "text": [
      "Tom\n",
      "Sam\n",
      "Bob\n"
     ]
    }
   ],
   "source": [
    "people = [\"Tom\", \"Sam\", \"Bob\"]\n",
    "for person in people:\n",
    "    print(person)"
   ]
  },
  {
   "cell_type": "code",
   "execution_count": 34,
   "id": "dff012e1",
   "metadata": {},
   "outputs": [
    {
     "name": "stdout",
     "output_type": "stream",
     "text": [
      "Tom\n",
      "Sam\n",
      "Bob\n"
     ]
    }
   ],
   "source": [
    "people = [\"Tom\", \"Sam\", \"Bob\"]\n",
    "for i in range(len(people)):\n",
    "    print(people[i])"
   ]
  },
  {
   "cell_type": "code",
   "execution_count": 35,
   "id": "87b68b20",
   "metadata": {},
   "outputs": [
    {
     "name": "stdout",
     "output_type": "stream",
     "text": [
      "Tom\n",
      "Sam\n",
      "Bob\n"
     ]
    }
   ],
   "source": [
    "people = [\"Tom\", \"Sam\", \"Bob\"]\n",
    "i = 0\n",
    "while i < len(people):\n",
    "    print(people[i])    # применяем индекс для получения элемента\n",
    "    i += 1"
   ]
  },
  {
   "cell_type": "code",
   "execution_count": 36,
   "id": "c63fcd4e",
   "metadata": {},
   "outputs": [
    {
     "name": "stdout",
     "output_type": "stream",
     "text": [
      "1 + 2 = 3\n",
      "3 + 4 = 7\n",
      "5 + 6 = 11\n",
      "7 + 8 = 15\n"
     ]
    }
   ],
   "source": [
    "for x, y in [[1, 2], [3, 4], [5, 6], [7, 8]]:\n",
    "    print(x, '+', y, '=', x+y)"
   ]
  },
  {
   "cell_type": "markdown",
   "id": "988f7ddd",
   "metadata": {},
   "source": [
    "Часто бывает нужно получить индекс текущего элемента при итерации. Для этого можно использовать встроенную функцию `enumerate`"
   ]
  },
  {
   "cell_type": "code",
   "execution_count": 37,
   "id": "c5b24b34",
   "metadata": {},
   "outputs": [
    {
     "name": "stdout",
     "output_type": "stream",
     "text": [
      "#0 list\n",
      "#1 tuple\n",
      "#2 dict\n",
      "#3 set\n"
     ]
    }
   ],
   "source": [
    "collections = ['list', 'tuple', 'dict', 'set']\n",
    "\n",
    "for idx, collection in enumerate(collections):\n",
    "    print('#{} {}'.format(idx, collection))"
   ]
  },
  {
   "cell_type": "code",
   "execution_count": null,
   "id": "40ea8acd",
   "metadata": {},
   "outputs": [],
   "source": []
  },
  {
   "cell_type": "markdown",
   "id": "826b8f4a",
   "metadata": {},
   "source": [
    "### Вхождение в список"
   ]
  },
  {
   "cell_type": "code",
   "execution_count": 38,
   "id": "364baa97",
   "metadata": {},
   "outputs": [
    {
     "data": {
      "text/plain": [
       "True"
      ]
     },
     "execution_count": 38,
     "metadata": {},
     "output_type": "execute_result"
    }
   ],
   "source": [
    "2 in [1, 2, 3]"
   ]
  },
  {
   "cell_type": "code",
   "execution_count": 39,
   "id": "1a6cb0db",
   "metadata": {},
   "outputs": [
    {
     "data": {
      "text/plain": [
       "True"
      ]
     },
     "execution_count": 39,
     "metadata": {},
     "output_type": "execute_result"
    }
   ],
   "source": [
    "5 not in [1, 2, 3]"
   ]
  },
  {
   "cell_type": "code",
   "execution_count": 40,
   "id": "ec054778",
   "metadata": {},
   "outputs": [
    {
     "data": {
      "text/plain": [
       "True"
      ]
     },
     "execution_count": 40,
     "metadata": {},
     "output_type": "execute_result"
    }
   ],
   "source": [
    "True in [1, 2, 3]"
   ]
  },
  {
   "cell_type": "markdown",
   "id": "0f28663c",
   "metadata": {},
   "source": [
    "### Удаление с помощью del"
   ]
  },
  {
   "cell_type": "code",
   "execution_count": 41,
   "id": "f05b2474",
   "metadata": {},
   "outputs": [
    {
     "name": "stdout",
     "output_type": "stream",
     "text": [
      "['Tom', 'Alice', 'Sam', 'Bill', 'Kate', 'Mike']\n",
      "['Bill', 'Kate', 'Mike']\n",
      "['Bill']\n"
     ]
    }
   ],
   "source": [
    "people = [\"Tom\", \"Bob\", \"Alice\", \"Sam\", \"Bill\", \"Kate\", \"Mike\"]\n",
    " \n",
    "del people[1]   # удаляем второй элемент\n",
    "print(people)   # [\"Tom\", \"Alice\", \"Sam\", \"Bill\", \"Kate\", \"Mike\"]\n",
    "del people[:3]   # удаляем  по четвертый элемент не включая\n",
    "print(people)   # [\"Bill\", \"Kate\", \"Mike\"]\n",
    "del people[1:]   # удаляем  со второго элемента\n",
    "print(people)   # [\"Bill\"]"
   ]
  },
  {
   "cell_type": "markdown",
   "id": "a0d55413",
   "metadata": {},
   "source": [
    "Но следует помнить, что на самом деле элементы списка - это ссылки на объекты, т.е. `del` не освобождает память, а лишь удаляет ссылки на объекты. После удаления ссылок, объекты считаются готовыми к утилизации из памяти компьютера, но предсказать момент освобождения памяти очень сложно. Проблему \"засорения\" памяти, нельзя назвать актуальной, но в тех случаях, когда списки используются в сложных алгоритмах обработки больших файлов (изображения, видео, аудио), то лучше перестраховаться и гарантированно освобождать память с помощью конструкции `try ... finally` или инструкции `with`."
   ]
  },
  {
   "cell_type": "markdown",
   "id": "bc97378d",
   "metadata": {},
   "source": [
    "## Срезы\n",
    "\n",
    "Все операции срезов возвращают новый список, содержащий запрошенные элементы. Это означает, что следующий фрагмент возвращает поверхностную копию списка:"
   ]
  },
  {
   "cell_type": "code",
   "execution_count": 42,
   "id": "19df4a30",
   "metadata": {},
   "outputs": [
    {
     "data": {
      "text/plain": [
       "False"
      ]
     },
     "execution_count": 42,
     "metadata": {},
     "output_type": "execute_result"
    }
   ],
   "source": [
    "range_list = list(range(10))\n",
    "\n",
    "# срез списка -- это новый объект\n",
    "range_list[:] is range_list"
   ]
  },
  {
   "cell_type": "code",
   "execution_count": 43,
   "id": "cf902e44",
   "metadata": {},
   "outputs": [
    {
     "name": "stdout",
     "output_type": "stream",
     "text": [
      "range_list id = 86967552\n",
      "range_list[:] id = 87041152\n"
     ]
    }
   ],
   "source": [
    "print(f'range_list id = {id(range_list)}\\nrange_list[:] id = {id(range_list[:])}')"
   ]
  },
  {
   "cell_type": "code",
   "execution_count": 44,
   "id": "ac057383",
   "metadata": {},
   "outputs": [
    {
     "name": "stdout",
     "output_type": "stream",
     "text": [
      "[0, 1, 2, 3, 4, 5, 6, 7, 8, 9]\n",
      "range_list[1:3] = [1, 2]\n",
      "range_list[3:] = [3, 4, 5, 6, 7, 8, 9]\n",
      "range_list[:5] = [0, 1, 2, 3, 4]\n",
      "range_list[::2] = [0, 5]\n",
      "range_list[::-1] = [9, 8, 7, 6, 5, 4, 3, 2, 1, 0]\n",
      "range_list[1::2] = [1, 3, 5, 7, 9]\n",
      "range_list[5:1:-1] = [5, 4, 3, 2]\n"
     ]
    }
   ],
   "source": [
    "range_list = list(range(10))\n",
    "print(range_list)\n",
    "\n",
    "# [first:last:step]\n",
    "print(f'range_list[1:3] = {range_list[1:3]}')\n",
    "print(f'range_list[3:] = {range_list[3:]}')\n",
    "print(f'range_list[:5] = {range_list[:5]}')\n",
    "print(f'range_list[::2] = {range_list[::5]}')\n",
    "print(f'range_list[::-1] = {range_list[::-1]}')\n",
    "print(f'range_list[1::2] = {range_list[1::2]}')\n",
    "print(f'range_list[5:1:-1] = {range_list[5:1:-1]}')"
   ]
  },
  {
   "cell_type": "code",
   "execution_count": 45,
   "id": "40ba8665",
   "metadata": {},
   "outputs": [
    {
     "name": "stdout",
     "output_type": "stream",
     "text": [
      "[8, 9]\n",
      "[8, 9]\n"
     ]
    }
   ],
   "source": [
    "print(range_list[8:])\n",
    "print(range_list[8:99999])"
   ]
  },
  {
   "cell_type": "code",
   "execution_count": 46,
   "id": "218aab57",
   "metadata": {},
   "outputs": [
    {
     "data": {
      "text/plain": [
       "[9, 8, 7, 6, 5, 4, 3, 2, 1, 0]"
      ]
     },
     "execution_count": 46,
     "metadata": {},
     "output_type": "execute_result"
    }
   ],
   "source": [
    "# перевернутый список \n",
    "\n",
    "range_list[::-1]"
   ]
  },
  {
   "cell_type": "markdown",
   "id": "4758608a",
   "metadata": {},
   "source": [
    "### Вставка, изменение, удаление элементов срезом"
   ]
  },
  {
   "cell_type": "code",
   "execution_count": 47,
   "id": "bb679d7b",
   "metadata": {},
   "outputs": [
    {
     "data": {
      "text/plain": [
       "['a', 'b', 'c', 'd', 'e', 'f', 'g']"
      ]
     },
     "execution_count": 47,
     "metadata": {},
     "output_type": "execute_result"
    }
   ],
   "source": [
    "x = list('abcdefg')\n",
    "x"
   ]
  },
  {
   "cell_type": "code",
   "execution_count": 48,
   "id": "db15d1cb",
   "metadata": {},
   "outputs": [
    {
     "data": {
      "text/plain": [
       "['a', 'b', 222, 'c', 'd', 'e', 'f', 'g']"
      ]
     },
     "execution_count": 48,
     "metadata": {},
     "output_type": "execute_result"
    }
   ],
   "source": [
    "x[2:2] = [222]\n",
    "x"
   ]
  },
  {
   "cell_type": "markdown",
   "id": "e60bcee7",
   "metadata": {},
   "source": [
    "Заменить несколько элементов списка можно с помощью присваивания его срезу, списка аналогичной длины"
   ]
  },
  {
   "cell_type": "code",
   "execution_count": 49,
   "id": "b5cf3d7e",
   "metadata": {
    "scrolled": true
   },
   "outputs": [
    {
     "data": {
      "text/plain": [
       "['a', 'b', 222, 'c', 'd', 333, 444, 'g']"
      ]
     },
     "execution_count": 49,
     "metadata": {},
     "output_type": "execute_result"
    }
   ],
   "source": [
    "x[-3:-1] = [333, 444]\n",
    "x"
   ]
  },
  {
   "cell_type": "code",
   "execution_count": 50,
   "id": "06ced77a",
   "metadata": {},
   "outputs": [
    {
     "data": {
      "text/plain": [
       "['нечет', 'b', 'нечет', 'c', 'нечет', 333, 'нечет', 'g']"
      ]
     },
     "execution_count": 50,
     "metadata": {},
     "output_type": "execute_result"
    }
   ],
   "source": [
    "x[::2] = ['нечет', 'нечет', 'нечет', 'нечет']\n",
    "x\n",
    "\n",
    "# необходимо, чтобы число элементов совпадало"
   ]
  },
  {
   "cell_type": "markdown",
   "id": "63230d07",
   "metadata": {},
   "source": [
    "Разреженные срезы, т.е. элементы взятые с заданным шагом так же могут быть изменены, но в этом случае, присваиваемый список должен иметь туже длину что и разреженный срез. Если элементы с заданным шагом должны принять какое-то фиксированное значение, то сконструировать подходящий по размеру список можно с помощью функции `len`:"
   ]
  },
  {
   "cell_type": "code",
   "execution_count": 51,
   "id": "6183109a",
   "metadata": {},
   "outputs": [
    {
     "name": "stdout",
     "output_type": "stream",
     "text": [
      "[0, 0, 0, 0, 0, 0, 0, 0, 0, 0, 0, 0, 0, 0, 0]\n",
      "[0, -1, 0, -1, 0, -1, 0, -1, 0, -1, 0, -1, 0, -1, 0]\n"
     ]
    }
   ],
   "source": [
    "a = [0]*15\n",
    "print(a)\n",
    "\n",
    "a[1::2] = [-1]*len(a[1::2])\n",
    "print(a)"
   ]
  },
  {
   "cell_type": "markdown",
   "id": "211b03ee",
   "metadata": {},
   "source": [
    "Однако, удалить элементы разреженного среза путем присваивания пустого массива не получится:\n",
    "```\n",
    ">>> x[1::2] = []\n",
    "Traceback (most recent call last):\n",
    "  File \"<stdin>\", line 1, in <module>\n",
    "ValueError: attempt to assign sequence of size 0 to extended slice of size 7\n",
    "```\n",
    "Для этих целей можно воспользоваться инструкцией `del`."
   ]
  },
  {
   "cell_type": "markdown",
   "id": "609cdff6",
   "metadata": {},
   "source": [
    "Если присвоить срезу списка пустой список, то это приведет к удалению элементов, которые входят в указанный срез"
   ]
  },
  {
   "cell_type": "code",
   "execution_count": 52,
   "id": "117bf86d",
   "metadata": {},
   "outputs": [
    {
     "data": {
      "text/plain": [
       "['нечет', 'b', 'нечет', 333, 'нечет', 'g']"
      ]
     },
     "execution_count": 52,
     "metadata": {},
     "output_type": "execute_result"
    }
   ],
   "source": [
    "x[3:5] = []\n",
    "x"
   ]
  },
  {
   "cell_type": "code",
   "execution_count": 53,
   "id": "418d7db6",
   "metadata": {},
   "outputs": [
    {
     "data": {
      "text/plain": [
       "[0, 1, 2, 333, 'нечет', 'g']"
      ]
     },
     "execution_count": 53,
     "metadata": {},
     "output_type": "execute_result"
    }
   ],
   "source": [
    "# множественное присваивание\n",
    "\n",
    "x[0:3] = 0, 1, 2\n",
    "x"
   ]
  },
  {
   "cell_type": "markdown",
   "id": "84d5e1ec",
   "metadata": {},
   "source": [
    "## Операции со списками"
   ]
  },
  {
   "cell_type": "markdown",
   "id": "0ca1c2dd",
   "metadata": {},
   "source": [
    "### Конкатенация"
   ]
  },
  {
   "cell_type": "code",
   "execution_count": 54,
   "id": "42aae35c",
   "metadata": {},
   "outputs": [
    {
     "data": {
      "text/plain": [
       "[1, 2, 3, 'a', 'b', 'c']"
      ]
     },
     "execution_count": 54,
     "metadata": {},
     "output_type": "execute_result"
    }
   ],
   "source": [
    "[1, 2, 3] + ['a', 'b', 'c']"
   ]
  },
  {
   "cell_type": "markdown",
   "id": "df69ca73",
   "metadata": {},
   "source": [
    "### Увеличение в n раз"
   ]
  },
  {
   "cell_type": "code",
   "execution_count": 55,
   "id": "e735a733",
   "metadata": {},
   "outputs": [
    {
     "data": {
      "text/plain": [
       "[None, None, None, None, None, None, None, None, None, None]"
      ]
     },
     "execution_count": 55,
     "metadata": {},
     "output_type": "execute_result"
    }
   ],
   "source": [
    "[None] * 10"
   ]
  },
  {
   "cell_type": "code",
   "execution_count": null,
   "id": "9fd18426",
   "metadata": {},
   "outputs": [],
   "source": []
  },
  {
   "cell_type": "code",
   "execution_count": null,
   "id": "4fa6ac78",
   "metadata": {},
   "outputs": [],
   "source": []
  },
  {
   "cell_type": "markdown",
   "id": "9184523c",
   "metadata": {},
   "source": [
    "### Сравнение списков\n",
    "Два списка считаются равными, если они содержат один и тот же набор элементов:"
   ]
  },
  {
   "cell_type": "code",
   "execution_count": 56,
   "id": "345b3860",
   "metadata": {},
   "outputs": [
    {
     "name": "stdout",
     "output_type": "stream",
     "text": [
      "numbers1 equal to numbers2\n"
     ]
    }
   ],
   "source": [
    "numbers1 = [1, 2, 3, 4, 5]\n",
    "numbers2 = list([1, 2, 3, 4, 5])\n",
    "if numbers1 == numbers2:\n",
    "    print(\"numbers1 equal to numbers2\")\n",
    "else:\n",
    "    print(\"numbers1 is not equal to numbers2\")"
   ]
  },
  {
   "cell_type": "code",
   "execution_count": 57,
   "id": "32247fc2",
   "metadata": {},
   "outputs": [
    {
     "name": "stdout",
     "output_type": "stream",
     "text": [
      "87087040\n",
      "87113152\n"
     ]
    }
   ],
   "source": [
    "print(id(numbers1))\n",
    "print(id(numbers2))"
   ]
  },
  {
   "cell_type": "code",
   "execution_count": 58,
   "id": "60a7c757",
   "metadata": {},
   "outputs": [
    {
     "data": {
      "text/plain": [
       "True"
      ]
     },
     "execution_count": 58,
     "metadata": {},
     "output_type": "execute_result"
    }
   ],
   "source": [
    "# 10 > 1\n",
    "[10, 2, 3] > [1, 2, 3]"
   ]
  },
  {
   "cell_type": "code",
   "execution_count": 59,
   "id": "c16716f3",
   "metadata": {},
   "outputs": [
    {
     "data": {
      "text/plain": [
       "True"
      ]
     },
     "execution_count": 59,
     "metadata": {},
     "output_type": "execute_result"
    }
   ],
   "source": [
    "# 10 > 1\n",
    "[10, 2, 3] > [1, 20, 30]"
   ]
  },
  {
   "cell_type": "code",
   "execution_count": 60,
   "id": "19010419",
   "metadata": {},
   "outputs": [
    {
     "data": {
      "text/plain": [
       "False"
      ]
     },
     "execution_count": 60,
     "metadata": {},
     "output_type": "execute_result"
    }
   ],
   "source": [
    "['A'] > ['a']\n",
    "\n",
    "# print(ord('A'), ord('a')) \n",
    "# 65 97"
   ]
  },
  {
   "cell_type": "code",
   "execution_count": 61,
   "id": "4919a13a",
   "metadata": {},
   "outputs": [
    {
     "data": {
      "text/plain": [
       "True"
      ]
     },
     "execution_count": 61,
     "metadata": {},
     "output_type": "execute_result"
    }
   ],
   "source": [
    "[10, 2, 3] > [1, 2, None, 10]"
   ]
  },
  {
   "cell_type": "code",
   "execution_count": 62,
   "id": "2465b10b",
   "metadata": {},
   "outputs": [],
   "source": [
    "# [1, 2, 3] > [1, 2, 'None', 10]\n",
    "# TypeError: '>' not supported between instances of 'int' and 'str'"
   ]
  },
  {
   "cell_type": "code",
   "execution_count": 63,
   "id": "a30413a1",
   "metadata": {},
   "outputs": [
    {
     "data": {
      "text/plain": [
       "True"
      ]
     },
     "execution_count": 63,
     "metadata": {},
     "output_type": "execute_result"
    }
   ],
   "source": [
    "[1, 2, 3, 4] > [1, 2, 3]"
   ]
  },
  {
   "cell_type": "markdown",
   "id": "a371fbd8",
   "metadata": {},
   "source": [
    "### Копирование списков\n",
    "При копировании списков следует учитывать, что списки представляют изменяемый (mutable) тип, поэтому если обе переменных будут указывать на один и тот же список, то изменение одной переменной, затронет и другую переменную:"
   ]
  },
  {
   "cell_type": "code",
   "execution_count": 64,
   "id": "67fef76a",
   "metadata": {},
   "outputs": [
    {
     "name": "stdout",
     "output_type": "stream",
     "text": [
      "['Tom', 'Bob', 'Alice', 'Sam']\n",
      "['Tom', 'Bob', 'Alice', 'Sam']\n"
     ]
    }
   ],
   "source": [
    "people1 = [\"Tom\", \"Bob\", \"Alice\"]\n",
    "people2 = people1\n",
    "people2.append(\"Sam\")   # добавляем элемент во второй список\n",
    "\n",
    "# people1 и people2 указывают на один и тот же список\n",
    "print(people1)   # [\"Tom\", \"Bob\", \"Alice\", \"Sam\"]\n",
    "print(people2)   # [\"Tom\", \"Bob\", \"Alice\", \"Sam\"]"
   ]
  },
  {
   "cell_type": "markdown",
   "id": "5a0bf212",
   "metadata": {},
   "source": [
    "Это так называемое \"поверхностное копирование\" (shallow copy). И, как правило, такое поведение нежелательное. И чтобы происходило копирование элементов, но при этом переменные указывали на разные списки, необходимо выполнить глубокое копирование (deep copy). Для этого можно использовать метод \n",
    "* `copy()`;\n",
    "* срез;\n",
    "* конструтор `list()`."
   ]
  },
  {
   "cell_type": "code",
   "execution_count": 65,
   "id": "9ccbcdc7",
   "metadata": {},
   "outputs": [
    {
     "name": "stdout",
     "output_type": "stream",
     "text": [
      "['Tom', 'Bob', 'Alice']\n",
      "['Tom', 'Bob', 'Alice', 'Sam']\n"
     ]
    }
   ],
   "source": [
    "people1 = [\"Tom\", \"Bob\", \"Alice\"]\n",
    "people2 = people1.copy()    # копируем элементы из people1 в people2\n",
    "people2.append(\"Sam\")   # добавляем элемент ТОЛЬКО во второй список\n",
    "\n",
    "# people1 и people2 указывают на разные списки\n",
    "print(people1)   # [\"Tom\", \"Bob\", \"Alice\"]\n",
    "print(people2)   # [\"Tom\", \"Bob\", \"Alice\", \"Sam\"]"
   ]
  },
  {
   "cell_type": "code",
   "execution_count": 66,
   "id": "78c06c5c",
   "metadata": {},
   "outputs": [
    {
     "name": "stdout",
     "output_type": "stream",
     "text": [
      "['Tom', 'Bob', 'Alice']\n",
      "['Tom', 'Bob', 'Alice', 'Sam']\n"
     ]
    }
   ],
   "source": [
    "# slice\n",
    "\n",
    "people1 = [\"Tom\", \"Bob\", \"Alice\"]\n",
    "people2 = people1[:]    # копируем элементы из people1 в people2\n",
    "people2.append(\"Sam\")   # добавляем элемент ТОЛЬКО во второй список\n",
    "\n",
    "# people1 и people2 указывают на разные списки\n",
    "print(people1)   # [\"Tom\", \"Bob\", \"Alice\"]\n",
    "print(people2)   # [\"Tom\", \"Bob\", \"Alice\", \"Sam\"]"
   ]
  },
  {
   "cell_type": "code",
   "execution_count": 67,
   "id": "3fa1db48",
   "metadata": {},
   "outputs": [
    {
     "name": "stdout",
     "output_type": "stream",
     "text": [
      "['Tom', 'Bob', 'Alice']\n",
      "['Tom', 'Bob', 'Alice', 'Sam']\n"
     ]
    }
   ],
   "source": [
    "people1 = [\"Tom\", \"Bob\", \"Alice\"]\n",
    "people2 = list(people1)    # копируем элементы из people1 в people2\n",
    "people2.append(\"Sam\")   # добавляем элемент ТОЛЬКО во второй список\n",
    "\n",
    "# people1 и people2 указывают на разные списки\n",
    "print(people1)   # [\"Tom\", \"Bob\", \"Alice\"]\n",
    "print(people2)   # [\"Tom\", \"Bob\", \"Alice\", \"Sam\"]"
   ]
  },
  {
   "cell_type": "markdown",
   "id": "9bafe84b",
   "metadata": {},
   "source": [
    "### min, max, sum\n",
    "Часто нам нужно найти минимальный, максимальный элемент в массиве или посчитать сумму всех элементов, сделать это можно с помощью встроенных функций `min`/`max`/`sum`."
   ]
  },
  {
   "cell_type": "code",
   "execution_count": 68,
   "id": "fdfbea84",
   "metadata": {},
   "outputs": [
    {
     "name": "stdout",
     "output_type": "stream",
     "text": [
      "2\n",
      "19\n",
      "80\n"
     ]
    }
   ],
   "source": [
    "numbers = [4, 17, 19, 9, 2, 6, 10, 13]\n",
    "\n",
    "print(min(numbers))\n",
    "print(max(numbers))\n",
    "print(sum(numbers))"
   ]
  },
  {
   "cell_type": "markdown",
   "id": "783ebcc7",
   "metadata": {},
   "source": [
    "## Сортировка\n",
    "Для сортировки списка в питоне есть два способа: стандартная функция `sorted`, которая возвращает новый список, полученный сортировкой исходного, и метод списка `.sort()`, который сортирует in-place. Для сортирвоки используется алгоритм TimSort."
   ]
  },
  {
   "cell_type": "code",
   "execution_count": 69,
   "id": "15b4a782",
   "metadata": {},
   "outputs": [
    {
     "name": "stdout",
     "output_type": "stream",
     "text": [
      "[11, 20, 11, 9, 16, 14, 7, 17, 7, 15]\n"
     ]
    }
   ],
   "source": [
    "import random\n",
    "\n",
    "numbers = []\n",
    "for _ in range(10):\n",
    "    numbers.append(random.randint(1, 20))\n",
    "    \n",
    "print(numbers)"
   ]
  },
  {
   "cell_type": "code",
   "execution_count": 70,
   "id": "178274b6",
   "metadata": {},
   "outputs": [
    {
     "name": "stdout",
     "output_type": "stream",
     "text": [
      "[7, 7, 9, 11, 11, 14, 15, 16, 17, 20]\n",
      "[11, 20, 11, 9, 16, 14, 7, 17, 7, 15]\n"
     ]
    }
   ],
   "source": [
    "print(sorted(numbers))\n",
    "print(numbers)"
   ]
  },
  {
   "cell_type": "code",
   "execution_count": 71,
   "id": "d98ca550",
   "metadata": {},
   "outputs": [
    {
     "name": "stdout",
     "output_type": "stream",
     "text": [
      "[7, 7, 9, 11, 11, 14, 15, 16, 17, 20]\n"
     ]
    }
   ],
   "source": [
    "numbers.sort()\n",
    "print(numbers)"
   ]
  },
  {
   "cell_type": "markdown",
   "id": "977f9326",
   "metadata": {},
   "source": [
    "При сортировке фактически сравниваются два объекта, и который из них \"меньше\", ставится перед тем, который \"больше\". Понятия \"больше\" и \"меньше\" довольно условны. И если для чисел все просто - числа расставляются в порядке возрастания, то для строк и других объектов ситуация сложнее. В частности, строки оцениваются по первым символам. Если первые символы равны, оцениваются вторые символы и так далее. При чем цифровой символ считается \"меньше\", чем алфавитный заглавный символ, а заглавный символ считается меньше, чем строчный.\n",
    "\n",
    "Таким образом, если в списке сочетаются строки с верхним и нижним регистром, то мы можем получить не совсем корректные результаты, так как для нас строка \"bob\" должна стоять до строки \"Tom\". И чтобы изменить стандартное поведение сортировки, мы можем передать в метод `sort()` в качестве параметра функцию:"
   ]
  },
  {
   "cell_type": "code",
   "execution_count": 72,
   "id": "5c3745bc",
   "metadata": {},
   "outputs": [
    {
     "name": "stdout",
     "output_type": "stream",
     "text": [
      "['Bill', 'Sam', 'Tom', 'alice', 'bob']\n",
      "['alice', 'Bill', 'bob', 'Sam', 'Tom']\n"
     ]
    }
   ],
   "source": [
    "people = [\"Tom\", \"bob\", \"alice\", \"Sam\", \"Bill\"]\n",
    " \n",
    "people.sort()       # стандартная сортировка\n",
    "print(people)      # [\"Bill\", \"Sam\", \"Tom\", \"alice\", \"bob\"]\n",
    " \n",
    "people.sort(key=str.lower)  # сортировка без учета регистра\n",
    "print(people)      # [\"alice\", \"Bill\", \"bob\", \"Sam\", \"Tom\"]"
   ]
  },
  {
   "cell_type": "markdown",
   "id": "3809a409",
   "metadata": {},
   "source": [
    "Встроенная функция `sorted` имеет две формы:\n",
    "\n",
    "* `sorted(list)`: сортирует список list\n",
    "* `sorted(list, key)`: сортирует список list, применяя к элементам функцию key"
   ]
  },
  {
   "cell_type": "code",
   "execution_count": 73,
   "id": "2b20f9e4",
   "metadata": {},
   "outputs": [
    {
     "name": "stdout",
     "output_type": "stream",
     "text": [
      "['alice', 'Bill', 'bob', 'Sam', 'Tom']\n"
     ]
    }
   ],
   "source": [
    "people = [\"Tom\", \"bob\", \"alice\", \"Sam\", \"Bill\"]\n",
    " \n",
    "sorted_people = sorted(people, key=str.lower)\n",
    "print(sorted_people)      # [\"alice\", \"Bill\", \"bob\", \"Sam\", \"Tom\"]"
   ]
  },
  {
   "cell_type": "markdown",
   "id": "11f1e78d",
   "metadata": {},
   "source": [
    "Часто бывает нужно отсортировать список **в обратном порядке**"
   ]
  },
  {
   "cell_type": "code",
   "execution_count": 74,
   "id": "89bcf327",
   "metadata": {},
   "outputs": [
    {
     "name": "stdout",
     "output_type": "stream",
     "text": [
      "[20, 17, 16, 15, 14, 11, 11, 9, 7, 7]\n",
      "[7, 7, 9, 11, 11, 14, 15, 16, 17, 20]\n"
     ]
    }
   ],
   "source": [
    "print(sorted(numbers, reverse=True))\n",
    "print(numbers)"
   ]
  },
  {
   "cell_type": "code",
   "execution_count": 75,
   "id": "e649eb9d",
   "metadata": {},
   "outputs": [
    {
     "name": "stdout",
     "output_type": "stream",
     "text": [
      "[20, 17, 16, 15, 14, 11, 11, 9, 7, 7]\n"
     ]
    }
   ],
   "source": [
    "numbers.sort(reverse=True)\n",
    "print(numbers)"
   ]
  },
  {
   "cell_type": "code",
   "execution_count": 76,
   "id": "734b3bad",
   "metadata": {},
   "outputs": [
    {
     "name": "stdout",
     "output_type": "stream",
     "text": [
      "<list_reverseiterator object at 0x00000000052F7D30>\n"
     ]
    }
   ],
   "source": [
    "print(reversed(numbers))"
   ]
  },
  {
   "cell_type": "code",
   "execution_count": 77,
   "id": "275b9c8b",
   "metadata": {},
   "outputs": [
    {
     "name": "stdout",
     "output_type": "stream",
     "text": [
      "[7, 7, 9, 11, 11, 14, 15, 16, 17, 20]\n"
     ]
    }
   ],
   "source": [
    "print(list(reversed(numbers)))"
   ]
  },
  {
   "cell_type": "markdown",
   "id": "3963905a",
   "metadata": {},
   "source": [
    "## Все методы списков в Python\n",
    "\n",
    "Такие методы, как `list.insert`, `list.remove` или `list.sort`, которые только изменяют список, не печатают возвращаемое значение, они возвращают значение `None` по умолчанию. Это принцип проектирования для всех изменяемых структур данных в Python.\n",
    "\n",
    "Кроме того, можно заметить, что не все данные могут быть отсортированы или сравнены. Например, `[None, 'hello', 10]` не сортируется, потому что целые числа нельзя сравнить со строками, а `None` нельзя сравнить с другими типами. Кроме того, есть некоторые типы, которые не имеют определенного упорядочения. Например выражение `3+4j < 5+7j` комплексных чисел не является допустимым сравнением.\n",
    "\n",
    "* `list.append(х)`:\n",
    "Добавляет элемент в конец списка. Эквивалент `lst[len(lst):] = [x]`\n",
    "\n",
    "* `list.extend(iterable)`:\n",
    "Расширяет список, добавив все элементы из последовательности которая поддерживает итерацию. Эквивалент `lst[len(lst):] = iterable`\n",
    "\n",
    "* `list.insert(i, x)`:\n",
    "Вставляет элемент в заданную позицию. Первый аргумент - это индекс элемента, перед которым можно вставить, поэтому `lst.insert(0, x)` вставляется в начало списка, а выражение `lst.insert(len(lst), x)` эквивалентно `a.append(x)`.\n",
    "\n",
    "* `list.remove(x)`:\n",
    "Удаляет первый элемент из списка, значение которого равно `x`. Поднимает `ValueError`, если такого элемента нет.\n",
    "\n",
    "* `list.pop([i])`:\n",
    "Возвращает элемент в указанной позиции и удаляет этот элемент из списка. Если индекс не указан `lst.pop()`, то удаляет и возвращает последний элемент из списка. Квадратные скобки вокруг `i` в сигнатуре метода означают, что параметр является необязательным, а не то, что нужно вводить квадратные скобки в этой позиции. Это обозначение часто видно в Справочнике по библиотеке Python.\n",
    "\n",
    "* `list.clear()`:\n",
    "Удаляет все элементы из списка. Эквивалент `del a[:]`.\n",
    "\n",
    "* `list.index(x[, start[, end]])`:\n",
    "Возвращает нулевой индекс в списке первого элемента, значение которого равно `x`. Поднимает `ValueError`, если такого элемента нет.\n",
    "\n",
    "Необязательные аргументы `start` и `end` интерпретируются так же, как в нотации среза, и используются для ограничения поиска определенной подпоследовательностью списка. Возвращенный индекс вычисляется относительно начала полной последовательности, а не аргумента `start`.\n",
    "\n",
    "* `list.count(x)`:\n",
    "Возвращает количество появлений значения `x` в списке.\n",
    "\n",
    "* `list.sort(key=None, reverse=False)` :\n",
    "Сортировка элементов списка на месте. Аргументы могут быть использованы для настройки сортировки, значения аргументов, такие-же как во встроенной функции `sorted()`.\n",
    "\n",
    "* `list.reverse()`:\n",
    "Меняет местами элементы списка. Переворачивает список.\n",
    "\n",
    "* `list.copy()`:\n",
    "Возвращает мелкую копию списка. Эквивалент `lst[:]` или `list(lst)`."
   ]
  },
  {
   "cell_type": "markdown",
   "id": "aa91d2e8",
   "metadata": {},
   "source": [
    "### append(a)\n",
    "\n",
    "Добавляет элемент `a` в конец списка.\n",
    "\n",
    "Метод `append` ничего не возвращает, то есть, он меняет сам список благодаря тому, что он относится к изменяемому типу данных.\n",
    "\n",
    "Данный метод эквивалентен команде `x[len(x):] = ['A']`, но `.append()` \"читабельнее\"."
   ]
  },
  {
   "cell_type": "code",
   "execution_count": 78,
   "id": "2b3e4eff",
   "metadata": {},
   "outputs": [
    {
     "data": {
      "text/plain": [
       "[1, 2, 3, 'A']"
      ]
     },
     "execution_count": 78,
     "metadata": {},
     "output_type": "execute_result"
    }
   ],
   "source": [
    "x = [1, 2, 3]\n",
    "x.append(\"A\")\n",
    "x"
   ]
  },
  {
   "cell_type": "markdown",
   "id": "2165e20e",
   "metadata": {},
   "source": [
    "Списки добавляются в конец не распаковываясь:"
   ]
  },
  {
   "cell_type": "code",
   "execution_count": 79,
   "id": "c11e32c3",
   "metadata": {},
   "outputs": [
    {
     "data": {
      "text/plain": [
       "[1, 2, 3, 'A', [3, 2, 1]]"
      ]
     },
     "execution_count": 79,
     "metadata": {},
     "output_type": "execute_result"
    }
   ],
   "source": [
    "x.append([3, 2, 1])\n",
    "x"
   ]
  },
  {
   "cell_type": "code",
   "execution_count": 80,
   "id": "fd604106",
   "metadata": {},
   "outputs": [
    {
     "data": {
      "text/plain": [
       "[1, 1.1, 1.2, 1.3]"
      ]
     },
     "execution_count": 80,
     "metadata": {},
     "output_type": "execute_result"
    }
   ],
   "source": [
    "# добавление одного элемента в конец списка\n",
    "# альтернатива операции x.append(1.3)\n",
    "x = [1, 1.1, 1.2]\n",
    "x += [1.3]\n",
    "x"
   ]
  },
  {
   "cell_type": "markdown",
   "id": "7b603e62",
   "metadata": {},
   "source": [
    "БУДЬТЕ ВНИМАТЕЛЬНЫ!!! нужно добавлять список из одного элемента\n",
    "```\n",
    ">>> x += 1.4\n",
    "Traceback (most recent call last):\n",
    "  File \"<stdin>\", line 1, in <module>\n",
    "TypeError: 'float' object is not iterable\n",
    "```\n",
    "БУДЬТЕ ОСТОРОЖНЫ!!! строка представляет из себя кортеж\n",
    "```\n",
    ">>> x += '1.4'\n",
    ">>> x\n",
    "[1, 1.1, 1.2, 1.3, '1', '.', '4']\n",
    "```"
   ]
  },
  {
   "cell_type": "markdown",
   "id": "d5fb89ff",
   "metadata": {},
   "source": [
    "### copy()"
   ]
  },
  {
   "cell_type": "code",
   "execution_count": 81,
   "id": "3563b17f",
   "metadata": {},
   "outputs": [
    {
     "name": "stdout",
     "output_type": "stream",
     "text": [
      "id(a) = 81508224, id(b) = 81508224\n"
     ]
    }
   ],
   "source": [
    "a = [1, 2, 3]\n",
    "b = a\n",
    "\n",
    "print(f'id(a) = {id(a)}, id(b) = {id(b)}')"
   ]
  },
  {
   "cell_type": "code",
   "execution_count": 82,
   "id": "8cdd7eb6",
   "metadata": {},
   "outputs": [
    {
     "name": "stdout",
     "output_type": "stream",
     "text": [
      "id(a) = 82430016, id(b) = 81472000\n"
     ]
    }
   ],
   "source": [
    "a = [1, 2, 3]\n",
    "b = a.copy()\n",
    "\n",
    "print(f'id(a) = {id(a)}, id(b) = {id(b)}')"
   ]
  },
  {
   "cell_type": "code",
   "execution_count": 83,
   "id": "0ee8ac4b",
   "metadata": {},
   "outputs": [
    {
     "name": "stdout",
     "output_type": "stream",
     "text": [
      "id(a) = 82428608, id(b) = 82421184\n"
     ]
    }
   ],
   "source": [
    "a = [1, 2, 3]\n",
    "b = a[:]\n",
    "\n",
    "print(f'id(a) = {id(a)}, id(b) = {id(b)}')"
   ]
  },
  {
   "cell_type": "code",
   "execution_count": 84,
   "id": "bf897ce1",
   "metadata": {},
   "outputs": [
    {
     "name": "stdout",
     "output_type": "stream",
     "text": [
      "id(a) = 82433920, id(b) = 87228864\n"
     ]
    }
   ],
   "source": [
    "a = [1, 2, 3]\n",
    "b = list(a)\n",
    "\n",
    "print(f'id(a) = {id(a)}, id(b) = {id(b)}')"
   ]
  },
  {
   "cell_type": "code",
   "execution_count": null,
   "id": "e6103958",
   "metadata": {},
   "outputs": [],
   "source": []
  },
  {
   "cell_type": "code",
   "execution_count": null,
   "id": "8f1d1238",
   "metadata": {},
   "outputs": [],
   "source": []
  },
  {
   "cell_type": "code",
   "execution_count": null,
   "id": "fc2e6eff",
   "metadata": {},
   "outputs": [],
   "source": []
  },
  {
   "cell_type": "markdown",
   "id": "ae34fc72",
   "metadata": {},
   "source": [
    "## Упаковка функций в список"
   ]
  },
  {
   "cell_type": "code",
   "execution_count": 85,
   "id": "d46efdae",
   "metadata": {},
   "outputs": [
    {
     "data": {
      "text/plain": [
       "[int, str, list, <function sum(iterable, /, start=0)>, <function dir>]"
      ]
     },
     "execution_count": 85,
     "metadata": {},
     "output_type": "execute_result"
    }
   ],
   "source": [
    "f = [int, str, list, sum, dir]\n",
    "f"
   ]
  },
  {
   "cell_type": "markdown",
   "id": "642cace8",
   "metadata": {},
   "source": [
    "Эти функции можно использовать, если вызвать их из списка с помощью оператора `[]`. Например, функция `int()` преобразует (если это возможно) любой объект в целое десятичное число"
   ]
  },
  {
   "cell_type": "code",
   "execution_count": 86,
   "id": "48331343",
   "metadata": {},
   "outputs": [
    {
     "data": {
      "text/plain": [
       "73"
      ]
     },
     "execution_count": 86,
     "metadata": {},
     "output_type": "execute_result"
    }
   ],
   "source": [
    "int(0b1001001)    # преобразуем двоичное число в десятичное"
   ]
  },
  {
   "cell_type": "code",
   "execution_count": 87,
   "id": "08ff11a6",
   "metadata": {},
   "outputs": [
    {
     "data": {
      "text/plain": [
       "73"
      ]
     },
     "execution_count": 87,
     "metadata": {},
     "output_type": "execute_result"
    }
   ],
   "source": [
    "f[0](0b1001001)"
   ]
  },
  {
   "cell_type": "code",
   "execution_count": 88,
   "id": "9c8cc1a6",
   "metadata": {},
   "outputs": [
    {
     "data": {
      "text/plain": [
       "'1000'"
      ]
     },
     "execution_count": 88,
     "metadata": {},
     "output_type": "execute_result"
    }
   ],
   "source": [
    "# Вот так мы преобразуем число в строку:\n",
    "\n",
    "f[1](1000)"
   ]
  },
  {
   "cell_type": "code",
   "execution_count": 89,
   "id": "1a4973a8",
   "metadata": {},
   "outputs": [
    {
     "data": {
      "text/plain": [
       "['1', '2', '3', '4']"
      ]
     },
     "execution_count": 89,
     "metadata": {},
     "output_type": "execute_result"
    }
   ],
   "source": [
    "# А вот так мы можем сначала сделать из числа строку а потом из этой строки сделать список:\n",
    "\n",
    "f[2](f[1](1234))"
   ]
  },
  {
   "cell_type": "code",
   "execution_count": 90,
   "id": "92374f03",
   "metadata": {},
   "outputs": [
    {
     "data": {
      "text/plain": [
       "['__add__',\n",
       " '__class__',\n",
       " '__contains__',\n",
       " '__delattr__',\n",
       " '__delitem__',\n",
       " '__dir__',\n",
       " '__doc__',\n",
       " '__eq__',\n",
       " '__format__',\n",
       " '__ge__',\n",
       " '__getattribute__',\n",
       " '__getitem__',\n",
       " '__gt__',\n",
       " '__hash__',\n",
       " '__iadd__',\n",
       " '__imul__',\n",
       " '__init__',\n",
       " '__init_subclass__',\n",
       " '__iter__',\n",
       " '__le__',\n",
       " '__len__',\n",
       " '__lt__',\n",
       " '__mul__',\n",
       " '__ne__',\n",
       " '__new__',\n",
       " '__reduce__',\n",
       " '__reduce_ex__',\n",
       " '__repr__',\n",
       " '__reversed__',\n",
       " '__rmul__',\n",
       " '__setattr__',\n",
       " '__setitem__',\n",
       " '__sizeof__',\n",
       " '__str__',\n",
       " '__subclasshook__',\n",
       " 'append',\n",
       " 'clear',\n",
       " 'copy',\n",
       " 'count',\n",
       " 'extend',\n",
       " 'index',\n",
       " 'insert',\n",
       " 'pop',\n",
       " 'remove',\n",
       " 'reverse',\n",
       " 'sort']"
      ]
     },
     "execution_count": 90,
     "metadata": {},
     "output_type": "execute_result"
    }
   ],
   "source": [
    "# А если хочется взглянуть на функции и методы, которые поддерживают списки, то можем выполнить \n",
    "\n",
    "f[4](f)"
   ]
  },
  {
   "cell_type": "code",
   "execution_count": null,
   "id": "7875e607",
   "metadata": {},
   "outputs": [],
   "source": []
  }
 ],
 "metadata": {
  "kernelspec": {
   "display_name": "Python 3",
   "language": "python",
   "name": "python3"
  },
  "language_info": {
   "codemirror_mode": {
    "name": "ipython",
    "version": 3
   },
   "file_extension": ".py",
   "mimetype": "text/x-python",
   "name": "python",
   "nbconvert_exporter": "python",
   "pygments_lexer": "ipython3",
   "version": "3.8.11"
  }
 },
 "nbformat": 4,
 "nbformat_minor": 5
}
