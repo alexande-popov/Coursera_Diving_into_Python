{
 "cells": [
  {
   "cell_type": "markdown",
   "id": "9dbbd960",
   "metadata": {},
   "source": [
    "# Ветвление if - elif - else"
   ]
  },
  {
   "cell_type": "markdown",
   "id": "d0bb0edc",
   "metadata": {},
   "source": [
    "Условная конструкция\n",
    "```python\n",
    "if логическое_выражение1:\n",
    "    инструкции1\n",
    "[elif логическое_выражение2:\n",
    "    инструкции2]\n",
    "   ...\n",
    "[else: \n",
    "    инструкции]\n",
    "```\n",
    "Конструкция `if` вычисляет и оценивает выражения одно за другим, пока одно из них не окажется истинным, затем выполняется соответствующий блок кода. После выполнения блока кода первого истинного (True) выражения, последующие инструкции `elif/else` не вычисляются и не оцениваются, а блоки кода в них не выполняется. Если все выражения ложны (False), выполняется блок кода инструкции `else`, если он присутствует.\n",
    "\n",
    "#### Проверка истинности в Python\n",
    "\n",
    "* Любое число, не равное 0, или непустой объект - истина.\n",
    "* Числа, равные 0, пустые объекты и значение None - ложь\n",
    "* Операции сравнения применяются к структурам данных рекурсивно\n",
    "* Операции сравнения возвращают True или False\n",
    "* Логические операторы and и or возвращают истинный или ложный объект-операнд"
   ]
  },
  {
   "cell_type": "code",
   "execution_count": 1,
   "id": "7b475834",
   "metadata": {},
   "outputs": [
    {
     "name": "stdout",
     "output_type": "stream",
     "text": [
      "Условие выполнено!\n"
     ]
    }
   ],
   "source": [
    "company = \"my.com\"\n",
    "\n",
    "if \"my\" in company:\n",
    "    print(\"Условие выполнено!\")"
   ]
  },
  {
   "cell_type": "code",
   "execution_count": 2,
   "id": "3e8eda02",
   "metadata": {},
   "outputs": [
    {
     "name": "stdout",
     "output_type": "stream",
     "text": [
      "Условие выполнено!\n"
     ]
    }
   ],
   "source": [
    "company = \"example.net\"\n",
    "\n",
    "if \"my\" in company or company.endswith(\".net\"):\n",
    "    print(\"Условие выполнено!\")"
   ]
  },
  {
   "cell_type": "code",
   "execution_count": 3,
   "id": "7d8feffe",
   "metadata": {},
   "outputs": [
    {
     "name": "stdout",
     "output_type": "stream",
     "text": [
      "Условие не выполнено!\n"
     ]
    }
   ],
   "source": [
    "company = \"google.com\"\n",
    "\n",
    "if \"my\" in company:\n",
    "    print(\"Условие выполнено!\")\n",
    "else:\n",
    "    print(\"Условие не выполнено!\")"
   ]
  },
  {
   "cell_type": "code",
   "execution_count": 4,
   "id": "85da3a25",
   "metadata": {},
   "outputs": [
    {
     "name": "stdout",
     "output_type": "stream",
     "text": [
      "Подстрока google найдена\n"
     ]
    }
   ],
   "source": [
    "company = \"google.com\"\n",
    "\n",
    "if \"my\" in company:\n",
    "    print(\"Подстрока my найдена\")\n",
    "elif \"google\" in company:\n",
    "    print(\"Подстрока google найдена\")\n",
    "else:\n",
    "    print(\"Подстрока не найдена\")"
   ]
  },
  {
   "cell_type": "code",
   "execution_count": 5,
   "id": "033ed93c",
   "metadata": {},
   "outputs": [
    {
     "name": "stdout",
     "output_type": "stream",
     "text": [
      "a равно None\n"
     ]
    }
   ],
   "source": [
    "a = None\n",
    "\n",
    "if a is not None:\n",
    "    print('a НЕ равно None')\n",
    "else:\n",
    "    print('a равно None')"
   ]
  },
  {
   "cell_type": "code",
   "execution_count": 6,
   "id": "885f066b",
   "metadata": {},
   "outputs": [
    {
     "name": "stdout",
     "output_type": "stream",
     "text": [
      "bul = False\n"
     ]
    }
   ],
   "source": [
    "bul = False\n",
    "\n",
    "if bul:\n",
    "    print('bul = True')\n",
    "else:\n",
    "    print('bul = False')"
   ]
  },
  {
   "cell_type": "code",
   "execution_count": 7,
   "id": "66b33cfa",
   "metadata": {},
   "outputs": [
    {
     "name": "stdout",
     "output_type": "stream",
     "text": [
      "number = 0\n"
     ]
    }
   ],
   "source": [
    "number = 0\n",
    "\n",
    "if number:\n",
    "    print('number не равно 0')\n",
    "else:\n",
    "    print('number = 0')"
   ]
  },
  {
   "cell_type": "code",
   "execution_count": 8,
   "id": "5c361fef",
   "metadata": {},
   "outputs": [
    {
     "name": "stdout",
     "output_type": "stream",
     "text": [
      "a не равно b и a меньше b\n"
     ]
    }
   ],
   "source": [
    "a = 10\n",
    "b = 20\n",
    "\n",
    "if  a != b and a > b:\n",
    "    print('a не равно b и a больше b')\n",
    "else:\n",
    "    print('a не равно b и a меньше b')"
   ]
  },
  {
   "cell_type": "code",
   "execution_count": 9,
   "id": "19e4bf34",
   "metadata": {},
   "outputs": [
    {
     "name": "stdout",
     "output_type": "stream",
     "text": [
      "a больше b\n"
     ]
    }
   ],
   "source": [
    "a = 15\n",
    "b = 3\n",
    "\n",
    "if  a != b:\n",
    "    if a > b:\n",
    "        print('a больше b')\n",
    "    else:\n",
    "        print('a меньше b')\n",
    "else:\n",
    "    print('a равно b')"
   ]
  },
  {
   "cell_type": "code",
   "execution_count": 10,
   "id": "d6b01c0e",
   "metadata": {},
   "outputs": [
    {
     "name": "stdout",
     "output_type": "stream",
     "text": [
      "Ключ \"bc\" присутствует в словаре {'ac': None, 'bc': False, '0': 0, '1': 3, '3': 1, 'abc': True}\n"
     ]
    }
   ],
   "source": [
    "key = 'bc'\n",
    "dct = {'ac':None, 'bc':False, '0':0, '1':3, '3':1, 'abc':True}\n",
    "if key in dct:\n",
    "    print('Ключ \"bc\" присутствует в словаре', dct)\n",
    "else:\n",
    "    print('Ключ \"bc\" отсутствует в словаре', dct)"
   ]
  },
  {
   "cell_type": "markdown",
   "id": "a8d7161c",
   "metadata": {},
   "source": [
    "## Тернарный оператор\n",
    "(от лат. ternarius — «тройной») \n",
    "\n",
    "Общий вид `if/else` в одну строку\n",
    "```python\n",
    "x = a if condition else b\n",
    "```\n",
    "Это короче, чем\n",
    "```python\n",
    "if condition:\n",
    "    x = a\n",
    "else:\n",
    "    x = b\n",
    "```"
   ]
  },
  {
   "cell_type": "code",
   "execution_count": 11,
   "id": "84389c44",
   "metadata": {},
   "outputs": [
    {
     "data": {
      "text/plain": [
       "'t'"
      ]
     },
     "execution_count": 11,
     "metadata": {},
     "output_type": "execute_result"
    }
   ],
   "source": [
    "A = 't' if 'spam' else 'f'\n",
    "A"
   ]
  },
  {
   "cell_type": "code",
   "execution_count": 12,
   "id": "13dc8447",
   "metadata": {},
   "outputs": [
    {
     "name": "stdout",
     "output_type": "stream",
     "text": [
      "Argentina\n"
     ]
    }
   ],
   "source": [
    "score_1 = 5\n",
    "score_2 = 0\n",
    "\n",
    "winner = \"Argentina\" if score_1 > score_2  else \"Jamaica\"\n",
    "\n",
    "print(winner)"
   ]
  },
  {
   "cell_type": "code",
   "execution_count": 13,
   "id": "4b3a6860",
   "metadata": {},
   "outputs": [
    {
     "data": {
      "text/plain": [
       "1"
      ]
     },
     "execution_count": 13,
     "metadata": {},
     "output_type": "execute_result"
    }
   ],
   "source": [
    "a = 6\n",
    "b = 5\n",
    "\n",
    "res = a + b if a < b else a - b\n",
    "res"
   ]
  },
  {
   "cell_type": "markdown",
   "id": "ee1fdff9",
   "metadata": {},
   "source": [
    "Общий вид `if/else` в одну строку с дополнительным условием\n",
    "```Python\n",
    "res = а if condition else b if condition else c\n",
    "```\n",
    "что-бы лучше читалось, можно во втором условии поставить скобочки\n",
    "```Python\n",
    "res = а if condition else (b if condition else c)\n",
    "```\n",
    "Эти записи эквивалентны:\n",
    "```Python\n",
    "if condition:\n",
    "    res = a\n",
    "elif condition:\n",
    "    res = b\n",
    "else:\n",
    "    res = c\n",
    "```"
   ]
  },
  {
   "cell_type": "code",
   "execution_count": 14,
   "id": "924b3ae6",
   "metadata": {},
   "outputs": [
    {
     "data": {
      "text/plain": [
       "'50 > 55 < 60'"
      ]
     },
     "execution_count": 14,
     "metadata": {},
     "output_type": "execute_result"
    }
   ],
   "source": [
    "i = 55\n",
    "rez = f'{i} < 50' if i < 50 else (f'{i} > 60' if i > 60 else f'50 > {i} < 60')\n",
    "rez"
   ]
  },
  {
   "cell_type": "code",
   "execution_count": 15,
   "id": "faa173c2",
   "metadata": {},
   "outputs": [
    {
     "data": {
      "text/plain": [
       "'45 < 50'"
      ]
     },
     "execution_count": 15,
     "metadata": {},
     "output_type": "execute_result"
    }
   ],
   "source": [
    "i=45\n",
    "rez = f'{i} < 50' if i < 50 else (f'{i} > 60' if i > 60 else f'50 > {i} < 60')\n",
    "rez"
   ]
  },
  {
   "cell_type": "code",
   "execution_count": 16,
   "id": "58ede6ac",
   "metadata": {},
   "outputs": [
    {
     "data": {
      "text/plain": [
       "'65 > 60'"
      ]
     },
     "execution_count": 16,
     "metadata": {},
     "output_type": "execute_result"
    }
   ],
   "source": [
    "i=65\n",
    "rez = f'{i} < 50' if i < 50 else (f'{i} > 60' if i > 60 else f'50 > {i} < 60')\n",
    "rez"
   ]
  },
  {
   "cell_type": "markdown",
   "id": "f2a7a291",
   "metadata": {},
   "source": [
    "При помощи однострочника `if/else` можно вызывать связанные функции"
   ]
  },
  {
   "cell_type": "code",
   "execution_count": 17,
   "id": "c6303cbc",
   "metadata": {},
   "outputs": [
    {
     "data": {
      "text/plain": [
       "9"
      ]
     },
     "execution_count": 17,
     "metadata": {},
     "output_type": "execute_result"
    }
   ],
   "source": [
    "def add(a, b):\n",
    "    return a + b\n",
    "\n",
    "def subtract(a, b):\n",
    "    return a - b\n",
    "\n",
    "a, b = 4, 5\n",
    "(subtract if a > b else add)(a, b)"
   ]
  },
  {
   "cell_type": "code",
   "execution_count": null,
   "id": "71e37ece",
   "metadata": {},
   "outputs": [],
   "source": []
  },
  {
   "cell_type": "markdown",
   "id": "758d70b8",
   "metadata": {},
   "source": [
    "# Цикл while\n",
    "Цикл с предусловием."
   ]
  },
  {
   "cell_type": "code",
   "execution_count": 18,
   "id": "2f4235a7",
   "metadata": {},
   "outputs": [
    {
     "name": "stdout",
     "output_type": "stream",
     "text": [
      "number = 1\n",
      "number = 2\n",
      "number = 3\n",
      "number = 4\n",
      "Работа программы завершена\n"
     ]
    }
   ],
   "source": [
    "number = 1\n",
    " \n",
    "while number < 5:\n",
    "    print(f\"number = {number}\")\n",
    "    number += 1\n",
    "print(\"Работа программы завершена\")"
   ]
  },
  {
   "cell_type": "markdown",
   "id": "72f19964",
   "metadata": {},
   "source": [
    "Для цикла `while` также можно определить дополнительный блок `else`, инструкции которого выполняются, когда условие равно `False`."
   ]
  },
  {
   "cell_type": "code",
   "execution_count": 19,
   "id": "5c4f443a",
   "metadata": {},
   "outputs": [
    {
     "name": "stdout",
     "output_type": "stream",
     "text": [
      "number = 1\n",
      "number = 2\n",
      "number = 3\n",
      "number = 4\n",
      "number = 5. Работа цикла завершена\n",
      "Работа программы завершена\n"
     ]
    }
   ],
   "source": [
    "number = 1\n",
    " \n",
    "while number < 5:\n",
    "    print(f\"number = {number}\")\n",
    "    number += 1\n",
    "else:\n",
    "    print(f\"number = {number}. Работа цикла завершена\")\n",
    "print(\"Работа программы завершена\")"
   ]
  },
  {
   "cell_type": "code",
   "execution_count": 20,
   "id": "01064b87",
   "metadata": {},
   "outputs": [],
   "source": [
    "# Пример бесконечного цикла, будет выполняться, пока вы не нажмете Ctrl+C:\n",
    "\n",
    "# while True:\n",
    "#    print('бесконечность ', end='')"
   ]
  },
  {
   "cell_type": "markdown",
   "id": "06481c63",
   "metadata": {},
   "source": [
    "#### break и continue в цикле while"
   ]
  },
  {
   "cell_type": "code",
   "execution_count": 21,
   "id": "a9110998",
   "metadata": {},
   "outputs": [
    {
     "name": "stdout",
     "output_type": "stream",
     "text": [
      "[2, 4, 6, 8]\n"
     ]
    }
   ],
   "source": [
    "lst = list(range(15))\n",
    "new_lst = []\n",
    "i = 0\n",
    "while len(new_lst) < 13:\n",
    "    i += 1\n",
    "    # если число 8 есть в новом списке\n",
    "    if 8 in new_lst:\n",
    "        # прерываем цикл, при этом блок else не выполнится\n",
    "        break\n",
    "    # остаток от деления элемента списка\n",
    "    a = lst[i] % 2\n",
    "    # если элемент списка не четный\n",
    "    if a != 0:\n",
    "        # пропускаем оставшийся код\n",
    "        continue\n",
    "    # добавление в список числа\n",
    "    new_lst.append(lst[i])\n",
    "else:\n",
    "    print (\"Напечатает, если убрать условие с break\")\n",
    "\n",
    "print(new_lst)"
   ]
  },
  {
   "cell_type": "code",
   "execution_count": null,
   "id": "05e18280",
   "metadata": {},
   "outputs": [],
   "source": []
  },
  {
   "cell_type": "markdown",
   "id": "12382f0b",
   "metadata": {},
   "source": [
    "# Цикл for\n",
    "\n",
    "Инструкция `for` в Python перебирает элементы любой итерируемой последовательности `iterable` (список `list`, строку `string`, кортеж `tuple`, словарь `dict` или другого объекта, поддерживающего итерацию) в том порядке, в котором они появляются."
   ]
  },
  {
   "cell_type": "code",
   "execution_count": 22,
   "id": "57251413",
   "metadata": {},
   "outputs": [
    {
     "name": "stdout",
     "output_type": "stream",
     "text": [
      "A\n",
      "l\n",
      "e\n",
      "x\n"
     ]
    }
   ],
   "source": [
    "name = \"Alex\"\n",
    "\n",
    "for letter in name:\n",
    "    print(letter)"
   ]
  },
  {
   "cell_type": "markdown",
   "id": "cfd78323",
   "metadata": {},
   "source": [
    "Изменено в Python 3.11: Теперь в списке выражений разрешены элементы, отмеченные звездочкой (смотрите \"Передача произвольного числа аргументов\"). Эта возможность была доступна в версиях Python 3.9 и 3.10, официально задокументирована в Python 3.11.\n",
    "\n",
    "```python\n",
    "for x in *a, *b:\n",
    "    print(x)\n",
    "```"
   ]
  },
  {
   "cell_type": "markdown",
   "id": "c753edc5",
   "metadata": {},
   "source": [
    "## range()\n",
    "\n",
    "Встроенный объект `range` позволяет итерироваться по целым числам. Функция `range()` возвращает итератор целых чисел, генерирует арифметические прогрессии."
   ]
  },
  {
   "cell_type": "code",
   "execution_count": 23,
   "id": "e9cb6acb",
   "metadata": {},
   "outputs": [
    {
     "name": "stdout",
     "output_type": "stream",
     "text": [
      "0\n",
      "1\n",
      "2\n"
     ]
    }
   ],
   "source": [
    "for i in range(3):\n",
    "    print(i)"
   ]
  },
  {
   "cell_type": "code",
   "execution_count": 24,
   "id": "2492856d",
   "metadata": {},
   "outputs": [
    {
     "name": "stdout",
     "output_type": "stream",
     "text": [
      "5050\n"
     ]
    }
   ],
   "source": [
    "result = 0\n",
    "\n",
    "for i in range(101):\n",
    "    result += i\n",
    "\n",
    "print(result)"
   ]
  },
  {
   "cell_type": "code",
   "execution_count": 25,
   "id": "840c33ed",
   "metadata": {},
   "outputs": [
    {
     "name": "stdout",
     "output_type": "stream",
     "text": [
      "5\n",
      "6\n",
      "7\n"
     ]
    }
   ],
   "source": [
    "for i in range(5, 8):\n",
    "    print(i)"
   ]
  },
  {
   "cell_type": "code",
   "execution_count": 26,
   "id": "9da2d236",
   "metadata": {},
   "outputs": [
    {
     "name": "stdout",
     "output_type": "stream",
     "text": [
      "1\n",
      "3\n",
      "5\n",
      "7\n",
      "9\n"
     ]
    }
   ],
   "source": [
    "for i in range(1, 10, 2):\n",
    "    print(i)"
   ]
  },
  {
   "cell_type": "code",
   "execution_count": 27,
   "id": "34aa51a0",
   "metadata": {},
   "outputs": [
    {
     "name": "stdout",
     "output_type": "stream",
     "text": [
      "10\n",
      "9\n",
      "8\n",
      "7\n",
      "6\n"
     ]
    }
   ],
   "source": [
    "for i in range(10, 5, -1):\n",
    "    print(i)"
   ]
  },
  {
   "cell_type": "markdown",
   "id": "b86282db",
   "metadata": {},
   "source": [
    "Цикл `for` выполняет назначения переменным в целевом списке. Это перезаписывает все предыдущие назначения этим переменным, включая те, которые были сделаны внутри исполняемого блока `for`.\n",
    "\n",
    "Имена в целевом списке не удаляются, когда цикл завершен, но если последовательность пуста, то код внутри цикла не будет выполнен."
   ]
  },
  {
   "cell_type": "code",
   "execution_count": 28,
   "id": "7437537f",
   "metadata": {
    "scrolled": true
   },
   "outputs": [
    {
     "name": "stdout",
     "output_type": "stream",
     "text": [
      "0\n",
      "1\n",
      "2\n",
      "3\n",
      "4\n",
      "\n",
      "2\n"
     ]
    }
   ],
   "source": [
    "for i in range(5):\n",
    "    print(i)\n",
    "    i = 2\n",
    "    # это не повлияет на цикл for так как переменная i\n",
    "    # будет перезаписана следующим итерируемым элементомa\n",
    "\n",
    "print()\n",
    "print(i)"
   ]
  },
  {
   "cell_type": "markdown",
   "id": "b326304f",
   "metadata": {},
   "source": [
    "## Волшебное слово else"
   ]
  },
  {
   "cell_type": "code",
   "execution_count": 29,
   "id": "107698c2",
   "metadata": {},
   "outputs": [
    {
     "name": "stdout",
     "output_type": "stream",
     "text": [
      "H\n",
      "e\n",
      "l\n",
      "l\n",
      "o\n",
      "Последний символ: o. Цикл завершен\n"
     ]
    }
   ],
   "source": [
    "message = \"Hello\"\n",
    "for c in message:\n",
    "    print(c)\n",
    "else:\n",
    "    print(f\"Последний символ: {c}. Цикл завершен\");"
   ]
  },
  {
   "cell_type": "markdown",
   "id": "9df67326",
   "metadata": {},
   "source": [
    "* Оператор `break`: выполняется код внутри `for` до оператора `break` и завершает цикл без выполнения блока внутри `else`.\n",
    "* Оператор `continue`: выполняется код внутри `for` до оператора `continue`, пропускает оставшуюся часть кода в блоке `for` и продолжает работу со следующим элементом списка перебираемых выражений или с оператором `else`, если следующего элемента нет."
   ]
  },
  {
   "cell_type": "code",
   "execution_count": 30,
   "id": "03df1105",
   "metadata": {},
   "outputs": [
    {
     "name": "stdout",
     "output_type": "stream",
     "text": [
      "[2, 4, 6, 8, 10]\n"
     ]
    }
   ],
   "source": [
    "lst = []\n",
    "for item in range(15) :\n",
    "    # если число 10 есть в списке\n",
    "    if 10 in lst:\n",
    "        # прерываем цикл, при этом блок else не выполнится\n",
    "        break\n",
    "    # остаток от деления элемента списка\n",
    "    a = item % 2\n",
    "    # если элемент списка не четный или равен 0\n",
    "    if a != 0 or item == 0:\n",
    "        # пропускаем оставшийся код\n",
    "        continue\n",
    "    # добавление числа в список\n",
    "    lst.append(item)\n",
    "else:\n",
    "    print (\"Напечатает, если убрать условие с break\")\n",
    "\n",
    "print(lst)"
   ]
  },
  {
   "cell_type": "code",
   "execution_count": 31,
   "id": "095e0c2b",
   "metadata": {},
   "outputs": [
    {
     "name": "stdout",
     "output_type": "stream",
     "text": [
      "Буквы a в строке нет\n"
     ]
    }
   ],
   "source": [
    "for i in 'hello world':\n",
    "    if i == 'a':\n",
    "        break\n",
    "else:\n",
    "    print('Буквы a в строке нет')"
   ]
  },
  {
   "cell_type": "markdown",
   "id": "ac88dbe5",
   "metadata": {},
   "source": [
    "Оператор `else` в циклах `for/in` выполняется только если цикл закончился и не прервался оператором `break`.\n",
    "\n",
    "Цикл `for/in/else` упрощает любой цикл, который использует логический флаг, подобный этому:"
   ]
  },
  {
   "cell_type": "code",
   "execution_count": 32,
   "id": "e19354ad",
   "metadata": {},
   "outputs": [
    {
     "name": "stdout",
     "output_type": "stream",
     "text": [
      "17 is prime\n"
     ]
    }
   ],
   "source": [
    "# флаг принятия дальнейшего решения\n",
    "found = False   \n",
    "\n",
    "n = 17\n",
    "\n",
    "for divisor in range(2, n):\n",
    "    if n % divisor == 0:\n",
    "        # если найден делитель, то меняем \n",
    "        # флаг на `True` и выходим из цикла\n",
    "        found = True   \n",
    "        break\n",
    "\n",
    "# принимаем решение на основе значения флага\n",
    "if found:\n",
    "    print(n, 'is composite')\n",
    "else:\n",
    "    print(n, 'is prime')"
   ]
  },
  {
   "cell_type": "markdown",
   "id": "1ed01fdc",
   "metadata": {},
   "source": [
    "Оператор else в `for/in` позволяет опустить флаг и сделать код компактнее"
   ]
  },
  {
   "cell_type": "code",
   "execution_count": 33,
   "id": "6c1111b5",
   "metadata": {},
   "outputs": [
    {
     "name": "stdout",
     "output_type": "stream",
     "text": [
      "23 is prime\n"
     ]
    }
   ],
   "source": [
    "n = 23\n",
    "\n",
    "for divisor in range(2, n):\n",
    "    if n % divisor == 0:\n",
    "        print(n, 'is composite')\n",
    "        break\n",
    "else:\n",
    "    # else сработает, если цикл не завершиться\n",
    "    # по `break`, т.е. преждевременно\n",
    "    print(n, 'is prime')"
   ]
  },
  {
   "cell_type": "markdown",
   "id": "a9f0694a",
   "metadata": {},
   "source": [
    "Если единственной целью цикла `for/in` является ответ да или нет (флаг принятия решения), то можно написать его намного короче с помощью встроенных функций `any()`/`all()` и выражения-генератора, которое дает логические значения.\n",
    "\n",
    "Этот код эффективен, как цикл с прерыванием, т.к. в функции `any()` происходит замыкание, а выражение-генератор выполняется только до тех пор, пока оно не вернет значение True. Этот код даже быстрее, чем цикл."
   ]
  },
  {
   "cell_type": "code",
   "execution_count": 34,
   "id": "e8962d46",
   "metadata": {},
   "outputs": [
    {
     "name": "stdout",
     "output_type": "stream",
     "text": [
      "24 is composite\n"
     ]
    }
   ],
   "source": [
    "n = 24\n",
    "\n",
    "if any(n % divisor == 0 for divisor in range(2, n)):\n",
    "    print(n, 'is composite')\n",
    "else:\n",
    "    print(n, \"is prime\")"
   ]
  },
  {
   "cell_type": "markdown",
   "id": "440c0097",
   "metadata": {},
   "source": [
    "## Применение в коллекциях"
   ]
  },
  {
   "cell_type": "markdown",
   "id": "502aae2f",
   "metadata": {},
   "source": [
    "### list"
   ]
  },
  {
   "cell_type": "code",
   "execution_count": 35,
   "id": "a43bb8a6",
   "metadata": {},
   "outputs": [
    {
     "name": "stdout",
     "output_type": "stream",
     "text": [
      "cat\n",
      "window\n",
      "defenestrate\n"
     ]
    }
   ],
   "source": [
    "words = ['cat', 'window', 'defenestrate']\n",
    "\n",
    "# проходимся по элементам списка `words`\n",
    "for w in words:\n",
    "     print(w)"
   ]
  },
  {
   "cell_type": "code",
   "execution_count": 36,
   "id": "eaed1e84",
   "metadata": {},
   "outputs": [
    {
     "name": "stdout",
     "output_type": "stream",
     "text": [
      "cat\n",
      "window\n",
      "defenestrate\n"
     ]
    }
   ],
   "source": [
    "words = ['cat', 'window', 'defenestrate']\n",
    "\n",
    "n = len(words)\n",
    "\n",
    "# перебираем последовательность `range(n)` и отдаем ее индексами в список\n",
    "for i in range(n):\n",
    "    print(words[i])"
   ]
  },
  {
   "cell_type": "markdown",
   "id": "7d464034",
   "metadata": {},
   "source": [
    "#### Перебор списка по индексам и элементам одновременно\n",
    "\n",
    "`enumerate()`"
   ]
  },
  {
   "cell_type": "code",
   "execution_count": 37,
   "id": "73625d10",
   "metadata": {},
   "outputs": [
    {
     "name": "stdout",
     "output_type": "stream",
     "text": [
      "0 tic\n",
      "1 tac\n",
      "2 toe\n"
     ]
    }
   ],
   "source": [
    "for i, v in enumerate(['tic', 'tac', 'toe']):\n",
    "    print(i, v)"
   ]
  },
  {
   "cell_type": "markdown",
   "id": "5ed62ddc",
   "metadata": {},
   "source": [
    "#### Перебор значений нескольких списков одновременно.\n",
    "\n",
    "`zip()`"
   ]
  },
  {
   "cell_type": "code",
   "execution_count": 38,
   "id": "a3c1fc30",
   "metadata": {},
   "outputs": [
    {
     "name": "stdout",
     "output_type": "stream",
     "text": [
      "What is your name?  It is lancelot.\n",
      "What is your quest?  It is the holy grail.\n",
      "What is your favorite color?  It is blue.\n"
     ]
    }
   ],
   "source": [
    "questions = ['name', 'quest', 'favorite color']\n",
    "answers = ['lancelot', 'the holy grail', 'blue']\n",
    "\n",
    "for q, a in zip(questions, answers):\n",
    "    print('What is your {0}?  It is {1}.'.format(q, a))"
   ]
  },
  {
   "cell_type": "code",
   "execution_count": 39,
   "id": "1b035d91",
   "metadata": {},
   "outputs": [
    {
     "name": "stdout",
     "output_type": "stream",
     "text": [
      "What is your name?  It is lancelot.\n",
      "What is your quest?  It is the holy grail.\n",
      "What is your favorite color?  It is blue.\n"
     ]
    }
   ],
   "source": [
    "questions = ['name', 'quest', 'favorite color', 1, 2, 3, 4, 5]\n",
    "answers = ['lancelot', 'the holy grail', 'blue']\n",
    "\n",
    "for q, a in zip(questions, answers):\n",
    "    print('What is your {0}?  It is {1}.'.format(q, a))"
   ]
  },
  {
   "cell_type": "code",
   "execution_count": 40,
   "id": "68e5373d",
   "metadata": {},
   "outputs": [
    {
     "name": "stdout",
     "output_type": "stream",
     "text": [
      "What is your name?  It is lancelot.\n",
      "What is your quest?  It is the holy grail.\n",
      "What is your favorite color?  It is blue.\n"
     ]
    }
   ],
   "source": [
    "questions = ['name', 'quest', 'favorite color']\n",
    "answers = ['lancelot', 'the holy grail', 'blue', 1, 2, 3, 4, 5]\n",
    "\n",
    "for q, a in zip(questions, answers):\n",
    "    print('What is your {0}?  It is {1}.'.format(q, a))"
   ]
  },
  {
   "cell_type": "code",
   "execution_count": 41,
   "id": "463b44df",
   "metadata": {},
   "outputs": [
    {
     "name": "stdout",
     "output_type": "stream",
     "text": [
      "zero:\t0 + 5 = 5\n",
      "one:\t1 + 3 = 4\n",
      "two:\t2 + 2 = 4\n",
      "three:\t3 + 0 = 3\n",
      "four:\t4 + 4 = 8\n",
      "five:\t5 + 1 = 6\n"
     ]
    }
   ],
   "source": [
    "lst1 = [0, 1, 2, 3, 4, 5]\n",
    "lst2 = [5, 3, 2, 0, 4, 1]\n",
    "lst3 = ['zero', 'one', 'two', 'three', 'four', 'five']\n",
    "\n",
    "for a, b, c in zip(lst1, lst2, lst3):\n",
    "    print(f'{c}:\\t{a} + {b} = {a + b}')"
   ]
  },
  {
   "cell_type": "markdown",
   "id": "546b8ba6",
   "metadata": {},
   "source": [
    "#### Перебор значений списка в обратном порядке.\n",
    "`reversed()`"
   ]
  },
  {
   "cell_type": "code",
   "execution_count": 42,
   "id": "56e77c17",
   "metadata": {},
   "outputs": [
    {
     "name": "stdout",
     "output_type": "stream",
     "text": [
      "9\n",
      "7\n",
      "5\n",
      "3\n",
      "1\n"
     ]
    }
   ],
   "source": [
    "for i in reversed(range(1, 10, 2)):\n",
    "    print(i)"
   ]
  },
  {
   "cell_type": "markdown",
   "id": "1e01002f",
   "metadata": {},
   "source": [
    "#### Перебор значений списка в отсортированном порядке.\n",
    "`sorted()`"
   ]
  },
  {
   "cell_type": "code",
   "execution_count": 43,
   "id": "3e720b04",
   "metadata": {},
   "outputs": [
    {
     "name": "stdout",
     "output_type": "stream",
     "text": [
      "apple\n",
      "apple\n",
      "banana\n",
      "orange\n",
      "orange\n",
      "pear\n"
     ]
    }
   ],
   "source": [
    "basket = ['apple', 'orange', 'apple', 'pear', 'orange', 'banana']\n",
    "\n",
    "for f in sorted(basket):\n",
    "    print(f)"
   ]
  },
  {
   "cell_type": "code",
   "execution_count": null,
   "id": "dc881323",
   "metadata": {},
   "outputs": [],
   "source": []
  },
  {
   "cell_type": "markdown",
   "id": "4697c57b",
   "metadata": {},
   "source": [
    "### dict"
   ]
  },
  {
   "cell_type": "code",
   "execution_count": 44,
   "id": "7b935dfe",
   "metadata": {},
   "outputs": [
    {
     "name": "stdout",
     "output_type": "stream",
     "text": [
      "0\n",
      "1\n",
      "2\n",
      "3\n",
      "4\n",
      "5\n"
     ]
    }
   ],
   "source": [
    "d = {0: 'zero', 1: 'one', 2: 'two', 3: 'three', 4: 'four', 5: 'five'}\n",
    "\n",
    "for key in d.keys():\n",
    "    print(key)"
   ]
  },
  {
   "cell_type": "code",
   "execution_count": 45,
   "id": "ec7b1eec",
   "metadata": {},
   "outputs": [
    {
     "name": "stdout",
     "output_type": "stream",
     "text": [
      "zero\n",
      "one\n",
      "two\n",
      "three\n",
      "four\n",
      "five\n"
     ]
    }
   ],
   "source": [
    "d = {0: 'zero', 1: 'one', 2: 'two', 3: 'three', 4: 'four', 5: 'five'}\n",
    "\n",
    "for value in d.values():\n",
    "    print(value)"
   ]
  },
  {
   "cell_type": "code",
   "execution_count": 46,
   "id": "3b040a68",
   "metadata": {},
   "outputs": [
    {
     "name": "stdout",
     "output_type": "stream",
     "text": [
      "0 :  zero\n",
      "1 :  one\n",
      "2 :  two\n",
      "3 :  three\n",
      "4 :  four\n",
      "5 :  five\n"
     ]
    }
   ],
   "source": [
    "d = {0: 'zero', 1: 'one', 2: 'two', 3: 'three', 4: 'four', 5: 'five'}\n",
    "\n",
    "for key, value in d.items():\n",
    "    print(key, ': ' ,value)"
   ]
  },
  {
   "cell_type": "markdown",
   "id": "4990e937",
   "metadata": {},
   "source": [
    "### Не изменять итерируемую коллекция внутри цикла! \n",
    "### Делать копию!\n",
    "Код, который изменяет коллекцию (список, словарь и т.д.) во время итерации по этой же коллекции, может привести к неожиданному результату, совершенно не тому, который ожидался. Не делайте так НИКОГДА! Намного проще и безопаснее выполнить цикл над копией коллекции"
   ]
  },
  {
   "cell_type": "code",
   "execution_count": 47,
   "id": "4d334d6b",
   "metadata": {},
   "outputs": [
    {
     "name": "stdout",
     "output_type": "stream",
     "text": [
      "{'c': 'active'}\n",
      "{'a': 'inactive', 'b': 'inactive', 'c': 'active'}\n"
     ]
    }
   ],
   "source": [
    "users = {'a': 'inactive', 'b': 'inactive', 'c': 'active'}\n",
    "users_copy = users.copy()\n",
    "\n",
    "# проходимся по копии словаря `users`\n",
    "for user, status in users_copy.items():\n",
    "    if status == 'inactive':\n",
    "        # изменяем исходный словарь\n",
    "        del users[user]\n",
    "\n",
    "print(users)\n",
    "print(users_copy)"
   ]
  },
  {
   "cell_type": "code",
   "execution_count": 48,
   "id": "a7e826a8",
   "metadata": {},
   "outputs": [
    {
     "name": "stdout",
     "output_type": "stream",
     "text": [
      "{'a': 'inactive', 'b': 'inactive', 'c': 'active'}\n",
      "{'c': 'active'}\n"
     ]
    }
   ],
   "source": [
    "users = {'a': 'inactive', 'b': 'inactive', 'c': 'active'}\n",
    "active_users = {}\n",
    "\n",
    "\n",
    "for user, status in users.items():\n",
    "    if status == 'active':\n",
    "        active_users[user] = status\n",
    "        \n",
    "print(users)\n",
    "print(active_users)"
   ]
  },
  {
   "cell_type": "code",
   "execution_count": 49,
   "id": "4df94d86",
   "metadata": {},
   "outputs": [
    {
     "name": "stdout",
     "output_type": "stream",
     "text": [
      "[0, 1, 2] [-2, -1, 0, 1, 2]\n"
     ]
    }
   ],
   "source": [
    "a = [x for x in range(-2, 3)]\n",
    "b = a[:]\n",
    "\n",
    "for item in b:\n",
    "    if item < 0: \n",
    "        a.remove(item)\n",
    "        \n",
    "print(a, b)"
   ]
  },
  {
   "cell_type": "markdown",
   "id": "f9f1cf17",
   "metadata": {},
   "source": [
    "### Вложенные циклы"
   ]
  },
  {
   "cell_type": "code",
   "execution_count": 50,
   "id": "9091eede",
   "metadata": {},
   "outputs": [
    {
     "name": "stdout",
     "output_type": "stream",
     "text": [
      "1\t2\t3\t4\t5\t6\t7\t8\t9\t\n",
      "\n",
      "2\t4\t6\t8\t10\t12\t14\t16\t18\t\n",
      "\n",
      "3\t6\t9\t12\t15\t18\t21\t24\t27\t\n",
      "\n",
      "4\t8\t12\t16\t20\t24\t28\t32\t36\t\n",
      "\n",
      "5\t10\t15\t20\t25\t30\t35\t40\t45\t\n",
      "\n",
      "6\t12\t18\t24\t30\t36\t42\t48\t54\t\n",
      "\n",
      "7\t14\t21\t28\t35\t42\t49\t56\t63\t\n",
      "\n",
      "8\t16\t24\t32\t40\t48\t56\t64\t72\t\n",
      "\n",
      "9\t18\t27\t36\t45\t54\t63\t72\t81\t\n",
      "\n"
     ]
    }
   ],
   "source": [
    "i = 1\n",
    "j = 1\n",
    "while i < 10:\n",
    "    while j < 10:\n",
    "        print(i * j, end=\"\\t\")\n",
    "        j += 1\n",
    "    print(\"\\n\")\n",
    "    j = 1\n",
    "    i += 1"
   ]
  },
  {
   "cell_type": "code",
   "execution_count": null,
   "id": "19953d8c",
   "metadata": {},
   "outputs": [],
   "source": []
  },
  {
   "cell_type": "markdown",
   "id": "a510a8e7",
   "metadata": {},
   "source": [
    "# pass\n",
    "\n",
    "Определяет пустой блок, который ничего не делает.\n",
    "\n",
    "Так как в языке программирования Python не предусмотрены какие либо операторы, обозначающие блоки кода, а синтаксис языка построен на отступах, был введен оператор pass. Pass в Python можно сравнить, с пустыми фигурными скобками в языках программирования C или JavaScript.\n",
    "\n",
    "Оператор pass ни ничего не делает. Он используются тогда, когда в коде требуется какой то синтаксис, но никаких действий производить не надо.\n",
    "\n",
    "Оператор pass обычно используется для создания минимальных классов.\n",
    "\n",
    "Оператор pass можно использовать в качестве заполнителя для функции или условного блока, когда вы работаете над новым кодом, что позволяет вам продолжать думать на более абстрактном уровне."
   ]
  },
  {
   "cell_type": "code",
   "execution_count": 51,
   "id": "5f9a07a4",
   "metadata": {},
   "outputs": [],
   "source": [
    "for i in range(100):\n",
    "    pass"
   ]
  },
  {
   "cell_type": "code",
   "execution_count": 52,
   "id": "4747af5b",
   "metadata": {},
   "outputs": [],
   "source": [
    "class MyEmptyClass:\n",
    "    pass\n",
    "\n",
    "def my_empty_function():\n",
    "    pass\n",
    "\n",
    "my_empty_function()"
   ]
  },
  {
   "cell_type": "markdown",
   "id": "25233891",
   "metadata": {},
   "source": [
    "# Выход из цикла. break и continue\n",
    "\n",
    "Для управления циклом мы можем использовать специальные операторы `break` и `continue`. Оператор `break` осуществляет выход из цикла. А оператор `continue` выполняет переход к следующей итерации цикла.\n",
    "\n",
    "Оператор `break` может использоваться, если в цикле образуются условия, которые несовместимы с его дальнейшим выполнением. Рассмотрим следующий пример:"
   ]
  },
  {
   "cell_type": "code",
   "execution_count": 53,
   "id": "f258584c",
   "metadata": {},
   "outputs": [
    {
     "name": "stdout",
     "output_type": "stream",
     "text": [
      "number = 1\n",
      "number = 2\n"
     ]
    }
   ],
   "source": [
    "number = 0\n",
    "while number < 5:\n",
    "    number += 1\n",
    "    if number == 3 :    # если number = 3, выходим из цикла\n",
    "        break\n",
    "    print(f\"number = {number}\")"
   ]
  },
  {
   "cell_type": "markdown",
   "id": "a62bcbb1",
   "metadata": {},
   "source": [
    "В отличие от оператора `break` оператор `continue` выполняет переход к следующей итерации цикла без его завершения. Например, в предыдущем примере заменим `break` на `continue`:"
   ]
  },
  {
   "cell_type": "code",
   "execution_count": 54,
   "id": "8c60ab63",
   "metadata": {},
   "outputs": [
    {
     "name": "stdout",
     "output_type": "stream",
     "text": [
      "number = 1\n",
      "number = 2\n",
      "number = 4\n",
      "number = 5\n"
     ]
    }
   ],
   "source": [
    "number = 0\n",
    "while number < 5:\n",
    "    number += 1\n",
    "    if number == 3 :    # если number = 3, переходим к новой итерации цикла\n",
    "        continue\n",
    "    print(f\"number = {number}\")"
   ]
  },
  {
   "cell_type": "code",
   "execution_count": null,
   "id": "ca6a165d",
   "metadata": {},
   "outputs": [],
   "source": []
  },
  {
   "cell_type": "code",
   "execution_count": null,
   "id": "b6fd2ab2",
   "metadata": {},
   "outputs": [],
   "source": []
  },
  {
   "cell_type": "code",
   "execution_count": null,
   "id": "00b3934f",
   "metadata": {},
   "outputs": [],
   "source": []
  },
  {
   "cell_type": "code",
   "execution_count": null,
   "id": "7d1b6771",
   "metadata": {},
   "outputs": [],
   "source": []
  }
 ],
 "metadata": {
  "kernelspec": {
   "display_name": "Python 3",
   "language": "python",
   "name": "python3"
  },
  "language_info": {
   "codemirror_mode": {
    "name": "ipython",
    "version": 3
   },
   "file_extension": ".py",
   "mimetype": "text/x-python",
   "name": "python",
   "nbconvert_exporter": "python",
   "pygments_lexer": "ipython3",
   "version": "3.8.11"
  }
 },
 "nbformat": 4,
 "nbformat_minor": 5
}
