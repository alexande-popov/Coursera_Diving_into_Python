{
 "cells": [
  {
   "cell_type": "markdown",
   "id": "102ece2f",
   "metadata": {},
   "source": [
    "# Строки (str)"
   ]
  },
  {
   "cell_type": "markdown",
   "id": "6129e84b",
   "metadata": {},
   "source": [
    "**Строка** – это неизменяемая последовательность юникодных символов"
   ]
  },
  {
   "cell_type": "code",
   "execution_count": 1,
   "id": "c871ea9f",
   "metadata": {},
   "outputs": [
    {
     "name": "stdout",
     "output_type": "stream",
     "text": [
      "Курс про Python на Coursera <class 'str'>\n",
      "Курс про Python на Coursera <class 'str'>\n",
      "Курс про Python на Coursera <class 'str'>\n",
      "Курс про Python на Coursera <class 'str'>\n"
     ]
    }
   ],
   "source": [
    "example_string = \"Курс про Python на Coursera\"\n",
    "print(example_string, type(example_string))\n",
    "\n",
    "example_string = 'Курс про Python на Coursera'\n",
    "print(example_string, type(example_string))\n",
    "\n",
    "example_string = \"\"\"Курс про Python на Coursera\"\"\"\n",
    "print(example_string, type(example_string))\n",
    "\n",
    "example_string = '''Курс про Python на Coursera'''\n",
    "print(example_string, type(example_string))"
   ]
  },
  {
   "cell_type": "code",
   "execution_count": 2,
   "id": "b7422637",
   "metadata": {},
   "outputs": [
    {
     "name": "stdout",
     "output_type": "stream",
     "text": [
      "123\n",
      "123\n",
      "Laudate omnes gentes laudate Magnificat in secula \n"
     ]
    }
   ],
   "source": [
    "example_string = \"1\"\"2\"\"3\"\n",
    "print(example_string)\n",
    "\n",
    "example_string = '1''2''3'\n",
    "print(example_string)\n",
    "\n",
    "example_string = (\"Laudate omnes gentes laudate \"\n",
    "                  \"Magnificat in secula \")\n",
    "print(example_string)"
   ]
  },
  {
   "cell_type": "markdown",
   "id": "799302aa",
   "metadata": {},
   "source": [
    "## Как быть с кавычками"
   ]
  },
  {
   "cell_type": "code",
   "execution_count": 3,
   "id": "5476aaa7",
   "metadata": {},
   "outputs": [
    {
     "name": "stdout",
     "output_type": "stream",
     "text": [
      "Курс про \"Python\" на \"Coursera\"\n",
      "Курс про 'Python' на ''Coursera''\n",
      "Курс про \"Python\" на 'Coursera'\n"
     ]
    }
   ],
   "source": [
    "example_string = 'Курс про \"Python\" на \"Coursera\"'\n",
    "print(example_string)\n",
    "\n",
    "example_string = \"Курс про 'Python' на ''Coursera''\"\n",
    "print(example_string)\n",
    "\n",
    "example_string = \"\"\"Курс про \"Python\" на 'Coursera'\"\"\"\n",
    "print(example_string)\n",
    "\n",
    "## non-working versions\n",
    "\n",
    "#example_string = \"Курс про \"Python\" на \"Coursera\"\"\n",
    "#print(example_string)\n",
    "\n",
    "#example_string = 'Курс про 'Python' на 'Coursera''\n",
    "#print(example_string)"
   ]
  },
  {
   "cell_type": "markdown",
   "id": "8201f341",
   "metadata": {},
   "source": [
    "## Экранирование"
   ]
  },
  {
   "cell_type": "code",
   "execution_count": 4,
   "id": "779f95ad",
   "metadata": {},
   "outputs": [
    {
     "name": "stdout",
     "output_type": "stream",
     "text": [
      "Курс про \"Python\" на \"Coursera\"\n",
      "Курс про 'Python' на 'Coursera'\n"
     ]
    }
   ],
   "source": [
    "example_string = \"Курс про \\\"Python\\\" на \\\"Coursera\\\"\"\n",
    "print(example_string)\n",
    "\n",
    "example_string = 'Курс про \\'Python\\' на \\'Coursera\\''\n",
    "print(example_string)"
   ]
  },
  {
   "cell_type": "markdown",
   "id": "30deeb32",
   "metadata": {},
   "source": [
    "### Экранированные последовательности\n",
    "* `\\` - слеш\n",
    "* `\\\\` - позволяет добавить внутрь строки слеш\n",
    "* `\\'` - позволяет добавить внутрь строки одинарную кавычку\n",
    "* `\\\"` - позволяет добавить внутрь строки двойную кавычку\n",
    "* `\\n` - Перевод строки\n",
    "* `\\a` - Звонок\n",
    "* `\\b` - Забой\n",
    "* `\\f` - Перевод страницы. Перевод каретки на новую страницу\n",
    "* `\\r` - Возврат каретки\n",
    "* `\\t` - Горизонтальная табуляция\n",
    "* `\\v` - Вертикальная табуляция\n",
    "* `\\N{id}` - Идентификатор ID базы данных Юникода\n",
    "* `\\uhhhh` - 16-битовый символ Юникода в 16-ричном представлении\n",
    "* `\\Uhhhh…` - 32-битовый символ Юникода в 32-ричном представлении\n",
    "* `\\xhh` - 16-ричное значение символа\n",
    "* `\\ooo` - 8-ричное значение символа\n",
    "* `\\0` - Символ Null (не является признаком конца строки)"
   ]
  },
  {
   "cell_type": "code",
   "execution_count": 5,
   "id": "1955e3fd",
   "metadata": {},
   "outputs": [
    {
     "name": "stdout",
     "output_type": "stream",
     "text": [
      "\\просто слеш\n",
      "\\просто слеш\n",
      "abc\\\n",
      "abc'\"\n",
      "abc\u0007\n",
      "abc\b\n"
     ]
    }
   ],
   "source": [
    "print(\"\\\\просто слеш\")\n",
    "print(\"\\просто слеш\")\n",
    "print(\"abc\\\\\")\n",
    "print(\"abc\\'\\\"\")\n",
    "print('abc\\a')\n",
    "print(\"abc\\b\")"
   ]
  },
  {
   "cell_type": "code",
   "execution_count": 6,
   "id": "2e3b6527",
   "metadata": {},
   "outputs": [
    {
     "name": "stdout",
     "output_type": "stream",
     "text": [
      "\tabc\n",
      "\n",
      "abc\n",
      "\u000b",
      "abc\n",
      "aaaa\u000b",
      "bbb\u000b",
      "cc\u000b",
      "d\n",
      "aaa\f",
      "bbb\f",
      "ccc\f",
      "ddd\n",
      "abc\r",
      "cba\n"
     ]
    }
   ],
   "source": [
    "print(\"\\tabc\")\n",
    "print(\"\\nabc\")\n",
    "print(\"\\vabc\")\n",
    "print('aaaa\\vbbb\\vcc\\vd')\n",
    "print('aaa\\fbbb\\fccc\\fddd') # тут не работает\n",
    "print(\"abc\\rcba\")"
   ]
  },
  {
   "cell_type": "code",
   "execution_count": 7,
   "id": "4a46db55",
   "metadata": {},
   "outputs": [
    {
     "name": "stdout",
     "output_type": "stream",
     "text": [
      "w --> 119 --> 0x77\n",
      "o --> 111 --> 0x6f\n",
      "r --> 114 --> 0x72\n",
      "d --> 100 --> 0x64\n"
     ]
    },
    {
     "data": {
      "text/plain": [
       "'world'"
      ]
     },
     "execution_count": 7,
     "metadata": {},
     "output_type": "execute_result"
    }
   ],
   "source": [
    "for i in 'word':\n",
    "    print(i, ord(i), hex(ord(i)), sep=' --> ')\n",
    "\n",
    "s = '\\x77\\x6f\\x72\\x6c\\x64'\n",
    "s"
   ]
  },
  {
   "cell_type": "code",
   "execution_count": 8,
   "id": "4b596852",
   "metadata": {},
   "outputs": [
    {
     "name": "stdout",
     "output_type": "stream",
     "text": [
      "aaa\u0000bbbbb\n"
     ]
    },
    {
     "data": {
      "text/plain": [
       "'aaa\\x00bbbbb'"
      ]
     },
     "execution_count": 8,
     "metadata": {},
     "output_type": "execute_result"
    }
   ],
   "source": [
    "s = 'aaa\\0bbbbb'\n",
    "print(s)\n",
    "s"
   ]
  },
  {
   "cell_type": "code",
   "execution_count": 9,
   "id": "1aff19b5",
   "metadata": {},
   "outputs": [
    {
     "name": "stdout",
     "output_type": "stream",
     "text": [
      "©\n",
      "😉   😳\n"
     ]
    }
   ],
   "source": [
    "print('\\N{Copyright Sign}')\n",
    "print('\\N{Winking Face}   \\N{Flushed Face}')"
   ]
  },
  {
   "cell_type": "code",
   "execution_count": 10,
   "id": "ba7e7c6f",
   "metadata": {},
   "outputs": [
    {
     "data": {
      "text/plain": [
       "'Ω'"
      ]
     },
     "execution_count": 10,
     "metadata": {},
     "output_type": "execute_result"
    }
   ],
   "source": [
    "'\\u2126'"
   ]
  },
  {
   "cell_type": "code",
   "execution_count": 11,
   "id": "074a6b52",
   "metadata": {},
   "outputs": [
    {
     "data": {
      "text/plain": [
       "'😳'"
      ]
     },
     "execution_count": 11,
     "metadata": {},
     "output_type": "execute_result"
    }
   ],
   "source": [
    "u'\\U0001F633'"
   ]
  },
  {
   "cell_type": "markdown",
   "id": "0f2671cf",
   "metadata": {},
   "source": [
    "## \"Cырые\" r-строки для экранирования"
   ]
  },
  {
   "cell_type": "code",
   "execution_count": 12,
   "id": "a1ce5dfe",
   "metadata": {},
   "outputs": [
    {
     "name": "stdout",
     "output_type": "stream",
     "text": [
      "Файл на диске c:\\\\\n",
      "Файл на диске c:\\\\\n",
      "Файл на диске c:\\\\\n"
     ]
    }
   ],
   "source": [
    "example_string = \"Файл на диске c:\\\\\\\\\"\n",
    "print(example_string)\n",
    "\n",
    "example_string = r\"Файл на диске c:\\\\\"\n",
    "print(example_string)\n",
    "\n",
    "example_string = r'Файл на диске c:\\\\'\n",
    "print(example_string)"
   ]
  },
  {
   "cell_type": "code",
   "execution_count": null,
   "id": "906cdccf",
   "metadata": {},
   "outputs": [],
   "source": []
  },
  {
   "cell_type": "markdown",
   "id": "207fc9b7",
   "metadata": {},
   "source": [
    "## Как разбить объявление длинной строки"
   ]
  },
  {
   "cell_type": "code",
   "execution_count": 13,
   "id": "51c4a270",
   "metadata": {},
   "outputs": [
    {
     "name": "stdout",
     "output_type": "stream",
     "text": [
      "Perl — это тот язык, который одинаково выглядит как до, так и после RSA шифрования.(Keith Bostic)\n"
     ]
    }
   ],
   "source": [
    "example_string = \"Perl — это тот язык, который одинаково \" \\\n",
    "                 \"выглядит как до, так и после RSA шифрования.\" \\\n",
    "                 \"(Keith Bostic)\"\n",
    "print(example_string)"
   ]
  },
  {
   "cell_type": "code",
   "execution_count": 14,
   "id": "84e1956b",
   "metadata": {},
   "outputs": [
    {
     "name": "stdout",
     "output_type": "stream",
     "text": [
      "\n",
      "Есть всего два типа языков программирования: те, на которые \n",
      "люди всё время ругаются, и те, которые никто не использует.\n",
      "\n",
      "Bjarne Stroustrup\n",
      "\n"
     ]
    }
   ],
   "source": [
    "example_string = \"\"\"\n",
    "Есть всего два типа языков программирования: те, на которые \n",
    "люди всё время ругаются, и те, которые никто не использует.\n",
    "\n",
    "Bjarne Stroustrup\n",
    "\"\"\"\n",
    "print(example_string)"
   ]
  },
  {
   "cell_type": "code",
   "execution_count": null,
   "id": "72e8d91b",
   "metadata": {},
   "outputs": [],
   "source": []
  },
  {
   "cell_type": "markdown",
   "id": "af179ae8",
   "metadata": {},
   "source": [
    "## Как объединить строки"
   ]
  },
  {
   "cell_type": "code",
   "execution_count": 15,
   "id": "1598d1aa",
   "metadata": {},
   "outputs": [
    {
     "data": {
      "text/plain": [
       "'Можно просто складывать строки'"
      ]
     },
     "execution_count": 15,
     "metadata": {},
     "output_type": "execute_result"
    }
   ],
   "source": [
    "# конкатенация\n",
    "\n",
    "\"Можно\" + \" просто \" + \"складывать\" + \" строки\""
   ]
  },
  {
   "cell_type": "code",
   "execution_count": 16,
   "id": "5a24a944",
   "metadata": {},
   "outputs": [
    {
     "data": {
      "text/plain": [
       "'Даже умножать! Даже умножать! Даже умножать! '"
      ]
     },
     "execution_count": 16,
     "metadata": {},
     "output_type": "execute_result"
    }
   ],
   "source": [
    "\"Даже умножать! \" * 3"
   ]
  },
  {
   "cell_type": "code",
   "execution_count": null,
   "id": "94e33d64",
   "metadata": {},
   "outputs": [],
   "source": []
  },
  {
   "cell_type": "markdown",
   "id": "ef6b08d0",
   "metadata": {},
   "source": [
    "## Сравнение строк"
   ]
  },
  {
   "cell_type": "code",
   "execution_count": 17,
   "id": "83b36cbb",
   "metadata": {},
   "outputs": [
    {
     "data": {
      "text/plain": [
       "True"
      ]
     },
     "execution_count": 17,
     "metadata": {},
     "output_type": "execute_result"
    }
   ],
   "source": [
    "\"Кот\" > \"Кит\""
   ]
  },
  {
   "cell_type": "code",
   "execution_count": 18,
   "id": "1f6bb5d3",
   "metadata": {},
   "outputs": [
    {
     "data": {
      "text/plain": [
       "True"
      ]
     },
     "execution_count": 18,
     "metadata": {},
     "output_type": "execute_result"
    }
   ],
   "source": [
    "\"о\" > \"и\""
   ]
  },
  {
   "cell_type": "code",
   "execution_count": 19,
   "id": "34b9f5e4",
   "metadata": {},
   "outputs": [
    {
     "data": {
      "text/plain": [
       "False"
      ]
     },
     "execution_count": 19,
     "metadata": {},
     "output_type": "execute_result"
    }
   ],
   "source": [
    "\"К\" > \"Кит\""
   ]
  },
  {
   "cell_type": "code",
   "execution_count": 20,
   "id": "26dd6d5e",
   "metadata": {},
   "outputs": [
    {
     "data": {
      "text/plain": [
       "True"
      ]
     },
     "execution_count": 20,
     "metadata": {},
     "output_type": "execute_result"
    }
   ],
   "source": [
    "\"к\" > \"К\""
   ]
  },
  {
   "cell_type": "code",
   "execution_count": 21,
   "id": "ae9fd6f5",
   "metadata": {},
   "outputs": [
    {
     "name": "stdout",
     "output_type": "stream",
     "text": [
      "ASCII к: 1082\n",
      "ASCII К: 1050\n"
     ]
    }
   ],
   "source": [
    "print(f'ASCII к: {ord(\"к\")}\\nASCII К: {ord(\"К\")}')"
   ]
  },
  {
   "cell_type": "markdown",
   "id": "1511448e",
   "metadata": {},
   "source": [
    "## Строки неизменяемые!"
   ]
  },
  {
   "cell_type": "code",
   "execution_count": 22,
   "id": "c39bec07",
   "metadata": {},
   "outputs": [
    {
     "name": "stdout",
     "output_type": "stream",
     "text": [
      "86910656\n",
      "86910880\n"
     ]
    }
   ],
   "source": [
    "example_string = \"Привет\"\n",
    "print(id(example_string))\n",
    "\n",
    "example_string += \", Мир!\"\n",
    "print(id(example_string))"
   ]
  },
  {
   "cell_type": "code",
   "execution_count": null,
   "id": "220f79d2",
   "metadata": {},
   "outputs": [],
   "source": []
  },
  {
   "cell_type": "code",
   "execution_count": null,
   "id": "79882c4a",
   "metadata": {},
   "outputs": [],
   "source": []
  },
  {
   "cell_type": "markdown",
   "id": "4bc83455",
   "metadata": {},
   "source": [
    "## Срезы строк [start:stop:step]"
   ]
  },
  {
   "cell_type": "code",
   "execution_count": 23,
   "id": "92d3d646",
   "metadata": {},
   "outputs": [
    {
     "name": "stdout",
     "output_type": "stream",
     "text": [
      "Python на Coursera\n",
      "Python\n",
      "Coursera\n"
     ]
    }
   ],
   "source": [
    "example_string = \"Курс про Python на Coursera\"\n",
    "\n",
    "print(example_string[9:])\n",
    "print(example_string[9:15])\n",
    "print(example_string[-8:])"
   ]
  },
  {
   "cell_type": "code",
   "execution_count": 24,
   "id": "1e59af65",
   "metadata": {},
   "outputs": [
    {
     "name": "stdout",
     "output_type": "stream",
     "text": [
      "02468\n",
      "раком дед ебет кобылу\n"
     ]
    }
   ],
   "source": [
    "example_string = \"0123456789\"\n",
    "print(example_string[::2])\n",
    "\n",
    "example_string = \"улыбок тебе дед мокар\"\n",
    "print(example_string[::-1])"
   ]
  },
  {
   "cell_type": "code",
   "execution_count": 25,
   "id": "0328359f",
   "metadata": {},
   "outputs": [
    {
     "name": "stdout",
     "output_type": "stream",
     "text": [
      "81391856 81391728 81391856\n"
     ]
    }
   ],
   "source": [
    "a = \"abcdef\"\n",
    "b = a[1:3]\n",
    "c = a[:]\n",
    "\n",
    "print(id(a), id(b), id(c))"
   ]
  },
  {
   "cell_type": "code",
   "execution_count": 26,
   "id": "25622077",
   "metadata": {},
   "outputs": [
    {
     "name": "stdout",
     "output_type": "stream",
     "text": [
      "karba\n",
      "karba\n",
      "karba\n"
     ]
    }
   ],
   "source": [
    "# 'abrakadabra' отобразить первые пять символов в обратном порядке\n",
    "\n",
    "s = 'abrakadabra'\n",
    "\n",
    "print(s[4::-1])\n",
    "print(s[:5][::-1])\n",
    "print(s[:5][::-1][::-1][::-1][::-1][::-1])"
   ]
  },
  {
   "cell_type": "markdown",
   "id": "3d53a999",
   "metadata": {},
   "source": [
    "## Методы строк\n",
    "\n",
    "* `len(s)` - длина строки\n",
    "* `ord(символ)` - Символ в его код ASCII\n",
    "* `chr(число)` - Код ASCII в символ\n",
    "\n",
    "* `s.split(символ)` - разбиение строки по разделителю `символ`\n",
    "* `s.join(список)` - сборка строки из списка с разделителем `s`"
   ]
  },
  {
   "cell_type": "code",
   "execution_count": 27,
   "id": "621ec513",
   "metadata": {},
   "outputs": [
    {
     "data": {
      "text/plain": [
       "3"
      ]
     },
     "execution_count": 27,
     "metadata": {},
     "output_type": "execute_result"
    }
   ],
   "source": [
    "len('abc')"
   ]
  },
  {
   "cell_type": "code",
   "execution_count": 28,
   "id": "f2c82dd0",
   "metadata": {},
   "outputs": [
    {
     "data": {
      "text/plain": [
       "1067"
      ]
     },
     "execution_count": 28,
     "metadata": {},
     "output_type": "execute_result"
    }
   ],
   "source": [
    "ord('Ы')"
   ]
  },
  {
   "cell_type": "code",
   "execution_count": 29,
   "id": "afaa0ddf",
   "metadata": {},
   "outputs": [
    {
     "data": {
      "text/plain": [
       "'Ы'"
      ]
     },
     "execution_count": 29,
     "metadata": {},
     "output_type": "execute_result"
    }
   ],
   "source": [
    "chr(1067)"
   ]
  },
  {
   "cell_type": "code",
   "execution_count": 30,
   "id": "40bf14e3",
   "metadata": {},
   "outputs": [
    {
     "name": "stdout",
     "output_type": "stream",
     "text": [
      "1, 2, 3, 4\n",
      "['1', ' 2', ' 3', ' 4']\n",
      "1; 2; 3; 4\n"
     ]
    }
   ],
   "source": [
    "s = '1, 2, 3, 4'\n",
    "print(s)\n",
    "\n",
    "s = s.split(',')\n",
    "print(s)\n",
    "\n",
    "s = ';'.join(s)\n",
    "print(s)"
   ]
  },
  {
   "cell_type": "code",
   "execution_count": 31,
   "id": "1c6ae7ed",
   "metadata": {},
   "outputs": [
    {
     "data": {
      "text/plain": [
       "'1; 2; 3; 4'"
      ]
     },
     "execution_count": 31,
     "metadata": {},
     "output_type": "execute_result"
    }
   ],
   "source": [
    "'1,2 ,3   ,4 '.replace(' ', '').replace(',', '; ')"
   ]
  },
  {
   "cell_type": "markdown",
   "id": "475652af",
   "metadata": {},
   "source": [
    "* `s.count(str, [start],[end])` - Возвращает количество непересекающихся вхождений подстроки в диапазоне `[начало, конец]` (0 и длина строки по умолчанию)"
   ]
  },
  {
   "cell_type": "code",
   "execution_count": 32,
   "id": "1554377d",
   "metadata": {},
   "outputs": [
    {
     "name": "stdout",
     "output_type": "stream",
     "text": [
      "6\n",
      "2\n"
     ]
    }
   ],
   "source": [
    "quote = \"\"\"Болтовня ничего не стоит. Покажите мне код.\n",
    "Linus Torvalds\n",
    "\"\"\"\n",
    "print(quote.count(\"о\"))\n",
    "print(quote.count(\"то\"))"
   ]
  },
  {
   "cell_type": "markdown",
   "id": "d8f85c77",
   "metadata": {},
   "source": [
    "* `s.find(sub_s, [start],[end])` - Поиск подстроки в строке. Возвращает номер первого вхождения или `-1`\n",
    "* `s.rfind(sub_s, [start],[end])` - Поиск подстроки в строке. Возвращает номер последнего вхождения или `-1`\n",
    "* `s.index(sub_s, [start],[end])` - Поиск подстроки в строке. Возвращает номер первого вхождения или вызывает `ValueError`\n",
    "* `s.rindex(sub_s, [start],[end])` - Поиск подстроки в строке. Возвращает номер последнего вхождения или вызывает `ValueError`\n",
    "* `s.replace(шаблон, замена[, maxcount])` - Замена шаблона на замену. maxcount ограничивает количество замен\n",
    "\n",
    "Разнца `find()` и `index()` в обработке исключений при отсутсвии вхождения подстроки в строку."
   ]
  },
  {
   "cell_type": "code",
   "execution_count": 33,
   "id": "c579a359",
   "metadata": {},
   "outputs": [
    {
     "name": "stdout",
     "output_type": "stream",
     "text": [
      "1\n",
      "-1\n",
      "4\n"
     ]
    }
   ],
   "source": [
    "print('abc'.find('b'))\n",
    "print('abc'.find('d'))\n",
    "\n",
    "print('abcaa'.rfind('a'))"
   ]
  },
  {
   "cell_type": "code",
   "execution_count": 34,
   "id": "6e225f4d",
   "metadata": {},
   "outputs": [
    {
     "name": "stdout",
     "output_type": "stream",
     "text": [
      "14\n",
      "2\n",
      "10\n"
     ]
    }
   ],
   "source": [
    "quote = 'Python is the language of the future.'\n",
    "print(quote.index('lang'))\n",
    "print(quote.index('t'))\n",
    "print(quote.index('t', 3))"
   ]
  },
  {
   "cell_type": "code",
   "execution_count": 35,
   "id": "98431d3b",
   "metadata": {},
   "outputs": [
    {
     "data": {
      "text/plain": [
       "'abRAcadabRA'"
      ]
     },
     "execution_count": 35,
     "metadata": {},
     "output_type": "execute_result"
    }
   ],
   "source": [
    "'abracadabra'.replace('ra', 'RA')"
   ]
  },
  {
   "cell_type": "code",
   "execution_count": 36,
   "id": "2c45af09",
   "metadata": {},
   "outputs": [
    {
     "data": {
      "text/plain": [
       "'abRAcadabra'"
      ]
     },
     "execution_count": 36,
     "metadata": {},
     "output_type": "execute_result"
    }
   ],
   "source": [
    "'abracadabra'.replace('ra', 'RA', 1)"
   ]
  },
  {
   "cell_type": "code",
   "execution_count": 37,
   "id": "6f3570e8",
   "metadata": {},
   "outputs": [
    {
     "data": {
      "text/plain": [
       "'abraabra'"
      ]
     },
     "execution_count": 37,
     "metadata": {},
     "output_type": "execute_result"
    }
   ],
   "source": [
    "# удаление элементов из строки\n",
    "\n",
    "'abracadabra'.replace('cad', '', 1)"
   ]
  },
  {
   "cell_type": "code",
   "execution_count": null,
   "id": "4b319ea7",
   "metadata": {},
   "outputs": [],
   "source": []
  },
  {
   "cell_type": "markdown",
   "id": "3e940399",
   "metadata": {},
   "source": [
    "* `s.isdigit()` - Состоит ли строка из цифр\n",
    "* `s.isalpha()` - Состоит ли строка из букв\n",
    "* `s.isalnum()` - Состоит ли строка из цифр или букв\n",
    "* `s.islower()` - Состоит ли строка из символов в нижнем регистре\n",
    "* `s.isupper()` - Состоит ли строка из символов в верхнем регистре\n",
    "* `s.isspace()` - Состоит ли строка из неотображаемых символов (пробел, символ перевода страницы `\\f`, \"новая строка\" `\\n`,  перевод каретки\" `\\r`, \"горизонтальная табуляция\" `\\t` и \"вертикальная табуляция\" `\\v`)\n",
    "* `s.istitle()` - Начинаются ли слова в строке с заглавной буквы"
   ]
  },
  {
   "cell_type": "code",
   "execution_count": 38,
   "id": "89dd1cd5",
   "metadata": {},
   "outputs": [
    {
     "name": "stdout",
     "output_type": "stream",
     "text": [
      "True\n",
      "False\n"
     ]
    }
   ],
   "source": [
    "print(\"2017\".isdigit())\n",
    "print(\"1.25\".isdigit())"
   ]
  },
  {
   "cell_type": "code",
   "execution_count": 39,
   "id": "35a56cd9",
   "metadata": {},
   "outputs": [
    {
     "data": {
      "text/plain": [
       "True"
      ]
     },
     "execution_count": 39,
     "metadata": {},
     "output_type": "execute_result"
    }
   ],
   "source": [
    "\"abc\".isalpha()"
   ]
  },
  {
   "cell_type": "code",
   "execution_count": 40,
   "id": "a629c15e",
   "metadata": {},
   "outputs": [
    {
     "data": {
      "text/plain": [
       "True"
      ]
     },
     "execution_count": 40,
     "metadata": {},
     "output_type": "execute_result"
    }
   ],
   "source": [
    "\"abc\".isalnum()"
   ]
  },
  {
   "cell_type": "code",
   "execution_count": 41,
   "id": "e255d3f2",
   "metadata": {},
   "outputs": [
    {
     "data": {
      "text/plain": [
       "False"
      ]
     },
     "execution_count": 41,
     "metadata": {},
     "output_type": "execute_result"
    }
   ],
   "source": [
    "\"abc1\".isalpha()"
   ]
  },
  {
   "cell_type": "code",
   "execution_count": 42,
   "id": "39be44a7",
   "metadata": {},
   "outputs": [
    {
     "data": {
      "text/plain": [
       "True"
      ]
     },
     "execution_count": 42,
     "metadata": {},
     "output_type": "execute_result"
    }
   ],
   "source": [
    "\"abc1\".isalnum()"
   ]
  },
  {
   "cell_type": "code",
   "execution_count": 43,
   "id": "2a40073c",
   "metadata": {},
   "outputs": [
    {
     "data": {
      "text/plain": [
       "False"
      ]
     },
     "execution_count": 43,
     "metadata": {},
     "output_type": "execute_result"
    }
   ],
   "source": [
    "\"a b\".isspace()"
   ]
  },
  {
   "cell_type": "code",
   "execution_count": 44,
   "id": "29b5551c",
   "metadata": {},
   "outputs": [
    {
     "data": {
      "text/plain": [
       "False"
      ]
     },
     "execution_count": 44,
     "metadata": {},
     "output_type": "execute_result"
    }
   ],
   "source": [
    "\"a b\".isalpha()"
   ]
  },
  {
   "cell_type": "code",
   "execution_count": 45,
   "id": "a495b34e",
   "metadata": {},
   "outputs": [
    {
     "name": "stdout",
     "output_type": "stream",
     "text": [
      "This Title\n"
     ]
    }
   ],
   "source": [
    "s = \"This title\"\n",
    "\n",
    "title = s if s.istitle() else s.title()\n",
    "\n",
    "print(title)"
   ]
  },
  {
   "cell_type": "markdown",
   "id": "59e65e41",
   "metadata": {},
   "source": [
    "* `s.upper()` - Преобразование строки к верхнему регистру\n",
    "* `s.lower()` - Преобразование строки к нижнему регистру\n",
    "* `s.capitalize()` - Переводит первый символ строки в верхний регистр, а все остальные в нижний\n",
    "* `s.title()` - Первую букву каждого слова переводит в верхний регистр, а все остальные в нижний\n",
    "* `s.swapcase()` - Переводит символы нижнего регистра в верхний, а верхнего – в нижний"
   ]
  },
  {
   "cell_type": "code",
   "execution_count": 46,
   "id": "a885670d",
   "metadata": {},
   "outputs": [
    {
     "name": "stdout",
     "output_type": "stream",
     "text": [
      "МОСКВА\n",
      "Москва\n",
      "Москва россия\n",
      "Москва Россия\n"
     ]
    }
   ],
   "source": [
    "print(\"москва\".upper())\n",
    "print(\"москва\".capitalize())\n",
    "print(\"москва россия\".capitalize())\n",
    "print(\"москва россия\".title())"
   ]
  },
  {
   "cell_type": "markdown",
   "id": "457ef786",
   "metadata": {},
   "source": [
    "* `s.startswith(temp)` - Начинается ли строка `s` с шаблона `temp`\n",
    "* `s.endswith(temp)` - Заканчивается ли строка `s` шаблоном `temp`\n",
    "* `s.center(width, [fill])` - Возвращает отцентрованную строку, по краям которой стоит символ `fill` (пробел по умолчанию)"
   ]
  },
  {
   "cell_type": "code",
   "execution_count": 47,
   "id": "683d44cc",
   "metadata": {},
   "outputs": [
    {
     "data": {
      "text/plain": [
       "True"
      ]
     },
     "execution_count": 47,
     "metadata": {},
     "output_type": "execute_result"
    }
   ],
   "source": [
    "'abracadabra'.startswith('a') and 'abracadabra'.endswith('a')"
   ]
  },
  {
   "cell_type": "code",
   "execution_count": 48,
   "id": "a5935ab2",
   "metadata": {},
   "outputs": [
    {
     "data": {
      "text/plain": [
       "'123456'"
      ]
     },
     "execution_count": 48,
     "metadata": {},
     "output_type": "execute_result"
    }
   ],
   "source": [
    "'123456'.center(3, '!') # ?????"
   ]
  },
  {
   "cell_type": "markdown",
   "id": "68c37063",
   "metadata": {},
   "source": [
    "* `s.expandtabs([tabsize])` - Возвращает копию строки, в которой все символы табуляции заменяются одним или несколькими пробелами, в зависимости от текущего столбца. Если `TabSize` не указан, размер табуляции полагается равным 8 пробелам\n",
    "* `s.lstrip([chars])` - Удаление пробельных символов в начале строки\n",
    "* `s.rstrip([chars])` - Удаление пробельных символов в конце строки\n",
    "* `s.strip([chars])` - Удаление пробельных символов в начале и в конце строки"
   ]
  },
  {
   "cell_type": "markdown",
   "id": "21f078f4",
   "metadata": {},
   "source": [
    "* `s.partition(шаблон)` - Возвращает кортеж, содержащий часть перед первым шаблоном, сам шаблон, и часть после шаблона. Если шаблон не найден, возвращается кортеж, содержащий саму строку, а затем две пустых строки\n",
    "* `s.rpartition(sep)` - Возвращает кортеж, содержащий часть перед последним шаблоном, сам шаблон, и часть после шаблона. Если шаблон не найден, возвращается кортеж, содержащий две пустых строки, а затем саму строку"
   ]
  },
  {
   "cell_type": "code",
   "execution_count": 49,
   "id": "879a2ea4",
   "metadata": {},
   "outputs": [
    {
     "data": {
      "text/plain": [
       "('1', ', ', '2, 3')"
      ]
     },
     "execution_count": 49,
     "metadata": {},
     "output_type": "execute_result"
    }
   ],
   "source": [
    "'1, 2, 3'.partition(', ')"
   ]
  },
  {
   "cell_type": "code",
   "execution_count": 50,
   "id": "37a16644",
   "metadata": {},
   "outputs": [
    {
     "data": {
      "text/plain": [
       "('1, 2', ', ', '3')"
      ]
     },
     "execution_count": 50,
     "metadata": {},
     "output_type": "execute_result"
    }
   ],
   "source": [
    "'1, 2, 3'.rpartition(', ')"
   ]
  },
  {
   "cell_type": "code",
   "execution_count": 51,
   "id": "23d1e564",
   "metadata": {},
   "outputs": [
    {
     "data": {
      "text/plain": [
       "('1, 2, 3', '', '')"
      ]
     },
     "execution_count": 51,
     "metadata": {},
     "output_type": "execute_result"
    }
   ],
   "source": [
    "'1, 2, 3'.partition('!')"
   ]
  },
  {
   "cell_type": "markdown",
   "id": "178c6375",
   "metadata": {},
   "source": [
    "* `s.zfill(width)` - Делает длину строки не меньшей `width`, по необходимости заполняя первые символы нулями\n",
    "* `s.ljust(width, fillchar=\" \")` - Делает длину строки не меньшей `width`, по необходимости заполняя последние символы символом `fillchar`\n",
    "* `s.rjust(width, fillchar=\" \")` - Делает длину строки не меньшей `width`, по необходимости заполняя первые символы символом `fillchar`\n",
    "\n",
    "Символ `fillchar` должен состоять именно из одного символа."
   ]
  },
  {
   "cell_type": "code",
   "execution_count": 52,
   "id": "0a125016",
   "metadata": {},
   "outputs": [
    {
     "data": {
      "text/plain": [
       "'00aaa'"
      ]
     },
     "execution_count": 52,
     "metadata": {},
     "output_type": "execute_result"
    }
   ],
   "source": [
    "'aaa'.zfill(5)"
   ]
  },
  {
   "cell_type": "code",
   "execution_count": 53,
   "id": "65498f25",
   "metadata": {},
   "outputs": [
    {
     "data": {
      "text/plain": [
       "'  aaa'"
      ]
     },
     "execution_count": 53,
     "metadata": {},
     "output_type": "execute_result"
    }
   ],
   "source": [
    "'aaa'.rjust(5)"
   ]
  },
  {
   "cell_type": "code",
   "execution_count": null,
   "id": "2490698b",
   "metadata": {},
   "outputs": [],
   "source": []
  },
  {
   "cell_type": "code",
   "execution_count": null,
   "id": "e0854261",
   "metadata": {},
   "outputs": [],
   "source": []
  },
  {
   "cell_type": "markdown",
   "id": "f3263309",
   "metadata": {},
   "source": [
    "### Оператор in"
   ]
  },
  {
   "cell_type": "code",
   "execution_count": 54,
   "id": "af6fa121",
   "metadata": {},
   "outputs": [
    {
     "data": {
      "text/plain": [
       "True"
      ]
     },
     "execution_count": 54,
     "metadata": {},
     "output_type": "execute_result"
    }
   ],
   "source": [
    "\"3.14\" in \"Число Пи = 3.1415926\""
   ]
  },
  {
   "cell_type": "code",
   "execution_count": 55,
   "id": "b675042a",
   "metadata": {},
   "outputs": [
    {
     "data": {
      "text/plain": [
       "False"
      ]
     },
     "execution_count": 55,
     "metadata": {},
     "output_type": "execute_result"
    }
   ],
   "source": [
    "\"Алексей\" in \"Александр Пушкин\""
   ]
  },
  {
   "cell_type": "code",
   "execution_count": 56,
   "id": "597c4fc3",
   "metadata": {},
   "outputs": [
    {
     "name": "stdout",
     "output_type": "stream",
     "text": [
      "Буква П\n",
      "Буква р\n",
      "Буква и\n",
      "Буква в\n",
      "Буква е\n",
      "Буква т\n"
     ]
    }
   ],
   "source": [
    "example_string = \"Привет\"\n",
    "\n",
    "for letter in example_string:\n",
    "    print(\"Буква\", letter)"
   ]
  },
  {
   "cell_type": "code",
   "execution_count": null,
   "id": "ea649f5f",
   "metadata": {},
   "outputs": [],
   "source": []
  },
  {
   "cell_type": "markdown",
   "id": "1a12f207",
   "metadata": {},
   "source": [
    "## Конвертация типов"
   ]
  },
  {
   "cell_type": "code",
   "execution_count": 57,
   "id": "999cbbaa",
   "metadata": {},
   "outputs": [
    {
     "name": "stdout",
     "output_type": "stream",
     "text": [
      "<class 'str'>\n"
     ]
    },
    {
     "data": {
      "text/plain": [
       "'999.01'"
      ]
     },
     "execution_count": 57,
     "metadata": {},
     "output_type": "execute_result"
    }
   ],
   "source": [
    "num = 999.01\n",
    "\n",
    "num_string = str(num)\n",
    "\n",
    "print(type(num_string))\n",
    "num_string"
   ]
  },
  {
   "cell_type": "code",
   "execution_count": 58,
   "id": "bcb3d8bc",
   "metadata": {},
   "outputs": [
    {
     "data": {
      "text/plain": [
       "True"
      ]
     },
     "execution_count": 58,
     "metadata": {},
     "output_type": "execute_result"
    }
   ],
   "source": [
    "bool(\"Непустая строка\")"
   ]
  },
  {
   "cell_type": "code",
   "execution_count": 59,
   "id": "e572731b",
   "metadata": {},
   "outputs": [
    {
     "data": {
      "text/plain": [
       "False"
      ]
     },
     "execution_count": 59,
     "metadata": {},
     "output_type": "execute_result"
    }
   ],
   "source": [
    "bool(\"\")"
   ]
  },
  {
   "cell_type": "code",
   "execution_count": 60,
   "id": "17bb5ed8",
   "metadata": {},
   "outputs": [
    {
     "data": {
      "text/plain": [
       "'True'"
      ]
     },
     "execution_count": 60,
     "metadata": {},
     "output_type": "execute_result"
    }
   ],
   "source": [
    "str(True)"
   ]
  },
  {
   "cell_type": "code",
   "execution_count": 61,
   "id": "9d55001a",
   "metadata": {},
   "outputs": [
    {
     "name": "stdout",
     "output_type": "stream",
     "text": [
      "Имя не заполнено!\n"
     ]
    }
   ],
   "source": [
    "name = \"\"\n",
    "\n",
    "if not name:\n",
    "    print(\"Имя не заполнено!\")"
   ]
  },
  {
   "cell_type": "code",
   "execution_count": null,
   "id": "8dd03dca",
   "metadata": {},
   "outputs": [],
   "source": []
  },
  {
   "cell_type": "markdown",
   "id": "a26c103d",
   "metadata": {},
   "source": [
    "## Форматирование строк"
   ]
  },
  {
   "cell_type": "markdown",
   "id": "102245f2",
   "metadata": {},
   "source": [
    "### 1-ый способ форматирования"
   ]
  },
  {
   "cell_type": "code",
   "execution_count": 62,
   "id": "baea9eb6",
   "metadata": {},
   "outputs": [
    {
     "name": "stdout",
     "output_type": "stream",
     "text": [
      "%s — главное достоинство программиста. (%s)\n",
      "Лень — главное достоинство программиста. (Larry Wall)\n"
     ]
    }
   ],
   "source": [
    "# with place-holder\n",
    "\n",
    "template = \"%s — главное достоинство программиста. (%s)\"\n",
    "\n",
    "print(template)\n",
    "print(template % (\"Лень\", \"Larry Wall\"))"
   ]
  },
  {
   "cell_type": "markdown",
   "id": "a3e1ba14",
   "metadata": {},
   "source": [
    "### 2-ой способ форматирования"
   ]
  },
  {
   "cell_type": "code",
   "execution_count": 63,
   "id": "443f4972",
   "metadata": {},
   "outputs": [
    {
     "data": {
      "text/plain": [
       "'Цифры не лгут, но лжецы пользуются формулами. (Robert A. Heinlein)'"
      ]
     },
     "execution_count": 63,
     "metadata": {},
     "output_type": "execute_result"
    }
   ],
   "source": [
    "# with method format()\n",
    "\n",
    "\"{} не лгут, но {} пользуются формулами. ({})\".format(\n",
    "    \"Цифры\", \"лжецы\", \"Robert A. Heinlein\"\n",
    ")"
   ]
  },
  {
   "cell_type": "code",
   "execution_count": 64,
   "id": "c79d9080",
   "metadata": {},
   "outputs": [
    {
     "data": {
      "text/plain": [
       "'640 Кб должно хватить для любых задач. (Bill Gates)'"
      ]
     },
     "execution_count": 64,
     "metadata": {},
     "output_type": "execute_result"
    }
   ],
   "source": [
    "# format with variables\n",
    "\n",
    "\"{num} Кб должно хватить для любых задач. ({author})\".format(\n",
    "    num=640, author=\"Bill Gates\"\n",
    ")"
   ]
  },
  {
   "cell_type": "code",
   "execution_count": 65,
   "id": "d679f79f",
   "metadata": {},
   "outputs": [
    {
     "data": {
      "text/plain": [
       "'a, b, c'"
      ]
     },
     "execution_count": 65,
     "metadata": {},
     "output_type": "execute_result"
    }
   ],
   "source": [
    "'{}, {}, {}'.format('a', 'b', 'c')"
   ]
  },
  {
   "cell_type": "code",
   "execution_count": 66,
   "id": "038d3b7f",
   "metadata": {},
   "outputs": [
    {
     "data": {
      "text/plain": [
       "'a, b, c'"
      ]
     },
     "execution_count": 66,
     "metadata": {},
     "output_type": "execute_result"
    }
   ],
   "source": [
    "'{0}, {1}, {2}'.format('a', 'b', 'c')"
   ]
  },
  {
   "cell_type": "code",
   "execution_count": 67,
   "id": "60771e8c",
   "metadata": {},
   "outputs": [
    {
     "data": {
      "text/plain": [
       "'c, b, a'"
      ]
     },
     "execution_count": 67,
     "metadata": {},
     "output_type": "execute_result"
    }
   ],
   "source": [
    "'{2}, {1}, {0}'.format('a', 'b', 'c')"
   ]
  },
  {
   "cell_type": "code",
   "execution_count": 68,
   "id": "4140e2d1",
   "metadata": {},
   "outputs": [
    {
     "data": {
      "text/plain": [
       "'c, b, a'"
      ]
     },
     "execution_count": 68,
     "metadata": {},
     "output_type": "execute_result"
    }
   ],
   "source": [
    "'{2}, {1}, {0}'.format(*'abc')"
   ]
  },
  {
   "cell_type": "code",
   "execution_count": 69,
   "id": "513a079f",
   "metadata": {},
   "outputs": [
    {
     "data": {
      "text/plain": [
       "'abracadabra'"
      ]
     },
     "execution_count": 69,
     "metadata": {},
     "output_type": "execute_result"
    }
   ],
   "source": [
    "'{0}{1}{0}'.format('abra', 'cad')"
   ]
  },
  {
   "cell_type": "code",
   "execution_count": 70,
   "id": "49c971c1",
   "metadata": {},
   "outputs": [
    {
     "data": {
      "text/plain": [
       "'Coordinates: 37.24N, -115.81W'"
      ]
     },
     "execution_count": 70,
     "metadata": {},
     "output_type": "execute_result"
    }
   ],
   "source": [
    "'Coordinates: {latitude}, {longitude}'.format(latitude='37.24N', longitude='-115.81W')"
   ]
  },
  {
   "cell_type": "code",
   "execution_count": 71,
   "id": "fe07ec82",
   "metadata": {},
   "outputs": [
    {
     "data": {
      "text/plain": [
       "'Coordinates: 37.24N, -115.81W'"
      ]
     },
     "execution_count": 71,
     "metadata": {},
     "output_type": "execute_result"
    }
   ],
   "source": [
    "coord = {'latitude': '37.24N', 'longitude': '-115.81W'}\n",
    "'Coordinates: {latitude}, {longitude}'.format(**coord)"
   ]
  },
  {
   "cell_type": "code",
   "execution_count": null,
   "id": "853cb66f",
   "metadata": {},
   "outputs": [],
   "source": []
  },
  {
   "cell_type": "markdown",
   "id": "74ce5870",
   "metadata": {},
   "source": [
    "### 3-ий способ форматирования"
   ]
  },
  {
   "cell_type": "code",
   "execution_count": 72,
   "id": "d2ab739b",
   "metadata": {},
   "outputs": [
    {
     "name": "stdout",
     "output_type": "stream",
     "text": [
      "Преждевременная оптимизация — корень всех зол. (Donald Knuth)\n"
     ]
    }
   ],
   "source": [
    "# with f-strings\n",
    "\n",
    "subject = \"оптимизация\"\n",
    "author = \"Donald Knuth\"\n",
    "example_string = f\"Преждевременная {subject} — корень всех зол. ({author})\"\n",
    "print(example_string)"
   ]
  },
  {
   "cell_type": "code",
   "execution_count": null,
   "id": "c25ddbb7",
   "metadata": {},
   "outputs": [],
   "source": []
  },
  {
   "cell_type": "markdown",
   "id": "e4948a5b",
   "metadata": {},
   "source": [
    "## Модификаторы форматирования"
   ]
  },
  {
   "cell_type": "code",
   "execution_count": 73,
   "id": "e4e23991",
   "metadata": {},
   "outputs": [
    {
     "name": "stdout",
     "output_type": "stream",
     "text": [
      "Binary: 0b1000\n",
      "8.000\n",
      "     8.000\n"
     ]
    }
   ],
   "source": [
    "num = 8\n",
    "print(f\"Binary: {num:#b}\") # in binary\n",
    "print(f\"{num:.3f}\")        # three decimal digits\n",
    "print(f\"{num:10.3f}\")      # 10 places with three decimal digits"
   ]
  },
  {
   "cell_type": "markdown",
   "id": "cb2b3348",
   "metadata": {},
   "source": [
    "Наиболее употребительные спецификаторы, следующие:\n",
    "\n",
    "* `%d`, `%i`, `%u` – для вывода целочисленных значений;\n",
    "* `%f` – для вывода вещественных значений;\n",
    "* `%s` – для вывода строк;\n",
    "* `%%` – для вывода символа %"
   ]
  },
  {
   "cell_type": "markdown",
   "id": "b6963672",
   "metadata": {},
   "source": [
    "Примеры\n",
    "\n",
    "* `%8d` – целое число размещается в 8 позициях, прижато к правому краю.\n",
    "* `%-8d` – целое число размещается в 8 позициях, прижато к левому краю.\n",
    "* `%8.4f` – вещественное число размещается в 8 позициях, выводится 4 знака после запятой, прижато к правому краю, незаполненные позиции после запятой заполняются 0.\n",
    "* `%-8.4f` – вещественное число размещается в 8 позициях, выводится 4 знака после запятой, прижато левому краю, незаполненные позиции после запятой заполняются 0.\n",
    "* `%8s` – если длина строки меньше 8 символов, то она размещается в 8 позициях, прижата к правому краю, в противном случае формат не учитывается.\n",
    "* `%-8s` – если длина строки меньше 8 символов, то она размещается в 8 позициях, прижата к левому краю, в противном случае формат не учитывается."
   ]
  },
  {
   "cell_type": "markdown",
   "id": "0920cddd",
   "metadata": {},
   "source": [
    "Подробная спкецификация метода `format()`\n",
    "\n",
    "https://pythonworld.ru/osnovy/formatirovanie-strok-metod-format.html"
   ]
  },
  {
   "cell_type": "code",
   "execution_count": null,
   "id": "fb1053a0",
   "metadata": {},
   "outputs": [],
   "source": []
  },
  {
   "cell_type": "markdown",
   "id": "eb6cdc75",
   "metadata": {},
   "source": [
    "## Байтовые строки (bytes)\n",
    "\n",
    "Байтовая строка – это неизменяемая последовательность чисел от 0 до 255.\n",
    "\n",
    "b-литерал для объявления байтовой строки"
   ]
  },
  {
   "cell_type": "code",
   "execution_count": 74,
   "id": "61c0ca44",
   "metadata": {},
   "outputs": [
    {
     "name": "stdout",
     "output_type": "stream",
     "text": [
      "b'hello' <class 'bytes'>\n",
      "104 <class 'int'>\n",
      "101 <class 'int'>\n",
      "108 <class 'int'>\n",
      "108 <class 'int'>\n",
      "111 <class 'int'>\n"
     ]
    }
   ],
   "source": [
    "example_bytes = b\"hello\"\n",
    "print(example_bytes, type(example_bytes))\n",
    "\n",
    "for element in example_bytes:\n",
    "    print(element, type(element))"
   ]
  },
  {
   "cell_type": "code",
   "execution_count": 75,
   "id": "7ff3c39e",
   "metadata": {},
   "outputs": [
    {
     "name": "stdout",
     "output_type": "stream",
     "text": [
      "b'\\xd0\\xbf\\xd1\\x80\\xd0\\xb8\\xd0\\xb2\\xd0\\xb5\\xd1\\x82' <class 'bytes'>\n",
      "привет\n"
     ]
    }
   ],
   "source": [
    "#error\n",
    "#example_bytes = b\"привет\" # not ASCII\n",
    "\n",
    "example_string = \"привет\"\n",
    "encoded_string = example_string.encode(encoding=\"utf-8\")\n",
    "print(encoded_string, type(encoded_string))\n",
    "\n",
    "decoded_string = encoded_string.decode()\n",
    "print(decoded_string)"
   ]
  },
  {
   "cell_type": "code",
   "execution_count": null,
   "id": "a54cefa4",
   "metadata": {},
   "outputs": [],
   "source": []
  },
  {
   "cell_type": "markdown",
   "id": "765ebc60",
   "metadata": {},
   "source": [
    "## Оператор print()\n",
    "\n",
    "* По умолчанию аргумент \"сепаратор\" `sep=\" \"`\n",
    "* По умолчанию аргумент \"конец вывода\" `end=\"\\n\"`"
   ]
  },
  {
   "cell_type": "code",
   "execution_count": 76,
   "id": "3b98c63b",
   "metadata": {},
   "outputs": [
    {
     "name": "stdout",
     "output_type": "stream",
     "text": [
      "1 2 3\n",
      "1,2,3\n",
      "1-2-3\n",
      "1***2***3\n",
      "1 | 2 | 3\n"
     ]
    }
   ],
   "source": [
    "print(1, 2, 3)\n",
    "print(1, 2, 3, sep=\",\")\n",
    "print(1, 2, 3, sep=\"-\")\n",
    "print(1, 2, 3, sep=\"***\")\n",
    "print(1, 2, 3, sep=\" | \")"
   ]
  },
  {
   "cell_type": "code",
   "execution_count": 77,
   "id": "e841b374",
   "metadata": {},
   "outputs": [
    {
     "name": "stdout",
     "output_type": "stream",
     "text": [
      "1,2,3:1-2-3--end--\n",
      "1***2***3\n"
     ]
    }
   ],
   "source": [
    "print(1, 2, 3, sep=\",\", end=':')\n",
    "print(1, 2, 3, sep=\"-\", end='--end--\\n')\n",
    "print(1, 2, 3, sep=\"***\")"
   ]
  },
  {
   "cell_type": "code",
   "execution_count": 78,
   "id": "ef57712b",
   "metadata": {},
   "outputs": [
    {
     "name": "stdout",
     "output_type": "stream",
     "text": [
      "Имя:Федор\n"
     ]
    }
   ],
   "source": [
    "name = \"Федор\"\n",
    "print(\"Имя\", name, sep=\":\")"
   ]
  },
  {
   "cell_type": "code",
   "execution_count": 79,
   "id": "d08907fa",
   "metadata": {},
   "outputs": [
    {
     "name": "stdout",
     "output_type": "stream",
     "text": [
      "Имя Федор, возраст 18\n"
     ]
    }
   ],
   "source": [
    "name = \"Федор\"; age = 18\n",
    "print(\"Имя %s, возраст %d\" % (name, age))"
   ]
  },
  {
   "cell_type": "code",
   "execution_count": 80,
   "id": "2a6a7fe2",
   "metadata": {},
   "outputs": [
    {
     "name": "stdout",
     "output_type": "stream",
     "text": [
      "Имя Федор, возраст 18\n"
     ]
    }
   ],
   "source": [
    "name = \"Федор\"; age = 18\n",
    "print(\"Имя {}, возраст {}\".format(name, age))"
   ]
  },
  {
   "cell_type": "code",
   "execution_count": 81,
   "id": "ffa7eb30",
   "metadata": {},
   "outputs": [
    {
     "name": "stdout",
     "output_type": "stream",
     "text": [
      "Имя Федор, возраст 18\n"
     ]
    }
   ],
   "source": [
    "name = \"Федор\"; age = 18\n",
    "print(f\"Имя {name}, возраст {age}\")"
   ]
  },
  {
   "cell_type": "code",
   "execution_count": null,
   "id": "f8b9435d",
   "metadata": {},
   "outputs": [],
   "source": []
  },
  {
   "cell_type": "markdown",
   "id": "77903ba5",
   "metadata": {},
   "source": [
    "## Оператор input()\n",
    "\n",
    "воспринимается как строка, необходимо переводить в другие типы."
   ]
  },
  {
   "cell_type": "code",
   "execution_count": 82,
   "id": "0a1c0078",
   "metadata": {},
   "outputs": [],
   "source": [
    "# n = float(input(\"Введите число: \"))\n",
    "\n",
    "# a, b = map(int, input().split())"
   ]
  },
  {
   "cell_type": "code",
   "execution_count": null,
   "id": "e55ed715",
   "metadata": {},
   "outputs": [],
   "source": []
  },
  {
   "cell_type": "code",
   "execution_count": null,
   "id": "462c8322",
   "metadata": {},
   "outputs": [],
   "source": []
  },
  {
   "cell_type": "code",
   "execution_count": null,
   "id": "166b41e6",
   "metadata": {},
   "outputs": [],
   "source": []
  }
 ],
 "metadata": {
  "kernelspec": {
   "display_name": "Python 3",
   "language": "python",
   "name": "python3"
  },
  "language_info": {
   "codemirror_mode": {
    "name": "ipython",
    "version": 3
   },
   "file_extension": ".py",
   "mimetype": "text/x-python",
   "name": "python",
   "nbconvert_exporter": "python",
   "pygments_lexer": "ipython3",
   "version": "3.8.11"
  }
 },
 "nbformat": 4,
 "nbformat_minor": 5
}
