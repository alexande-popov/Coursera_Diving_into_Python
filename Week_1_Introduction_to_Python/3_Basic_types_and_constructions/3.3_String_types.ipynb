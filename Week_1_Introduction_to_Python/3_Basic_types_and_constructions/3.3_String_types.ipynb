{
 "cells": [
  {
   "cell_type": "markdown",
   "id": "102ece2f",
   "metadata": {},
   "source": [
    "# Строки (str)"
   ]
  },
  {
   "cell_type": "markdown",
   "id": "6129e84b",
   "metadata": {},
   "source": [
    "**Строка** – это неизменяемая последовательность юникодных символов"
   ]
  },
  {
   "cell_type": "code",
   "execution_count": 1,
   "id": "c871ea9f",
   "metadata": {},
   "outputs": [
    {
     "name": "stdout",
     "output_type": "stream",
     "text": [
      "Курс про Python на Coursera <class 'str'>\n",
      "Курс про Python на Coursera <class 'str'>\n",
      "Курс про Python на Coursera <class 'str'>\n"
     ]
    }
   ],
   "source": [
    "example_string = \"Курс про Python на Coursera\"\n",
    "print(example_string, type(example_string))\n",
    "\n",
    "example_string = 'Курс про Python на Coursera'\n",
    "print(example_string, type(example_string))\n",
    "\n",
    "example_string = \"\"\"Курс про Python на Coursera\"\"\"\n",
    "print(example_string, type(example_string))"
   ]
  },
  {
   "cell_type": "code",
   "execution_count": 2,
   "id": "b7422637",
   "metadata": {},
   "outputs": [
    {
     "name": "stdout",
     "output_type": "stream",
     "text": [
      "123\n",
      "123\n"
     ]
    }
   ],
   "source": [
    "example_string = \"1\"\"2\"\"3\"\n",
    "print(example_string)\n",
    "\n",
    "example_string = '1''2''3'\n",
    "print(example_string)"
   ]
  },
  {
   "cell_type": "markdown",
   "id": "799302aa",
   "metadata": {},
   "source": [
    "## Как быть с кавычками"
   ]
  },
  {
   "cell_type": "code",
   "execution_count": 3,
   "id": "5476aaa7",
   "metadata": {},
   "outputs": [
    {
     "name": "stdout",
     "output_type": "stream",
     "text": [
      "Курс про \"Python\" на \"Coursera\"\n",
      "Курс про 'Python' на ''Coursera''\n",
      "Курс про \"Python\" на 'Coursera'\n"
     ]
    }
   ],
   "source": [
    "example_string = 'Курс про \"Python\" на \"Coursera\"'\n",
    "print(example_string)\n",
    "\n",
    "example_string = \"Курс про 'Python' на ''Coursera''\"\n",
    "print(example_string)\n",
    "\n",
    "example_string = \"\"\"Курс про \"Python\" на 'Coursera'\"\"\"\n",
    "print(example_string)\n",
    "\n",
    "## non-working versions\n",
    "\n",
    "#example_string = \"Курс про \"Python\" на \"Coursera\"\"\n",
    "#print(example_string)\n",
    "\n",
    "#example_string = 'Курс про 'Python' на 'Coursera''\n",
    "#print(example_string)"
   ]
  },
  {
   "cell_type": "markdown",
   "id": "8201f341",
   "metadata": {},
   "source": [
    "## Экранирование"
   ]
  },
  {
   "cell_type": "code",
   "execution_count": 4,
   "id": "779f95ad",
   "metadata": {},
   "outputs": [
    {
     "name": "stdout",
     "output_type": "stream",
     "text": [
      "Курс про \"Python\" на \"Coursera\"\n",
      "Курс про 'Python' на 'Coursera'\n"
     ]
    }
   ],
   "source": [
    "example_string = \"Курс про \\\"Python\\\" на \\\"Coursera\\\"\"\n",
    "print(example_string)\n",
    "\n",
    "example_string = 'Курс про \\'Python\\' на \\'Coursera\\''\n",
    "print(example_string)"
   ]
  },
  {
   "cell_type": "code",
   "execution_count": null,
   "id": "727c5b59",
   "metadata": {},
   "outputs": [],
   "source": []
  },
  {
   "cell_type": "markdown",
   "id": "0f2671cf",
   "metadata": {},
   "source": [
    "## \"Cырые\" r-строки для экранирования"
   ]
  },
  {
   "cell_type": "code",
   "execution_count": 5,
   "id": "a1ce5dfe",
   "metadata": {},
   "outputs": [
    {
     "name": "stdout",
     "output_type": "stream",
     "text": [
      "Файл на диске c:\\\\\n",
      "Файл на диске c:\\\\\n",
      "Файл на диске c:\\\\\n"
     ]
    }
   ],
   "source": [
    "example_string = \"Файл на диске c:\\\\\\\\\"\n",
    "print(example_string)\n",
    "\n",
    "example_string = r\"Файл на диске c:\\\\\"\n",
    "print(example_string)\n",
    "\n",
    "example_string = r'Файл на диске c:\\\\'\n",
    "print(example_string)"
   ]
  },
  {
   "cell_type": "code",
   "execution_count": null,
   "id": "906cdccf",
   "metadata": {},
   "outputs": [],
   "source": []
  },
  {
   "cell_type": "markdown",
   "id": "aa0ea540",
   "metadata": {},
   "source": [
    "## Как разбить объявление длинной строки"
   ]
  },
  {
   "cell_type": "code",
   "execution_count": 6,
   "id": "4c95feb0",
   "metadata": {},
   "outputs": [
    {
     "name": "stdout",
     "output_type": "stream",
     "text": [
      "Perl — это тот язык, который одинаково выглядит как до, так и после RSA шифрования.(Keith Bostic)\n"
     ]
    }
   ],
   "source": [
    "example_string = \"Perl — это тот язык, который одинаково \" \\\n",
    "                 \"выглядит как до, так и после RSA шифрования.\" \\\n",
    "                 \"(Keith Bostic)\"\n",
    "print(example_string)"
   ]
  },
  {
   "cell_type": "code",
   "execution_count": 7,
   "id": "595fdddc",
   "metadata": {},
   "outputs": [
    {
     "name": "stdout",
     "output_type": "stream",
     "text": [
      "\n",
      "Есть всего два типа языков программирования: те, на которые \n",
      "люди всё время ругаются, и те, которые никто не использует.\n",
      "\n",
      "Bjarne Stroustrup\n",
      "\n"
     ]
    }
   ],
   "source": [
    "example_string = \"\"\"\n",
    "Есть всего два типа языков программирования: те, на которые \n",
    "люди всё время ругаются, и те, которые никто не использует.\n",
    "\n",
    "Bjarne Stroustrup\n",
    "\"\"\"\n",
    "print(example_string)"
   ]
  },
  {
   "cell_type": "code",
   "execution_count": null,
   "id": "4e41bd0f",
   "metadata": {},
   "outputs": [],
   "source": []
  },
  {
   "cell_type": "markdown",
   "id": "6714c114",
   "metadata": {},
   "source": [
    "## Как объединить строки"
   ]
  },
  {
   "cell_type": "code",
   "execution_count": 8,
   "id": "41996d97",
   "metadata": {},
   "outputs": [
    {
     "data": {
      "text/plain": [
       "'Можно просто складывать строки'"
      ]
     },
     "execution_count": 8,
     "metadata": {},
     "output_type": "execute_result"
    }
   ],
   "source": [
    "\"Можно\" + \" просто \" + \"складывать\" + \" строки\""
   ]
  },
  {
   "cell_type": "code",
   "execution_count": 9,
   "id": "b13c5851",
   "metadata": {},
   "outputs": [
    {
     "data": {
      "text/plain": [
       "'Даже умножать! Даже умножать! Даже умножать! '"
      ]
     },
     "execution_count": 9,
     "metadata": {},
     "output_type": "execute_result"
    }
   ],
   "source": [
    "\"Даже умножать! \" * 3"
   ]
  },
  {
   "cell_type": "code",
   "execution_count": null,
   "id": "5d461397",
   "metadata": {},
   "outputs": [],
   "source": []
  },
  {
   "cell_type": "markdown",
   "id": "bb0f2771",
   "metadata": {},
   "source": [
    "## Строки неизменяемые!"
   ]
  },
  {
   "cell_type": "code",
   "execution_count": 10,
   "id": "26acc70e",
   "metadata": {},
   "outputs": [
    {
     "name": "stdout",
     "output_type": "stream",
     "text": [
      "82310624\n",
      "82311856\n"
     ]
    }
   ],
   "source": [
    "example_string = \"Привет\"\n",
    "print(id(example_string))\n",
    "\n",
    "example_string += \", Мир!\"\n",
    "print(id(example_string))"
   ]
  },
  {
   "cell_type": "code",
   "execution_count": null,
   "id": "dcb67ebf",
   "metadata": {},
   "outputs": [],
   "source": []
  },
  {
   "cell_type": "code",
   "execution_count": null,
   "id": "083f0500",
   "metadata": {},
   "outputs": [],
   "source": []
  },
  {
   "cell_type": "markdown",
   "id": "50ba63c9",
   "metadata": {},
   "source": [
    "## Срезы строк [start:stop:step]"
   ]
  },
  {
   "cell_type": "code",
   "execution_count": 11,
   "id": "93e22257",
   "metadata": {},
   "outputs": [
    {
     "name": "stdout",
     "output_type": "stream",
     "text": [
      "Python на Coursera\n",
      "Python\n",
      "Coursera\n"
     ]
    }
   ],
   "source": [
    "example_string = \"Курс про Python на Coursera\"\n",
    "\n",
    "print(example_string[9:])\n",
    "print(example_string[9:15])\n",
    "print(example_string[-8:])"
   ]
  },
  {
   "cell_type": "code",
   "execution_count": 12,
   "id": "bea701f8",
   "metadata": {},
   "outputs": [
    {
     "name": "stdout",
     "output_type": "stream",
     "text": [
      "02468\n",
      "раком дед ебет кобылу\n"
     ]
    }
   ],
   "source": [
    "example_string = \"0123456789\"\n",
    "print(example_string[::2])\n",
    "\n",
    "example_string = \"улыбок тебе дед мокар\"\n",
    "print(example_string[::-1])"
   ]
  },
  {
   "cell_type": "code",
   "execution_count": null,
   "id": "92520a6a",
   "metadata": {},
   "outputs": [],
   "source": []
  },
  {
   "cell_type": "markdown",
   "id": "d9aa5e47",
   "metadata": {},
   "source": [
    "## Методы строк\n",
    "\n",
    "* `s.count(sub_s)` - число вхождений подстроки в строку\n",
    "* `s.capitalize()` - первый символ в верхний регистр\n",
    "* `s.isdigit()` - целое число?\n",
    "* `s.index(value, start, end)` - возвращает индекс с которого начинается вхождение подстроки `value` в строку"
   ]
  },
  {
   "cell_type": "code",
   "execution_count": 13,
   "id": "c00084f9",
   "metadata": {},
   "outputs": [
    {
     "name": "stdout",
     "output_type": "stream",
     "text": [
      "6\n",
      "2\n"
     ]
    }
   ],
   "source": [
    "quote = \"\"\"Болтовня ничего не стоит. Покажите мне код.\n",
    "Linus Torvalds\n",
    "\"\"\"\n",
    "print(quote.count(\"о\"))\n",
    "print(quote.count(\"то\"))"
   ]
  },
  {
   "cell_type": "code",
   "execution_count": 14,
   "id": "8bdad3c1",
   "metadata": {},
   "outputs": [
    {
     "name": "stdout",
     "output_type": "stream",
     "text": [
      "Москва\n",
      "Москва россия\n"
     ]
    }
   ],
   "source": [
    "print(\"москва\".capitalize())\n",
    "print(\"москва россия\".capitalize())"
   ]
  },
  {
   "cell_type": "code",
   "execution_count": 15,
   "id": "6a372275",
   "metadata": {},
   "outputs": [
    {
     "name": "stdout",
     "output_type": "stream",
     "text": [
      "True\n",
      "False\n"
     ]
    }
   ],
   "source": [
    "print(\"2017\".isdigit())\n",
    "print(\"1.25\".isdigit())"
   ]
  },
  {
   "cell_type": "code",
   "execution_count": 16,
   "id": "dc4e847b",
   "metadata": {},
   "outputs": [
    {
     "name": "stdout",
     "output_type": "stream",
     "text": [
      "14\n",
      "2\n",
      "10\n"
     ]
    }
   ],
   "source": [
    "# metod index() returns the index number of the position of the begining of substring    \n",
    "quote = 'Python is the language of the future.'\n",
    "print(quote.index('lang'))\n",
    "print(quote.index('t'))\n",
    "print(quote.index('t', 3))"
   ]
  },
  {
   "cell_type": "markdown",
   "id": "73198300",
   "metadata": {},
   "source": [
    "### Оператор in"
   ]
  },
  {
   "cell_type": "code",
   "execution_count": 17,
   "id": "5fcd34d3",
   "metadata": {},
   "outputs": [
    {
     "data": {
      "text/plain": [
       "True"
      ]
     },
     "execution_count": 17,
     "metadata": {},
     "output_type": "execute_result"
    }
   ],
   "source": [
    "\"3.14\" in \"Число Пи = 3.1415926\""
   ]
  },
  {
   "cell_type": "code",
   "execution_count": 18,
   "id": "ec67440a",
   "metadata": {},
   "outputs": [
    {
     "data": {
      "text/plain": [
       "False"
      ]
     },
     "execution_count": 18,
     "metadata": {},
     "output_type": "execute_result"
    }
   ],
   "source": [
    "\"Алексей\" in \"Александр Пушкин\""
   ]
  },
  {
   "cell_type": "code",
   "execution_count": 19,
   "id": "5eeb4bc8",
   "metadata": {},
   "outputs": [
    {
     "name": "stdout",
     "output_type": "stream",
     "text": [
      "Буква П\n",
      "Буква р\n",
      "Буква и\n",
      "Буква в\n",
      "Буква е\n",
      "Буква т\n"
     ]
    }
   ],
   "source": [
    "example_string = \"Привет\"\n",
    "\n",
    "for letter in example_string:\n",
    "    print(\"Буква\", letter)"
   ]
  },
  {
   "cell_type": "code",
   "execution_count": null,
   "id": "f2d22796",
   "metadata": {},
   "outputs": [],
   "source": []
  },
  {
   "cell_type": "markdown",
   "id": "e228cbd8",
   "metadata": {},
   "source": [
    "## Конвертация типов"
   ]
  },
  {
   "cell_type": "code",
   "execution_count": 20,
   "id": "94815cbc",
   "metadata": {},
   "outputs": [
    {
     "name": "stdout",
     "output_type": "stream",
     "text": [
      "<class 'str'>\n"
     ]
    },
    {
     "data": {
      "text/plain": [
       "'999.01'"
      ]
     },
     "execution_count": 20,
     "metadata": {},
     "output_type": "execute_result"
    }
   ],
   "source": [
    "num = 999.01\n",
    "\n",
    "num_string = str(num)\n",
    "\n",
    "print(type(num_string))\n",
    "num_string"
   ]
  },
  {
   "cell_type": "code",
   "execution_count": 21,
   "id": "8882d8a9",
   "metadata": {},
   "outputs": [
    {
     "data": {
      "text/plain": [
       "True"
      ]
     },
     "execution_count": 21,
     "metadata": {},
     "output_type": "execute_result"
    }
   ],
   "source": [
    "bool(\"Непустая строка\")"
   ]
  },
  {
   "cell_type": "code",
   "execution_count": 22,
   "id": "2f133438",
   "metadata": {},
   "outputs": [
    {
     "data": {
      "text/plain": [
       "False"
      ]
     },
     "execution_count": 22,
     "metadata": {},
     "output_type": "execute_result"
    }
   ],
   "source": [
    "bool(\"\")"
   ]
  },
  {
   "cell_type": "code",
   "execution_count": 23,
   "id": "94f7f1a1",
   "metadata": {},
   "outputs": [
    {
     "name": "stdout",
     "output_type": "stream",
     "text": [
      "Имя не заполнено!\n"
     ]
    }
   ],
   "source": [
    "name = \"\"\n",
    "\n",
    "if not name:\n",
    "    print(\"Имя не заполнено!\")"
   ]
  },
  {
   "cell_type": "code",
   "execution_count": null,
   "id": "8e7a13e7",
   "metadata": {},
   "outputs": [],
   "source": []
  },
  {
   "cell_type": "markdown",
   "id": "10fac7a1",
   "metadata": {},
   "source": [
    "## Форматирование строк"
   ]
  },
  {
   "cell_type": "markdown",
   "id": "39b2acde",
   "metadata": {},
   "source": [
    "### 1-ый способ форматирования"
   ]
  },
  {
   "cell_type": "code",
   "execution_count": 24,
   "id": "798a3216",
   "metadata": {},
   "outputs": [
    {
     "name": "stdout",
     "output_type": "stream",
     "text": [
      "%s — главное достоинство программиста. (%s)\n",
      "Лень — главное достоинство программиста. (Larry Wall)\n"
     ]
    }
   ],
   "source": [
    "# with place-holder\n",
    "\n",
    "template = \"%s — главное достоинство программиста. (%s)\"\n",
    "\n",
    "print(template)\n",
    "print(template % (\"Лень\", \"Larry Wall\"))"
   ]
  },
  {
   "cell_type": "markdown",
   "id": "95a59a33",
   "metadata": {},
   "source": [
    "### 2-ой способ форматирования"
   ]
  },
  {
   "cell_type": "code",
   "execution_count": 25,
   "id": "5c71be0e",
   "metadata": {},
   "outputs": [
    {
     "data": {
      "text/plain": [
       "'Цифры не лгут, но лжецы пользуются формулами. (Robert A. Heinlein)'"
      ]
     },
     "execution_count": 25,
     "metadata": {},
     "output_type": "execute_result"
    }
   ],
   "source": [
    "# with method format()\n",
    "\n",
    "\"{} не лгут, но {} пользуются формулами. ({})\".format(\n",
    "    \"Цифры\", \"лжецы\", \"Robert A. Heinlein\"\n",
    ")"
   ]
  },
  {
   "cell_type": "code",
   "execution_count": 26,
   "id": "57d89cea",
   "metadata": {},
   "outputs": [
    {
     "data": {
      "text/plain": [
       "'640 Кб должно хватить для любых задач. (Bill Gates)'"
      ]
     },
     "execution_count": 26,
     "metadata": {},
     "output_type": "execute_result"
    }
   ],
   "source": [
    "# format with variables\n",
    "\n",
    "\"{num} Кб должно хватить для любых задач. ({author})\".format(\n",
    "    num=640, author=\"Bill Gates\"\n",
    ")"
   ]
  },
  {
   "cell_type": "markdown",
   "id": "e201e41f",
   "metadata": {},
   "source": [
    "### 3-ий способ форматирования"
   ]
  },
  {
   "cell_type": "code",
   "execution_count": 27,
   "id": "858b1bc4",
   "metadata": {},
   "outputs": [
    {
     "name": "stdout",
     "output_type": "stream",
     "text": [
      "Преждевременная оптимизация — корень всех зол. (Donald Knuth)\n"
     ]
    }
   ],
   "source": [
    "# with f-strings\n",
    "\n",
    "subject = \"оптимизация\"\n",
    "author = \"Donald Knuth\"\n",
    "example_string = f\"Преждевременная {subject} — корень всех зол. ({author})\"\n",
    "print(example_string)"
   ]
  },
  {
   "cell_type": "code",
   "execution_count": null,
   "id": "b7e6c49f",
   "metadata": {},
   "outputs": [],
   "source": []
  },
  {
   "cell_type": "markdown",
   "id": "75dee5f4",
   "metadata": {},
   "source": [
    "## Модификаторы форматирования"
   ]
  },
  {
   "cell_type": "code",
   "execution_count": 28,
   "id": "e1373996",
   "metadata": {},
   "outputs": [
    {
     "name": "stdout",
     "output_type": "stream",
     "text": [
      "Binary: 0b1000\n",
      "8.000\n",
      "     8.000\n"
     ]
    }
   ],
   "source": [
    "num = 8\n",
    "print(f\"Binary: {num:#b}\") # in binary\n",
    "print(f\"{num:.3f}\")        # three decimal digits\n",
    "print(f\"{num:10.3f}\")      # 10 places with three decimal digits"
   ]
  },
  {
   "cell_type": "markdown",
   "id": "5cba1987",
   "metadata": {},
   "source": [
    "Наиболее употребительные спецификаторы, следующие:\n",
    "\n",
    "* `%d`, `%i`, `%u` – для вывода целочисленных значений;\n",
    "* `%f` – для вывода вещественных значений;\n",
    "* `%s` – для вывода строк;\n",
    "* `%%` – для вывода символа %"
   ]
  },
  {
   "cell_type": "markdown",
   "id": "d6abb32c",
   "metadata": {},
   "source": [
    "Примеры\n",
    "\n",
    "* `%8d` – целое число размещается в 8 позициях, прижато к правому краю.\n",
    "* `%-8d` – целое число размещается в 8 позициях, прижато к левому краю.\n",
    "* `%8.4f` – вещественное число размещается в 8 позициях, выводится 4 знака после запятой, прижато к правому краю, незаполненные позиции после запятой заполняются 0.\n",
    "* `%-8.4f` – вещественное число размещается в 8 позициях, выводится 4 знака после запятой, прижато левому краю, незаполненные позиции после запятой заполняются 0.\n",
    "* `%8s` – если длина строки меньше 8 символов, то она размещается в 8 позициях, прижата к правому краю, в противном случае формат не учитывается.\n",
    "* `%-8s` – если длина строки меньше 8 символов, то она размещается в 8 позициях, прижата к левому краю, в противном случае формат не учитывается."
   ]
  },
  {
   "cell_type": "code",
   "execution_count": null,
   "id": "819b1ff8",
   "metadata": {},
   "outputs": [],
   "source": []
  },
  {
   "cell_type": "code",
   "execution_count": null,
   "id": "0708a28b",
   "metadata": {},
   "outputs": [],
   "source": []
  },
  {
   "cell_type": "markdown",
   "id": "2a02772b",
   "metadata": {},
   "source": [
    "## Байтовые строки (bytes)\n",
    "\n",
    "Байтовая строка – это неизменяемая последовательность чисел от 0 до 255.\n",
    "\n",
    "b-литерал для объявления байтовой строки"
   ]
  },
  {
   "cell_type": "code",
   "execution_count": 29,
   "id": "b61e94e9",
   "metadata": {},
   "outputs": [
    {
     "name": "stdout",
     "output_type": "stream",
     "text": [
      "b'hello' <class 'bytes'>\n",
      "104 <class 'int'>\n",
      "101 <class 'int'>\n",
      "108 <class 'int'>\n",
      "108 <class 'int'>\n",
      "111 <class 'int'>\n"
     ]
    }
   ],
   "source": [
    "example_bytes = b\"hello\"\n",
    "print(example_bytes, type(example_bytes))\n",
    "\n",
    "for element in example_bytes:\n",
    "    print(element, type(element))"
   ]
  },
  {
   "cell_type": "code",
   "execution_count": 30,
   "id": "aae81139",
   "metadata": {},
   "outputs": [
    {
     "name": "stdout",
     "output_type": "stream",
     "text": [
      "b'\\xd0\\xbf\\xd1\\x80\\xd0\\xb8\\xd0\\xb2\\xd0\\xb5\\xd1\\x82' <class 'bytes'>\n",
      "привет\n"
     ]
    }
   ],
   "source": [
    "#error\n",
    "#example_bytes = b\"привет\" # not ASCII\n",
    "\n",
    "example_string = \"привет\"\n",
    "encoded_string = example_string.encode(encoding=\"utf-8\")\n",
    "print(encoded_string, type(encoded_string))\n",
    "\n",
    "decoded_string = encoded_string.decode()\n",
    "print(decoded_string)"
   ]
  },
  {
   "cell_type": "code",
   "execution_count": null,
   "id": "bc98f5ec",
   "metadata": {},
   "outputs": [],
   "source": []
  },
  {
   "cell_type": "markdown",
   "id": "07842cb6",
   "metadata": {},
   "source": [
    "## Оператор print()\n",
    "\n",
    "* По умолчанию аргумент \"сепаратор\" `sep=\" \"`\n",
    "* По умолчанию аргумент \"конец вывода\" `end=\"\\n\"`"
   ]
  },
  {
   "cell_type": "code",
   "execution_count": 31,
   "id": "b0148f23",
   "metadata": {},
   "outputs": [
    {
     "name": "stdout",
     "output_type": "stream",
     "text": [
      "1 2 3\n",
      "1,2,3\n",
      "1-2-3\n",
      "1***2***3\n",
      "1 | 2 | 3\n"
     ]
    }
   ],
   "source": [
    "print(1, 2, 3)\n",
    "print(1, 2, 3, sep=\",\")\n",
    "print(1, 2, 3, sep=\"-\")\n",
    "print(1, 2, 3, sep=\"***\")\n",
    "print(1, 2, 3, sep=\" | \")"
   ]
  },
  {
   "cell_type": "code",
   "execution_count": 32,
   "id": "66ef65fc",
   "metadata": {},
   "outputs": [
    {
     "name": "stdout",
     "output_type": "stream",
     "text": [
      "1,2,3:1-2-3--end--\n",
      "1***2***3\n"
     ]
    }
   ],
   "source": [
    "print(1, 2, 3, sep=\",\", end=':')\n",
    "print(1, 2, 3, sep=\"-\", end='--end--\\n')\n",
    "print(1, 2, 3, sep=\"***\")"
   ]
  },
  {
   "cell_type": "code",
   "execution_count": 33,
   "id": "9ee6f6da",
   "metadata": {},
   "outputs": [
    {
     "name": "stdout",
     "output_type": "stream",
     "text": [
      "Имя:Федор\n"
     ]
    }
   ],
   "source": [
    "name = \"Федор\"\n",
    "print(\"Имя\", name, sep=\":\")"
   ]
  },
  {
   "cell_type": "code",
   "execution_count": 34,
   "id": "c1c1d184",
   "metadata": {},
   "outputs": [
    {
     "name": "stdout",
     "output_type": "stream",
     "text": [
      "Имя Федор, возраст 18\n"
     ]
    }
   ],
   "source": [
    "name = \"Федор\"; age = 18\n",
    "print(\"Имя %s, возраст %d\" % (name, age))"
   ]
  },
  {
   "cell_type": "code",
   "execution_count": 35,
   "id": "6aac95dc",
   "metadata": {},
   "outputs": [
    {
     "name": "stdout",
     "output_type": "stream",
     "text": [
      "Имя Федор, возраст 18\n"
     ]
    }
   ],
   "source": [
    "name = \"Федор\"; age = 18\n",
    "print(\"Имя {}, возраст {}\".format(name, age))"
   ]
  },
  {
   "cell_type": "code",
   "execution_count": 36,
   "id": "e831a74f",
   "metadata": {},
   "outputs": [
    {
     "name": "stdout",
     "output_type": "stream",
     "text": [
      "Имя Федор, возраст 18\n"
     ]
    }
   ],
   "source": [
    "name = \"Федор\"; age = 18\n",
    "print(f\"Имя {name}, возраст {age}\")"
   ]
  },
  {
   "cell_type": "code",
   "execution_count": null,
   "id": "ce0f6639",
   "metadata": {},
   "outputs": [],
   "source": []
  },
  {
   "cell_type": "markdown",
   "id": "a69d965d",
   "metadata": {},
   "source": [
    "## Оператор input()\n",
    "\n",
    "воспринимается как строка, необходимо переводить в другие типы."
   ]
  },
  {
   "cell_type": "code",
   "execution_count": 37,
   "id": "d22e3145",
   "metadata": {},
   "outputs": [],
   "source": [
    "# n = float(input(\"Введите число: \"))\n",
    "\n",
    "# a, b = map(int, input().split())"
   ]
  },
  {
   "cell_type": "code",
   "execution_count": null,
   "id": "0fb459b9",
   "metadata": {},
   "outputs": [],
   "source": []
  },
  {
   "cell_type": "code",
   "execution_count": null,
   "id": "d885fbeb",
   "metadata": {},
   "outputs": [],
   "source": []
  },
  {
   "cell_type": "code",
   "execution_count": null,
   "id": "08a8c2aa",
   "metadata": {},
   "outputs": [],
   "source": []
  }
 ],
 "metadata": {
  "kernelspec": {
   "display_name": "Python 3",
   "language": "python",
   "name": "python3"
  },
  "language_info": {
   "codemirror_mode": {
    "name": "ipython",
    "version": 3
   },
   "file_extension": ".py",
   "mimetype": "text/x-python",
   "name": "python",
   "nbconvert_exporter": "python",
   "pygments_lexer": "ipython3",
   "version": "3.8.11"
  }
 },
 "nbformat": 4,
 "nbformat_minor": 5
}
