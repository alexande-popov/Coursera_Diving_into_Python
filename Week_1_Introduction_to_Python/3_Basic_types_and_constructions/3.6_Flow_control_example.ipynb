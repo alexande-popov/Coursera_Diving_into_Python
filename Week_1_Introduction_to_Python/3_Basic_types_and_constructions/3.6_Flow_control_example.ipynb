{
 "cells": [
  {
   "cell_type": "markdown",
   "id": "5963d91a",
   "metadata": {},
   "source": [
    "Пользователь должен угадать загаданное число."
   ]
  },
  {
   "cell_type": "code",
   "execution_count": 1,
   "id": "5ee1359f",
   "metadata": {},
   "outputs": [
    {
     "name": "stdout",
     "output_type": "stream",
     "text": [
      "Угадайте число: 50\n",
      "Загаданное число меньше\n",
      "Угадайте число: 25\n",
      "Загаданное число меньше\n",
      "Угадайте число: 15\n",
      "Загаданное число меньше\n",
      "Угадайте число: 8\n",
      "Загаданное число больше\n",
      "Угадайте число: 11\n",
      "Совершенно верно!\n"
     ]
    }
   ],
   "source": [
    "import random\n",
    "\n",
    "number = random.randint(0, 101)\n",
    "\n",
    "while True:\n",
    "    answer = input('Угадайте число: ')\n",
    "    if answer == \"\" or answer == \"exit\":\n",
    "        print(\"Выход из программы\")\n",
    "        break\n",
    "\n",
    "    if not answer.isdigit():\n",
    "        print(\"Введите правильное число\")\n",
    "        continue\n",
    "        \n",
    "    answer = int(answer)\n",
    "    \n",
    "    if answer == number:\n",
    "        print('Совершенно верно!')\n",
    "        break\n",
    "\n",
    "    elif answer < number:\n",
    "        print('Загаданное число больше')\n",
    "    else:\n",
    "        print('Загаданное число меньше')"
   ]
  }
 ],
 "metadata": {
  "kernelspec": {
   "display_name": "Python 3",
   "language": "python",
   "name": "python3"
  },
  "language_info": {
   "codemirror_mode": {
    "name": "ipython",
    "version": 3
   },
   "file_extension": ".py",
   "mimetype": "text/x-python",
   "name": "python",
   "nbconvert_exporter": "python",
   "pygments_lexer": "ipython3",
   "version": "3.8.11"
  }
 },
 "nbformat": 4,
 "nbformat_minor": 5
}
