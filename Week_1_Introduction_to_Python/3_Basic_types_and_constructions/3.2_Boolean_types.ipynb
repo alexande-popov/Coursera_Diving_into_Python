{
 "cells": [
  {
   "cell_type": "markdown",
   "id": "3f7d42df",
   "metadata": {},
   "source": [
    "# Логические типы (bool)"
   ]
  },
  {
   "cell_type": "code",
   "execution_count": 1,
   "id": "c13d7d99",
   "metadata": {},
   "outputs": [
    {
     "data": {
      "text/plain": [
       "True"
      ]
     },
     "execution_count": 1,
     "metadata": {},
     "output_type": "execute_result"
    }
   ],
   "source": [
    "True"
   ]
  },
  {
   "cell_type": "code",
   "execution_count": 2,
   "id": "17d00b4a",
   "metadata": {},
   "outputs": [
    {
     "data": {
      "text/plain": [
       "False"
      ]
     },
     "execution_count": 2,
     "metadata": {},
     "output_type": "execute_result"
    }
   ],
   "source": [
    "False"
   ]
  },
  {
   "cell_type": "code",
   "execution_count": 3,
   "id": "cbdab83d",
   "metadata": {},
   "outputs": [
    {
     "data": {
      "text/plain": [
       "bool"
      ]
     },
     "execution_count": 3,
     "metadata": {},
     "output_type": "execute_result"
    }
   ],
   "source": [
    "type(True)"
   ]
  },
  {
   "cell_type": "markdown",
   "id": "84421e29",
   "metadata": {},
   "source": [
    "## Преобразование типов"
   ]
  },
  {
   "cell_type": "code",
   "execution_count": 4,
   "id": "23de3031",
   "metadata": {},
   "outputs": [
    {
     "data": {
      "text/plain": [
       "0"
      ]
     },
     "execution_count": 4,
     "metadata": {},
     "output_type": "execute_result"
    }
   ],
   "source": [
    "int(False)"
   ]
  },
  {
   "cell_type": "code",
   "execution_count": 5,
   "id": "e332bada",
   "metadata": {},
   "outputs": [
    {
     "data": {
      "text/plain": [
       "1"
      ]
     },
     "execution_count": 5,
     "metadata": {},
     "output_type": "execute_result"
    }
   ],
   "source": [
    "int(True)"
   ]
  },
  {
   "cell_type": "code",
   "execution_count": 6,
   "id": "bd03cf22",
   "metadata": {},
   "outputs": [
    {
     "data": {
      "text/plain": [
       "0.0"
      ]
     },
     "execution_count": 6,
     "metadata": {},
     "output_type": "execute_result"
    }
   ],
   "source": [
    "float(False)"
   ]
  },
  {
   "cell_type": "code",
   "execution_count": 7,
   "id": "f3cd7b6f",
   "metadata": {},
   "outputs": [
    {
     "data": {
      "text/plain": [
       "1.0"
      ]
     },
     "execution_count": 7,
     "metadata": {},
     "output_type": "execute_result"
    }
   ],
   "source": [
    "float(True)"
   ]
  },
  {
   "cell_type": "code",
   "execution_count": 8,
   "id": "db434aa7",
   "metadata": {},
   "outputs": [
    {
     "data": {
      "text/plain": [
       "True"
      ]
     },
     "execution_count": 8,
     "metadata": {},
     "output_type": "execute_result"
    }
   ],
   "source": [
    "bool(12.3)"
   ]
  },
  {
   "cell_type": "code",
   "execution_count": 9,
   "id": "e14e1c08",
   "metadata": {},
   "outputs": [
    {
     "data": {
      "text/plain": [
       "False"
      ]
     },
     "execution_count": 9,
     "metadata": {},
     "output_type": "execute_result"
    }
   ],
   "source": [
    "bool(0.0)"
   ]
  },
  {
   "cell_type": "code",
   "execution_count": 10,
   "id": "050f1b26",
   "metadata": {},
   "outputs": [
    {
     "data": {
      "text/plain": [
       "False"
      ]
     },
     "execution_count": 10,
     "metadata": {},
     "output_type": "execute_result"
    }
   ],
   "source": [
    "bool()"
   ]
  },
  {
   "cell_type": "code",
   "execution_count": 11,
   "id": "4810e7b1",
   "metadata": {},
   "outputs": [
    {
     "data": {
      "text/plain": [
       "True"
      ]
     },
     "execution_count": 11,
     "metadata": {},
     "output_type": "execute_result"
    }
   ],
   "source": [
    "bool('a')"
   ]
  },
  {
   "cell_type": "code",
   "execution_count": 12,
   "id": "e92bbbb4",
   "metadata": {},
   "outputs": [
    {
     "data": {
      "text/plain": [
       "False"
      ]
     },
     "execution_count": 12,
     "metadata": {},
     "output_type": "execute_result"
    }
   ],
   "source": [
    "bool(\"\")"
   ]
  },
  {
   "cell_type": "code",
   "execution_count": 13,
   "id": "808b0609",
   "metadata": {},
   "outputs": [
    {
     "data": {
      "text/plain": [
       "False"
      ]
     },
     "execution_count": 13,
     "metadata": {},
     "output_type": "execute_result"
    }
   ],
   "source": [
    "bool(None)"
   ]
  },
  {
   "cell_type": "code",
   "execution_count": 14,
   "id": "f490f360",
   "metadata": {},
   "outputs": [
    {
     "data": {
      "text/plain": [
       "True"
      ]
     },
     "execution_count": 14,
     "metadata": {},
     "output_type": "execute_result"
    }
   ],
   "source": [
    "bool(not None)"
   ]
  },
  {
   "cell_type": "markdown",
   "id": "d7a65f8a",
   "metadata": {},
   "source": [
    "## Операторы сравнения"
   ]
  },
  {
   "cell_type": "code",
   "execution_count": 15,
   "id": "2be87236",
   "metadata": {},
   "outputs": [
    {
     "name": "stdout",
     "output_type": "stream",
     "text": [
      "False\n",
      "True\n",
      "False\n",
      "True\n",
      "False\n",
      "True\n",
      "False\n"
     ]
    }
   ],
   "source": [
    "a = 5\n",
    "b = 6\n",
    "result = 5 == 6  # сохраняем результат операции в переменную\n",
    "print(result)    # False - 5 не равно 6\n",
    "print(a != b)    # True\n",
    "print(a >  b)     # False - 5 меньше 6\n",
    "print(a <  b)     # True\n",
    "print(a >= b)     # False - 5 меньше 6\n",
    "print(a <= b)     # True\n",
    " \n",
    "bool1 = True\n",
    "bool2 = False\n",
    "print(bool1 == bool2)  # False - bool1 не равно bool2"
   ]
  },
  {
   "cell_type": "code",
   "execution_count": 16,
   "id": "1e3cb5f0",
   "metadata": {},
   "outputs": [
    {
     "name": "stdout",
     "output_type": "stream",
     "text": [
      "True\n"
     ]
    }
   ],
   "source": [
    "x = 2\n",
    "print(1 < x < 3)"
   ]
  },
  {
   "cell_type": "markdown",
   "id": "2402e517",
   "metadata": {},
   "source": [
    "## Логические выражения"
   ]
  },
  {
   "cell_type": "code",
   "execution_count": 17,
   "id": "35051b36",
   "metadata": {},
   "outputs": [
    {
     "name": "stdout",
     "output_type": "stream",
     "text": [
      "False\n",
      "True\n",
      "True\n"
     ]
    }
   ],
   "source": [
    "x, y = True, False\n",
    "print(x and y)\n",
    "print(x or  y)\n",
    "print(  not y)"
   ]
  },
  {
   "cell_type": "code",
   "execution_count": 18,
   "id": "7dcae621",
   "metadata": {},
   "outputs": [
    {
     "name": "stdout",
     "output_type": "stream",
     "text": [
      "True\n"
     ]
    }
   ],
   "source": [
    "x, y, z = True, False, True\n",
    "result = x and y or z\n",
    "print(result)"
   ]
  },
  {
   "cell_type": "markdown",
   "id": "a18dfbb3",
   "metadata": {},
   "source": [
    "### and\n",
    "Оператор `and` (логическое умножение) применяется к двум операндам:\n",
    "```python\n",
    "x and y\n",
    "```\n",
    "Сначала оператор `and` оценивает выражение x, и если оно равно False, то возвращается его значение. Если оно равно True, то оценивается второй операнд - y и возвращается значение y."
   ]
  },
  {
   "cell_type": "code",
   "execution_count": 19,
   "id": "a9c1641e",
   "metadata": {},
   "outputs": [
    {
     "name": "stdout",
     "output_type": "stream",
     "text": [
      "True\n"
     ]
    }
   ],
   "source": [
    "age = 22\n",
    "weight = 58\n",
    "result = age > 21 and weight == 58\n",
    "print(result)  # True"
   ]
  },
  {
   "cell_type": "markdown",
   "id": "d4eb5ec4",
   "metadata": {},
   "source": [
    "Но операндами оператора `and` необязательно выступают значения True и False. Это могут быть любые значения. "
   ]
  },
  {
   "cell_type": "code",
   "execution_count": 20,
   "id": "bfc2ab80",
   "metadata": {},
   "outputs": [
    {
     "name": "stdout",
     "output_type": "stream",
     "text": [
      "w\n",
      "0\n"
     ]
    }
   ],
   "source": [
    "result = 4 and \"w\"\n",
    "print(result)  # w, так как 4 равно True, поэтому возвращается значение последнего операнда\n",
    " \n",
    "result = 0 and \"w\"\n",
    "print(result)  # 0, так как 0 эквивалентно False"
   ]
  },
  {
   "cell_type": "markdown",
   "id": "eacf7c76",
   "metadata": {},
   "source": [
    "### or\n",
    "`or` (логическое сложение) также применяется к двум операндам:\n",
    "```python\n",
    "x or y\n",
    "```\n",
    "Сначала оператор or оценивает выражение x, и если оно равно True, то возвращается его значение. Если оно равно False, то оценивается второй операнд - y и возвращается значение y. "
   ]
  },
  {
   "cell_type": "code",
   "execution_count": 21,
   "id": "b6062fd4",
   "metadata": {},
   "outputs": [
    {
     "name": "stdout",
     "output_type": "stream",
     "text": [
      "True\n"
     ]
    }
   ],
   "source": [
    "age = 22\n",
    "isMarried = False\n",
    "result = age > 21 or isMarried\n",
    "print(result)  # True, так как выражение age > 21 равно True"
   ]
  },
  {
   "cell_type": "code",
   "execution_count": 22,
   "id": "6d5deab1",
   "metadata": {},
   "outputs": [
    {
     "name": "stdout",
     "output_type": "stream",
     "text": [
      "4\n",
      "w\n"
     ]
    }
   ],
   "source": [
    "result = 4 or \"w\"\n",
    "print(result)  # 4, так как 4 эквивалентно True, поэтому возвращается значение первого операнда\n",
    " \n",
    "result = 0 or \"w\"\n",
    "print(result)  # w, так как 0 эквивалентно False, поэтому возвращается значение последнего операнда"
   ]
  },
  {
   "cell_type": "markdown",
   "id": "21eafd3d",
   "metadata": {},
   "source": [
    "### Оператор in"
   ]
  },
  {
   "cell_type": "code",
   "execution_count": 23,
   "id": "6ae6f067",
   "metadata": {},
   "outputs": [
    {
     "name": "stdout",
     "output_type": "stream",
     "text": [
      "True\n",
      "False\n",
      "True\n"
     ]
    }
   ],
   "source": [
    "message = \"hello world!\"\n",
    "hello = \"hello\"\n",
    "print(hello in message)  # True - подстрока hello есть в строке \"hello world!\"\n",
    " \n",
    "gold = \"gold\"\n",
    "print(gold in message)  # False - подстроки \"gold\" нет в строке \"hello world!\"\n",
    "\n",
    "print(gold not in message)  # True"
   ]
  },
  {
   "cell_type": "code",
   "execution_count": null,
   "id": "aead8d02",
   "metadata": {},
   "outputs": [],
   "source": []
  },
  {
   "cell_type": "markdown",
   "id": "f73f60f5",
   "metadata": {},
   "source": [
    "### Задача: \n",
    "\n",
    "определить високосный год или нет?\n",
    "\n",
    "Год является високосным если он кратен 4, но при этом не кратен 100, либо кратен 400."
   ]
  },
  {
   "cell_type": "code",
   "execution_count": 24,
   "id": "9705f6f4",
   "metadata": {},
   "outputs": [
    {
     "name": "stdout",
     "output_type": "stream",
     "text": [
      "False\n",
      "True\n"
     ]
    }
   ],
   "source": [
    "year = 2017\n",
    "is_leap = year % 4 == 0 and (year % 100 != 0 or year % 400 == 0)\n",
    "print(is_leap)\n",
    "\n",
    "import calendar\n",
    "print(calendar.isleap(1980))"
   ]
  },
  {
   "cell_type": "code",
   "execution_count": null,
   "id": "721764b9",
   "metadata": {},
   "outputs": [],
   "source": []
  }
 ],
 "metadata": {
  "kernelspec": {
   "display_name": "Python 3",
   "language": "python",
   "name": "python3"
  },
  "language_info": {
   "codemirror_mode": {
    "name": "ipython",
    "version": 3
   },
   "file_extension": ".py",
   "mimetype": "text/x-python",
   "name": "python",
   "nbconvert_exporter": "python",
   "pygments_lexer": "ipython3",
   "version": "3.8.11"
  }
 },
 "nbformat": 4,
 "nbformat_minor": 5
}
