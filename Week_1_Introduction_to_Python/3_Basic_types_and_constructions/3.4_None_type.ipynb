{
 "cells": [
  {
   "cell_type": "markdown",
   "id": "9dcc816a",
   "metadata": {},
   "source": [
    "# None"
   ]
  },
  {
   "cell_type": "code",
   "execution_count": 1,
   "id": "cda24125",
   "metadata": {},
   "outputs": [],
   "source": [
    "answer = None"
   ]
  },
  {
   "cell_type": "markdown",
   "id": "cf4ec31e",
   "metadata": {},
   "source": [
    "По сути `None` это значение специального типа `NoneType`, используемое на практике для обозначения отсутствия значения. Если вы знаете `C` можете рассматривать его как нулевой указатель."
   ]
  },
  {
   "cell_type": "code",
   "execution_count": 2,
   "id": "1ca348b1",
   "metadata": {},
   "outputs": [
    {
     "name": "stdout",
     "output_type": "stream",
     "text": [
      "<class 'NoneType'>\n"
     ]
    }
   ],
   "source": [
    "print(type(None))"
   ]
  },
  {
   "cell_type": "code",
   "execution_count": 3,
   "id": "a0802ded",
   "metadata": {},
   "outputs": [
    {
     "data": {
      "text/plain": [
       "False"
      ]
     },
     "execution_count": 3,
     "metadata": {},
     "output_type": "execute_result"
    }
   ],
   "source": [
    "# конвертация типов\n",
    "\n",
    "# None - всегда False\n",
    "\n",
    "bool(None)"
   ]
  },
  {
   "cell_type": "code",
   "execution_count": 4,
   "id": "2195a885",
   "metadata": {},
   "outputs": [
    {
     "name": "stdout",
     "output_type": "stream",
     "text": [
      "Ответ не получен\n"
     ]
    }
   ],
   "source": [
    "answer = None\n",
    "\n",
    "if not answer:\n",
    "    print(\"Ответ не получен\")"
   ]
  },
  {
   "cell_type": "markdown",
   "id": "e366a944",
   "metadata": {},
   "source": [
    "## is\n",
    "\n",
    "Есть (формально) два способа проверить, на равенство `None`.\n",
    "\n",
    "Один из способов - с помощью ключевого слова `is`.\n",
    "\n",
    "Второй - с помощью `==` (не пользуйтесь вторым способом).\n",
    "\n",
    "Для встроенных типов два способа эквивалентны. Но с пользовательскими классами вы должны быть осторожны. Python предоставляет возможность переопределения операторов сравнения в пользовательских классах."
   ]
  },
  {
   "cell_type": "code",
   "execution_count": 5,
   "id": "92b138d4",
   "metadata": {},
   "outputs": [
    {
     "name": "stdout",
     "output_type": "stream",
     "text": [
      "Еще не начинали продавать\n"
     ]
    }
   ],
   "source": [
    "income = None\n",
    "\n",
    "if income is None:\n",
    "    print(\"Еще не начинали продавать\")\n",
    "elif not income:\n",
    "    print(\"Ничего не заработали\")"
   ]
  },
  {
   "cell_type": "markdown",
   "id": "2678c599",
   "metadata": {},
   "source": [
    "Вы часто увидите None в именованных аргументах функций или методах классов как значение по умолчанию - это обычно применяется тогда, когда аргумент является не обязательным - то есть функция или метод могут работать и тогда когда аргумент явным образом не передали при вызове. Также часто этим значением инициализируют атрибуты экземпляров классов, чтобы потом в нужный момент переопределить каким-то значением."
   ]
  },
  {
   "cell_type": "code",
   "execution_count": null,
   "id": "8c1c76ef",
   "metadata": {},
   "outputs": [],
   "source": []
  }
 ],
 "metadata": {
  "kernelspec": {
   "display_name": "Python 3",
   "language": "python",
   "name": "python3"
  },
  "language_info": {
   "codemirror_mode": {
    "name": "ipython",
    "version": 3
   },
   "file_extension": ".py",
   "mimetype": "text/x-python",
   "name": "python",
   "nbconvert_exporter": "python",
   "pygments_lexer": "ipython3",
   "version": "3.8.11"
  }
 },
 "nbformat": 4,
 "nbformat_minor": 5
}
