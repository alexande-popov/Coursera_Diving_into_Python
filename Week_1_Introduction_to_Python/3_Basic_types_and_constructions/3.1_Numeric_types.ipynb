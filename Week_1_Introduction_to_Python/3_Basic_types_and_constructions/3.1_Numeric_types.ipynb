{
 "cells": [
  {
   "cell_type": "markdown",
   "id": "51588cae",
   "metadata": {},
   "source": [
    "# 3. Базовые типы и конструкции."
   ]
  },
  {
   "cell_type": "markdown",
   "id": "451191c7",
   "metadata": {},
   "source": [
    "## 3.1. Базовые типы: численные типы."
   ]
  },
  {
   "cell_type": "markdown",
   "id": "54d50592",
   "metadata": {},
   "source": [
    "Еще примеры здесь\n",
    "\n",
    "https://pythonworld.ru/tipy-dannyx-v-python/chisla-int-float-complex.html\n",
    "\n",
    "https://metanit.com/python/tutorial/2.3.php"
   ]
  },
  {
   "cell_type": "markdown",
   "id": "0966084d",
   "metadata": {},
   "source": [
    "## type int"
   ]
  },
  {
   "cell_type": "code",
   "execution_count": 1,
   "id": "f6999dae",
   "metadata": {},
   "outputs": [
    {
     "name": "stdout",
     "output_type": "stream",
     "text": [
      "1 <class 'int'>\n",
      "0 <class 'int'>\n",
      "-100 <class 'int'>\n"
     ]
    }
   ],
   "source": [
    "num = 1\n",
    "print(num, type(num))\n",
    "\n",
    "num = 0\n",
    "print(num, type(num))\n",
    "\n",
    "num = -100\n",
    "print(num, type(num))"
   ]
  },
  {
   "cell_type": "code",
   "execution_count": 2,
   "id": "1cd8f282",
   "metadata": {},
   "outputs": [
    {
     "name": "stdout",
     "output_type": "stream",
     "text": [
      "1000000 82004784\n",
      "1000000 82005616\n",
      "1000000 82005456\n"
     ]
    }
   ],
   "source": [
    "num1 = 1000000\n",
    "print(num1, id(num1))\n",
    "\n",
    "num2 = 1_000_000      # more readable\n",
    "print(num2, id(num2))\n",
    "\n",
    "num3 = 1_0_0_0_0_0_0  # the same result\n",
    "print(num3, id(num3))\n",
    "\n",
    "# разные идентификаторы!"
   ]
  },
  {
   "cell_type": "markdown",
   "id": "9bb05ca9",
   "metadata": {},
   "source": [
    "### Длинная арифметика"
   ]
  },
  {
   "cell_type": "code",
   "execution_count": 3,
   "id": "d6806e85",
   "metadata": {},
   "outputs": [
    {
     "name": "stdout",
     "output_type": "stream",
     "text": [
      "1000000000000000000000000000000000000000000000000000000000000000000000000000000000000000000000000000000000000000000000000000000000000000000000000000000000000000000000000000000000000000000000000000000000000000000000000000000000000000000000000000000000000000000000000000000000000000000000000000000000000\n",
      "<class 'int'>\n"
     ]
    }
   ],
   "source": [
    "# long arithmetics for int\n",
    "\n",
    "num = 1000**100     \n",
    "print(num)\n",
    "print(type(num))"
   ]
  },
  {
   "cell_type": "code",
   "execution_count": null,
   "id": "8209e77e",
   "metadata": {},
   "outputs": [],
   "source": []
  },
  {
   "cell_type": "markdown",
   "id": "74375124",
   "metadata": {},
   "source": [
    "## type float"
   ]
  },
  {
   "cell_type": "code",
   "execution_count": 4,
   "id": "de9f4f05",
   "metadata": {
    "scrolled": true
   },
   "outputs": [
    {
     "name": "stdout",
     "output_type": "stream",
     "text": [
      "1.2\n",
      "0.0\n",
      "1000000.0002\n",
      "1000000.0002\n",
      "120.0\n",
      "120.0\n",
      "-0.012\n"
     ]
    }
   ],
   "source": [
    "num = 1.2\n",
    "print(num)\n",
    "\n",
    "num = 0.0\n",
    "print(num)\n",
    "\n",
    "num = 1000000.0002\n",
    "print(num)\n",
    "\n",
    "num = 1_000_000.0_002  # the same\n",
    "print(num)\n",
    "\n",
    "\n",
    "num = 1.2e2\n",
    "print(num)\n",
    "\n",
    "num = 1.2e+2\n",
    "print(num)\n",
    "\n",
    "num = -1.2e-2\n",
    "print(num)"
   ]
  },
  {
   "cell_type": "markdown",
   "id": "fde75458",
   "metadata": {},
   "source": [
    "### Округление\n",
    "При операциях с числами типа `float` надо учитывать, что результат операций с ними может быть не совсем точным."
   ]
  },
  {
   "cell_type": "code",
   "execution_count": 5,
   "id": "f94a2a41",
   "metadata": {},
   "outputs": [
    {
     "name": "stdout",
     "output_type": "stream",
     "text": [
      "0.40002000000000004\n",
      "2.1001000000000003\n"
     ]
    }
   ],
   "source": [
    "first_number = 2.0001\n",
    "second_number = 5\n",
    "third_number = first_number / second_number\n",
    "print(third_number)  # 0.40002000000000004\n",
    "\n",
    "print(2.0001 + 0.1)  # 2.1001000000000003"
   ]
  },
  {
   "cell_type": "markdown",
   "id": "506414de",
   "metadata": {},
   "source": [
    "Можем использовать встроенную функцию `round()`."
   ]
  },
  {
   "cell_type": "code",
   "execution_count": 6,
   "id": "feef0ca2",
   "metadata": {},
   "outputs": [
    {
     "name": "stdout",
     "output_type": "stream",
     "text": [
      "2\n",
      "3\n"
     ]
    }
   ],
   "source": [
    "# округление до целого числа\n",
    "print(round(2.49))  # 2 - округление до ближайшего целого 2\n",
    "print(round(2.51))  # 3"
   ]
  },
  {
   "cell_type": "markdown",
   "id": "61fc9695",
   "metadata": {},
   "source": [
    "Но и с функцией `round()` не все гладко. Если округляемая часть одинаково удалена от двух целых чисел, то округление идет к ближайшему четному.\n",
    "\n",
    "https://docs.python.org/3/tutorial/floatingpoint.html#tut-fp-issues"
   ]
  },
  {
   "cell_type": "code",
   "execution_count": 7,
   "id": "8b32060b",
   "metadata": {},
   "outputs": [
    {
     "name": "stdout",
     "output_type": "stream",
     "text": [
      "2\n",
      "4\n"
     ]
    }
   ],
   "source": [
    "print(round(2.5))   # 2 - ближайшее четное\n",
    "print(round(3.5))   # 4 - ближайшее четное"
   ]
  },
  {
   "cell_type": "code",
   "execution_count": 8,
   "id": "efb89a32",
   "metadata": {},
   "outputs": [
    {
     "name": "stdout",
     "output_type": "stream",
     "text": [
      "2.54\n",
      "2.56\n",
      "2.56\n",
      "2.58\n",
      "2.65\n",
      "2.67\n",
      "2.67\n"
     ]
    }
   ],
   "source": [
    "# округление до двух знаков после запятой\n",
    "print(round(2.545, 2))   # 2.54\n",
    "print(round(2.555, 2))   # 2.56 - округление до четного\n",
    "print(round(2.565, 2))   # 2.56\n",
    "print(round(2.575, 2))   # 2.58\n",
    " \n",
    "print(round(2.655, 2))   # 2.65 - округление не до четного\n",
    "print(round(2.665, 2))   # 2.67\n",
    "print(round(2.675, 2))   # 2.67"
   ]
  },
  {
   "cell_type": "markdown",
   "id": "dfbf99a0",
   "metadata": {},
   "source": [
    "### Дополнительные методы\n",
    "* `float.as_integer_ratio()` - пара целых чисел, чьё отношение равно этому числу.\n",
    "* `float.is_integer()` - является ли значение целым числом.\n",
    "* `float.hex()` - переводит float в hex (шестнадцатеричную систему счисления).\n",
    "* classmethod `float.fromhex(s)` - float из шестнадцатеричной строки.\n",
    "\n",
    "Модуль `math` предоставляет более сложные математические функции."
   ]
  },
  {
   "cell_type": "code",
   "execution_count": 9,
   "id": "256fe54b",
   "metadata": {},
   "outputs": [
    {
     "name": "stdout",
     "output_type": "stream",
     "text": [
      "(3, 8)\n",
      "0x1.5000000000000p+3\n",
      "10.5\n"
     ]
    }
   ],
   "source": [
    "print(float.as_integer_ratio(0.375))\n",
    "\n",
    "print( (10.5).hex() )\n",
    "print( float.fromhex('0x1.5000000000000p+3') )"
   ]
  },
  {
   "cell_type": "code",
   "execution_count": null,
   "id": "03414548",
   "metadata": {},
   "outputs": [],
   "source": []
  },
  {
   "cell_type": "markdown",
   "id": "86ef4c56",
   "metadata": {},
   "source": [
    "## Convertations of types"
   ]
  },
  {
   "cell_type": "code",
   "execution_count": 10,
   "id": "2073151b",
   "metadata": {},
   "outputs": [
    {
     "name": "stdout",
     "output_type": "stream",
     "text": [
      "150.2 <class 'float'>\n",
      "150 <class 'int'>\n",
      "150.0 <class 'float'>\n",
      "100 <class 'int'>\n"
     ]
    }
   ],
   "source": [
    "num = 150.2\n",
    "print(num, type(num))\n",
    "\n",
    "num = int(num)\n",
    "print(num, type(num))\n",
    "\n",
    "num = float(num)\n",
    "print(num, type(num))\n",
    "\n",
    "num = int(100.9)  # the fractional part is discarded\n",
    "print(num, type(num))"
   ]
  },
  {
   "cell_type": "code",
   "execution_count": 11,
   "id": "241d0db0",
   "metadata": {},
   "outputs": [
    {
     "name": "stdout",
     "output_type": "stream",
     "text": [
      "19\n",
      "19\n",
      "19\n"
     ]
    },
    {
     "ename": "ValueError",
     "evalue": "invalid literal for int() with base 10: '19.5'",
     "output_type": "error",
     "traceback": [
      "\u001b[1;31m---------------------------------------------------------------------------\u001b[0m",
      "\u001b[1;31mValueError\u001b[0m                                Traceback (most recent call last)",
      "\u001b[1;32mC:\\Users\\ALEXAN~1\\AppData\\Local\\Temp/ipykernel_8348/677200016.py\u001b[0m in \u001b[0;36m<module>\u001b[1;34m\u001b[0m\n\u001b[0;32m      8\u001b[0m \u001b[0mprint\u001b[0m\u001b[1;33m(\u001b[0m\u001b[0mc\u001b[0m\u001b[1;33m)\u001b[0m\u001b[1;33m\u001b[0m\u001b[1;33m\u001b[0m\u001b[0m\n\u001b[0;32m      9\u001b[0m \u001b[1;33m\u001b[0m\u001b[0m\n\u001b[1;32m---> 10\u001b[1;33m \u001b[0md\u001b[0m \u001b[1;33m=\u001b[0m \u001b[0mint\u001b[0m\u001b[1;33m(\u001b[0m\u001b[1;34m'19.5'\u001b[0m\u001b[1;33m)\u001b[0m  \u001b[1;31m# Строка не является целым числом\u001b[0m\u001b[1;33m\u001b[0m\u001b[1;33m\u001b[0m\u001b[0m\n\u001b[0m",
      "\u001b[1;31mValueError\u001b[0m: invalid literal for int() with base 10: '19.5'"
     ]
    }
   ],
   "source": [
    "a = int(19.5)  # Применённая к числу с плавающей точкой, отсекает дробную часть\n",
    "print(a)\n",
    "\n",
    "b = int('19') # Переводим строку в число\n",
    "print(b)\n",
    "\n",
    "c = int(float('19.5'))\n",
    "print(c)\n",
    "\n",
    "d = int('19.5')  # Строка не является целым числом"
   ]
  },
  {
   "cell_type": "markdown",
   "id": "115d599f",
   "metadata": {},
   "source": [
    "## Арифметические операции"
   ]
  },
  {
   "cell_type": "code",
   "execution_count": 12,
   "id": "c63f04af",
   "metadata": {},
   "outputs": [
    {
     "name": "stdout",
     "output_type": "stream",
     "text": [
      "result: \n"
     ]
    }
   ],
   "source": [
    "2 + 3\n",
    "print(\"result:\", _)"
   ]
  },
  {
   "cell_type": "code",
   "execution_count": 13,
   "id": "1cc64b25",
   "metadata": {},
   "outputs": [
    {
     "data": {
      "text/plain": [
       "4.0"
      ]
     },
     "execution_count": 13,
     "metadata": {},
     "output_type": "execute_result"
    }
   ],
   "source": [
    "# можно без скобок\n",
    "-8 / -2"
   ]
  },
  {
   "cell_type": "code",
   "execution_count": 14,
   "id": "09f5c50c",
   "metadata": {},
   "outputs": [
    {
     "name": "stdout",
     "output_type": "stream",
     "text": [
      "2417851639229258349412352\n",
      "2417851639229258349412352\n",
      "4096\n"
     ]
    }
   ],
   "source": [
    "# операция возведения в степень выполняется справа налево\n",
    "print(2 ** 3 ** 4)\n",
    "print(2 ** (3 ** 4))\n",
    "print((2 ** 3) ** 4)"
   ]
  },
  {
   "cell_type": "code",
   "execution_count": 15,
   "id": "23f63d48",
   "metadata": {},
   "outputs": [
    {
     "name": "stdout",
     "output_type": "stream",
     "text": [
      "3\n",
      "3.0\n",
      "-1.0\n",
      "3.0\n",
      "3\n",
      "1\n"
     ]
    }
   ],
   "source": [
    "print(1 + 2)\n",
    "print(1 + 2.0)  # float\n",
    "print(1.0 - 2)\n",
    "print(9 / 3)    # float\n",
    "print(10 // 3)  # integer division\n",
    "print(10 % 3)   # remainder of the division"
   ]
  },
  {
   "cell_type": "code",
   "execution_count": 16,
   "id": "9bc72c9c",
   "metadata": {},
   "outputs": [
    {
     "name": "stdout",
     "output_type": "stream",
     "text": [
      "Смена знака: -2\n",
      "Модуль числа: 2\n",
      "Пара (x // y, x % y): (0, 2)\n",
      "Возведение в степень по модулю (если модуль задан): 2\n"
     ]
    }
   ],
   "source": [
    "x, y = 2, 3\n",
    "print(\"Смена знака:\", -x)\n",
    "print(\"Модуль числа:\", abs(-x))\n",
    "print(\"Пара (x // y, x % y):\", divmod(x, y))\n",
    "print(\"Возведение в степень по модулю (если модуль задан):\", pow(x, y, 3))"
   ]
  },
  {
   "cell_type": "code",
   "execution_count": 17,
   "id": "2999722d",
   "metadata": {},
   "outputs": [
    {
     "name": "stdout",
     "output_type": "stream",
     "text": [
      " 10 //  3  = 3\n",
      "-10 //  3  = -4\n",
      " 10 // -3  = -4\n",
      "-10 // -3  = 3\n",
      "\n",
      " 10 %  3  = 1\n",
      "-10 %  3  = 2\n",
      " 10 % -3  = -2\n",
      "-10 % -3  = -1\n"
     ]
    }
   ],
   "source": [
    "print( \" 10 //  3  =\",  10 //  3  )\n",
    "print( \"-10 //  3  =\", -10 //  3  ) \n",
    "print( \" 10 // -3  =\",  10 // -3  ) \n",
    "print( \"-10 // -3  =\", -10 // -3  )\n",
    "\n",
    "print()\n",
    "\n",
    "print( \" 10 %  3  =\",  10 %  3  ) \n",
    "print( \"-10 %  3  =\", -10 %  3  ) \n",
    "print( \" 10 % -3  =\",  10 % -3  ) \n",
    "print( \"-10 % -3  =\", -10 % -3  )"
   ]
  },
  {
   "cell_type": "code",
   "execution_count": null,
   "id": "5ebce870",
   "metadata": {},
   "outputs": [],
   "source": []
  },
  {
   "cell_type": "markdown",
   "id": "b5774457",
   "metadata": {},
   "source": [
    "## Присваивание"
   ]
  },
  {
   "cell_type": "markdown",
   "id": "ecad445f",
   "metadata": {},
   "source": [
    "Функция `id()` возвращает уникальный идентификатор для указанного объекта.\n",
    "\n",
    "Все объекты в Python имеют свой уникальный идентификатор. Идентификатор присваивается объекту при его создании. Идентификатор является адресом памяти объекта и будет отличаться при каждом запуске программы.\n",
    "\n",
    "Следует иметь в виду, что некоторые объекты могут иметь один и тот же идентификатор, например: мелкие целые от -5 до 256, `True` и `False`."
   ]
  },
  {
   "cell_type": "code",
   "execution_count": 18,
   "id": "24f23fde",
   "metadata": {},
   "outputs": [
    {
     "name": "stdout",
     "output_type": "stream",
     "text": [
      "id(a) == id(b) == id(2): True\n",
      "8790658522912 8790658522912 8790658522912\n"
     ]
    }
   ],
   "source": [
    "a = 2\n",
    "b = 2\n",
    "print(\"id(a) == id(b) == id(2):\", id(a) == id(b) == id(2))\n",
    "print(id(a), id(b), id(2))"
   ]
  },
  {
   "cell_type": "code",
   "execution_count": 19,
   "id": "9b968a97",
   "metadata": {},
   "outputs": [
    {
     "name": "stdout",
     "output_type": "stream",
     "text": [
      "id(a) == id(b): False\n",
      "82403696 82005776\n"
     ]
    }
   ],
   "source": [
    "a = 2.2\n",
    "b = 2.2\n",
    "print(\"id(a) == id(b):\", id(a) == id(b))\n",
    "print(id(a), id(b))"
   ]
  },
  {
   "cell_type": "code",
   "execution_count": 20,
   "id": "7a5ed2c3",
   "metadata": {},
   "outputs": [
    {
     "name": "stdout",
     "output_type": "stream",
     "text": [
      "100 200 : 8790658526048 8790658529248\n",
      "200 100 : 8790658529248 8790658526048\n"
     ]
    }
   ],
   "source": [
    "#\n",
    "# Multiple assignment\n",
    "#\n",
    "\n",
    "a, b = 100, 200\n",
    "print(a, b, \":\", id(a), id(b))\n",
    "\n",
    "a, b = b, a\n",
    "print(a, b, \":\", id(a), id(b))"
   ]
  },
  {
   "cell_type": "code",
   "execution_count": 21,
   "id": "4bb85f1c",
   "metadata": {},
   "outputs": [
    {
     "name": "stdout",
     "output_type": "stream",
     "text": [
      "x, y: 0 0 . ID: 8790658522848 8790658522848\n",
      "x, y: 1 0 . ID: 8790658522880 8790658522848\n",
      "[1] [1]\n"
     ]
    }
   ],
   "source": [
    "#\n",
    "# Multiple assignment\n",
    "#\n",
    "\n",
    "x = y = 0\n",
    "print(\"x, y:\", x, y, \". ID:\", id(x), id(y))\n",
    "\n",
    "x += 1\n",
    "print(\"x, y:\", x, y, \". ID:\", id(x), id(y))\n",
    "\n",
    "\n",
    "# difference between mutable and immutable types!\n",
    "x = y = []\n",
    "x.append(1)\n",
    "\n",
    "print(x, y)"
   ]
  },
  {
   "cell_type": "code",
   "execution_count": 22,
   "id": "9d2cab2c",
   "metadata": {},
   "outputs": [
    {
     "name": "stdout",
     "output_type": "stream",
     "text": [
      "5 1 6 1.5 9 1 1\n"
     ]
    }
   ],
   "source": [
    "# сокращенные операторы присваивания\n",
    "a = b = c = d = e = f = g = 3\n",
    "\n",
    "a += 2\n",
    "b -= 2\n",
    "c *= 2\n",
    "d /= 2\n",
    "e **= 2\n",
    "f //= 2\n",
    "g %= 2\n",
    "\n",
    "print(a, b, c, d, e, f, g)"
   ]
  },
  {
   "cell_type": "code",
   "execution_count": null,
   "id": "79e9e9ce",
   "metadata": {},
   "outputs": [],
   "source": []
  },
  {
   "cell_type": "markdown",
   "id": "c6288016",
   "metadata": {},
   "source": [
    "## module decimal"
   ]
  },
  {
   "cell_type": "code",
   "execution_count": 23,
   "id": "b2c03b13",
   "metadata": {},
   "outputs": [
    {
     "name": "stdout",
     "output_type": "stream",
     "text": [
      "0.23\n",
      "0.23000\n",
      "0.20000000000000007\n",
      "0.2\n",
      "b =  0.384615\n"
     ]
    }
   ],
   "source": [
    "#\n",
    "# decimal - calculations with a given precision\n",
    "#\n",
    "\n",
    "from decimal import Decimal\n",
    "\n",
    "print( Decimal('0.23') )\n",
    "print( Decimal('0.23000') )\n",
    "\n",
    "print(0.2 + 0.2 + 0.2 - 0.4)\n",
    "print(Decimal('0.2')+Decimal('0.2')+Decimal('0.2')-Decimal('0.4'))\n",
    "\n",
    "# precision 6 decimal places\n",
    "import decimal\n",
    "decimal.getcontext().prec=6\n",
    "b = Decimal(5)/Decimal(13)\n",
    "print('b = ', b) "
   ]
  },
  {
   "cell_type": "markdown",
   "id": "d45dd3ee",
   "metadata": {},
   "source": [
    "## module fractions"
   ]
  },
  {
   "cell_type": "code",
   "execution_count": 24,
   "id": "14bf963e",
   "metadata": {},
   "outputs": [
    {
     "name": "stdout",
     "output_type": "stream",
     "text": [
      "5/6\n",
      "2/3\n",
      "-3/2\n",
      "89/10\n",
      "5/6\n"
     ]
    }
   ],
   "source": [
    "#\n",
    "# module fractions to work with rational numbers\n",
    "#\n",
    "       \n",
    "from fractions import Fraction\n",
    "\n",
    "print( Fraction(5, 6)   )  # 5/6\n",
    "print( Fraction(8, 12)  )  # 2/3\n",
    "print( Fraction('-1.5') )  # -3/2\n",
    "print( Fraction('3.7') + Fraction('5.2') )  # 89/10\n",
    "print( Fraction(1, 2)  + Fraction(1, 3)  )  # 1/2 + 1/3 = 5/6"
   ]
  },
  {
   "cell_type": "markdown",
   "id": "c0e4e7a2",
   "metadata": {},
   "source": [
    "## type complex"
   ]
  },
  {
   "cell_type": "code",
   "execution_count": 25,
   "id": "d8f1025a",
   "metadata": {
    "scrolled": false
   },
   "outputs": [
    {
     "name": "stdout",
     "output_type": "stream",
     "text": [
      "(14+1j) <class 'complex'>\n",
      "14.0\n",
      "1.0\n"
     ]
    }
   ],
   "source": [
    "num = 14 + 1j\n",
    "\n",
    "print(num, type(num))\n",
    "print(num.real)\n",
    "print(num.imag)"
   ]
  },
  {
   "cell_type": "code",
   "execution_count": 26,
   "id": "5611c8aa",
   "metadata": {},
   "outputs": [
    {
     "name": "stdout",
     "output_type": "stream",
     "text": [
      "x: (1+2j)\n",
      "y: (3+4j)\n",
      "x + y: (4+6j)\n",
      "x * y: (-5+10j)\n",
      "x * y: (0.44+0.08j)\n",
      "x.conjugate: (1-2j)\n",
      "x == y: False\n",
      "Модуль y: 5.0\n",
      "Возведение в степень: (-7+24j)\n"
     ]
    },
    {
     "ename": "TypeError",
     "evalue": "'>' not supported between instances of 'complex' and 'complex'",
     "output_type": "error",
     "traceback": [
      "\u001b[1;31m---------------------------------------------------------------------------\u001b[0m",
      "\u001b[1;31mTypeError\u001b[0m                                 Traceback (most recent call last)",
      "\u001b[1;32mC:\\Users\\ALEXAN~1\\AppData\\Local\\Temp/ipykernel_8348/81916965.py\u001b[0m in \u001b[0;36m<module>\u001b[1;34m\u001b[0m\n\u001b[0;32m     19\u001b[0m \u001b[0mprint\u001b[0m\u001b[1;33m(\u001b[0m\u001b[1;34m\"Возведение в степень:\"\u001b[0m\u001b[1;33m,\u001b[0m \u001b[0mpow\u001b[0m\u001b[1;33m(\u001b[0m\u001b[1;36m3\u001b[0m \u001b[1;33m+\u001b[0m \u001b[1;36m4j\u001b[0m\u001b[1;33m,\u001b[0m \u001b[1;36m2\u001b[0m\u001b[1;33m)\u001b[0m\u001b[1;33m)\u001b[0m  \u001b[1;31m# Возведение в степень\u001b[0m\u001b[1;33m\u001b[0m\u001b[1;33m\u001b[0m\u001b[0m\n\u001b[0;32m     20\u001b[0m \u001b[1;33m\u001b[0m\u001b[0m\n\u001b[1;32m---> 21\u001b[1;33m \u001b[0mprint\u001b[0m\u001b[1;33m(\u001b[0m\u001b[0mx\u001b[0m \u001b[1;33m>\u001b[0m \u001b[0my\u001b[0m\u001b[1;33m)\u001b[0m  \u001b[1;31m# Комплексные числа нельзя сравнить\u001b[0m\u001b[1;33m\u001b[0m\u001b[1;33m\u001b[0m\u001b[0m\n\u001b[0m",
      "\u001b[1;31mTypeError\u001b[0m: '>' not supported between instances of 'complex' and 'complex'"
     ]
    }
   ],
   "source": [
    "x = complex(1, 2)\n",
    "y = complex(3, 4)\n",
    "\n",
    "print(\"x:\", x)\n",
    "print(\"y:\", y)\n",
    "\n",
    "z = x + y\n",
    "print(\"x + y:\", z)\n",
    "\n",
    "z = x * y\n",
    "print(\"x * y:\", z)\n",
    "\n",
    "z = x / y\n",
    "print(\"x * y:\", z)\n",
    "\n",
    "print(\"x.conjugate:\", x.conjugate())            # Сопряжённое число\n",
    "print(\"x == y:\", x == y)                        # Можно проверить на равенство\n",
    "print(\"Модуль y:\", abs(y))                      # Модуль комплексного числа\n",
    "print(\"Возведение в степень:\", pow(3 + 4j, 2))  # Возведение в степень\n",
    "\n",
    "print(x > y)  # Комплексные числа нельзя сравнить"
   ]
  },
  {
   "cell_type": "markdown",
   "id": "e30e3035",
   "metadata": {},
   "source": [
    "## Побитовые операции"
   ]
  },
  {
   "cell_type": "code",
   "execution_count": 27,
   "id": "7ae21c24",
   "metadata": {},
   "outputs": [
    {
     "name": "stdout",
     "output_type": "stream",
     "text": [
      "\n",
      "Bitwise operations\n",
      "x = 4 ,  y = 3\n",
      "Побитовое или: 7\n",
      "Побитовое исключающее или: 7\n",
      "Побитовое и: 0\n",
      "Битовый сдвиг влево: 32\n",
      "Битовый сдвиг вправо: 2\n",
      "Инверсия битов: -5\n"
     ]
    }
   ],
   "source": [
    "#\n",
    "# Bitwise operations\n",
    "#\n",
    "print(\"\\nBitwise operations\")\n",
    "\n",
    "x = 4  # 00000100\n",
    "y = 3  # 00000011\n",
    "\n",
    "print(\"x =\", x, \", \",\n",
    "      \"y =\", y)\n",
    "print(\"Побитовое или:\", x | y)             # 00000111 = 7\n",
    "print(\"Побитовое исключающее или:\", x ^ y)\n",
    "print(\"Побитовое и:\", x & y)               # 00000000 = 0\n",
    "print(\"Битовый сдвиг влево:\", x << 3)      # 00100000 = 32\n",
    "print(\"Битовый сдвиг вправо:\", x >> 1)     # 00000010 = 2\n",
    "print(\"Инверсия битов:\", ~x)               # 11111011 ?"
   ]
  },
  {
   "cell_type": "markdown",
   "id": "b4a783af",
   "metadata": {},
   "source": [
    "## Системы счисления\n",
    "* `int([object], [основание системы счисления])` - преобразование к целому числу в десятичной системе счисления. По умолчанию система счисления десятичная, но можно задать любое основание от 2 до 36 включительно.\n",
    "* `bin(x)` - преобразование целого числа в двоичную строку.\n",
    "* `hex(х)` - преобразование целого числа в шестнадцатеричную строку.\n",
    "* `oct(х)` - преобразование целого числа в восьмеричную строку."
   ]
  },
  {
   "cell_type": "code",
   "execution_count": 28,
   "id": "95c93cd6",
   "metadata": {},
   "outputs": [
    {
     "data": {
      "text/plain": [
       "'0b10011'"
      ]
     },
     "execution_count": 28,
     "metadata": {},
     "output_type": "execute_result"
    }
   ],
   "source": [
    "# преобразование целого числа в двоичную строку\n",
    "bin(19)"
   ]
  },
  {
   "cell_type": "code",
   "execution_count": 29,
   "id": "ed4dacd6",
   "metadata": {},
   "outputs": [
    {
     "data": {
      "text/plain": [
       "'0o23'"
      ]
     },
     "execution_count": 29,
     "metadata": {},
     "output_type": "execute_result"
    }
   ],
   "source": [
    "# преобразование целого числа в восьмеричную строку\n",
    "oct(19)"
   ]
  },
  {
   "cell_type": "code",
   "execution_count": 30,
   "id": "6df49fe2",
   "metadata": {},
   "outputs": [
    {
     "data": {
      "text/plain": [
       "'0x13'"
      ]
     },
     "execution_count": 30,
     "metadata": {},
     "output_type": "execute_result"
    }
   ],
   "source": [
    "# преобразование целого числа в шеснадцатиричную строку\n",
    "hex(19)"
   ]
  },
  {
   "cell_type": "code",
   "execution_count": 31,
   "id": "b305f622",
   "metadata": {},
   "outputs": [
    {
     "data": {
      "text/plain": [
       "str"
      ]
     },
     "execution_count": 31,
     "metadata": {},
     "output_type": "execute_result"
    }
   ],
   "source": [
    "type(bin(19))"
   ]
  },
  {
   "cell_type": "code",
   "execution_count": 32,
   "id": "54e6aafc",
   "metadata": {},
   "outputs": [
    {
     "name": "stdout",
     "output_type": "stream",
     "text": [
      "19 19 19\n"
     ]
    }
   ],
   "source": [
    "print(int(0b10011), int(0o23), int(0x13))"
   ]
  },
  {
   "cell_type": "code",
   "execution_count": 33,
   "id": "f1ecec90",
   "metadata": {},
   "outputs": [
    {
     "data": {
      "text/plain": [
       "19"
      ]
     },
     "execution_count": 33,
     "metadata": {},
     "output_type": "execute_result"
    }
   ],
   "source": [
    "0b10011  # Так тоже можно записывать числовые константы"
   ]
  },
  {
   "cell_type": "code",
   "execution_count": 34,
   "id": "0c08c698",
   "metadata": {},
   "outputs": [
    {
     "data": {
      "text/plain": [
       "19"
      ]
     },
     "execution_count": 34,
     "metadata": {},
     "output_type": "execute_result"
    }
   ],
   "source": [
    "int('10011', 2)  # Так тоже можно записывать числовые константы"
   ]
  },
  {
   "cell_type": "code",
   "execution_count": 35,
   "id": "30664fc5",
   "metadata": {},
   "outputs": [
    {
     "data": {
      "text/plain": [
       "19"
      ]
     },
     "execution_count": 35,
     "metadata": {},
     "output_type": "execute_result"
    }
   ],
   "source": [
    "int('0b10011', 2)  # Так тоже можно записывать числовые константы"
   ]
  }
 ],
 "metadata": {
  "kernelspec": {
   "display_name": "Python 3",
   "language": "python",
   "name": "python3"
  },
  "language_info": {
   "codemirror_mode": {
    "name": "ipython",
    "version": 3
   },
   "file_extension": ".py",
   "mimetype": "text/x-python",
   "name": "python",
   "nbconvert_exporter": "python",
   "pygments_lexer": "ipython3",
   "version": "3.8.11"
  }
 },
 "nbformat": 4,
 "nbformat_minor": 5
}
